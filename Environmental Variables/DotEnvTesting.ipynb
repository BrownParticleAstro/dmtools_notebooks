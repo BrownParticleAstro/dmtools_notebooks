{
 "cells": [
  {
   "cell_type": "code",
   "execution_count": 2,
   "id": "6f9a8fad-02ab-41b7-bec6-41842fe12269",
   "metadata": {},
   "outputs": [
    {
     "data": {
      "text/plain": [
       "'\\nit should have\\nMY_DMTOOLS_APIKEY=6F....\\nMY_DMTOOLS_USERID=999\\n'"
      ]
     },
     "execution_count": 2,
     "metadata": {},
     "output_type": "execute_result"
    }
   ],
   "source": [
    "## NB : to reload the env variables the kernel needs to be restarted\n",
    "## create a .env file in the cloned repository folder\n",
    "'''\n",
    "it should have\n",
    "MY_DMTOOLS_APIKEY=6F....\n",
    "MY_DMTOOLS_USERID=999\n",
    "'''"
   ]
  },
  {
   "cell_type": "code",
   "execution_count": 3,
   "id": "18948944-1c33-4d6b-bd81-3f8df9710aef",
   "metadata": {},
   "outputs": [],
   "source": [
    "from dotenv import load_dotenv\n",
    "import os\n",
    "from os import environ, path"
   ]
  },
  {
   "cell_type": "code",
   "execution_count": 4,
   "id": "6cfe11a3-84da-429a-b989-5408a60e8487",
   "metadata": {},
   "outputs": [
    {
     "data": {
      "text/plain": [
       "True"
      ]
     },
     "execution_count": 4,
     "metadata": {},
     "output_type": "execute_result"
    }
   ],
   "source": [
    "#BASE_DIR = path.abspath(path.dirname(__file__))\n",
    "BASE_DIR = os.getcwd()\n",
    "load_dotenv(path.join(BASE_DIR, \".env\"))"
   ]
  },
  {
   "cell_type": "code",
   "execution_count": 5,
   "id": "f933395b-38f5-430f-bbb4-91f2438132a0",
   "metadata": {},
   "outputs": [
    {
     "data": {
      "text/plain": [
       "'1'"
      ]
     },
     "execution_count": 5,
     "metadata": {},
     "output_type": "execute_result"
    }
   ],
   "source": [
    "MY_DMTOOLS_APIKEY = environ.get(\"MY_DMTOOLS_APIKEY\")\n",
    "MY_DMTOOLS_USERID = environ.get(\"MY_DMTOOLS_USERID\")\n",
    "#MY_DMTOOLS_APIKEY\n",
    "MY_DMTOOLS_USERID"
   ]
  },
  {
   "cell_type": "code",
   "execution_count": null,
   "id": "b2735bf3-c41a-496f-bb3f-de9611b13542",
   "metadata": {},
   "outputs": [],
   "source": []
  }
 ],
 "metadata": {
  "kernelspec": {
   "display_name": "Python 3 (ipykernel)",
   "language": "python",
   "name": "python3"
  },
  "language_info": {
   "codemirror_mode": {
    "name": "ipython",
    "version": 3
   },
   "file_extension": ".py",
   "mimetype": "text/x-python",
   "name": "python",
   "nbconvert_exporter": "python",
   "pygments_lexer": "ipython3",
   "version": "3.12.4"
  }
 },
 "nbformat": 4,
 "nbformat_minor": 5
}
