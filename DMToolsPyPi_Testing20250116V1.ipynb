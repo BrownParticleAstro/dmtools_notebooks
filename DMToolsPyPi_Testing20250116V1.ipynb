{
  "cells": [
    {
      "cell_type": "markdown",
      "metadata": {
        "id": "view-in-github",
        "colab_type": "text"
      },
      "source": [
        "<a href=\"https://colab.research.google.com/github/BrownParticleAstro/dmtools_notebooks/blob/main/DMToolsPyPi_Testing20250116V1.ipynb\" target=\"_parent\"><img src=\"https://colab.research.google.com/assets/colab-badge.svg\" alt=\"Open In Colab\"/></a>"
      ]
    },
    {
      "cell_type": "markdown",
      "source": [
        "Notebook to test library that has been published tp pypi test"
      ],
      "metadata": {
        "id": "tsWJeSyP72Po"
      }
    },
    {
      "cell_type": "code",
      "execution_count": 1,
      "metadata": {
        "colab": {
          "base_uri": "https://localhost:8080/"
        },
        "id": "tazOxHCuLShU",
        "outputId": "fa66a319-a4f0-4469-bef9-e93d20a0a609"
      },
      "outputs": [
        {
          "output_type": "stream",
          "name": "stdout",
          "text": [
            "Looking in indexes: https://test.pypi.org/simple/\n",
            "Collecting dmtools-brown-edu\n",
            "  Downloading https://test-files.pythonhosted.org/packages/1e/44/4a012538f2c35c827430b9bba927cf94acb18d25abbf80ce7ac6b1ca2d96/dmtools_brown_edu-0.0.5-py3-none-any.whl.metadata (655 bytes)\n",
            "Requirement already satisfied: jinja2<4.0.0,>=3.1.4 in /usr/local/lib/python3.11/dist-packages (from dmtools-brown-edu) (3.1.5)\n",
            "Requirement already satisfied: matplotlib<4.0.0,>=3.9.2 in /usr/local/lib/python3.11/dist-packages (from dmtools-brown-edu) (3.10.0)\n",
            "Requirement already satisfied: pandas<3.0.0,>=2.2.2 in /usr/local/lib/python3.11/dist-packages (from dmtools-brown-edu) (2.2.2)\n",
            "Requirement already satisfied: plotly<6.0.0,>=5.23.0 in /usr/local/lib/python3.11/dist-packages (from dmtools-brown-edu) (5.24.1)\n",
            "Requirement already satisfied: requests<3.0.0,>=2.32.3 in /usr/local/lib/python3.11/dist-packages (from dmtools-brown-edu) (2.32.3)\n",
            "Requirement already satisfied: MarkupSafe>=2.0 in /usr/local/lib/python3.11/dist-packages (from jinja2<4.0.0,>=3.1.4->dmtools-brown-edu) (3.0.2)\n",
            "Requirement already satisfied: contourpy>=1.0.1 in /usr/local/lib/python3.11/dist-packages (from matplotlib<4.0.0,>=3.9.2->dmtools-brown-edu) (1.3.1)\n",
            "Requirement already satisfied: cycler>=0.10 in /usr/local/lib/python3.11/dist-packages (from matplotlib<4.0.0,>=3.9.2->dmtools-brown-edu) (0.12.1)\n",
            "Requirement already satisfied: fonttools>=4.22.0 in /usr/local/lib/python3.11/dist-packages (from matplotlib<4.0.0,>=3.9.2->dmtools-brown-edu) (4.55.3)\n",
            "Requirement already satisfied: kiwisolver>=1.3.1 in /usr/local/lib/python3.11/dist-packages (from matplotlib<4.0.0,>=3.9.2->dmtools-brown-edu) (1.4.8)\n",
            "Requirement already satisfied: numpy>=1.23 in /usr/local/lib/python3.11/dist-packages (from matplotlib<4.0.0,>=3.9.2->dmtools-brown-edu) (1.26.4)\n",
            "Requirement already satisfied: packaging>=20.0 in /usr/local/lib/python3.11/dist-packages (from matplotlib<4.0.0,>=3.9.2->dmtools-brown-edu) (24.2)\n",
            "Requirement already satisfied: pillow>=8 in /usr/local/lib/python3.11/dist-packages (from matplotlib<4.0.0,>=3.9.2->dmtools-brown-edu) (11.1.0)\n",
            "Requirement already satisfied: pyparsing>=2.3.1 in /usr/local/lib/python3.11/dist-packages (from matplotlib<4.0.0,>=3.9.2->dmtools-brown-edu) (3.2.1)\n",
            "Requirement already satisfied: python-dateutil>=2.7 in /usr/local/lib/python3.11/dist-packages (from matplotlib<4.0.0,>=3.9.2->dmtools-brown-edu) (2.8.2)\n",
            "Requirement already satisfied: pytz>=2020.1 in /usr/local/lib/python3.11/dist-packages (from pandas<3.0.0,>=2.2.2->dmtools-brown-edu) (2024.2)\n",
            "Requirement already satisfied: tzdata>=2022.7 in /usr/local/lib/python3.11/dist-packages (from pandas<3.0.0,>=2.2.2->dmtools-brown-edu) (2024.2)\n",
            "Requirement already satisfied: tenacity>=6.2.0 in /usr/local/lib/python3.11/dist-packages (from plotly<6.0.0,>=5.23.0->dmtools-brown-edu) (9.0.0)\n",
            "Requirement already satisfied: charset-normalizer<4,>=2 in /usr/local/lib/python3.11/dist-packages (from requests<3.0.0,>=2.32.3->dmtools-brown-edu) (3.4.1)\n",
            "Requirement already satisfied: idna<4,>=2.5 in /usr/local/lib/python3.11/dist-packages (from requests<3.0.0,>=2.32.3->dmtools-brown-edu) (3.10)\n",
            "Requirement already satisfied: urllib3<3,>=1.21.1 in /usr/local/lib/python3.11/dist-packages (from requests<3.0.0,>=2.32.3->dmtools-brown-edu) (2.3.0)\n",
            "Requirement already satisfied: certifi>=2017.4.17 in /usr/local/lib/python3.11/dist-packages (from requests<3.0.0,>=2.32.3->dmtools-brown-edu) (2024.12.14)\n",
            "Requirement already satisfied: six>=1.5 in /usr/local/lib/python3.11/dist-packages (from python-dateutil>=2.7->matplotlib<4.0.0,>=3.9.2->dmtools-brown-edu) (1.17.0)\n",
            "Downloading https://test-files.pythonhosted.org/packages/1e/44/4a012538f2c35c827430b9bba927cf94acb18d25abbf80ce7ac6b1ca2d96/dmtools_brown_edu-0.0.5-py3-none-any.whl (38 kB)\n",
            "Installing collected packages: dmtools-brown-edu\n",
            "Successfully installed dmtools-brown-edu-0.0.5\n"
          ]
        }
      ],
      "source": [
        "# if the library has been published to PyPi Test, the following will work\n",
        "# from colab\n",
        "!pip install -i https://test.pypi.org/simple/ dmtools-brown-edu --upgrade"
      ]
    },
    {
      "cell_type": "code",
      "execution_count": 2,
      "metadata": {
        "id": "qt7bj1KQ7r3D"
      },
      "outputs": [],
      "source": [
        "# local testing\n",
        "# =================\n",
        "# installed python 3.12 onto ubuntu\n",
        "# sudo add-apt-repository ppa:deadsnakes/ppa\n",
        "# sudo apt update\n",
        "\n",
        "# created venv based on 3.12 install\n",
        "\n",
        "# on revising the github library\n",
        "# git pull\n",
        "# enter username and password"
      ]
    },
    {
      "cell_type": "code",
      "execution_count": 3,
      "metadata": {
        "id": "Xt5-W6ae7r3D"
      },
      "outputs": [],
      "source": [
        "# installed pipx globally\n",
        "#    sudo apt install pipx\n",
        "\n",
        "# installed poetry globally"
      ]
    },
    {
      "cell_type": "code",
      "execution_count": 4,
      "metadata": {
        "id": "vdL6NXai7r3E"
      },
      "outputs": [],
      "source": [
        "# cd ~/Code/dmtools/basecode/publish/dmtools_brown_edu\n",
        "# poetry build\n",
        "# pip uninstall dmtools-brown-edu\n",
        "# pip install /home/andrew1tb/Code/dmtools/basecode/publish/dmtools_brown_edu/dist/dmtools_brown_edu-0.0.1-py3-none-any.whl"
      ]
    },
    {
      "cell_type": "code",
      "source": [
        "import json"
      ],
      "metadata": {
        "id": "tjbP2Py-U7GK"
      },
      "execution_count": 5,
      "outputs": []
    },
    {
      "cell_type": "code",
      "execution_count": 6,
      "metadata": {
        "id": "znVgJOM7utbF"
      },
      "outputs": [],
      "source": [
        "from dmtools_brown_edu.dmtools_client_package.dmtools_quart import APIClient"
      ]
    },
    {
      "cell_type": "code",
      "execution_count": 7,
      "metadata": {
        "id": "jyo0TQSj7r3F"
      },
      "outputs": [],
      "source": [
        "## get api key and user id from local .env file\n",
        "#from dotenv import load_dotenv\n",
        "import os\n",
        "from os import environ, path\n",
        "#BASE_DIR = path.abspath(path.dirname(__file__))\n",
        "BASE_DIR = os.getcwd()\n",
        "#load_dotenv(path.join(BASE_DIR, \".env\"))"
      ]
    },
    {
      "cell_type": "code",
      "source": [
        "from google.colab import userdata\n",
        "email = userdata.get('DMTOOLS_EMAIL')\n",
        "print(email)"
      ],
      "metadata": {
        "colab": {
          "base_uri": "https://localhost:8080/"
        },
        "id": "P3_gbG1Q8tqi",
        "outputId": "533c818f-15b1-4f07-b9bd-bd6dd349408f"
      },
      "execution_count": 8,
      "outputs": [
        {
          "output_type": "stream",
          "name": "stdout",
          "text": [
            "andrewgaitskell@brown.edu\n"
          ]
        }
      ]
    },
    {
      "cell_type": "code",
      "execution_count": 9,
      "metadata": {
        "id": "syT-3itf7r3F"
      },
      "outputs": [],
      "source": [
        "# .env file contai=ning\n",
        "api_key = userdata.get('DMTOOLS_APIKEY')\n",
        "## EMAIL=andrew_gaitskell@brown.edu"
      ]
    },
    {
      "cell_type": "code",
      "execution_count": 10,
      "metadata": {
        "id": "UPqxUXIt7r3H"
      },
      "outputs": [],
      "source": [
        "id_in = 15746\n",
        "node_type = 'Data'\n",
        "#email = os.getenv(\"EMAIL\")\n",
        "#api_key = os.getenv(\"APIKEY\")"
      ]
    },
    {
      "cell_type": "code",
      "execution_count": 11,
      "metadata": {
        "id": "prj69n4m7r3H"
      },
      "outputs": [],
      "source": [
        "Client = APIClient(email, api_key, suppress_logs=False)"
      ]
    },
    {
      "cell_type": "code",
      "execution_count": 14,
      "metadata": {
        "colab": {
          "base_uri": "https://localhost:8080/"
        },
        "id": "MkVlEQBxWlmE",
        "outputId": "7ec0ff12-a9bf-4699-e936-f915c6c3924a"
      },
      "outputs": [
        {
          "output_type": "stream",
          "name": "stderr",
          "text": [
            "2025-01-17 14:57:06,619 - dmtools_brown_edu.dmtools_client_package.dmtools_quart - INFO - Calling read data API\n",
            "INFO:dmtools_brown_edu.dmtools_client_package.dmtools_quart:Calling read data API\n",
            "2025-01-17 14:57:06,624 - dmtools_brown_edu.dmtools_client_package.dmtools_quart - DEBUG - Endpoint: https://app.dmtools.brown.edu/external_api/read\n",
            "DEBUG:dmtools_brown_edu.dmtools_client_package.dmtools_quart:Endpoint: https://app.dmtools.brown.edu/external_api/read\n",
            "2025-01-17 14:57:06,626 - dmtools_brown_edu.dmtools_client_package.dmtools_quart - DEBUG - Params: {'query': 'CDMS', 'id': '-1', 'type': 'Data', 'email': 'andrewgaitskell@brown.edu', 'api_key': '5A66531AD02E11EFB333DE2DBC1FDDCD'}\n",
            "DEBUG:dmtools_brown_edu.dmtools_client_package.dmtools_quart:Params: {'query': 'CDMS', 'id': '-1', 'type': 'Data', 'email': 'andrewgaitskell@brown.edu', 'api_key': '5A66531AD02E11EFB333DE2DBC1FDDCD'}\n",
            "2025-01-17 14:57:07,955 - dmtools_brown_edu.dmtools_client_package.dmtools_quart - DEBUG - Response status code: 200\n",
            "DEBUG:dmtools_brown_edu.dmtools_client_package.dmtools_quart:Response status code: 200\n",
            "2025-01-17 14:57:07,959 - dmtools_brown_edu.dmtools_client_package.dmtools_quart - INFO - API call successful\n",
            "INFO:dmtools_brown_edu.dmtools_client_package.dmtools_quart:API call successful\n"
          ]
        }
      ],
      "source": [
        "r = Client.read(query='CDMS')"
      ]
    },
    {
      "cell_type": "code",
      "execution_count": 15,
      "metadata": {
        "colab": {
          "base_uri": "https://localhost:8080/"
        },
        "id": "A0cdKpm37r3I",
        "outputId": "cc386339-28cc-4c69-c0db-ef5fd2feee75"
      },
      "outputs": [
        {
          "output_type": "execute_result",
          "data": {
            "text/plain": [
              "{'archived': None,\n",
              " 'created': 'Thu, 19 Dec 2024 09:56:00 GMT',\n",
              " 'id': 15,\n",
              " 'name': ' Phys. Rev. D 70 (2004) 12315, astro-ph/0408346',\n",
              " 'properties': '{\"raw\": \"{[6.91830970918936 39044434194.6128;7.76247116628692 4606.46598010512;8.70963589956081 362.771262854754;9.77237220955811 69.0217904343617;10.9647819614319 19.9627782389284;12.3026877081238 7.57683682238422;13.8038426460288 3.50552722622451;15.4881661891248 1.88554843277361;17.3780082874938 1.14017942612431;19.4984459975805 0.756656214030745;21.8776162394955 0.541574633307845;24.5470891568503 0.412752238713006;27.5422870333817 0.331708044544611;30.9029543251359 0.278937114202462;34.6736850452532 0.243895734142775;38.9045144994281 0.220577922392914;43.6515832240166 0.205417538803598;48.9778819368446 0.196229217001761;54.9540873857625 0.191644155277989;61.6595001861482 0.19079613849353;69.1830970918937 0.193140563841539;77.6247116628692 0.19834719310324;87.0963589956081 0.206235203686499;97.7237220955811 0.216733227696056;109.647819614319 0.229854565100325;123.026877081238 0.245681883182344;138.038426460289 0.264358044859599;154.881661891248 0.286081051388095;173.780082874937 0.311101873543222;194.984459975805 0.33972441803654;218.776162394955 0.372307166094114;245.470891568503 0.409266204331786;275.422870333817 0.451079487625176;309.029543251359 0.498292254794525;346.736850452532 0.551523575550528;389.04514499428 0.611474050332159;436.515832240166 0.67893471903653;489.778819368446 0.754797263790667;549.540873857625 0.840065617222116;616.595001861482 0.935869112782639;691.830970918936 1.04347733874286;776.247116628692 1.16431688340006;870.963589956081 1.2999901865509;977.237220955811 1.45229674200132;1096.47819614319 1.62325692839265;1230.26877081238 1.81513878147436;1380.38426460289 2.03048806071594;1548.81661891248 2.27216200741456;1737.80082874938 2.5433672408564;1949.84459975805 2.84770229431611;2187.76162394955 3.18920535448928;2454.70891568503 3.5724078371852;2754.22870333817 4.00239450969423;3090.29543251359 4.48487095722495;3467.36850452532 5.02623928834329;3890.4514499428 5.6336830837392;4365.15832240166 6.31526271535118;4897.78819368446 7.08002230052802;5495.40873857625 7.93810971032858;6165.95001861482 8.90091122430526;6918.30970918936 9.98120261848669;7762.47116628692 11.1933186913485;8709.63589956081 12.5533434772341;9772.37220955811 14.0793236712065;10000 14.4061745771808]}\", \"open\": 0, \"year\": 2004, \"label\": \"CDMS II (Soudan), projection 2004, SD-proton\", \"public\": 1, \"rating\": 0, \"values\": [[[\"6.91831e+00\", \"3.90444e+10\"], [\"7.76247e+00\", \"4.60647e+03\"], [\"8.70964e+00\", \"3.62771e+02\"], [\"9.77237e+00\", \"6.90218e+01\"], [\"1.09648e+01\", \"1.99628e+01\"], [\"1.23027e+01\", \"7.57684e+00\"], [\"1.38038e+01\", \"3.50553e+00\"], [\"1.54882e+01\", \"1.88555e+00\"], [\"1.73780e+01\", \"1.14018e+00\"], [\"1.94984e+01\", \"7.56656e-01\"], [\"2.18776e+01\", \"5.41575e-01\"], [\"2.45471e+01\", \"4.12752e-01\"], [\"2.75423e+01\", \"3.31708e-01\"], [\"3.09030e+01\", \"2.78937e-01\"], [\"3.46737e+01\", \"2.43896e-01\"], [\"3.89045e+01\", \"2.20578e-01\"], [\"4.36516e+01\", \"2.05418e-01\"], [\"4.89779e+01\", \"1.96229e-01\"], [\"5.49541e+01\", \"1.91644e-01\"], [\"6.16595e+01\", \"1.90796e-01\"], [\"6.91831e+01\", \"1.93141e-01\"], [\"7.76247e+01\", \"1.98347e-01\"], [\"8.70964e+01\", \"2.06235e-01\"], [\"9.77237e+01\", \"2.16733e-01\"], [\"1.09648e+02\", \"2.29855e-01\"], [\"1.23027e+02\", \"2.45682e-01\"], [\"1.38038e+02\", \"2.64358e-01\"], [\"1.54882e+02\", \"2.86081e-01\"], [\"1.73780e+02\", \"3.11102e-01\"], [\"1.94984e+02\", \"3.39724e-01\"], [\"2.18776e+02\", \"3.72307e-01\"], [\"2.45471e+02\", \"4.09266e-01\"], [\"2.75423e+02\", \"4.51079e-01\"], [\"3.09030e+02\", \"4.98292e-01\"], [\"3.46737e+02\", \"5.51524e-01\"], [\"3.89045e+02\", \"6.11474e-01\"], [\"4.36516e+02\", \"6.78935e-01\"], [\"4.89779e+02\", \"7.54797e-01\"], [\"5.49541e+02\", \"8.40066e-01\"], [\"6.16595e+02\", \"9.35869e-01\"], [\"6.91831e+02\", \"1.04348e+00\"], [\"7.76247e+02\", \"1.16432e+00\"], [\"8.70964e+02\", \"1.29999e+00\"], [\"9.77237e+02\", \"1.45230e+00\"], [\"1.09648e+03\", \"1.62326e+00\"], [\"1.23027e+03\", \"1.81514e+00\"], [\"1.38038e+03\", \"2.03049e+00\"], [\"1.54882e+03\", \"2.27216e+00\"], [\"1.73780e+03\", \"2.54337e+00\"], [\"1.94984e+03\", \"2.84770e+00\"], [\"2.18776e+03\", \"3.18921e+00\"], [\"2.45471e+03\", \"3.57241e+00\"], [\"2.75423e+03\", \"4.00239e+00\"], [\"3.09030e+03\", \"4.48487e+00\"], [\"3.46737e+03\", \"5.02624e+00\"], [\"3.89045e+03\", \"5.63368e+00\"], [\"4.36516e+03\", \"6.31526e+00\"], [\"4.89779e+03\", \"7.08002e+00\"], [\"5.49541e+03\", \"7.93811e+00\"], [\"6.16595e+03\", \"8.90091e+00\"], [\"6.91831e+03\", \"9.98120e+00\"], [\"7.76247e+03\", \"1.11933e+01\"], [\"8.70964e+03\", \"1.25533e+01\"], [\"9.77237e+03\", \"1.40793e+01\"], [\"1.00000e+04\", \"1.44062e+01\"]]], \"xUnits\": \"GeV\", \"yUnits\": \"cm^2\", \"comment\": \"Spin-dependent neutron cross section\", \"dateEnd\": null, \"official\": 1, \"xRescale\": \"1\", \"yRescale\": \"1e-36\", \"dateStart\": null, \"reference\": \"Phys. Rev. D 70 (2004) 12315, astro-ph/0408346\", \"experiment\": \"CDMS II (Soudan)\", \"resultType\": \"Proj\", \"greatestHit\": 0, \"label_short\": \"CDMS II (Soudan), projection 2004, SD-proton\", \"dateOfficial\": null, \"defaultColor\": \"blue\", \"defaultStyle\": \"dot\", \"spinDependency\": \"SD\", \"measurementType\": \"Dir\", \"dateAnnouncement\": \"2004-01-01\"}',\n",
              " 'type': 'Data',\n",
              " 'updated': 'Thu, 19 Dec 2024 09:56:00 GMT'}"
            ]
          },
          "metadata": {},
          "execution_count": 15
        }
      ],
      "source": [
        "r[0]"
      ]
    },
    {
      "cell_type": "code",
      "execution_count": 16,
      "metadata": {
        "colab": {
          "base_uri": "https://localhost:8080/"
        },
        "id": "P74Yv0I47r3J",
        "outputId": "a3c289bf-eab2-43cf-b68c-61e04c1cf44d"
      },
      "outputs": [
        {
          "output_type": "stream",
          "name": "stderr",
          "text": [
            "2025-01-17 14:59:32,075 - dmtools_brown_edu.dmtools_client_package.dmtools_quart - INFO - Calling read data API\n",
            "INFO:dmtools_brown_edu.dmtools_client_package.dmtools_quart:Calling read data API\n",
            "2025-01-17 14:59:32,082 - dmtools_brown_edu.dmtools_client_package.dmtools_quart - DEBUG - Endpoint: https://app.dmtools.brown.edu/external_api/read\n",
            "DEBUG:dmtools_brown_edu.dmtools_client_package.dmtools_quart:Endpoint: https://app.dmtools.brown.edu/external_api/read\n",
            "2025-01-17 14:59:32,087 - dmtools_brown_edu.dmtools_client_package.dmtools_quart - DEBUG - Params: {'query': '', 'id': 15, 'type': 'Data', 'email': 'andrewgaitskell@brown.edu', 'api_key': '5A66531AD02E11EFB333DE2DBC1FDDCD'}\n",
            "DEBUG:dmtools_brown_edu.dmtools_client_package.dmtools_quart:Params: {'query': '', 'id': 15, 'type': 'Data', 'email': 'andrewgaitskell@brown.edu', 'api_key': '5A66531AD02E11EFB333DE2DBC1FDDCD'}\n",
            "2025-01-17 14:59:32,512 - dmtools_brown_edu.dmtools_client_package.dmtools_quart - DEBUG - Response status code: 200\n",
            "DEBUG:dmtools_brown_edu.dmtools_client_package.dmtools_quart:Response status code: 200\n",
            "2025-01-17 14:59:32,516 - dmtools_brown_edu.dmtools_client_package.dmtools_quart - INFO - API call successful\n",
            "INFO:dmtools_brown_edu.dmtools_client_package.dmtools_quart:API call successful\n"
          ]
        }
      ],
      "source": [
        "r_id = Client.read(id=15)"
      ]
    },
    {
      "cell_type": "code",
      "execution_count": null,
      "metadata": {
        "id": "UfCBR_qL7r3K"
      },
      "outputs": [],
      "source": [
        "properties_json = json.loads(r_id['properties'])"
      ]
    },
    {
      "cell_type": "code",
      "execution_count": null,
      "metadata": {
        "id": "D0ACTrxF7r3K"
      },
      "outputs": [],
      "source": [
        "#properties_json"
      ]
    },
    {
      "cell_type": "code",
      "source": [
        "r_id = Client.read(id=15741)"
      ],
      "metadata": {
        "id": "cX9-_Ut5VG5V"
      },
      "execution_count": null,
      "outputs": []
    },
    {
      "cell_type": "code",
      "source": [
        "archived = r_id['archived']\n",
        "properties_json = json.loads(r_id['properties'])"
      ],
      "metadata": {
        "id": "UQ1i8G9LVTl9"
      },
      "execution_count": null,
      "outputs": []
    },
    {
      "cell_type": "code",
      "source": [
        "archived"
      ],
      "metadata": {
        "id": "YmAIOd_fVXGt"
      },
      "execution_count": null,
      "outputs": []
    },
    {
      "cell_type": "code",
      "source": [
        "r_id = Client.archive(id=15)"
      ],
      "metadata": {
        "id": "yoayrH1nViMv"
      },
      "execution_count": null,
      "outputs": []
    },
    {
      "cell_type": "code",
      "source": [
        "r_id = Client.archive(id=15741)"
      ],
      "metadata": {
        "colab": {
          "base_uri": "https://localhost:8080/"
        },
        "id": "M6d0QbaGVvRI",
        "outputId": "6e778e4d-72d4-4096-a0b3-7854b9df7dcc"
      },
      "execution_count": 17,
      "outputs": [
        {
          "output_type": "stream",
          "name": "stderr",
          "text": [
            "2025-01-17 14:59:43,149 - dmtools_brown_edu.dmtools_client_package.dmtools_quart - INFO - Calling archive data API\n",
            "INFO:dmtools_brown_edu.dmtools_client_package.dmtools_quart:Calling archive data API\n",
            "2025-01-17 14:59:43,154 - dmtools_brown_edu.dmtools_client_package.dmtools_quart - DEBUG - Endpoint: https://app.dmtools.brown.edu/external_api/archive\n",
            "DEBUG:dmtools_brown_edu.dmtools_client_package.dmtools_quart:Endpoint: https://app.dmtools.brown.edu/external_api/archive\n",
            "2025-01-17 14:59:43,157 - dmtools_brown_edu.dmtools_client_package.dmtools_quart - DEBUG - Payload: {'id': 15741, 'type': 'Data', 'email': 'andrewgaitskell@brown.edu', 'api_key': '5A66531AD02E11EFB333DE2DBC1FDDCD'}\n",
            "DEBUG:dmtools_brown_edu.dmtools_client_package.dmtools_quart:Payload: {'id': 15741, 'type': 'Data', 'email': 'andrewgaitskell@brown.edu', 'api_key': '5A66531AD02E11EFB333DE2DBC1FDDCD'}\n",
            "2025-01-17 14:59:43,438 - dmtools_brown_edu.dmtools_client_package.dmtools_quart - DEBUG - Response status code: 401\n",
            "DEBUG:dmtools_brown_edu.dmtools_client_package.dmtools_quart:Response status code: 401\n",
            "2025-01-17 14:59:43,440 - dmtools_brown_edu.dmtools_client_package.dmtools_quart - DEBUG - Response content: Unauthorized: Missing API key\n",
            "DEBUG:dmtools_brown_edu.dmtools_client_package.dmtools_quart:Response content: Unauthorized: Missing API key\n",
            "2025-01-17 14:59:43,443 - dmtools_brown_edu.dmtools_client_package.dmtools_quart - ERROR - HTTP error occurred: 401 - Unauthorized: Missing API key\n",
            "ERROR:dmtools_brown_edu.dmtools_client_package.dmtools_quart:HTTP error occurred: 401 - Unauthorized: Missing API key\n"
          ]
        }
      ]
    },
    {
      "cell_type": "code",
      "source": [],
      "metadata": {
        "id": "UEglJWI_Vyw2"
      },
      "execution_count": null,
      "outputs": []
    }
  ],
  "metadata": {
    "colab": {
      "provenance": [],
      "include_colab_link": true
    },
    "kernelspec": {
      "display_name": "Python 3 (ipykernel)",
      "language": "python",
      "name": "python3"
    },
    "language_info": {
      "codemirror_mode": {
        "name": "ipython",
        "version": 3
      },
      "file_extension": ".py",
      "mimetype": "text/x-python",
      "name": "python",
      "nbconvert_exporter": "python",
      "pygments_lexer": "ipython3",
      "version": "3.12.7"
    }
  },
  "nbformat": 4,
  "nbformat_minor": 0
}