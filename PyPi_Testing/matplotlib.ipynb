{
 "cells": [
  {
   "cell_type": "code",
   "execution_count": 1,
   "id": "b1e2724a-ca2e-4059-866a-651372edcabc",
   "metadata": {},
   "outputs": [],
   "source": [
    "import matplotlib.pyplot as plt\n",
    "import numpy as np\n",
    "import ast\n",
    "## plt.rcParams['text.usetex'] = True"
   ]
  },
  {
   "cell_type": "code",
   "execution_count": 2,
   "id": "63acbeb1-0018-4cf1-91f3-3b7d3b18bfd0",
   "metadata": {},
   "outputs": [],
   "source": [
    "from brown_edu_dmtools.dmtools_client_package.dmtools_client_module import DMToolsClient\n",
    "from brown_edu_dmtools.dmtools_client_package.dmtools_client_module import DMToolTestData\n",
    "from brown_edu_dmtools.dmtools_client_package.dmtools_client_module import PlotTrace"
   ]
  },
  {
   "cell_type": "code",
   "execution_count": 3,
   "id": "0df1539d-119d-45f2-a89c-39d2d72fdd6b",
   "metadata": {},
   "outputs": [],
   "source": [
    "## get api key and user id from local .env file\n",
    "from dotenv import load_dotenv\n",
    "import os\n",
    "from os import environ, path\n",
    "#BASE_DIR = path.abspath(path.dirname(__file__))\n",
    "BASE_DIR = os.getcwd()\n",
    "#load_dotenv(path.join(BASE_DIR, \".env\"))\n",
    "load_dotenv(path.join(BASE_DIR, \".env\"), override=True)\n",
    "MY_DMTOOLS_APIKEY = environ.get(\"MY_DMTOOLS_APIKEY\")\n",
    "MY_DMTOOLS_USERID = environ.get(\"MY_DMTOOLS_USERID\")\n",
    "Client = DMToolsClient(MY_DMTOOLS_USERID, MY_DMTOOLS_APIKEY)\n",
    "#Client.request_header"
   ]
  },
  {
   "cell_type": "code",
   "execution_count": 4,
   "id": "fc92b31a-afeb-4c1b-aa7a-665728766d55",
   "metadata": {},
   "outputs": [],
   "source": [
    "r = Client.read()\n",
    "#r"
   ]
  },
  {
   "cell_type": "code",
   "execution_count": 5,
   "id": "f209ccec-d36d-4a00-ac90-1647b3380d10",
   "metadata": {},
   "outputs": [],
   "source": [
    "for rl in range(0,len(r)):\n",
    "    string_data = r[rl]['data']\n",
    "    data_id = r[rl]['id']\n",
    "\n",
    "    # Convert the string to a Python list\n",
    "    list_data = ast.literal_eval(string_data)\n",
    "    \n",
    "    # Convert the Python list to a NumPy array\n",
    "    #numpy_array = np.array(list_data)\n",
    "    \n",
    "    #print(data_id, \"shape >>> \", len(list_data))\n",
    "    "
   ]
  },
  {
   "cell_type": "code",
   "execution_count": 6,
   "id": "dc3ac800-c2a4-4538-9d30-b46ec312e02a",
   "metadata": {},
   "outputs": [
    {
     "data": {
      "text/plain": [
       "[{'id': 9,\n",
       "  'limit_id': 9,\n",
       "  'subject': 'data',\n",
       "  'spin_dependency': 'SD',\n",
       "  'result_type': 'Th',\n",
       "  'measurement_type': 'Dir',\n",
       "  'x_units': 'GeV',\n",
       "  'y_units': 'cm^2',\n",
       "  'x_rescale': '1',\n",
       "  'y_rescale': '1e-36',\n",
       "  'default_color': 'DkG',\n",
       "  'default_style': 'Fill',\n",
       "  'data_values': '{[73.88957 0.001911593;118.5556 0.0004089102;151.5996 0.0003062291;174.7028 0.0002220811;203.2395 0.0001131067;201.3267 7.213392e-05;173.0585 9.327547e-05;137.921 0.0001773525;112.0163 0.0002445525;83.55477 0.0004958483;78.20307 0.0008561663;65.3424 0.001005369;73.88957 0.001911593],[77.46705 3.917629e-05;87.60021 1.543022e-05;98.12653 1.543022e-05;103.8549 1.995262e-05;179.7298 2.3937e-06;203.2395 1.911593e-06;234.2124 1.30003e-06;382.9678 1.416325e-07;523.2218 6.142881e-08;597.2837 2.197154e-08;523.2218 1.494234e-08;311.0378 2.580049e-08;293.8817 1.932175e-08;181.4374 5.578425e-08;155.9619 1.328177e-07;126.6687 1.462569e-07;98.12653 3.482254e-07;70.4773 1.735941e-06;67.22261 3.300689e-06;60.01145 3.634671e-06;58.88715 7.774951e-07;53.06962 1.342477e-06;53.57384 1.356932e-05;67.22261 3.917629e-05;77.46705 3.917629e-05]}',\n",
       "  'data': '[[[73.8896, 0.00191159], [118.556, 0.00040891], [151.6, 0.000306229], [174.703, 0.000222081], [203.239, 0.000113107], [201.327, 7.21339e-05], [173.059, 9.32755e-05], [137.921, 0.000177353], [112.016, 0.000244552], [83.5548, 0.000495848], [78.2031, 0.000856166], [65.3424, 0.00100537], [73.8896, 0.00191159]], [[77.4671, 3.91763e-05], [87.6002, 1.54302e-05], [98.1265, 1.54302e-05], [103.855, 1.99526e-05], [179.73, 2.3937e-06], [203.239, 1.91159e-06], [234.212, 1.30003e-06], [382.968, 1.41632e-07], [523.222, 6.14288e-08], [597.284, 2.19715e-08], [523.222, 1.49423e-08], [311.038, 2.58005e-08], [293.882, 1.93217e-08], [181.437, 5.57842e-08], [155.962, 1.32818e-07], [126.669, 1.46257e-07], [98.1265, 3.48225e-07], [70.4773, 1.73594e-06], [67.2226, 3.30069e-06], [60.0115, 3.63467e-06], [58.8871, 7.77495e-07], [53.0696, 1.34248e-06], [53.5738, 1.35693e-05], [67.2226, 3.91763e-05], [77.4671, 3.91763e-05]]]',\n",
       "  'data_label': 'Baltz and Gondolo, 2004, Markov Chain Monte Carlos, mSUGRA, 1 sigma g-2 constraint, SD-neutron ',\n",
       "  'file_name': 'Baltz_and_Gondolo_2004_SDn_1sigma.limit',\n",
       "  'data_comment': 'Baltz and Gondolo, spin-dependent neutron data from markov chain monte carlos in full parameter space of mSUGRA (1 sigma g-2 constraint).',\n",
       "  'data_reference': 'E. Baltz, personal communication',\n",
       "  'updated_at': '2013-09-19T12:18:26',\n",
       "  'creator_id': None,\n",
       "  'experiment': 'Theory',\n",
       "  'rating': 0,\n",
       "  'date_of_announcement': '2004-01-01',\n",
       "  'public': 1,\n",
       "  'open': 1,\n",
       "  'official': 1,\n",
       "  'date_official': None,\n",
       "  'greatest_hit': 0,\n",
       "  'date_of_run_start': None,\n",
       "  'date_of_run_end': None,\n",
       "  'year': 2004}]"
      ]
     },
     "execution_count": 6,
     "metadata": {},
     "output_type": "execute_result"
    }
   ],
   "source": [
    "subject = 'data'\n",
    "r = Client.read(id=9)\n",
    "r"
   ]
  },
  {
   "cell_type": "code",
   "execution_count": 7,
   "id": "9062e695-df55-4e8b-a226-dd7fe6800e61",
   "metadata": {},
   "outputs": [],
   "source": [
    "trace_color = r[0]['default_color']\n",
    "trace_style = r[0]['default_style']"
   ]
  },
  {
   "cell_type": "code",
   "execution_count": 8,
   "id": "c55abd15-c62a-4338-b6c4-a4388d4bbd94",
   "metadata": {},
   "outputs": [],
   "source": [
    "pt = PlotTrace()"
   ]
  },
  {
   "cell_type": "code",
   "execution_count": 9,
   "id": "a3e5631b-1721-4b20-986b-db3e9c60fc6a",
   "metadata": {},
   "outputs": [
    {
     "data": {
      "text/plain": [
       "'green'"
      ]
     },
     "execution_count": 9,
     "metadata": {},
     "output_type": "execute_result"
    }
   ],
   "source": [
    "trace_color_clean = pt.clean_the_color_in(trace_color)\n",
    "trace_color_clean"
   ]
  },
  {
   "cell_type": "code",
   "execution_count": 10,
   "id": "70275fdb-f2b8-44be-8486-00b00889d36c",
   "metadata": {},
   "outputs": [
    {
     "name": "stdout",
     "output_type": "stream",
     "text": [
      "lines {'color': 'green', 'width': 1, 'dash': 'solid'} {'symbol': 'x'} None 1 toself\n"
     ]
    }
   ],
   "source": [
    "pt.set_values(trace_color, trace_style)\n",
    "print(pt.mode,pt.line,pt.marker,pt.fillcolor,pt.opacity,pt.fill)"
   ]
  },
  {
   "cell_type": "code",
   "execution_count": 11,
   "id": "deda8f5f-882a-47bb-af67-4c2288919680",
   "metadata": {},
   "outputs": [
    {
     "data": {
      "text/plain": [
       "2"
      ]
     },
     "execution_count": 11,
     "metadata": {},
     "output_type": "execute_result"
    }
   ],
   "source": [
    "# Example string that represents a list of lists of lists\n",
    "string_data = r[0]['data']\n",
    "\n",
    "# Convert the string to a Python list\n",
    "list_data = ast.literal_eval(string_data)\n",
    "\n",
    "len(list_data)"
   ]
  },
  {
   "cell_type": "code",
   "execution_count": 12,
   "id": "93abbf4b-d472-43cc-a98e-abc78932f474",
   "metadata": {},
   "outputs": [
    {
     "name": "stdout",
     "output_type": "stream",
     "text": [
      "[[7.38896e+01 1.91159e-03]\n",
      " [1.18556e+02 4.08910e-04]\n",
      " [1.51600e+02 3.06229e-04]\n",
      " [1.74703e+02 2.22081e-04]\n",
      " [2.03239e+02 1.13107e-04]\n",
      " [2.01327e+02 7.21339e-05]\n",
      " [1.73059e+02 9.32755e-05]\n",
      " [1.37921e+02 1.77353e-04]\n",
      " [1.12016e+02 2.44552e-04]\n",
      " [8.35548e+01 4.95848e-04]\n",
      " [7.82031e+01 8.56166e-04]\n",
      " [6.53424e+01 1.00537e-03]\n",
      " [7.38896e+01 1.91159e-03]]\n"
     ]
    }
   ],
   "source": [
    "# Convert the Python list to a NumPy array\n",
    "numpy_array = np.array(list_data[0])\n",
    "\n",
    "print(numpy_array)"
   ]
  },
  {
   "cell_type": "code",
   "execution_count": 13,
   "id": "d3efe236-04df-4e19-9102-77410417613f",
   "metadata": {},
   "outputs": [
    {
     "data": {
      "text/plain": [
       "array([1.91159e-03, 4.08910e-04, 3.06229e-04, 2.22081e-04, 1.13107e-04,\n",
       "       7.21339e-05, 9.32755e-05, 1.77353e-04, 2.44552e-04, 4.95848e-04,\n",
       "       8.56166e-04, 1.00537e-03, 1.91159e-03])"
      ]
     },
     "execution_count": 13,
     "metadata": {},
     "output_type": "execute_result"
    }
   ],
   "source": [
    "#transposed_array = numpy_array.T\n",
    "#x = transposed_array[0]\n",
    "#y = transposed_array[1]\n",
    "#print(x.shape, y.shape)\n",
    "# (1, 30, 2)\n",
    "numpy_array\n",
    "\n",
    "x = numpy_array[:, 0]\n",
    "y = numpy_array[:, 1]\n",
    "\n",
    "y"
   ]
  },
  {
   "cell_type": "code",
   "execution_count": 14,
   "id": "3f641274-4597-47f4-b1e6-2e735baf8b89",
   "metadata": {},
   "outputs": [
    {
     "data": {
      "text/plain": [
       "['1', '2']"
      ]
     },
     "execution_count": 14,
     "metadata": {},
     "output_type": "execute_result"
    }
   ],
   "source": [
    "trace_count = len(list_data)\n",
    "trace_names_int = list(range(1,trace_count+1))\n",
    "trace_names_int\n",
    "trace_names = []\n",
    "for t in trace_names_int:\n",
    "    trace_names.append(str(t))\n",
    "trace_names   "
   ]
  },
  {
   "cell_type": "code",
   "execution_count": null,
   "id": "cf5de775-597c-4277-b083-69250ff39a4c",
   "metadata": {},
   "outputs": [],
   "source": []
  },
  {
   "cell_type": "code",
   "execution_count": 15,
   "id": "ad8ae825-a428-4f43-9159-dc15cd610d03",
   "metadata": {},
   "outputs": [
    {
     "data": {
      "text/plain": [
       "array([ 73.8896, 118.556 , 151.6   , 174.703 , 203.239 , 201.327 ,\n",
       "       173.059 , 137.921 , 112.016 ,  83.5548,  78.2031,  65.3424,\n",
       "        73.8896])"
      ]
     },
     "execution_count": 15,
     "metadata": {},
     "output_type": "execute_result"
    }
   ],
   "source": [
    "x"
   ]
  },
  {
   "cell_type": "code",
   "execution_count": 16,
   "id": "37f0686a-3c17-4f0c-a621-84cb515b253b",
   "metadata": {},
   "outputs": [
    {
     "data": {
      "text/plain": [
       "array([1.91159e-03, 4.08910e-04, 3.06229e-04, 2.22081e-04, 1.13107e-04,\n",
       "       7.21339e-05, 9.32755e-05, 1.77353e-04, 2.44552e-04, 4.95848e-04,\n",
       "       8.56166e-04, 1.00537e-03, 1.91159e-03])"
      ]
     },
     "execution_count": 16,
     "metadata": {},
     "output_type": "execute_result"
    }
   ],
   "source": [
    "y"
   ]
  },
  {
   "cell_type": "code",
   "execution_count": 17,
   "id": "f83a6261-fa7f-46b9-84aa-2eb783a4e83c",
   "metadata": {},
   "outputs": [
    {
     "name": "stdout",
     "output_type": "stream",
     "text": [
      "73.8896 0.00191159\n",
      "118.556 0.00040891\n",
      "151.6 0.000306229\n",
      "174.703 0.000222081\n",
      "203.239 0.000113107\n",
      "201.327 7.21339e-05\n",
      "173.059 9.32755e-05\n",
      "137.921 0.000177353\n",
      "112.016 0.000244552\n",
      "83.5548 0.000495848\n",
      "78.2031 0.000856166\n",
      "65.3424 0.00100537\n",
      "73.8896 0.00191159\n"
     ]
    }
   ],
   "source": [
    "for xil in list_data[0]:\n",
    "    print(xil[0], xil[1])"
   ]
  },
  {
   "cell_type": "code",
   "execution_count": 18,
   "id": "a31e8498-36f9-4efc-8ae4-e08032c9889d",
   "metadata": {},
   "outputs": [
    {
     "name": "stdout",
     "output_type": "stream",
     "text": [
      "[3.91763e-05, 1.54302e-05, 1.54302e-05, 1.99526e-05, 2.3937e-06, 1.91159e-06, 1.30003e-06, 1.41632e-07, 6.14288e-08, 2.19715e-08, 1.49423e-08, 2.58005e-08, 1.93217e-08, 5.57842e-08, 1.32818e-07, 1.46257e-07, 3.48225e-07, 1.73594e-06, 3.30069e-06, 3.63467e-06, 7.77495e-07, 1.34248e-06, 1.35693e-05, 3.91763e-05, 3.91763e-05]\n"
     ]
    }
   ],
   "source": [
    "#x = [item[0] for item in list_data[1]]\n",
    "#y = [item[1] for item in list_data[1]]\n",
    "#print(y)"
   ]
  },
  {
   "cell_type": "code",
   "execution_count": 21,
   "id": "b0890fa2-b756-4367-b42d-be1700fcee86",
   "metadata": {},
   "outputs": [
    {
     "data": {
      "image/png": "[encoded data removed]",
      "text/plain": [
       "<Figure size 1000x600 with 1 Axes>"
      ]
     },
     "metadata": {},
     "output_type": "display_data"
    }
   ],
   "source": [
    "# Now you can plot these two lists using matplotlib\n",
    "plt.figure(figsize=(10, 6))\n",
    "\n",
    "\n",
    "for tl in range(0,trace_count):\n",
    "    # Plot the first list as a line\n",
    "    #list_data[tl]\n",
    "    '''\n",
    "    numpy_array = np.array(list_data[tl])\n",
    "    x = numpy_array[:, 0]\n",
    "    y = numpy_array[:, 1]\n",
    "    '''\n",
    "    x = [item[0] for item in list_data[tl]]\n",
    "    y = [item[1] for item in list_data[tl]]\n",
    "    \n",
    "    if pt.fill != 'toself':\n",
    "        plt.plot(x, y, label=str(tl))\n",
    "    else:\n",
    "        plt.fill_between(x, y, alpha=0.3, label='Area Trace')\n",
    "\n",
    "\n",
    "# Add labels and title\n",
    "plt.xlabel('Masses')\n",
    "plt.ylabel('Cross Sections')\n",
    "\n",
    "\n",
    "#plt.title('Two Lists of Lists Plotted')\n",
    "plt.xscale('log')\n",
    "plt.yscale('log')\n",
    "\n",
    "# Show legend\n",
    "#plt.legend()\n",
    "\n",
    "# Show plot\n",
    "plt.show()"
   ]
  },
  {
   "cell_type": "code",
   "execution_count": null,
   "id": "eaa69234-39f6-40b9-b779-d76dbac73271",
   "metadata": {},
   "outputs": [],
   "source": [
    "'''\n",
    "\n",
    "# Sample data\n",
    "x = np.linspace(0, 10, 100)\n",
    "y = np.sin(x)\n",
    "\n",
    "# Create the plot\n",
    "plt.plot(x, y)\n",
    "\n",
    "# Add a title and labels using mathtext\n",
    "plt.title(r'This is a $\\sin(x)$ function', fontsize=16)  # LaTeX-like syntax\n",
    "plt.xlabel(r'$\\theta$ (radians)', fontsize=14)           # LaTeX-like syntax\n",
    "plt.ylabel(r'$\\sin(\\theta)$', fontsize=14)               # LaTeX-like syntax\n",
    "\n",
    "# Display the plot\n",
    "plt.show()\n",
    "'''"
   ]
  },
  {
   "cell_type": "code",
   "execution_count": null,
   "id": "5b90559f-760b-4f1c-92ba-a2603b47c21e",
   "metadata": {},
   "outputs": [],
   "source": [
    "\n",
    "\n",
    "# Example data structure: list of list of lists\n",
    "# Assuming the structure: [[[x_values_line], [y_values_line]], [[x_values_area], [y1_values_area], [y2_values_area]]]\n",
    "traces = [\n",
    "    [[1, 2, 3], [2, 3, 4]],        # Line trace\n",
    "    [[1, 2, 3], [4, 5, 6], [1, 1, 1]],  # Area trace (with y2 values)\n",
    "    [[1, 2, 3], [6, 7, 8]]         # Line trace\n",
    "]\n",
    "\n",
    "# Create a plot\n",
    "plt.figure(figsize=(10, 6))\n",
    "\n",
    "# Iterate over traces and plot accordingly\n",
    "for trace in traces:\n",
    "    x_values = trace[0]\n",
    "    y_values = trace[1]\n",
    "    \n",
    "    if len(trace) == 2:  # Line trace\n",
    "        plt.plot(x_values, y_values, label='Line Trace')\n",
    "    elif len(trace) == 3:  # Area trace\n",
    "        y2_values = trace[2]\n",
    "        plt.fill_between(x_values, y_values, y2_values, alpha=0.3, label='Area Trace')\n",
    "\n",
    "# Add labels and title\n",
    "plt.xlabel('X-axis')\n",
    "plt.ylabel('Y-axis')\n",
    "plt.title('Multiple Traces: Lines and Areas')\n",
    "\n",
    "# Show legend\n",
    "plt.legend()\n",
    "\n",
    "# Show plot\n",
    "plt.show()"
   ]
  }
 ],
 "metadata": {
  "kernelspec": {
   "display_name": "Python 3 (ipykernel)",
   "language": "python",
   "name": "python3"
  },
  "language_info": {
   "codemirror_mode": {
    "name": "ipython",
    "version": 3
   },
   "file_extension": ".py",
   "mimetype": "text/x-python",
   "name": "python",
   "nbconvert_exporter": "python",
   "pygments_lexer": "ipython3",
   "version": "3.12.4"
  }
 },
 "nbformat": 4,
 "nbformat_minor": 5
}
