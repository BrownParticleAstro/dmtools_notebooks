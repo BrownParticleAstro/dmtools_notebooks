{
 "cells": [
  {
   "cell_type": "markdown",
   "metadata": {
    "id": "43XkbM2bAvFW"
   },
   "source": [
    "DMTOOLS External API Test and Demo - 29 July 2025"
   ]
  },
  {
   "cell_type": "markdown",
   "metadata": {
    "id": "tsWJeSyP72Po"
   },
   "source": [
    "Notebook to test library that has been published tp pypi test"
   ]
  },
  {
   "cell_type": "code",
   "execution_count": 1,
   "metadata": {
    "colab": {
     "base_uri": "https://localhost:8080/"
    },
    "id": "tazOxHCuLShU",
    "outputId": "d0bc14e1-9692-4ce0-8588-c6f9a3f99d42"
   },
   "outputs": [
    {
     "name": "stdout",
     "output_type": "stream",
     "text": [
      "Looking in indexes: https://test.pypi.org/simple/, https://www.piwheels.org/simple\n",
      "Requirement already satisfied: dmtools-brown-edu in /home/dmtools/Code/env/lib/python3.11/site-packages (0.0.11)\n",
      "Collecting dmtools-brown-edu\n",
      "  Downloading https://test-files.pythonhosted.org/packages/d5/7b/ec4f943fc9b27403ecefe3e9a6f2439886ae630b4d30f40c00a413a51d84/dmtools_brown_edu-0.0.15-py3-none-any.whl (40 kB)\n",
      "\u001b[2K     \u001b[38;2;114;156;31m━━━━━━━━━━━━━━━━━━━━━━━━━━━━━━━━━━━━━━━━\u001b[0m \u001b[32m40.4/40.4 kB\u001b[0m \u001b[31m1.7 MB/s\u001b[0m eta \u001b[36m0:00:00\u001b[0m\n",
      "\u001b[?25hRequirement already satisfied: jinja2<4.0.0,>=3.1.4 in /home/dmtools/Code/env/lib/python3.11/site-packages (from dmtools-brown-edu) (3.1.6)\n",
      "Requirement already satisfied: matplotlib<4.0.0,>=3.9.2 in /home/dmtools/Code/env/lib/python3.11/site-packages (from dmtools-brown-edu) (3.10.1)\n",
      "Requirement already satisfied: pandas<3.0.0,>=2.2.2 in /home/dmtools/Code/env/lib/python3.11/site-packages (from dmtools-brown-edu) (2.2.3)\n",
      "Requirement already satisfied: plotly<6.0.0,>=5.23.0 in /home/dmtools/Code/env/lib/python3.11/site-packages (from dmtools-brown-edu) (5.24.1)\n",
      "Requirement already satisfied: requests<3.0.0,>=2.32.3 in /home/dmtools/Code/env/lib/python3.11/site-packages (from dmtools-brown-edu) (2.32.4)\n",
      "Requirement already satisfied: MarkupSafe>=2.0 in /home/dmtools/Code/env/lib/python3.11/site-packages (from jinja2<4.0.0,>=3.1.4->dmtools-brown-edu) (3.0.2)\n",
      "Requirement already satisfied: contourpy>=1.0.1 in /home/dmtools/Code/env/lib/python3.11/site-packages (from matplotlib<4.0.0,>=3.9.2->dmtools-brown-edu) (1.3.1)\n",
      "Requirement already satisfied: cycler>=0.10 in /home/dmtools/Code/env/lib/python3.11/site-packages (from matplotlib<4.0.0,>=3.9.2->dmtools-brown-edu) (0.12.1)\n",
      "Requirement already satisfied: fonttools>=4.22.0 in /home/dmtools/Code/env/lib/python3.11/site-packages (from matplotlib<4.0.0,>=3.9.2->dmtools-brown-edu) (4.56.0)\n",
      "Requirement already satisfied: kiwisolver>=1.3.1 in /home/dmtools/Code/env/lib/python3.11/site-packages (from matplotlib<4.0.0,>=3.9.2->dmtools-brown-edu) (1.4.8)\n",
      "Requirement already satisfied: numpy>=1.23 in /home/dmtools/Code/env/lib/python3.11/site-packages (from matplotlib<4.0.0,>=3.9.2->dmtools-brown-edu) (2.2.4)\n",
      "Requirement already satisfied: packaging>=20.0 in /home/dmtools/Code/env/lib/python3.11/site-packages (from matplotlib<4.0.0,>=3.9.2->dmtools-brown-edu) (25.0)\n",
      "Requirement already satisfied: pillow>=8 in /home/dmtools/Code/env/lib/python3.11/site-packages (from matplotlib<4.0.0,>=3.9.2->dmtools-brown-edu) (11.1.0)\n",
      "Requirement already satisfied: pyparsing>=2.3.1 in /home/dmtools/Code/env/lib/python3.11/site-packages (from matplotlib<4.0.0,>=3.9.2->dmtools-brown-edu) (3.2.1)\n",
      "Requirement already satisfied: python-dateutil>=2.7 in /home/dmtools/Code/env/lib/python3.11/site-packages (from matplotlib<4.0.0,>=3.9.2->dmtools-brown-edu) (2.9.0.post0)\n",
      "Requirement already satisfied: pytz>=2020.1 in /home/dmtools/Code/env/lib/python3.11/site-packages (from pandas<3.0.0,>=2.2.2->dmtools-brown-edu) (2025.1)\n",
      "Requirement already satisfied: tzdata>=2022.7 in /home/dmtools/Code/env/lib/python3.11/site-packages (from pandas<3.0.0,>=2.2.2->dmtools-brown-edu) (2025.1)\n",
      "Requirement already satisfied: tenacity>=6.2.0 in /home/dmtools/Code/env/lib/python3.11/site-packages (from plotly<6.0.0,>=5.23.0->dmtools-brown-edu) (9.0.0)\n",
      "Requirement already satisfied: charset_normalizer<4,>=2 in /home/dmtools/Code/env/lib/python3.11/site-packages (from requests<3.0.0,>=2.32.3->dmtools-brown-edu) (3.4.2)\n",
      "Requirement already satisfied: idna<4,>=2.5 in /home/dmtools/Code/env/lib/python3.11/site-packages (from requests<3.0.0,>=2.32.3->dmtools-brown-edu) (3.10)\n",
      "Requirement already satisfied: urllib3<3,>=1.21.1 in /home/dmtools/Code/env/lib/python3.11/site-packages (from requests<3.0.0,>=2.32.3->dmtools-brown-edu) (2.5.0)\n",
      "Requirement already satisfied: certifi>=2017.4.17 in /home/dmtools/Code/env/lib/python3.11/site-packages (from requests<3.0.0,>=2.32.3->dmtools-brown-edu) (2025.7.14)\n",
      "Requirement already satisfied: six>=1.5 in /home/dmtools/Code/env/lib/python3.11/site-packages (from python-dateutil>=2.7->matplotlib<4.0.0,>=3.9.2->dmtools-brown-edu) (1.17.0)\n",
      "Installing collected packages: dmtools-brown-edu\n",
      "  Attempting uninstall: dmtools-brown-edu\n",
      "    Found existing installation: dmtools_brown_edu 0.0.11\n",
      "    Uninstalling dmtools_brown_edu-0.0.11:\n",
      "      Successfully uninstalled dmtools_brown_edu-0.0.11\n",
      "Successfully installed dmtools-brown-edu-0.0.15\n"
     ]
    }
   ],
   "source": [
    "## need to disconnect and delete the runtime and rerun the notebook to reinstall this properly\n",
    "## check that it says it has sucessfully installed\n",
    "!pip install -i https://test.pypi.org/simple/ dmtools-brown-edu --upgrade"
   ]
  },
  {
   "cell_type": "code",
   "execution_count": 6,
   "metadata": {
    "id": "tjbP2Py-U7GK"
   },
   "outputs": [],
   "source": [
    "import json\n",
    "import os"
   ]
  },
  {
   "cell_type": "code",
   "execution_count": 7,
   "metadata": {},
   "outputs": [],
   "source": [
    "def load_secrets(env_file_path=\".env\"):\n",
    "    \"\"\"\n",
    "    Loads secrets from a .env file and retrieves 'EMAIL' and 'API_KEY'.\n",
    "\n",
    "    Args:\n",
    "        env_file_path (str): Path to the .env file. Defaults to '.env'.\n",
    "\n",
    "    Returns:\n",
    "        dict: A dictionary with 'email' and 'api_key' keys.\n",
    "\n",
    "    Raises:\n",
    "        FileNotFoundError: If the .env file does not exist.\n",
    "        KeyError: If either EMAIL or API_KEY is missing.\n",
    "    \"\"\"\n",
    "    if not os.path.exists(env_file_path):\n",
    "        raise FileNotFoundError(f\"{env_file_path} not found.\")\n",
    "\n",
    "    # Load environment variables from the file\n",
    "    with open(env_file_path) as f:\n",
    "        for line in f:\n",
    "            line = line.strip()\n",
    "            if line and not line.startswith('#'):\n",
    "                key_value = line.split('=', 1)\n",
    "                if len(key_value) == 2:\n",
    "                    key, value = key_value\n",
    "                    os.environ[key.strip()] = value.strip()\n",
    "\n",
    "    email = os.getenv('EMAIL')\n",
    "    api_key = os.getenv('API_KEY')\n",
    "\n",
    "    if not email or not api_key:\n",
    "        missing = []\n",
    "        if not email:\n",
    "            missing.append('EMAIL')\n",
    "        if not api_key:\n",
    "            missing.append('API_KEY')\n",
    "        raise KeyError(f\"Missing required secrets: {', '.join(missing)}\")\n",
    "\n",
    "    return {\"email\": email, \"api_key\": api_key}"
   ]
  },
  {
   "cell_type": "code",
   "execution_count": 12,
   "metadata": {},
   "outputs": [
    {
     "name": "stdout",
     "output_type": "stream",
     "text": [
      "Current working directory: /home/dmtools/Code/dmtools_notebooks/PyPi_Testing\n"
     ]
    }
   ],
   "source": [
    "cwd = os.getcwd()\n",
    "print(\"Current working directory:\", cwd)"
   ]
  },
  {
   "cell_type": "code",
   "execution_count": 8,
   "metadata": {},
   "outputs": [
    {
     "ename": "FileNotFoundError",
     "evalue": "./secrets/.env not found.",
     "output_type": "error",
     "traceback": [
      "\u001b[31m---------------------------------------------------------------------------\u001b[39m",
      "\u001b[31mFileNotFoundError\u001b[39m                         Traceback (most recent call last)",
      "\u001b[36mCell\u001b[39m\u001b[36m \u001b[39m\u001b[32mIn[8]\u001b[39m\u001b[32m, line 1\u001b[39m\n\u001b[32m----> \u001b[39m\u001b[32m1\u001b[39m secrets = \u001b[43mload_secrets\u001b[49m\u001b[43m(\u001b[49m\u001b[33;43m\"\u001b[39;49m\u001b[33;43m./secrets/.env\u001b[39;49m\u001b[33;43m\"\u001b[39;49m\u001b[43m)\u001b[49m\n\u001b[32m      2\u001b[39m \u001b[38;5;28mprint\u001b[39m(secrets[\u001b[33m\"\u001b[39m\u001b[33memail\u001b[39m\u001b[33m\"\u001b[39m])\n\u001b[32m      3\u001b[39m \u001b[38;5;28mprint\u001b[39m(secrets[\u001b[33m\"\u001b[39m\u001b[33mapi_key\u001b[39m\u001b[33m\"\u001b[39m])\n",
      "\u001b[36mCell\u001b[39m\u001b[36m \u001b[39m\u001b[32mIn[7]\u001b[39m\u001b[32m, line 16\u001b[39m, in \u001b[36mload_secrets\u001b[39m\u001b[34m(env_file_path)\u001b[39m\n\u001b[32m      2\u001b[39m \u001b[38;5;250m\u001b[39m\u001b[33;03m\"\"\"\u001b[39;00m\n\u001b[32m      3\u001b[39m \u001b[33;03mLoads secrets from a .env file and retrieves 'EMAIL' and 'API_KEY'.\u001b[39;00m\n\u001b[32m      4\u001b[39m \n\u001b[32m   (...)\u001b[39m\u001b[32m     13\u001b[39m \u001b[33;03m    KeyError: If either EMAIL or API_KEY is missing.\u001b[39;00m\n\u001b[32m     14\u001b[39m \u001b[33;03m\"\"\"\u001b[39;00m\n\u001b[32m     15\u001b[39m \u001b[38;5;28;01mif\u001b[39;00m \u001b[38;5;129;01mnot\u001b[39;00m os.path.exists(env_file_path):\n\u001b[32m---> \u001b[39m\u001b[32m16\u001b[39m     \u001b[38;5;28;01mraise\u001b[39;00m \u001b[38;5;167;01mFileNotFoundError\u001b[39;00m(\u001b[33mf\u001b[39m\u001b[33m\"\u001b[39m\u001b[38;5;132;01m{\u001b[39;00menv_file_path\u001b[38;5;132;01m}\u001b[39;00m\u001b[33m not found.\u001b[39m\u001b[33m\"\u001b[39m)\n\u001b[32m     18\u001b[39m \u001b[38;5;66;03m# Load environment variables from the file\u001b[39;00m\n\u001b[32m     19\u001b[39m \u001b[38;5;28;01mwith\u001b[39;00m \u001b[38;5;28mopen\u001b[39m(env_file_path) \u001b[38;5;28;01mas\u001b[39;00m f:\n",
      "\u001b[31mFileNotFoundError\u001b[39m: ./secrets/.env not found."
     ]
    }
   ],
   "source": [
    "secrets = load_secrets(\"./secrets/.env\")\n",
    "print(secrets[\"email\"])\n",
    "print(secrets[\"api_key\"])"
   ]
  },
  {
   "cell_type": "code",
   "execution_count": 3,
   "metadata": {
    "id": "znVgJOM7utbF"
   },
   "outputs": [],
   "source": [
    "from dmtools_brown_edu.dmtools_client_package.dmtools_quart import APIClient"
   ]
  },
  {
   "cell_type": "code",
   "execution_count": 7,
   "metadata": {
    "colab": {
     "base_uri": "https://localhost:8080/"
    },
    "id": "P3_gbG1Q8tqi",
    "outputId": "b027d1ad-6f83-445e-98da-d384dd0da830"
   },
   "outputs": [
    {
     "name": "stdout",
     "output_type": "stream",
     "text": [
      "andrewgaitskell@brown.edu\n"
     ]
    }
   ],
   "source": [
    "## You need to enter your email address into the colab secrets\n",
    "## see key in left hand bar\n",
    "## The library cleans the email address provided\n",
    "## First time you run this you need to give permission to the notebook to access each of the secrets\n",
    "#from google.colab import userdata\n",
    "# email = userdata.get('DMTOOLS_EMAIL')\n",
    "# print(email)"
   ]
  },
  {
   "cell_type": "code",
   "execution_count": 8,
   "metadata": {
    "id": "syT-3itf7r3F"
   },
   "outputs": [],
   "source": [
    "#api_key = userdata.get('DMTOOLS_APIKEY')"
   ]
  },
  {
   "cell_type": "code",
   "execution_count": null,
   "metadata": {
    "id": "kgmpl3lRFzA4"
   },
   "outputs": [],
   "source": [
    "email = 'andrewgaitskell@brown.edu'\n",
    "api_key = "
   ]
  },
  {
   "cell_type": "markdown",
   "metadata": {
    "id": "VwRD33atF0Zw"
   },
   "source": [
    "Create the API Client - this connects to the server and allows simpler interactions.\n",
    "\n",
    "For less verbose calling, you can set suppress_logs=True"
   ]
  },
  {
   "cell_type": "code",
   "execution_count": 10,
   "metadata": {
    "id": "prj69n4m7r3H"
   },
   "outputs": [],
   "source": [
    "Client = APIClient(email, api_key, suppress_logs=False)"
   ]
  },
  {
   "cell_type": "markdown",
   "metadata": {
    "id": "2vy0RVAFEQKG"
   },
   "source": [
    "Query using key pair - full match on word\n",
    "Requirement was to exact word match for the key value pair\n",
    "\n",
    "Example match to CDMS but not to CDMSSuper"
   ]
  },
  {
   "cell_type": "code",
   "execution_count": 11,
   "metadata": {
    "colab": {
     "base_uri": "https://localhost:8080/"
    },
    "id": "MkVlEQBxWlmE",
    "outputId": "8220b21d-b345-43ac-fbd6-6cc9348e8a9f"
   },
   "outputs": [
    {
     "name": "stderr",
     "output_type": "stream",
     "text": [
      "2025-01-24 11:37:36,081 - dmtools_brown_edu.dmtools_client_package.dmtools_quart - INFO - Calling read data API\n",
      "INFO:dmtools_brown_edu.dmtools_client_package.dmtools_quart:Calling read data API\n"
     ]
    }
   ],
   "source": []
  },
  {
   "cell_type": "markdown",
   "metadata": {
    "id": "DUKDOWEsMh38"
   },
   "source": [
    "Below returns a list and the results need to be loaded as json"
   ]
  },
  {
   "cell_type": "code",
   "execution_count": 23,
   "metadata": {
    "id": "A0cdKpm37r3I"
   },
   "outputs": [],
   "source": []
  },
  {
   "cell_type": "code",
   "execution_count": 24,
   "metadata": {
    "colab": {
     "base_uri": "https://localhost:8080/"
    },
    "id": "l4WJ221vGsZZ",
    "outputId": "434bd527-aac5-4fa2-e84d-091faaf797f9"
   },
   "outputs": [
    {
     "name": "stderr",
     "output_type": "stream",
     "text": [
      "2025-01-24 11:58:18,470 - dmtools_brown_edu.dmtools_client_package.dmtools_quart - INFO - Calling read data API\n",
      "INFO:dmtools_brown_edu.dmtools_client_package.dmtools_quart:Calling read data API\n"
     ]
    },
    {
     "name": "stdout",
     "output_type": "stream",
     "text": [
      "['CDMS II (Soudan)', 'CDMS I (SUF)']\n"
     ]
    }
   ],
   "source": [
    "r = Client.read(query=\"experiment:CDMS\")\n",
    "record_count = len(r)\n",
    "experiment_list = []\n",
    "for rc in range(0, record_count):\n",
    "  r_p = json.loads(r[rc]['properties'])\n",
    "  r_p_experiment = r_p['experiment']\n",
    "  experiment_list.append(r_p_experiment)\n",
    "unique_list = list(set(experiment_list))\n",
    "print(unique_list)"
   ]
  },
  {
   "cell_type": "markdown",
   "metadata": {
    "id": "PaSXtYIzLciY"
   },
   "source": [
    "Read a Single record by the ID\n",
    "Below returns a json variable in a list - the above result from a query needs to be updated to also return a list of json variables"
   ]
  },
  {
   "cell_type": "code",
   "execution_count": 35,
   "metadata": {
    "colab": {
     "base_uri": "https://localhost:8080/"
    },
    "id": "P74Yv0I47r3J",
    "outputId": "4e05e71b-a4d6-418e-fd2e-e4ac4e79e473"
   },
   "outputs": [
    {
     "name": "stderr",
     "output_type": "stream",
     "text": [
      "2025-01-24 12:08:19,074 - dmtools_brown_edu.dmtools_client_package.dmtools_quart - INFO - Calling read data API\n",
      "INFO:dmtools_brown_edu.dmtools_client_package.dmtools_quart:Calling read data API\n"
     ]
    }
   ],
   "source": [
    "r_id = Client.read(id=1)\n",
    "r_id[0]\n",
    "properties_json = r_id[0]['properties']\n",
    "#properties_json"
   ]
  },
  {
   "cell_type": "code",
   "execution_count": 36,
   "metadata": {
    "colab": {
     "base_uri": "https://localhost:8080/"
    },
    "id": "UQ1i8G9LVTl9",
    "outputId": "9d10faf7-d4b2-429d-c514-fe6bb24bce45"
   },
   "outputs": [
    {
     "name": "stdout",
     "output_type": "stream",
     "text": [
      "None\n"
     ]
    }
   ],
   "source": [
    "archived = r_id[0]['archived']\n",
    "print(archived)"
   ]
  },
  {
   "cell_type": "code",
   "execution_count": 37,
   "metadata": {
    "colab": {
     "base_uri": "https://localhost:8080/"
    },
    "id": "M6d0QbaGVvRI",
    "outputId": "5550b814-1599-41d6-b1ed-4bfe238af872"
   },
   "outputs": [
    {
     "name": "stderr",
     "output_type": "stream",
     "text": [
      "2025-01-24 12:08:24,616 - dmtools_brown_edu.dmtools_client_package.dmtools_quart - INFO - Calling archive data API\n",
      "INFO:dmtools_brown_edu.dmtools_client_package.dmtools_quart:Calling archive data API\n"
     ]
    }
   ],
   "source": [
    "archive_via_id = Client.archive(id=1)"
   ]
  },
  {
   "cell_type": "code",
   "execution_count": 38,
   "metadata": {
    "colab": {
     "base_uri": "https://localhost:8080/"
    },
    "id": "HBYldgpLdpO3",
    "outputId": "a237d1cc-3d3b-4586-a1f8-7baf70dfb5fe"
   },
   "outputs": [
    {
     "data": {
      "text/plain": [
       "[{'id': 1, 'message': 'Node archived'}, 200]"
      ]
     },
     "execution_count": 38,
     "metadata": {},
     "output_type": "execute_result"
    }
   ],
   "source": [
    "archive_via_id"
   ]
  },
  {
   "cell_type": "code",
   "execution_count": 40,
   "metadata": {
    "colab": {
     "base_uri": "https://localhost:8080/"
    },
    "id": "UEglJWI_Vyw2",
    "outputId": "8ab765e8-deec-439f-a86f-6b7d53f8bea5"
   },
   "outputs": [
    {
     "name": "stderr",
     "output_type": "stream",
     "text": [
      "2025-01-24 12:09:06,402 - dmtools_brown_edu.dmtools_client_package.dmtools_quart - INFO - Calling read data API\n",
      "INFO:dmtools_brown_edu.dmtools_client_package.dmtools_quart:Calling read data API\n"
     ]
    }
   ],
   "source": [
    "r_id = Client.read(id=1)\n",
    "# r_id"
   ]
  },
  {
   "cell_type": "code",
   "execution_count": 41,
   "metadata": {
    "colab": {
     "base_uri": "https://localhost:8080/"
    },
    "id": "0QNqoHTxdl3P",
    "outputId": "329c35d9-d1de-4627-a50d-fc3ea1ddeddc"
   },
   "outputs": [
    {
     "name": "stderr",
     "output_type": "stream",
     "text": [
      "2025-01-24 12:09:16,964 - dmtools_brown_edu.dmtools_client_package.dmtools_quart - INFO - Calling remove archive data API\n",
      "INFO:dmtools_brown_edu.dmtools_client_package.dmtools_quart:Calling remove archive data API\n"
     ]
    }
   ],
   "source": [
    "reverse_archive_via_id = Client.archive_reverse(id=1)"
   ]
  },
  {
   "cell_type": "code",
   "execution_count": 42,
   "metadata": {
    "colab": {
     "base_uri": "https://localhost:8080/"
    },
    "id": "kw36pw3tgExN",
    "outputId": "8fe16414-58ae-4e1a-8712-98cb417e192d"
   },
   "outputs": [
    {
     "data": {
      "text/plain": [
       "[{'id': 1, 'message': 'Node archival reversed'}, 200]"
      ]
     },
     "execution_count": 42,
     "metadata": {},
     "output_type": "execute_result"
    }
   ],
   "source": [
    "reverse_archive_via_id"
   ]
  },
  {
   "cell_type": "code",
   "execution_count": 44,
   "metadata": {
    "colab": {
     "base_uri": "https://localhost:8080/"
    },
    "id": "0x6bVOeGgGLk",
    "outputId": "a069dd88-046b-4730-b0c9-42fdf865e325"
   },
   "outputs": [
    {
     "name": "stderr",
     "output_type": "stream",
     "text": [
      "2025-01-24 12:09:33,128 - dmtools_brown_edu.dmtools_client_package.dmtools_quart - INFO - Calling read data API\n",
      "INFO:dmtools_brown_edu.dmtools_client_package.dmtools_quart:Calling read data API\n"
     ]
    }
   ],
   "source": [
    "r_id = Client.read(id=1)\n",
    "#r_id"
   ]
  },
  {
   "cell_type": "code",
   "execution_count": 46,
   "metadata": {
    "colab": {
     "base_uri": "https://localhost:8080/"
    },
    "id": "PeGrpEkRghSq",
    "outputId": "3eef4144-f90b-4833-abc4-4eefc9d86426"
   },
   "outputs": [
    {
     "data": {
      "text/plain": [
       "dict"
      ]
     },
     "execution_count": 46,
     "metadata": {},
     "output_type": "execute_result"
    }
   ],
   "source": [
    "#new_properties_json = json.loads(r_id)\n",
    "new_properties = r_id[0]['properties']\n",
    "type(new_properties)"
   ]
  },
  {
   "cell_type": "code",
   "execution_count": 50,
   "metadata": {
    "id": "6bBDAx7jqZgW"
   },
   "outputs": [],
   "source": [
    "new_properties_json = new_properties\n",
    "#new_properties_json"
   ]
  },
  {
   "cell_type": "code",
   "execution_count": 51,
   "metadata": {
    "colab": {
     "base_uri": "https://localhost:8080/"
    },
    "id": "tvLgM8KtgvZP",
    "outputId": "c3c16fcf-2ee2-409e-fb1f-8477fab09b0f"
   },
   "outputs": [
    {
     "name": "stderr",
     "output_type": "stream",
     "text": [
      "2025-01-24 12:18:03,754 - dmtools_brown_edu.dmtools_client_package.dmtools_quart - INFO - Calling add data API\n",
      "INFO:dmtools_brown_edu.dmtools_client_package.dmtools_quart:Calling add data API\n"
     ]
    }
   ],
   "source": [
    "new_data = Client.create(data=new_properties_json,node_type='Data')"
   ]
  },
  {
   "cell_type": "code",
   "execution_count": 52,
   "metadata": {
    "colab": {
     "base_uri": "https://localhost:8080/"
    },
    "id": "jwGJyJ1GhF4b",
    "outputId": "64a23286-a849-4846-fe77-9ea0ca497a22"
   },
   "outputs": [
    {
     "data": {
      "text/plain": [
       "{'new_record_id': 15737, 'success': True}"
      ]
     },
     "execution_count": 52,
     "metadata": {},
     "output_type": "execute_result"
    }
   ],
   "source": [
    "new_data"
   ]
  },
  {
   "cell_type": "code",
   "execution_count": 53,
   "metadata": {
    "id": "PG9O9cFwqrht"
   },
   "outputs": [],
   "source": [
    "new_properties_json['rating']=1000"
   ]
  },
  {
   "cell_type": "code",
   "execution_count": 54,
   "metadata": {
    "colab": {
     "base_uri": "https://localhost:8080/"
    },
    "id": "KpTr95GkyVJp",
    "outputId": "7d6c812d-3cc3-47f2-84f5-26dc70db1b47"
   },
   "outputs": [
    {
     "name": "stderr",
     "output_type": "stream",
     "text": [
      "2025-01-24 12:18:41,919 - dmtools_brown_edu.dmtools_client_package.dmtools_quart - INFO - Calling update data API\n",
      "INFO:dmtools_brown_edu.dmtools_client_package.dmtools_quart:Calling update data API\n"
     ]
    }
   ],
   "source": [
    "update_data = Client.update(id=15737,updated_data=new_properties_json,node_type='Data')"
   ]
  },
  {
   "cell_type": "code",
   "execution_count": 55,
   "metadata": {
    "colab": {
     "base_uri": "https://localhost:8080/"
    },
    "id": "Dqe3xkyUylbb",
    "outputId": "80521da9-2872-4bec-a034-6b8f98a08ee9"
   },
   "outputs": [
    {
     "data": {
      "text/plain": [
       "{'success': True, 'updated_record_id': 15737}"
      ]
     },
     "execution_count": 55,
     "metadata": {},
     "output_type": "execute_result"
    }
   ],
   "source": [
    "update_data"
   ]
  },
  {
   "cell_type": "code",
   "execution_count": 56,
   "metadata": {
    "colab": {
     "base_uri": "https://localhost:8080/"
    },
    "id": "F0_MbBHzynLa",
    "outputId": "ac647956-1dd8-4689-e17a-58c5dde922a3"
   },
   "outputs": [
    {
     "name": "stderr",
     "output_type": "stream",
     "text": [
      "2025-01-24 12:18:54,243 - dmtools_brown_edu.dmtools_client_package.dmtools_quart - INFO - Calling read data API\n",
      "INFO:dmtools_brown_edu.dmtools_client_package.dmtools_quart:Calling read data API\n"
     ]
    },
    {
     "data": {
      "text/plain": [
       "[{'archived': None,\n",
       "  'created': 'Fri, 24 Jan 2025 12:18:04 GMT',\n",
       "  'id': 15737,\n",
       "  'properties': {'comment': ' ',\n",
       "   'dateAnnouncement': '2003-01-01',\n",
       "   'dateEnd': None,\n",
       "   'dateOfficial': None,\n",
       "   'dateStart': None,\n",
       "   'defaultColor': 'red',\n",
       "   'defaultStyle': 'dash',\n",
       "   'experiment': 'Theory',\n",
       "   'greatestHit': 0,\n",
       "   'label': 'Baer et. al., 2003, constraints on mSUGRA, SI',\n",
       "   'label_short': 'Baer et. al., 2003, constraints on mSUGRA, SI',\n",
       "   'measurementType': 'Dir',\n",
       "   'official': 1,\n",
       "   'open': 0,\n",
       "   'public': 1,\n",
       "   'rating': 1000,\n",
       "   'raw': '{[60 4e-43;70 4e-43;160 5.5e-44;320 2.5e-44;630 3.2e-44;640 3e-44;640 1.2e-44;630 1e-44;225 9e-45;215 7e-45;315 7e-46;470 2.1e-46;650 7e-47;660 6.8e-47;660 2e-47;650 2e-47;470 6e-47;315 1e-46;215 3e-46;100 8e-46;60 1e-45;60 4e-43]}',\n",
       "   'reference': 'JCAP 0309 (2003) 007 , hep-ph/0305191',\n",
       "   'resultType': 'Th',\n",
       "   'spinDependency': 'SI',\n",
       "   'values': [[['6.00000e+01', '4.00000e-43'],\n",
       "     ['7.00000e+01', '4.00000e-43'],\n",
       "     ['1.60000e+02', '5.50000e-44'],\n",
       "     ['3.20000e+02', '2.50000e-44'],\n",
       "     ['6.30000e+02', '3.20000e-44'],\n",
       "     ['6.40000e+02', '3.00000e-44'],\n",
       "     ['6.40000e+02', '1.20000e-44'],\n",
       "     ['6.30000e+02', '1.00000e-44'],\n",
       "     ['2.25000e+02', '9.00000e-45'],\n",
       "     ['2.15000e+02', '7.00000e-45'],\n",
       "     ['3.15000e+02', '7.00000e-46'],\n",
       "     ['4.70000e+02', '2.10000e-46'],\n",
       "     ['6.50000e+02', '7.00000e-47'],\n",
       "     ['6.60000e+02', '6.80000e-47'],\n",
       "     ['6.60000e+02', '2.00000e-47'],\n",
       "     ['6.50000e+02', '2.00000e-47'],\n",
       "     ['4.70000e+02', '6.00000e-47'],\n",
       "     ['3.15000e+02', '1.00000e-46'],\n",
       "     ['2.15000e+02', '3.00000e-46'],\n",
       "     ['1.00000e+02', '8.00000e-46'],\n",
       "     ['6.00000e+01', '1.00000e-45'],\n",
       "     ['6.00000e+01', '4.00000e-43']]],\n",
       "   'xRescale': '1',\n",
       "   'xUnits': 'GeV',\n",
       "   'yRescale': '1',\n",
       "   'yUnits': 'cm^2',\n",
       "   'year': 2003},\n",
       "  'type': 'Data',\n",
       "  'updated': 'Fri, 24 Jan 2025 12:18:42 GMT'}]"
      ]
     },
     "execution_count": 56,
     "metadata": {},
     "output_type": "execute_result"
    }
   ],
   "source": [
    "r_id = Client.read(id=15737)\n",
    "r_id"
   ]
  },
  {
   "cell_type": "code",
   "execution_count": 57,
   "metadata": {
    "colab": {
     "base_uri": "https://localhost:8080/"
    },
    "id": "QZcqzVqkyvhF",
    "outputId": "bbd09cf6-ad58-427a-e124-65b19cf1849e"
   },
   "outputs": [
    {
     "name": "stderr",
     "output_type": "stream",
     "text": [
      "2025-01-24 12:19:16,014 - dmtools_brown_edu.dmtools_client_package.dmtools_quart - INFO - Calling delete data API\n",
      "INFO:dmtools_brown_edu.dmtools_client_package.dmtools_quart:Calling delete data API\n"
     ]
    }
   ],
   "source": [
    "r_id = Client.delete(id=15737)"
   ]
  },
  {
   "cell_type": "code",
   "execution_count": 60,
   "metadata": {
    "colab": {
     "base_uri": "https://localhost:8080/"
    },
    "id": "5itioQNLy6DB",
    "outputId": "d0c74268-4bb8-411e-d8b1-23c5da70ee63"
   },
   "outputs": [
    {
     "name": "stderr",
     "output_type": "stream",
     "text": [
      "2025-01-24 12:19:41,484 - dmtools_brown_edu.dmtools_client_package.dmtools_quart - INFO - Calling read data API\n",
      "INFO:dmtools_brown_edu.dmtools_client_package.dmtools_quart:Calling read data API\n"
     ]
    }
   ],
   "source": [
    "r_id = Client.read(id=15737)"
   ]
  },
  {
   "cell_type": "code",
   "execution_count": 62,
   "metadata": {
    "colab": {
     "base_uri": "https://localhost:8080/"
    },
    "id": "DCob-dXA1JPE",
    "outputId": "4dc5760f-11c2-4db8-e8ed-0a41cb1844b3"
   },
   "outputs": [
    {
     "data": {
      "text/plain": [
       "[]"
      ]
     },
     "execution_count": 62,
     "metadata": {},
     "output_type": "execute_result"
    }
   ],
   "source": [
    "r_id"
   ]
  },
  {
   "cell_type": "code",
   "execution_count": null,
   "metadata": {
    "id": "byApLmAZ7Fdd"
   },
   "outputs": [],
   "source": []
  }
 ],
 "metadata": {
  "colab": {
   "provenance": []
  },
  "kernelspec": {
   "display_name": "Python 3 (ipykernel)",
   "language": "python",
   "name": "python3"
  },
  "language_info": {
   "codemirror_mode": {
    "name": "ipython",
    "version": 3
   },
   "file_extension": ".py",
   "mimetype": "text/x-python",
   "name": "python",
   "nbconvert_exporter": "python",
   "pygments_lexer": "ipython3",
   "version": "3.11.2"
  }
 },
 "nbformat": 4,
 "nbformat_minor": 4
}
