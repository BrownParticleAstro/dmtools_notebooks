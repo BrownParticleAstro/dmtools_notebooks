{
 "cells": [
  {
   "cell_type": "code",
   "execution_count": 1,
   "metadata": {
    "colab": {
     "base_uri": "https://localhost:8080/"
    },
    "id": "tazOxHCuLShU",
    "outputId": "4d746a90-6725-4ec9-938d-2f506eb92ec8"
   },
   "outputs": [],
   "source": [
    "# if the library has been published to PyPi Test, the following will work\n",
    "# from colab\n",
    "# !pip install -i https://test.pypi.org/simple/ brown-edu-dmtools --upgrade\n",
    "\n"
   ]
  },
  {
   "cell_type": "code",
   "execution_count": 2,
   "metadata": {},
   "outputs": [],
   "source": [
    "# local testing\n",
    "# =================\n",
    "# installed python 3.12 onto ubuntu\n",
    "# sudo add-apt-repository ppa:deadsnakes/ppa\n",
    "# sudo apt update\n",
    "# sudo apt install python3.12\n",
    "# pipenv install --python 3.12\n",
    "# pipenv shell\n",
    "# pip install jupyter\n",
    "# pip install pandas\n",
    "\n",
    "# on revising the github library\n",
    "# git pull\n",
    "# enter username and password\n",
    "# pip uninstall brown-edu-dmtools\n",
    "# pip install -e ~/Documents/Code/Work/Brown_Working/dmtools_notebooks/brown_edu_dmtools\n",
    "\n",
    "# jupyter notebook"
   ]
  },
  {
   "cell_type": "code",
   "execution_count": 3,
   "metadata": {
    "id": "3_OnXHtgMMr_"
   },
   "outputs": [],
   "source": [
    "#from package_a.module_a import add_one\n",
    "#from package_b.module_b import add_two"
   ]
  },
  {
   "cell_type": "code",
   "execution_count": 5,
   "metadata": {
    "id": "znVgJOM7utbF"
   },
   "outputs": [],
   "source": [
    "from dmtools_client_package.dmtools_client_module import DMToolsClient"
   ]
  },
  {
   "cell_type": "code",
   "execution_count": 4,
   "metadata": {},
   "outputs": [],
   "source": [
    "## get api key and user id from local .env file\n",
    "from dotenv import load_dotenv\n",
    "import os\n",
    "from os import environ, path\n",
    "#BASE_DIR = path.abspath(path.dirname(__file__))\n",
    "BASE_DIR = os.getcwd()\n",
    "load_dotenv(path.join(BASE_DIR, \".env\"))\n",
    "MY_DMTOOLS_APIKEY = environ.get(\"MY_DMTOOLS_APIKEY\")\n",
    "MY_DMTOOLS_USERID = environ.get(\"MY_DMTOOLS_USERID\")\n",
    "Client = DMToolsClient(MY_DMTOOLS_USERID, MY_DMTOOLS_APIKEY)"
   ]
  },
  {
   "cell_type": "code",
   "execution_count": 9,
   "metadata": {},
   "outputs": [],
   "source": [
    "Client = DMToolsClient(MY_DMTOOLS_USERID, MY_DMTOOLS_APIKEY)"
   ]
  },
  {
   "cell_type": "code",
   "execution_count": 22,
   "metadata": {
    "colab": {
     "base_uri": "https://localhost:8080/"
    },
    "id": "MkVlEQBxWlmE",
    "outputId": "62dcd4a5-4b7a-4fb2-b3fb-7ea48066bd9e"
   },
   "outputs": [],
   "source": [
    "purpose = 'read_all'\n",
    "subject = 'plot'\n",
    "id = ''\n",
    "Client.create_current_url(purpose, subject, id)\n",
    "j = Client.read_current_as_df()"
   ]
  },
  {
   "cell_type": "code",
   "execution_count": 25,
   "metadata": {
    "colab": {
     "base_uri": "https://localhost:8080/"
    },
    "id": "bD8sJh7fXZlm",
    "outputId": "65228743-94aa-4ba3-a417-0b70346db2fe"
   },
   "outputs": [],
   "source": [
    "j = Client.read_current_as_df()"
   ]
  },
  {
   "cell_type": "code",
   "execution_count": 27,
   "metadata": {},
   "outputs": [
    {
     "data": {
      "text/html": [
       "<div>\n",
       "<style scoped>\n",
       "    .dataframe tbody tr th:only-of-type {\n",
       "        vertical-align: middle;\n",
       "    }\n",
       "\n",
       "    .dataframe tbody tr th {\n",
       "        vertical-align: top;\n",
       "    }\n",
       "\n",
       "    .dataframe thead th {\n",
       "        text-align: right;\n",
       "    }\n",
       "</style>\n",
       "<table border=\"1\" class=\"dataframe\">\n",
       "  <thead>\n",
       "    <tr style=\"text-align: right;\">\n",
       "      <th></th>\n",
       "      <th>x_min</th>\n",
       "      <th>plot_eps</th>\n",
       "      <th>x_units</th>\n",
       "      <th>y_units</th>\n",
       "      <th>legend_eps</th>\n",
       "      <th>old_id</th>\n",
       "      <th>user_id</th>\n",
       "      <th>no_id</th>\n",
       "      <th>subject</th>\n",
       "      <th>created_at</th>\n",
       "      <th>...</th>\n",
       "      <th>old_user_id</th>\n",
       "      <th>y_min</th>\n",
       "      <th>archived_at</th>\n",
       "      <th>name</th>\n",
       "      <th>x_max</th>\n",
       "      <th>plot_png</th>\n",
       "      <th>id</th>\n",
       "      <th>y_max</th>\n",
       "      <th>legend_png</th>\n",
       "      <th>row_id</th>\n",
       "    </tr>\n",
       "  </thead>\n",
       "  <tbody>\n",
       "    <tr>\n",
       "      <th>0</th>\n",
       "      <td>1.000000e+01</td>\n",
       "      <td>None</td>\n",
       "      <td>GeV/c^2</td>\n",
       "      <td>cm2</td>\n",
       "      <td>None</td>\n",
       "      <td>53</td>\n",
       "      <td>None</td>\n",
       "      <td>0</td>\n",
       "      <td>plot</td>\n",
       "      <td>2009-10-14 07:48:53</td>\n",
       "      <td>...</td>\n",
       "      <td>None</td>\n",
       "      <td>-4.400000e+01</td>\n",
       "      <td>1980-01-01 00:00:00</td>\n",
       "      <td>XENON10_for_thesis</td>\n",
       "      <td>1.000000e+03</td>\n",
       "      <td>None</td>\n",
       "      <td>20</td>\n",
       "      <td>-4.000000e+01</td>\n",
       "      <td>None</td>\n",
       "      <td>0</td>\n",
       "    </tr>\n",
       "    <tr>\n",
       "      <th>1</th>\n",
       "      <td>1.000000e+01</td>\n",
       "      <td>None</td>\n",
       "      <td>GeV/c^2</td>\n",
       "      <td>cm2</td>\n",
       "      <td>None</td>\n",
       "      <td>66</td>\n",
       "      <td>None</td>\n",
       "      <td>0</td>\n",
       "      <td>plot</td>\n",
       "      <td>2009-11-19 14:22:11</td>\n",
       "      <td>...</td>\n",
       "      <td>None</td>\n",
       "      <td>-4.800000e+01</td>\n",
       "      <td>1980-01-01 00:00:00</td>\n",
       "      <td>XENON10_LUX_compare</td>\n",
       "      <td>1.000000e+04</td>\n",
       "      <td>None</td>\n",
       "      <td>26</td>\n",
       "      <td>-4.000000e+01</td>\n",
       "      <td>None</td>\n",
       "      <td>1</td>\n",
       "    </tr>\n",
       "    <tr>\n",
       "      <th>2</th>\n",
       "      <td>1.000000e+00</td>\n",
       "      <td>None</td>\n",
       "      <td>GeV/c^2</td>\n",
       "      <td>cm2</td>\n",
       "      <td>None</td>\n",
       "      <td>73</td>\n",
       "      <td>None</td>\n",
       "      <td>0</td>\n",
       "      <td>plot</td>\n",
       "      <td>2009-11-23 21:12:03</td>\n",
       "      <td>...</td>\n",
       "      <td>None</td>\n",
       "      <td>-4.800000e+01</td>\n",
       "      <td>1980-01-01 00:00:00</td>\n",
       "      <td>XENON10_LUX_ZEPLINIII</td>\n",
       "      <td>1.000000e+04</td>\n",
       "      <td>None</td>\n",
       "      <td>33</td>\n",
       "      <td>-3.200000e+01</td>\n",
       "      <td>None</td>\n",
       "      <td>2</td>\n",
       "    </tr>\n",
       "    <tr>\n",
       "      <th>3</th>\n",
       "      <td>1.000000e+00</td>\n",
       "      <td>None</td>\n",
       "      <td>GeV/c^2</td>\n",
       "      <td>cm2</td>\n",
       "      <td>None</td>\n",
       "      <td>107</td>\n",
       "      <td>None</td>\n",
       "      <td>0</td>\n",
       "      <td>plot</td>\n",
       "      <td>2010-01-04 18:59:18</td>\n",
       "      <td>...</td>\n",
       "      <td>None</td>\n",
       "      <td>-5.000000e+01</td>\n",
       "      <td>1980-01-01 00:00:00</td>\n",
       "      <td>CDMS_new_results</td>\n",
       "      <td>1.000000e+04</td>\n",
       "      <td>None</td>\n",
       "      <td>54</td>\n",
       "      <td>-3.600000e+01</td>\n",
       "      <td>None</td>\n",
       "      <td>3</td>\n",
       "    </tr>\n",
       "    <tr>\n",
       "      <th>4</th>\n",
       "      <td>1.000000e+00</td>\n",
       "      <td>None</td>\n",
       "      <td>GeV/c^2</td>\n",
       "      <td>cm2</td>\n",
       "      <td>None</td>\n",
       "      <td>148</td>\n",
       "      <td>None</td>\n",
       "      <td>1</td>\n",
       "      <td>plot</td>\n",
       "      <td>2010-02-05 00:29:07</td>\n",
       "      <td>...</td>\n",
       "      <td>None</td>\n",
       "      <td>-4.400000e+01</td>\n",
       "      <td>1980-01-01 00:00:00</td>\n",
       "      <td>CoGeNT_plus_Xenon_100_New</td>\n",
       "      <td>1.000000e+03</td>\n",
       "      <td>None</td>\n",
       "      <td>74</td>\n",
       "      <td>-3.800000e+01</td>\n",
       "      <td>None</td>\n",
       "      <td>4</td>\n",
       "    </tr>\n",
       "  </tbody>\n",
       "</table>\n",
       "<p>5 rows × 23 columns</p>\n",
       "</div>"
      ],
      "text/plain": [
       "          x_min plot_eps  x_units y_units legend_eps old_id user_id no_id  \\\n",
       "0  1.000000e+01     None  GeV/c^2     cm2       None     53    None     0   \n",
       "1  1.000000e+01     None  GeV/c^2     cm2       None     66    None     0   \n",
       "2  1.000000e+00     None  GeV/c^2     cm2       None     73    None     0   \n",
       "3  1.000000e+00     None  GeV/c^2     cm2       None    107    None     0   \n",
       "4  1.000000e+00     None  GeV/c^2     cm2       None    148    None     1   \n",
       "\n",
       "  subject           created_at  ... old_user_id          y_min  \\\n",
       "0    plot  2009-10-14 07:48:53  ...        None  -4.400000e+01   \n",
       "1    plot  2009-11-19 14:22:11  ...        None  -4.800000e+01   \n",
       "2    plot  2009-11-23 21:12:03  ...        None  -4.800000e+01   \n",
       "3    plot  2010-01-04 18:59:18  ...        None  -5.000000e+01   \n",
       "4    plot  2010-02-05 00:29:07  ...        None  -4.400000e+01   \n",
       "\n",
       "           archived_at                       name         x_max plot_png  id  \\\n",
       "0  1980-01-01 00:00:00         XENON10_for_thesis  1.000000e+03     None  20   \n",
       "1  1980-01-01 00:00:00        XENON10_LUX_compare  1.000000e+04     None  26   \n",
       "2  1980-01-01 00:00:00      XENON10_LUX_ZEPLINIII  1.000000e+04     None  33   \n",
       "3  1980-01-01 00:00:00           CDMS_new_results  1.000000e+04     None  54   \n",
       "4  1980-01-01 00:00:00  CoGeNT_plus_Xenon_100_New  1.000000e+03     None  74   \n",
       "\n",
       "           y_max legend_png row_id  \n",
       "0  -4.000000e+01       None      0  \n",
       "1  -4.000000e+01       None      1  \n",
       "2  -3.200000e+01       None      2  \n",
       "3  -3.600000e+01       None      3  \n",
       "4  -3.800000e+01       None      4  \n",
       "\n",
       "[5 rows x 23 columns]"
      ]
     },
     "execution_count": 27,
     "metadata": {},
     "output_type": "execute_result"
    }
   ],
   "source": [
    "j.head(5)"
   ]
  },
  {
   "cell_type": "code",
   "execution_count": null,
   "metadata": {},
   "outputs": [],
   "source": [
    "#dmtool_userid = '1'\n",
    "#dmtool_apikey = '20CA2CF4_3DE3_11EF_98A4_D60CFA69E605'"
   ]
  },
  {
   "cell_type": "code",
   "execution_count": null,
   "metadata": {
    "id": "2Lj8bISGXc_9"
   },
   "outputs": [],
   "source": [
    "#MyAPIServer = APIServer(dmtool_userid,dmtool_apikey)"
   ]
  },
  {
   "cell_type": "code",
   "execution_count": null,
   "metadata": {
    "id": "qzYmzN_WxFuI"
   },
   "outputs": [],
   "source": [
    "#from dmtools_api_package.dmtools_api_module import DataExamples"
   ]
  },
  {
   "cell_type": "code",
   "execution_count": null,
   "metadata": {},
   "outputs": [],
   "source": [
    "#de = DataExamples()"
   ]
  },
  {
   "cell_type": "code",
   "execution_count": null,
   "metadata": {},
   "outputs": [],
   "source": [
    "#de.data_json"
   ]
  },
  {
   "cell_type": "code",
   "execution_count": null,
   "metadata": {},
   "outputs": [],
   "source": [
    "#MyAPIServer.read_and_return_a_data(1)"
   ]
  },
  {
   "cell_type": "code",
   "execution_count": null,
   "metadata": {},
   "outputs": [],
   "source": [
    "#MyAPIServer.read_a_data_df"
   ]
  },
  {
   "cell_type": "code",
   "execution_count": null,
   "metadata": {},
   "outputs": [],
   "source": []
  }
 ],
 "metadata": {
  "colab": {
   "provenance": []
  },
  "kernelspec": {
   "display_name": "Python 3 (ipykernel)",
   "language": "python",
   "name": "python3"
  },
  "language_info": {
   "codemirror_mode": {
    "name": "ipython",
    "version": 3
   },
   "file_extension": ".py",
   "mimetype": "text/x-python",
   "name": "python",
   "nbconvert_exporter": "python",
   "pygments_lexer": "ipython3",
   "version": "3.12.4"
  }
 },
 "nbformat": 4,
 "nbformat_minor": 4
}
