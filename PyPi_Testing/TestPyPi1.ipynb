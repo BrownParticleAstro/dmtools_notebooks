{
 "cells": [
  {
   "cell_type": "code",
   "execution_count": 1,
   "metadata": {
    "colab": {
     "base_uri": "https://localhost:8080/"
    },
    "id": "tazOxHCuLShU",
    "outputId": "4d746a90-6725-4ec9-938d-2f506eb92ec8"
   },
   "outputs": [],
   "source": [
    "# from colab\n",
    "# !pip install -i https://test.pypi.org/simple/ brown-edu-dmtools --upgrade\n",
    "\n",
    "# local testing\n",
    "# =================\n",
    "# installed python 3.12 onto ubuntu\n",
    "# sudo add-apt-repository ppa:deadsnakes/ppa\n",
    "# sudo apt update\n",
    "# sudo apt install python3.12\n",
    "# pipenv install --python 3.12\n",
    "# pipenv shell\n",
    "# pip install jupyter\n",
    "# pip install pandas\n",
    "# pip install -e /tmp/demo-package\n",
    "# jupyter notebook"
   ]
  },
  {
   "cell_type": "code",
   "execution_count": 2,
   "metadata": {},
   "outputs": [],
   "source": [
    "# on revising the github library\n",
    "# git pull\n",
    "# enter username and password\n",
    "# pip uninstall brown-edu-dmtools\n",
    "# pip install -e ~/Documents/Code/Work/Brown_Working/dmtools/basecode/publish_library/brown_edu_dmtools"
   ]
  },
  {
   "cell_type": "code",
   "execution_count": 3,
   "metadata": {
    "id": "3_OnXHtgMMr_"
   },
   "outputs": [],
   "source": [
    "from package_a.module_a import add_one\n",
    "from package_b.module_b import add_two"
   ]
  },
  {
   "cell_type": "code",
   "execution_count": 4,
   "metadata": {
    "id": "znVgJOM7utbF"
   },
   "outputs": [],
   "source": [
    "from dmtools_api_package.dmtools_api_module import APIServer"
   ]
  },
  {
   "cell_type": "code",
   "execution_count": 5,
   "metadata": {
    "colab": {
     "base_uri": "https://localhost:8080/"
    },
    "id": "MkVlEQBxWlmE",
    "outputId": "62dcd4a5-4b7a-4fb2-b3fb-7ea48066bd9e"
   },
   "outputs": [
    {
     "data": {
      "text/plain": [
       "2"
      ]
     },
     "execution_count": 5,
     "metadata": {},
     "output_type": "execute_result"
    }
   ],
   "source": [
    "add_one(1)"
   ]
  },
  {
   "cell_type": "code",
   "execution_count": 6,
   "metadata": {
    "colab": {
     "base_uri": "https://localhost:8080/"
    },
    "id": "bD8sJh7fXZlm",
    "outputId": "65228743-94aa-4ba3-a417-0b70346db2fe"
   },
   "outputs": [
    {
     "data": {
      "text/plain": [
       "4"
      ]
     },
     "execution_count": 6,
     "metadata": {},
     "output_type": "execute_result"
    }
   ],
   "source": [
    "add_two(2)"
   ]
  },
  {
   "cell_type": "code",
   "execution_count": 7,
   "metadata": {},
   "outputs": [],
   "source": [
    "dmtool_userid = '1'\n",
    "dmtool_apikey = '20CA2CF4_3DE3_11EF_98A4_D60CFA69E605'"
   ]
  },
  {
   "cell_type": "code",
   "execution_count": 8,
   "metadata": {
    "id": "2Lj8bISGXc_9"
   },
   "outputs": [],
   "source": [
    "MyAPIServer = APIServer(dmtool_userid,dmtool_apikey)"
   ]
  },
  {
   "cell_type": "code",
   "execution_count": 9,
   "metadata": {
    "id": "qzYmzN_WxFuI"
   },
   "outputs": [],
   "source": [
    "from dmtools_api_package.dmtools_api_module import DataExamples"
   ]
  },
  {
   "cell_type": "code",
   "execution_count": 10,
   "metadata": {},
   "outputs": [],
   "source": [
    "de = DataExamples()"
   ]
  },
  {
   "cell_type": "code",
   "execution_count": 11,
   "metadata": {},
   "outputs": [],
   "source": [
    "#de.data_json"
   ]
  },
  {
   "cell_type": "code",
   "execution_count": 12,
   "metadata": {},
   "outputs": [],
   "source": [
    "MyAPIServer.read_and_return_a_data(1)"
   ]
  },
  {
   "cell_type": "code",
   "execution_count": 13,
   "metadata": {},
   "outputs": [
    {
     "data": {
      "text/html": [
       "<div>\n",
       "<style scoped>\n",
       "    .dataframe tbody tr th:only-of-type {\n",
       "        vertical-align: middle;\n",
       "    }\n",
       "\n",
       "    .dataframe tbody tr th {\n",
       "        vertical-align: top;\n",
       "    }\n",
       "\n",
       "    .dataframe thead th {\n",
       "        text-align: right;\n",
       "    }\n",
       "</style>\n",
       "<table border=\"1\" class=\"dataframe\">\n",
       "  <thead>\n",
       "    <tr style=\"text-align: right;\">\n",
       "      <th></th>\n",
       "      <th>id</th>\n",
       "      <th>subject</th>\n",
       "      <th>spin_dependency</th>\n",
       "      <th>result_type</th>\n",
       "      <th>measurement_type</th>\n",
       "      <th>x_units</th>\n",
       "      <th>y_units</th>\n",
       "      <th>x_rescale</th>\n",
       "      <th>y_rescale</th>\n",
       "      <th>default_color</th>\n",
       "      <th>...</th>\n",
       "      <th>date_of_announcement</th>\n",
       "      <th>public</th>\n",
       "      <th>open</th>\n",
       "      <th>official</th>\n",
       "      <th>date_official</th>\n",
       "      <th>greatest_hit</th>\n",
       "      <th>date_of_run_start</th>\n",
       "      <th>date_of_run_end</th>\n",
       "      <th>year</th>\n",
       "      <th>row_id</th>\n",
       "    </tr>\n",
       "  </thead>\n",
       "  <tbody>\n",
       "    <tr>\n",
       "      <th>0</th>\n",
       "      <td>1</td>\n",
       "      <td>data</td>\n",
       "      <td>SI</td>\n",
       "      <td>Th</td>\n",
       "      <td>Dir</td>\n",
       "      <td>GeV</td>\n",
       "      <td>cm^2</td>\n",
       "      <td></td>\n",
       "      <td></td>\n",
       "      <td>LtR</td>\n",
       "      <td>...</td>\n",
       "      <td>2003-01-01</td>\n",
       "      <td>1</td>\n",
       "      <td>None</td>\n",
       "      <td>1</td>\n",
       "      <td>None</td>\n",
       "      <td>0</td>\n",
       "      <td>None</td>\n",
       "      <td>None</td>\n",
       "      <td>2003</td>\n",
       "      <td>0</td>\n",
       "    </tr>\n",
       "  </tbody>\n",
       "</table>\n",
       "<p>1 rows × 30 columns</p>\n",
       "</div>"
      ],
      "text/plain": [
       "   id subject spin_dependency result_type measurement_type x_units y_units  \\\n",
       "0   1    data              SI          Th              Dir     GeV    cm^2   \n",
       "\n",
       "  x_rescale y_rescale default_color  ... date_of_announcement public  open  \\\n",
       "0                               LtR  ...           2003-01-01      1  None   \n",
       "\n",
       "  official date_official greatest_hit date_of_run_start date_of_run_end  year  \\\n",
       "0        1          None            0              None            None  2003   \n",
       "\n",
       "   row_id  \n",
       "0       0  \n",
       "\n",
       "[1 rows x 30 columns]"
      ]
     },
     "execution_count": 13,
     "metadata": {},
     "output_type": "execute_result"
    }
   ],
   "source": [
    "MyAPIServer.read_a_data_df"
   ]
  },
  {
   "cell_type": "code",
   "execution_count": null,
   "metadata": {},
   "outputs": [],
   "source": []
  }
 ],
 "metadata": {
  "colab": {
   "provenance": []
  },
  "kernelspec": {
   "display_name": "Python 3 (ipykernel)",
   "language": "python",
   "name": "python3"
  },
  "language_info": {
   "codemirror_mode": {
    "name": "ipython",
    "version": 3
   },
   "file_extension": ".py",
   "mimetype": "text/x-python",
   "name": "python",
   "nbconvert_exporter": "python",
   "pygments_lexer": "ipython3",
   "version": "3.12.4"
  }
 },
 "nbformat": 4,
 "nbformat_minor": 4
}
