{
 "cells": [
  {
   "cell_type": "code",
   "execution_count": null,
   "metadata": {
    "colab": {
     "base_uri": "https://localhost:8080/"
    },
    "id": "tazOxHCuLShU",
    "outputId": "4d746a90-6725-4ec9-938d-2f506eb92ec8"
   },
   "outputs": [],
   "source": [
    "# if the library has been published to PyPi Test, the following will work\n",
    "# from colab\n",
    "# !pip install -i https://test.pypi.org/simple/ dmtools-brown-edu --upgrade"
   ]
  },
  {
   "cell_type": "code",
   "execution_count": null,
   "metadata": {},
   "outputs": [],
   "source": [
    "# local testing\n",
    "# =================\n",
    "# installed python 3.12 onto ubuntu\n",
    "# sudo add-apt-repository ppa:deadsnakes/ppa\n",
    "# sudo apt update\n",
    "\n",
    "# created venv based on 3.12 install\n",
    "\n",
    "# on revising the github library\n",
    "# git pull\n",
    "# enter username and password"
   ]
  },
  {
   "cell_type": "code",
   "execution_count": null,
   "metadata": {},
   "outputs": [],
   "source": [
    "# installed pipx globally\n",
    "#    sudo apt install pipx\n",
    "\n",
    "# installed poetry globally"
   ]
  },
  {
   "cell_type": "code",
   "execution_count": null,
   "metadata": {},
   "outputs": [],
   "source": [
    "# cd ~/Code/dmtools/basecode/publish/dmtools_brown_edu\n",
    "# poetry build\n",
    "# pip uninstall dmtools-brown-edu\n",
    "# pip install /home/andrew1tb/Code/dmtools/basecode/publish/dmtools_brown_edu/dist/dmtools_brown_edu-0.0.1-py3-none-any.whl"
   ]
  },
  {
   "cell_type": "code",
   "execution_count": null,
   "metadata": {
    "id": "znVgJOM7utbF"
   },
   "outputs": [],
   "source": [
    "from dmtools_brown_edu.dmtools_client_package.dmtools_quart import APIClient"
   ]
  },
  {
   "cell_type": "code",
   "execution_count": null,
   "metadata": {},
   "outputs": [],
   "source": [
    "## get api key and user id from local .env file\n",
    "from dotenv import load_dotenv\n",
    "import os\n",
    "from os import environ, path\n",
    "#BASE_DIR = path.abspath(path.dirname(__file__))\n",
    "BASE_DIR = os.getcwd()\n",
    "load_dotenv(path.join(BASE_DIR, \".env\"))"
   ]
  },
  {
   "cell_type": "code",
   "execution_count": null,
   "metadata": {},
   "outputs": [],
   "source": [
    "# .env file containing\n",
    "# APIKEY=AXXXXXXXXXXXXXXXXXXXXXXX\n",
    "# EMAIL=andrew_gaitskell@brown.edu"
   ]
  },
  {
   "cell_type": "code",
   "execution_count": null,
   "metadata": {},
   "outputs": [],
   "source": [
    "id_in = 15746\n",
    "node_type = 'Data'\n",
    "email = os.getenv(\"EMAIL\")\n",
    "api_key = os.getenv(\"APIKEY\")"
   ]
  },
  {
   "cell_type": "code",
   "execution_count": null,
   "metadata": {},
   "outputs": [],
   "source": [
    "Client = APIClient(email, api_key)"
   ]
  },
  {
   "cell_type": "code",
   "execution_count": null,
   "metadata": {
    "colab": {
     "base_uri": "https://localhost:8080/"
    },
    "id": "MkVlEQBxWlmE",
    "outputId": "62dcd4a5-4b7a-4fb2-b3fb-7ea48066bd9e"
   },
   "outputs": [],
   "source": [
    "r = Client.read(query='CDMS')"
   ]
  },
  {
   "cell_type": "code",
   "execution_count": null,
   "metadata": {},
   "outputs": [],
   "source": [
    "r[0]"
   ]
  },
  {
   "cell_type": "code",
   "execution_count": null,
   "metadata": {},
   "outputs": [],
   "source": [
    "r_id = Client.read(id=15)"
   ]
  },
  {
   "cell_type": "code",
   "execution_count": null,
   "metadata": {},
   "outputs": [],
   "source": [
    "r_id"
   ]
  },
  {
   "cell_type": "code",
   "execution_count": null,
   "metadata": {},
   "outputs": [],
   "source": []
  }
 ],
 "metadata": {
  "colab": {
   "provenance": []
  },
  "kernelspec": {
   "display_name": "Python 3 (ipykernel)",
   "language": "python",
   "name": "python3"
  },
  "language_info": {
   "codemirror_mode": {
    "name": "ipython",
    "version": 3
   },
   "file_extension": ".py",
   "mimetype": "text/x-python",
   "name": "python",
   "nbconvert_exporter": "python",
   "pygments_lexer": "ipython3",
   "version": "3.12.7"
  }
 },
 "nbformat": 4,
 "nbformat_minor": 4
}
