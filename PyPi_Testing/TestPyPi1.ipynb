{
 "cells": [
  {
   "cell_type": "code",
   "execution_count": 1,
   "metadata": {
    "colab": {
     "base_uri": "https://localhost:8080/"
    },
    "id": "tazOxHCuLShU",
    "outputId": "4d746a90-6725-4ec9-938d-2f506eb92ec8"
   },
   "outputs": [],
   "source": [
    "# if the library has been published to PyPi Test, the following will work\n",
    "# from colab\n",
    "# !pip install -i https://test.pypi.org/simple/ brown-edu-dmtools --upgrade"
   ]
  },
  {
   "cell_type": "code",
   "execution_count": 2,
   "metadata": {},
   "outputs": [],
   "source": [
    "# cd ~/Code/dmtools/basecode/publish_library/brown_edu_dmtools\n",
    "# poetry build\n",
    "# pip uninstall brown-edu-dmtools\n",
    "# pip install ~/Code/dmtools/basecode/publish_library/brown_edu_dmtools/dist/brown_edu_dmtools-0.1.5-py3-none-any.whl"
   ]
  },
  {
   "cell_type": "code",
   "execution_count": 1,
   "metadata": {},
   "outputs": [],
   "source": [
    "# local testing\n",
    "# =================\n",
    "# installed python 3.12 onto ubuntu\n",
    "# sudo add-apt-repository ppa:deadsnakes/ppa\n",
    "# sudo apt update\n",
    "# sudo apt install python3.12\n",
    "# pipenv install --python 3.12\n",
    "# pipenv shell\n",
    "# pip install jupyter\n",
    "# pip install pandas\n",
    "\n",
    "# on revising the github library\n",
    "# git pull\n",
    "# enter username and password\n",
    "# pip uninstall brown-edu-dmtools\n",
    "# pip install -e ~/Documents/Code/Work/Brown_Working/dmtools_notebooks/brown_edu_dmtools\n",
    "\n",
    "# jupyter notebook"
   ]
  },
  {
   "cell_type": "code",
   "execution_count": 2,
   "metadata": {
    "id": "3_OnXHtgMMr_"
   },
   "outputs": [],
   "source": [
    "#from package_a.module_a import add_one\n",
    "#from package_b.module_b import add_two"
   ]
  },
  {
   "cell_type": "code",
   "execution_count": 3,
   "metadata": {
    "id": "znVgJOM7utbF"
   },
   "outputs": [],
   "source": [
    "    from brown_edu_dmtools.dmtools_client_package.dmtools_client_module import DMToolsClient"
   ]
  },
  {
   "cell_type": "code",
   "execution_count": 4,
   "metadata": {},
   "outputs": [],
   "source": [
    "## get api key and user id from local .env file\n",
    "from dotenv import load_dotenv\n",
    "import os\n",
    "from os import environ, path\n",
    "#BASE_DIR = path.abspath(path.dirname(__file__))\n",
    "BASE_DIR = os.getcwd()\n",
    "load_dotenv(path.join(BASE_DIR, \".env\"))\n",
    "MY_DMTOOLS_APIKEY = environ.get(\"MY_DMTOOLS_APIKEY\")\n",
    "MY_DMTOOLS_USERID = environ.get(\"MY_DMTOOLS_USERID\")\n",
    "Client = DMToolsClient(MY_DMTOOLS_USERID, MY_DMTOOLS_APIKEY)"
   ]
  },
  {
   "cell_type": "code",
   "execution_count": 5,
   "metadata": {},
   "outputs": [],
   "source": [
    "Client = DMToolsClient(MY_DMTOOLS_USERID, MY_DMTOOLS_APIKEY)"
   ]
  },
  {
   "cell_type": "code",
   "execution_count": 8,
   "metadata": {
    "colab": {
     "base_uri": "https://localhost:8080/"
    },
    "id": "MkVlEQBxWlmE",
    "outputId": "62dcd4a5-4b7a-4fb2-b3fb-7ea48066bd9e"
   },
   "outputs": [],
   "source": [
    "#purpose = 'read_all'\n",
    "#subject = 'plot'\n",
    "#id = ''\n",
    "r = Client.read(subject='plot')"
   ]
  },
  {
   "cell_type": "code",
   "execution_count": null,
   "metadata": {},
   "outputs": [],
   "source": [
    "new_plot = {\n",
    "    'subject': 'plot',\n",
    " 'name': 'Plot of DataID : ' + str(new_data_id),\n",
    " 'open': 1}"
   ]
  },
  {
   "cell_type": "code",
   "execution_count": null,
   "metadata": {},
   "outputs": [],
   "source": [
    "r = Client.create(subject='plot',data=new_plot)\n",
    "#a_data_json_obj = Client.update_current(1,update_data_json,'')\n",
    "#\n",
    "r"
   ]
  }
 ],
 "metadata": {
  "colab": {
   "provenance": []
  },
  "kernelspec": {
   "display_name": "Python 3 (ipykernel)",
   "language": "python",
   "name": "python3"
  },
  "language_info": {
   "codemirror_mode": {
    "name": "ipython",
    "version": 3
   },
   "file_extension": ".py",
   "mimetype": "text/x-python",
   "name": "python",
   "nbconvert_exporter": "python",
   "pygments_lexer": "ipython3",
   "version": "3.12.4"
  }
 },
 "nbformat": 4,
 "nbformat_minor": 4
}
