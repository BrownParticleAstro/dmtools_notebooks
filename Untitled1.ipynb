{
 "cells": [
  {
   "cell_type": "code",
   "execution_count": null,
   "id": "95dd9457-93c0-43c2-b6ba-f1de77bffaaf",
   "metadata": {},
   "outputs": [],
   "source": [
    "import ssl\n",
    "import urllib\n",
    "context = ssl._create_unverified_context()\n",
    "from urllib.request import Request, urlopen\n",
    "import json\n",
    "from io import StringIO\n",
    "import pandas as pd\n",
    "import ast"
   ]
  },
  {
   "cell_type": "code",
   "execution_count": null,
   "id": "fcae9e31-5f92-46c3-903e-a39f24017496",
   "metadata": {},
   "outputs": [],
   "source": [
    "from itertools import cycle\n",
    "import plotly.graph_objs as go\n",
    "from plotly.subplots import make_subplots"
   ]
  },
  {
   "cell_type": "code",
   "execution_count": null,
   "id": "a23d191e-3693-4d54-9da4-12a18e96d792",
   "metadata": {},
   "outputs": [],
   "source": [
    "import datetime"
   ]
  },
  {
   "cell_type": "code",
   "execution_count": null,
   "id": "d2c0a4f5-189a-42f8-a46b-b0dd40acfd23",
   "metadata": {},
   "outputs": [],
   "source": [
    "from brown_edu_dmtools.dmtools_client_package.dmtools_client_module import DMToolsClient\n",
    "from brown_edu_dmtools.dmtools_client_package.dmtools_client_module import DMToolTestData\n",
    "from brown_edu_dmtools.dmtools_client_package.dmtools_client_module import PlotTrace"
   ]
  },
  {
   "cell_type": "code",
   "execution_count": null,
   "id": "952090c1-3755-4e6b-b8a2-aa8eee57b59c",
   "metadata": {},
   "outputs": [],
   "source": []
  },
  {
   "cell_type": "code",
   "execution_count": null,
   "id": "50af551d-ccda-4d08-8337-4f4716270bc2",
   "metadata": {},
   "outputs": [],
   "source": [
    "datasets = self.read_by_plot_id(subject='data_display',id=plot_id_in)\n",
    "        # Set the desired height of the font in inches\n",
    "        #px = 1/plt.rcParams['figure.dpi']  # pixel in inches\n",
    "        #px = 1/300\n",
    "        px = 1/100\n",
    "        \n",
    "        if width_in < 200:\n",
    "            scaling_factor = 0.6\n",
    "        else:\n",
    "            scaling_factor = 1\n",
    "\n",
    "        label_size = 12 * scaling_factor\n",
    "        \n",
    "        plt.figure(figsize=(width_in*px, height_in*px))\n",
    "        plt.tick_params(axis='both', labelsize=label_size)\n",
    "        for d in datasets:\n",
    "            data_id = d['data_id']\n",
    "            trace_data = self.read(id=data_id)\n",
    "            try:\n",
    "                y_rescale = float(trace_data[0]['y_rescale'])\n",
    "            except:\n",
    "                y_rescale = 1\n",
    "            try:\n",
    "                x_rescale = float(trace_data[0]['x_rescale'])\n",
    "            except:\n",
    "                x_rescale = 1\n",
    "            trace_name = trace_data[0]['data_label']\n",
    "            string_data = trace_data[0]['data']\n",
    "            style = d['style']\n",
    "            color = d['color']\n",
    "            pt = PlotTrace()\n",
    "            pt.set_values(color, style)\n",
    "            clean_color = pt.clean_the_color_in(color)\n",
    "            list_data = ast.literal_eval(string_data)\n",
    "            trace_count = len(list_data)\n",
    "            trace_names_int = list(range(0,trace_count))\n",
    "            trace_names_int\n",
    "            trace_names = []\n",
    "            for t in trace_names_int:\n",
    "                trace_names.append(str(t))\n",
    "                x = [item[0] for item in list_data[t]]\n",
    "                y = [item[1] for item in list_data[t]]\n",
    "                cross_sections =  [float(yi) * y_rescale for yi in y]\n",
    "                masses =  [float(xi) * x_rescale for xi in x]\n",
    "                \n",
    "                if pt.fill != 'toself':\n",
    "                    plt.plot(masses, cross_sections,color=clean_color, label=trace_name)\n",
    "                else:\n",
    "                    plt.fill_between(masses, cross_sections, color=clean_color, alpha=0.3, label=trace_name)\n",
    "        \n",
    "        # Add labels and title\n",
    "        # plt.xlabel('Masses')\n",
    "        # plt.ylabel('Cross Sections')\n",
    "        \n",
    "        plt.xscale('log')\n",
    "        plt.yscale('log')"
   ]
  }
 ],
 "metadata": {
  "kernelspec": {
   "display_name": "Python 3 (ipykernel)",
   "language": "python",
   "name": "python3"
  },
  "language_info": {
   "codemirror_mode": {
    "name": "ipython",
    "version": 3
   },
   "file_extension": ".py",
   "mimetype": "text/x-python",
   "name": "python",
   "nbconvert_exporter": "python",
   "pygments_lexer": "ipython3",
   "version": "3.12.4"
  }
 },
 "nbformat": 4,
 "nbformat_minor": 5
}
