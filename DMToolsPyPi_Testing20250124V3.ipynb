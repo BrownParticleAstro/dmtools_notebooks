{
  "cells": [
    {
      "cell_type": "markdown",
      "metadata": {
        "id": "view-in-github",
        "colab_type": "text"
      },
      "source": [
        "<a href=\"https://colab.research.google.com/github/BrownParticleAstro/dmtools_notebooks/blob/main/DMToolsPyPi_Testing20250124V3.ipynb\" target=\"_parent\"><img src=\"https://colab.research.google.com/assets/colab-badge.svg\" alt=\"Open In Colab\"/></a>"
      ]
    },
    {
      "cell_type": "markdown",
      "source": [
        "DMTOOLS External API Test and Demo - 24 January 2025"
      ],
      "metadata": {
        "id": "43XkbM2bAvFW"
      }
    },
    {
      "cell_type": "markdown",
      "source": [
        "Notebook to test library that has been published tp pypi test"
      ],
      "metadata": {
        "id": "tsWJeSyP72Po"
      }
    },
    {
      "cell_type": "code",
      "execution_count": null,
      "metadata": {
        "id": "tazOxHCuLShU"
      },
      "outputs": [],
      "source": [
        "## need to disconnect and delete the runtime and rerun the notebook to reinstall this properly\n",
        "## check that it says it has sucessfully installed\n",
        "!pip install -i https://test.pypi.org/simple/ dmtools-brown-edu --upgrade"
      ]
    },
    {
      "cell_type": "code",
      "source": [
        "import json"
      ],
      "metadata": {
        "id": "tjbP2Py-U7GK"
      },
      "execution_count": null,
      "outputs": []
    },
    {
      "cell_type": "code",
      "execution_count": null,
      "metadata": {
        "id": "znVgJOM7utbF"
      },
      "outputs": [],
      "source": [
        "from dmtools_brown_edu.dmtools_client_package.dmtools_quart import APIClient"
      ]
    },
    {
      "cell_type": "code",
      "source": [
        "## You need to enter your email address into the colab secrets\n",
        "## see key in left hand bar\n",
        "## The library cleans the email address provided\n",
        "## First time you run this you need to give permission to the notebook to access each of the secrets\n",
        "from google.colab import userdata\n",
        "email = userdata.get('DMTOOLS_EMAIL')\n",
        "print(email)"
      ],
      "metadata": {
        "id": "P3_gbG1Q8tqi"
      },
      "execution_count": null,
      "outputs": []
    },
    {
      "cell_type": "code",
      "execution_count": null,
      "metadata": {
        "id": "syT-3itf7r3F"
      },
      "outputs": [],
      "source": [
        "api_key = userdata.get('DMTOOLS_APIKEY')"
      ]
    },
    {
      "cell_type": "code",
      "source": [],
      "metadata": {
        "id": "kgmpl3lRFzA4"
      },
      "execution_count": null,
      "outputs": []
    },
    {
      "cell_type": "markdown",
      "source": [
        "Create the API Client - this connects to the server and allows simpler interactions.\n",
        "\n",
        "For less verbose calling, you can set suppress_logs=True"
      ],
      "metadata": {
        "id": "VwRD33atF0Zw"
      }
    },
    {
      "cell_type": "code",
      "execution_count": null,
      "metadata": {
        "id": "prj69n4m7r3H"
      },
      "outputs": [],
      "source": [
        "Client = APIClient(email, api_key, suppress_logs=False)"
      ]
    },
    {
      "cell_type": "markdown",
      "source": [
        "Query using key pair - full match on word\n",
        "Requirement was to exact word match for the key value pair\n",
        "\n",
        "Example match to CDMS but not to CDMSSuper"
      ],
      "metadata": {
        "id": "2vy0RVAFEQKG"
      }
    },
    {
      "cell_type": "code",
      "execution_count": null,
      "metadata": {
        "id": "MkVlEQBxWlmE"
      },
      "outputs": [],
      "source": []
    },
    {
      "cell_type": "markdown",
      "source": [
        "Below returns a list and the results need to be loaded as json"
      ],
      "metadata": {
        "id": "DUKDOWEsMh38"
      }
    },
    {
      "cell_type": "code",
      "execution_count": null,
      "metadata": {
        "id": "A0cdKpm37r3I"
      },
      "outputs": [],
      "source": []
    },
    {
      "cell_type": "code",
      "source": [
        "r = Client.read(query=\"experiment:CDMS\")\n",
        "record_count = len(r)\n",
        "experiment_list = []\n",
        "for rc in range(0, record_count):\n",
        "  r_p = json.loads(r[rc]['properties'])\n",
        "  r_p_experiment = r_p['experiment']\n",
        "  experiment_list.append(r_p_experiment)\n",
        "unique_list = list(set(experiment_list))\n",
        "#print(unique_list)"
      ],
      "metadata": {
        "id": "l4WJ221vGsZZ"
      },
      "execution_count": null,
      "outputs": []
    },
    {
      "cell_type": "markdown",
      "source": [
        "Read a Single record by the ID\n",
        "Below returns a json variable in a list - the above result from a query needs to be updated to also return a list of json variables"
      ],
      "metadata": {
        "id": "PaSXtYIzLciY"
      }
    },
    {
      "cell_type": "code",
      "execution_count": null,
      "metadata": {
        "id": "P74Yv0I47r3J"
      },
      "outputs": [],
      "source": [
        "r_id = Client.read(id=1)\n",
        "r_id[0]\n",
        "properties_json = r_id[0]['properties']\n",
        "#properties_json"
      ]
    },
    {
      "cell_type": "code",
      "source": [
        "archived = r_id[0]['archived']\n",
        "print(archived)"
      ],
      "metadata": {
        "id": "UQ1i8G9LVTl9"
      },
      "execution_count": null,
      "outputs": []
    },
    {
      "cell_type": "code",
      "source": [
        "archive_via_id = Client.archive(id=1)"
      ],
      "metadata": {
        "id": "M6d0QbaGVvRI"
      },
      "execution_count": null,
      "outputs": []
    },
    {
      "cell_type": "code",
      "source": [
        "archive_via_id"
      ],
      "metadata": {
        "id": "HBYldgpLdpO3"
      },
      "execution_count": null,
      "outputs": []
    },
    {
      "cell_type": "code",
      "source": [
        "r_id = Client.read(id=1)\n",
        "# r_id"
      ],
      "metadata": {
        "id": "UEglJWI_Vyw2"
      },
      "execution_count": null,
      "outputs": []
    },
    {
      "cell_type": "code",
      "source": [
        "reverse_archive_via_id = Client.archive_reverse(id=1)"
      ],
      "metadata": {
        "id": "0QNqoHTxdl3P"
      },
      "execution_count": null,
      "outputs": []
    },
    {
      "cell_type": "code",
      "source": [
        "reverse_archive_via_id"
      ],
      "metadata": {
        "id": "kw36pw3tgExN"
      },
      "execution_count": null,
      "outputs": []
    },
    {
      "cell_type": "code",
      "source": [
        "r_id = Client.read(id=1)\n",
        "#r_id"
      ],
      "metadata": {
        "id": "0x6bVOeGgGLk"
      },
      "execution_count": null,
      "outputs": []
    },
    {
      "cell_type": "code",
      "source": [
        "#new_properties_json = json.loads(r_id)\n",
        "new_properties = r_id[0]['properties']\n",
        "type(new_properties)"
      ],
      "metadata": {
        "id": "PeGrpEkRghSq"
      },
      "execution_count": null,
      "outputs": []
    },
    {
      "cell_type": "code",
      "source": [
        "new_properties_json = new_properties\n",
        "#new_properties_json"
      ],
      "metadata": {
        "id": "6bBDAx7jqZgW"
      },
      "execution_count": null,
      "outputs": []
    },
    {
      "cell_type": "code",
      "source": [
        "new_data = Client.create(data=new_properties_json,node_type='Data')"
      ],
      "metadata": {
        "id": "tvLgM8KtgvZP"
      },
      "execution_count": null,
      "outputs": []
    },
    {
      "cell_type": "code",
      "source": [
        "new_data"
      ],
      "metadata": {
        "id": "jwGJyJ1GhF4b"
      },
      "execution_count": null,
      "outputs": []
    },
    {
      "cell_type": "code",
      "source": [
        "new_properties_json['rating']=1000"
      ],
      "metadata": {
        "id": "PG9O9cFwqrht"
      },
      "execution_count": null,
      "outputs": []
    },
    {
      "cell_type": "code",
      "source": [
        "update_data = Client.update(id=15737,updated_data=new_properties_json,node_type='Data')"
      ],
      "metadata": {
        "id": "KpTr95GkyVJp"
      },
      "execution_count": null,
      "outputs": []
    },
    {
      "cell_type": "code",
      "source": [
        "update_data"
      ],
      "metadata": {
        "id": "Dqe3xkyUylbb"
      },
      "execution_count": null,
      "outputs": []
    },
    {
      "cell_type": "code",
      "source": [
        "r_id = Client.read(id=15737)\n",
        "r_id"
      ],
      "metadata": {
        "id": "F0_MbBHzynLa"
      },
      "execution_count": null,
      "outputs": []
    },
    {
      "cell_type": "code",
      "source": [
        "r_id = Client.delete(id=15737)"
      ],
      "metadata": {
        "id": "QZcqzVqkyvhF"
      },
      "execution_count": null,
      "outputs": []
    },
    {
      "cell_type": "code",
      "source": [
        "r_id = Client.read(id=15737)"
      ],
      "metadata": {
        "id": "5itioQNLy6DB"
      },
      "execution_count": null,
      "outputs": []
    },
    {
      "cell_type": "code",
      "source": [
        "r_id"
      ],
      "metadata": {
        "id": "DCob-dXA1JPE"
      },
      "execution_count": null,
      "outputs": []
    },
    {
      "cell_type": "code",
      "source": [],
      "metadata": {
        "id": "byApLmAZ7Fdd"
      },
      "execution_count": null,
      "outputs": []
    }
  ],
  "metadata": {
    "colab": {
      "provenance": [],
      "include_colab_link": true
    },
    "kernelspec": {
      "display_name": "Python 3 (ipykernel)",
      "language": "python",
      "name": "python3"
    },
    "language_info": {
      "codemirror_mode": {
        "name": "ipython",
        "version": 3
      },
      "file_extension": ".py",
      "mimetype": "text/x-python",
      "name": "python",
      "nbconvert_exporter": "python",
      "pygments_lexer": "ipython3",
      "version": "3.12.7"
    }
  },
  "nbformat": 4,
  "nbformat_minor": 0
}