{
  "cells": [
    {
      "cell_type": "markdown",
      "source": [
        "DMTOOLS External API Test and Demo - 24 January 2025"
      ],
      "metadata": {
        "id": "43XkbM2bAvFW"
      }
    },
    {
      "cell_type": "markdown",
      "source": [
        "Notebook to test library that has been published tp pypi test"
      ],
      "metadata": {
        "id": "tsWJeSyP72Po"
      }
    },
    {
      "cell_type": "code",
      "execution_count": 1,
      "metadata": {
        "colab": {
          "base_uri": "https://localhost:8080/"
        },
        "id": "tazOxHCuLShU",
        "outputId": "d0bc14e1-9692-4ce0-8588-c6f9a3f99d42"
      },
      "outputs": [
        {
          "output_type": "stream",
          "name": "stdout",
          "text": [
            "Looking in indexes: https://test.pypi.org/simple/\n",
            "Collecting dmtools-brown-edu\n",
            "  Downloading https://test-files.pythonhosted.org/packages/a7/96/2567aaf8e788d89e64f6dc807fbf3e883cffe07045f0a84e6d05783d2b8c/dmtools_brown_edu-0.0.10-py3-none-any.whl.metadata (667 bytes)\n",
            "Requirement already satisfied: jinja2<4.0.0,>=3.1.4 in /usr/local/lib/python3.11/dist-packages (from dmtools-brown-edu) (3.1.5)\n",
            "Requirement already satisfied: matplotlib<4.0.0,>=3.9.2 in /usr/local/lib/python3.11/dist-packages (from dmtools-brown-edu) (3.10.0)\n",
            "Requirement already satisfied: pandas<3.0.0,>=2.2.2 in /usr/local/lib/python3.11/dist-packages (from dmtools-brown-edu) (2.2.2)\n",
            "Requirement already satisfied: plotly<6.0.0,>=5.23.0 in /usr/local/lib/python3.11/dist-packages (from dmtools-brown-edu) (5.24.1)\n",
            "Requirement already satisfied: requests<3.0.0,>=2.32.3 in /usr/local/lib/python3.11/dist-packages (from dmtools-brown-edu) (2.32.3)\n",
            "Requirement already satisfied: MarkupSafe>=2.0 in /usr/local/lib/python3.11/dist-packages (from jinja2<4.0.0,>=3.1.4->dmtools-brown-edu) (3.0.2)\n",
            "Requirement already satisfied: contourpy>=1.0.1 in /usr/local/lib/python3.11/dist-packages (from matplotlib<4.0.0,>=3.9.2->dmtools-brown-edu) (1.3.1)\n",
            "Requirement already satisfied: cycler>=0.10 in /usr/local/lib/python3.11/dist-packages (from matplotlib<4.0.0,>=3.9.2->dmtools-brown-edu) (0.12.1)\n",
            "Requirement already satisfied: fonttools>=4.22.0 in /usr/local/lib/python3.11/dist-packages (from matplotlib<4.0.0,>=3.9.2->dmtools-brown-edu) (4.55.3)\n",
            "Requirement already satisfied: kiwisolver>=1.3.1 in /usr/local/lib/python3.11/dist-packages (from matplotlib<4.0.0,>=3.9.2->dmtools-brown-edu) (1.4.8)\n",
            "Requirement already satisfied: numpy>=1.23 in /usr/local/lib/python3.11/dist-packages (from matplotlib<4.0.0,>=3.9.2->dmtools-brown-edu) (1.26.4)\n",
            "Requirement already satisfied: packaging>=20.0 in /usr/local/lib/python3.11/dist-packages (from matplotlib<4.0.0,>=3.9.2->dmtools-brown-edu) (24.2)\n",
            "Requirement already satisfied: pillow>=8 in /usr/local/lib/python3.11/dist-packages (from matplotlib<4.0.0,>=3.9.2->dmtools-brown-edu) (11.1.0)\n",
            "Requirement already satisfied: pyparsing>=2.3.1 in /usr/local/lib/python3.11/dist-packages (from matplotlib<4.0.0,>=3.9.2->dmtools-brown-edu) (3.2.1)\n",
            "Requirement already satisfied: python-dateutil>=2.7 in /usr/local/lib/python3.11/dist-packages (from matplotlib<4.0.0,>=3.9.2->dmtools-brown-edu) (2.8.2)\n",
            "Requirement already satisfied: pytz>=2020.1 in /usr/local/lib/python3.11/dist-packages (from pandas<3.0.0,>=2.2.2->dmtools-brown-edu) (2024.2)\n",
            "Requirement already satisfied: tzdata>=2022.7 in /usr/local/lib/python3.11/dist-packages (from pandas<3.0.0,>=2.2.2->dmtools-brown-edu) (2024.2)\n",
            "Requirement already satisfied: tenacity>=6.2.0 in /usr/local/lib/python3.11/dist-packages (from plotly<6.0.0,>=5.23.0->dmtools-brown-edu) (9.0.0)\n",
            "Requirement already satisfied: charset-normalizer<4,>=2 in /usr/local/lib/python3.11/dist-packages (from requests<3.0.0,>=2.32.3->dmtools-brown-edu) (3.4.1)\n",
            "Requirement already satisfied: idna<4,>=2.5 in /usr/local/lib/python3.11/dist-packages (from requests<3.0.0,>=2.32.3->dmtools-brown-edu) (3.10)\n",
            "Requirement already satisfied: urllib3<3,>=1.21.1 in /usr/local/lib/python3.11/dist-packages (from requests<3.0.0,>=2.32.3->dmtools-brown-edu) (2.3.0)\n",
            "Requirement already satisfied: certifi>=2017.4.17 in /usr/local/lib/python3.11/dist-packages (from requests<3.0.0,>=2.32.3->dmtools-brown-edu) (2024.12.14)\n",
            "Requirement already satisfied: six>=1.5 in /usr/local/lib/python3.11/dist-packages (from python-dateutil>=2.7->matplotlib<4.0.0,>=3.9.2->dmtools-brown-edu) (1.17.0)\n",
            "Downloading https://test-files.pythonhosted.org/packages/a7/96/2567aaf8e788d89e64f6dc807fbf3e883cffe07045f0a84e6d05783d2b8c/dmtools_brown_edu-0.0.10-py3-none-any.whl (39 kB)\n",
            "Installing collected packages: dmtools-brown-edu\n",
            "Successfully installed dmtools-brown-edu-0.0.10\n"
          ]
        }
      ],
      "source": [
        "## need to disconnect and delete the runtime and rerun the notebook to reinstall this properly\n",
        "## check that it says it has sucessfully installed\n",
        "!pip install -i https://test.pypi.org/simple/ dmtools-brown-edu --upgrade"
      ]
    },
    {
      "cell_type": "code",
      "source": [
        "import json"
      ],
      "metadata": {
        "id": "tjbP2Py-U7GK"
      },
      "execution_count": 2,
      "outputs": []
    },
    {
      "cell_type": "code",
      "execution_count": 3,
      "metadata": {
        "id": "znVgJOM7utbF"
      },
      "outputs": [],
      "source": [
        "from dmtools_brown_edu.dmtools_client_package.dmtools_quart import APIClient"
      ]
    },
    {
      "cell_type": "code",
      "source": [
        "## You need to enter your email address into the colab secrets\n",
        "## see key in left hand bar\n",
        "## The library cleans the email address provided\n",
        "## First time you run this you need to give permission to the notebook to access each of the secrets\n",
        "from google.colab import userdata\n",
        "email = userdata.get('DMTOOLS_EMAIL')\n",
        "print(email)"
      ],
      "metadata": {
        "colab": {
          "base_uri": "https://localhost:8080/"
        },
        "id": "P3_gbG1Q8tqi",
        "outputId": "b027d1ad-6f83-445e-98da-d384dd0da830"
      },
      "execution_count": 7,
      "outputs": [
        {
          "output_type": "stream",
          "name": "stdout",
          "text": [
            "andrewgaitskell@brown.edu\n"
          ]
        }
      ]
    },
    {
      "cell_type": "code",
      "execution_count": 8,
      "metadata": {
        "id": "syT-3itf7r3F"
      },
      "outputs": [],
      "source": [
        "api_key = userdata.get('DMTOOLS_APIKEY')"
      ]
    },
    {
      "cell_type": "code",
      "source": [],
      "metadata": {
        "id": "kgmpl3lRFzA4"
      },
      "execution_count": null,
      "outputs": []
    },
    {
      "cell_type": "markdown",
      "source": [
        "Create the API Client - this connects to the server and allows simpler interactions.\n",
        "\n",
        "For less verbose calling, you can set suppress_logs=True"
      ],
      "metadata": {
        "id": "VwRD33atF0Zw"
      }
    },
    {
      "cell_type": "code",
      "execution_count": 10,
      "metadata": {
        "id": "prj69n4m7r3H"
      },
      "outputs": [],
      "source": [
        "Client = APIClient(email, api_key, suppress_logs=False)"
      ]
    },
    {
      "cell_type": "markdown",
      "source": [
        "Query using key pair - full match on word\n",
        "Requirement was to exact word match for the key value pair\n",
        "\n",
        "Example match to CDMS but not to CDMSSuper"
      ],
      "metadata": {
        "id": "2vy0RVAFEQKG"
      }
    },
    {
      "cell_type": "code",
      "execution_count": 11,
      "metadata": {
        "colab": {
          "base_uri": "https://localhost:8080/"
        },
        "id": "MkVlEQBxWlmE",
        "outputId": "8220b21d-b345-43ac-fbd6-6cc9348e8a9f"
      },
      "outputs": [
        {
          "output_type": "stream",
          "name": "stderr",
          "text": [
            "2025-01-24 11:37:36,081 - dmtools_brown_edu.dmtools_client_package.dmtools_quart - INFO - Calling read data API\n",
            "INFO:dmtools_brown_edu.dmtools_client_package.dmtools_quart:Calling read data API\n"
          ]
        }
      ],
      "source": []
    },
    {
      "cell_type": "markdown",
      "source": [
        "Below returns a list and the results need to be loaded as json"
      ],
      "metadata": {
        "id": "DUKDOWEsMh38"
      }
    },
    {
      "cell_type": "code",
      "execution_count": 23,
      "metadata": {
        "id": "A0cdKpm37r3I"
      },
      "outputs": [],
      "source": []
    },
    {
      "cell_type": "code",
      "source": [
        "r = Client.read(query=\"experiment:CDMS\")\n",
        "record_count = len(r)\n",
        "experiment_list = []\n",
        "for rc in range(0, record_count):\n",
        "  r_p = json.loads(r[rc]['properties'])\n",
        "  r_p_experiment = r_p['experiment']\n",
        "  experiment_list.append(r_p_experiment)\n",
        "unique_list = list(set(experiment_list))\n",
        "print(unique_list)"
      ],
      "metadata": {
        "colab": {
          "base_uri": "https://localhost:8080/"
        },
        "id": "l4WJ221vGsZZ",
        "outputId": "434bd527-aac5-4fa2-e84d-091faaf797f9"
      },
      "execution_count": 24,
      "outputs": [
        {
          "output_type": "stream",
          "name": "stderr",
          "text": [
            "2025-01-24 11:58:18,470 - dmtools_brown_edu.dmtools_client_package.dmtools_quart - INFO - Calling read data API\n",
            "INFO:dmtools_brown_edu.dmtools_client_package.dmtools_quart:Calling read data API\n"
          ]
        },
        {
          "output_type": "stream",
          "name": "stdout",
          "text": [
            "['CDMS II (Soudan)', 'CDMS I (SUF)']\n"
          ]
        }
      ]
    },
    {
      "cell_type": "markdown",
      "source": [
        "Read a Single record by the ID\n",
        "Below returns a json variable in a list - the above result from a query needs to be updated to also return a list of json variables"
      ],
      "metadata": {
        "id": "PaSXtYIzLciY"
      }
    },
    {
      "cell_type": "code",
      "execution_count": 35,
      "metadata": {
        "colab": {
          "base_uri": "https://localhost:8080/"
        },
        "id": "P74Yv0I47r3J",
        "outputId": "4e05e71b-a4d6-418e-fd2e-e4ac4e79e473"
      },
      "outputs": [
        {
          "output_type": "stream",
          "name": "stderr",
          "text": [
            "2025-01-24 12:08:19,074 - dmtools_brown_edu.dmtools_client_package.dmtools_quart - INFO - Calling read data API\n",
            "INFO:dmtools_brown_edu.dmtools_client_package.dmtools_quart:Calling read data API\n"
          ]
        }
      ],
      "source": [
        "r_id = Client.read(id=1)\n",
        "r_id[0]\n",
        "properties_json = r_id[0]['properties']\n",
        "#properties_json"
      ]
    },
    {
      "cell_type": "code",
      "source": [
        "archived = r_id[0]['archived']\n",
        "print(archived)"
      ],
      "metadata": {
        "id": "UQ1i8G9LVTl9",
        "colab": {
          "base_uri": "https://localhost:8080/"
        },
        "outputId": "9d10faf7-d4b2-429d-c514-fe6bb24bce45"
      },
      "execution_count": 36,
      "outputs": [
        {
          "output_type": "stream",
          "name": "stdout",
          "text": [
            "None\n"
          ]
        }
      ]
    },
    {
      "cell_type": "code",
      "source": [
        "archive_via_id = Client.archive(id=1)"
      ],
      "metadata": {
        "colab": {
          "base_uri": "https://localhost:8080/"
        },
        "id": "M6d0QbaGVvRI",
        "outputId": "5550b814-1599-41d6-b1ed-4bfe238af872"
      },
      "execution_count": 37,
      "outputs": [
        {
          "output_type": "stream",
          "name": "stderr",
          "text": [
            "2025-01-24 12:08:24,616 - dmtools_brown_edu.dmtools_client_package.dmtools_quart - INFO - Calling archive data API\n",
            "INFO:dmtools_brown_edu.dmtools_client_package.dmtools_quart:Calling archive data API\n"
          ]
        }
      ]
    },
    {
      "cell_type": "code",
      "source": [
        "archive_via_id"
      ],
      "metadata": {
        "colab": {
          "base_uri": "https://localhost:8080/"
        },
        "id": "HBYldgpLdpO3",
        "outputId": "a237d1cc-3d3b-4586-a1f8-7baf70dfb5fe"
      },
      "execution_count": 38,
      "outputs": [
        {
          "output_type": "execute_result",
          "data": {
            "text/plain": [
              "[{'id': 1, 'message': 'Node archived'}, 200]"
            ]
          },
          "metadata": {},
          "execution_count": 38
        }
      ]
    },
    {
      "cell_type": "code",
      "source": [
        "r_id = Client.read(id=1)\n",
        "# r_id"
      ],
      "metadata": {
        "id": "UEglJWI_Vyw2",
        "colab": {
          "base_uri": "https://localhost:8080/"
        },
        "outputId": "8ab765e8-deec-439f-a86f-6b7d53f8bea5"
      },
      "execution_count": 40,
      "outputs": [
        {
          "output_type": "stream",
          "name": "stderr",
          "text": [
            "2025-01-24 12:09:06,402 - dmtools_brown_edu.dmtools_client_package.dmtools_quart - INFO - Calling read data API\n",
            "INFO:dmtools_brown_edu.dmtools_client_package.dmtools_quart:Calling read data API\n"
          ]
        }
      ]
    },
    {
      "cell_type": "code",
      "source": [
        "reverse_archive_via_id = Client.archive_reverse(id=1)"
      ],
      "metadata": {
        "colab": {
          "base_uri": "https://localhost:8080/"
        },
        "id": "0QNqoHTxdl3P",
        "outputId": "329c35d9-d1de-4627-a50d-fc3ea1ddeddc"
      },
      "execution_count": 41,
      "outputs": [
        {
          "output_type": "stream",
          "name": "stderr",
          "text": [
            "2025-01-24 12:09:16,964 - dmtools_brown_edu.dmtools_client_package.dmtools_quart - INFO - Calling remove archive data API\n",
            "INFO:dmtools_brown_edu.dmtools_client_package.dmtools_quart:Calling remove archive data API\n"
          ]
        }
      ]
    },
    {
      "cell_type": "code",
      "source": [
        "reverse_archive_via_id"
      ],
      "metadata": {
        "colab": {
          "base_uri": "https://localhost:8080/"
        },
        "id": "kw36pw3tgExN",
        "outputId": "8fe16414-58ae-4e1a-8712-98cb417e192d"
      },
      "execution_count": 42,
      "outputs": [
        {
          "output_type": "execute_result",
          "data": {
            "text/plain": [
              "[{'id': 1, 'message': 'Node archival reversed'}, 200]"
            ]
          },
          "metadata": {},
          "execution_count": 42
        }
      ]
    },
    {
      "cell_type": "code",
      "source": [
        "r_id = Client.read(id=1)\n",
        "#r_id"
      ],
      "metadata": {
        "colab": {
          "base_uri": "https://localhost:8080/"
        },
        "id": "0x6bVOeGgGLk",
        "outputId": "a069dd88-046b-4730-b0c9-42fdf865e325"
      },
      "execution_count": 44,
      "outputs": [
        {
          "output_type": "stream",
          "name": "stderr",
          "text": [
            "2025-01-24 12:09:33,128 - dmtools_brown_edu.dmtools_client_package.dmtools_quart - INFO - Calling read data API\n",
            "INFO:dmtools_brown_edu.dmtools_client_package.dmtools_quart:Calling read data API\n"
          ]
        }
      ]
    },
    {
      "cell_type": "code",
      "source": [
        "#new_properties_json = json.loads(r_id)\n",
        "new_properties = r_id[0]['properties']\n",
        "type(new_properties)"
      ],
      "metadata": {
        "colab": {
          "base_uri": "https://localhost:8080/"
        },
        "id": "PeGrpEkRghSq",
        "outputId": "3eef4144-f90b-4833-abc4-4eefc9d86426"
      },
      "execution_count": 46,
      "outputs": [
        {
          "output_type": "execute_result",
          "data": {
            "text/plain": [
              "dict"
            ]
          },
          "metadata": {},
          "execution_count": 46
        }
      ]
    },
    {
      "cell_type": "code",
      "source": [
        "new_properties_json = new_properties\n",
        "#new_properties_json"
      ],
      "metadata": {
        "id": "6bBDAx7jqZgW"
      },
      "execution_count": 50,
      "outputs": []
    },
    {
      "cell_type": "code",
      "source": [
        "new_data = Client.create(data=new_properties_json,node_type='Data')"
      ],
      "metadata": {
        "colab": {
          "base_uri": "https://localhost:8080/"
        },
        "id": "tvLgM8KtgvZP",
        "outputId": "c3c16fcf-2ee2-409e-fb1f-8477fab09b0f"
      },
      "execution_count": 51,
      "outputs": [
        {
          "output_type": "stream",
          "name": "stderr",
          "text": [
            "2025-01-24 12:18:03,754 - dmtools_brown_edu.dmtools_client_package.dmtools_quart - INFO - Calling add data API\n",
            "INFO:dmtools_brown_edu.dmtools_client_package.dmtools_quart:Calling add data API\n"
          ]
        }
      ]
    },
    {
      "cell_type": "code",
      "source": [
        "new_data"
      ],
      "metadata": {
        "colab": {
          "base_uri": "https://localhost:8080/"
        },
        "id": "jwGJyJ1GhF4b",
        "outputId": "64a23286-a849-4846-fe77-9ea0ca497a22"
      },
      "execution_count": 52,
      "outputs": [
        {
          "output_type": "execute_result",
          "data": {
            "text/plain": [
              "{'new_record_id': 15737, 'success': True}"
            ]
          },
          "metadata": {},
          "execution_count": 52
        }
      ]
    },
    {
      "cell_type": "code",
      "source": [
        "new_properties_json['rating']=1000"
      ],
      "metadata": {
        "id": "PG9O9cFwqrht"
      },
      "execution_count": 53,
      "outputs": []
    },
    {
      "cell_type": "code",
      "source": [
        "update_data = Client.update(id=15737,updated_data=new_properties_json,node_type='Data')"
      ],
      "metadata": {
        "colab": {
          "base_uri": "https://localhost:8080/"
        },
        "id": "KpTr95GkyVJp",
        "outputId": "7d6c812d-3cc3-47f2-84f5-26dc70db1b47"
      },
      "execution_count": 54,
      "outputs": [
        {
          "output_type": "stream",
          "name": "stderr",
          "text": [
            "2025-01-24 12:18:41,919 - dmtools_brown_edu.dmtools_client_package.dmtools_quart - INFO - Calling update data API\n",
            "INFO:dmtools_brown_edu.dmtools_client_package.dmtools_quart:Calling update data API\n"
          ]
        }
      ]
    },
    {
      "cell_type": "code",
      "source": [
        "update_data"
      ],
      "metadata": {
        "colab": {
          "base_uri": "https://localhost:8080/"
        },
        "id": "Dqe3xkyUylbb",
        "outputId": "80521da9-2872-4bec-a034-6b8f98a08ee9"
      },
      "execution_count": 55,
      "outputs": [
        {
          "output_type": "execute_result",
          "data": {
            "text/plain": [
              "{'success': True, 'updated_record_id': 15737}"
            ]
          },
          "metadata": {},
          "execution_count": 55
        }
      ]
    },
    {
      "cell_type": "code",
      "source": [
        "r_id = Client.read(id=15737)\n",
        "r_id"
      ],
      "metadata": {
        "colab": {
          "base_uri": "https://localhost:8080/"
        },
        "id": "F0_MbBHzynLa",
        "outputId": "ac647956-1dd8-4689-e17a-58c5dde922a3"
      },
      "execution_count": 56,
      "outputs": [
        {
          "output_type": "stream",
          "name": "stderr",
          "text": [
            "2025-01-24 12:18:54,243 - dmtools_brown_edu.dmtools_client_package.dmtools_quart - INFO - Calling read data API\n",
            "INFO:dmtools_brown_edu.dmtools_client_package.dmtools_quart:Calling read data API\n"
          ]
        },
        {
          "output_type": "execute_result",
          "data": {
            "text/plain": [
              "[{'archived': None,\n",
              "  'created': 'Fri, 24 Jan 2025 12:18:04 GMT',\n",
              "  'id': 15737,\n",
              "  'properties': {'comment': ' ',\n",
              "   'dateAnnouncement': '2003-01-01',\n",
              "   'dateEnd': None,\n",
              "   'dateOfficial': None,\n",
              "   'dateStart': None,\n",
              "   'defaultColor': 'red',\n",
              "   'defaultStyle': 'dash',\n",
              "   'experiment': 'Theory',\n",
              "   'greatestHit': 0,\n",
              "   'label': 'Baer et. al., 2003, constraints on mSUGRA, SI',\n",
              "   'label_short': 'Baer et. al., 2003, constraints on mSUGRA, SI',\n",
              "   'measurementType': 'Dir',\n",
              "   'official': 1,\n",
              "   'open': 0,\n",
              "   'public': 1,\n",
              "   'rating': 1000,\n",
              "   'raw': '{[60 4e-43;70 4e-43;160 5.5e-44;320 2.5e-44;630 3.2e-44;640 3e-44;640 1.2e-44;630 1e-44;225 9e-45;215 7e-45;315 7e-46;470 2.1e-46;650 7e-47;660 6.8e-47;660 2e-47;650 2e-47;470 6e-47;315 1e-46;215 3e-46;100 8e-46;60 1e-45;60 4e-43]}',\n",
              "   'reference': 'JCAP 0309 (2003) 007 , hep-ph/0305191',\n",
              "   'resultType': 'Th',\n",
              "   'spinDependency': 'SI',\n",
              "   'values': [[['6.00000e+01', '4.00000e-43'],\n",
              "     ['7.00000e+01', '4.00000e-43'],\n",
              "     ['1.60000e+02', '5.50000e-44'],\n",
              "     ['3.20000e+02', '2.50000e-44'],\n",
              "     ['6.30000e+02', '3.20000e-44'],\n",
              "     ['6.40000e+02', '3.00000e-44'],\n",
              "     ['6.40000e+02', '1.20000e-44'],\n",
              "     ['6.30000e+02', '1.00000e-44'],\n",
              "     ['2.25000e+02', '9.00000e-45'],\n",
              "     ['2.15000e+02', '7.00000e-45'],\n",
              "     ['3.15000e+02', '7.00000e-46'],\n",
              "     ['4.70000e+02', '2.10000e-46'],\n",
              "     ['6.50000e+02', '7.00000e-47'],\n",
              "     ['6.60000e+02', '6.80000e-47'],\n",
              "     ['6.60000e+02', '2.00000e-47'],\n",
              "     ['6.50000e+02', '2.00000e-47'],\n",
              "     ['4.70000e+02', '6.00000e-47'],\n",
              "     ['3.15000e+02', '1.00000e-46'],\n",
              "     ['2.15000e+02', '3.00000e-46'],\n",
              "     ['1.00000e+02', '8.00000e-46'],\n",
              "     ['6.00000e+01', '1.00000e-45'],\n",
              "     ['6.00000e+01', '4.00000e-43']]],\n",
              "   'xRescale': '1',\n",
              "   'xUnits': 'GeV',\n",
              "   'yRescale': '1',\n",
              "   'yUnits': 'cm^2',\n",
              "   'year': 2003},\n",
              "  'type': 'Data',\n",
              "  'updated': 'Fri, 24 Jan 2025 12:18:42 GMT'}]"
            ]
          },
          "metadata": {},
          "execution_count": 56
        }
      ]
    },
    {
      "cell_type": "code",
      "source": [
        "r_id = Client.delete(id=15737)"
      ],
      "metadata": {
        "colab": {
          "base_uri": "https://localhost:8080/"
        },
        "id": "QZcqzVqkyvhF",
        "outputId": "bbd09cf6-ad58-427a-e124-65b19cf1849e"
      },
      "execution_count": 57,
      "outputs": [
        {
          "output_type": "stream",
          "name": "stderr",
          "text": [
            "2025-01-24 12:19:16,014 - dmtools_brown_edu.dmtools_client_package.dmtools_quart - INFO - Calling delete data API\n",
            "INFO:dmtools_brown_edu.dmtools_client_package.dmtools_quart:Calling delete data API\n"
          ]
        }
      ]
    },
    {
      "cell_type": "code",
      "source": [
        "r_id = Client.read(id=15737)"
      ],
      "metadata": {
        "colab": {
          "base_uri": "https://localhost:8080/"
        },
        "id": "5itioQNLy6DB",
        "outputId": "d0c74268-4bb8-411e-d8b1-23c5da70ee63"
      },
      "execution_count": 60,
      "outputs": [
        {
          "output_type": "stream",
          "name": "stderr",
          "text": [
            "2025-01-24 12:19:41,484 - dmtools_brown_edu.dmtools_client_package.dmtools_quart - INFO - Calling read data API\n",
            "INFO:dmtools_brown_edu.dmtools_client_package.dmtools_quart:Calling read data API\n"
          ]
        }
      ]
    },
    {
      "cell_type": "code",
      "source": [
        "r_id"
      ],
      "metadata": {
        "colab": {
          "base_uri": "https://localhost:8080/"
        },
        "id": "DCob-dXA1JPE",
        "outputId": "4dc5760f-11c2-4db8-e8ed-0a41cb1844b3"
      },
      "execution_count": 62,
      "outputs": [
        {
          "output_type": "execute_result",
          "data": {
            "text/plain": [
              "[]"
            ]
          },
          "metadata": {},
          "execution_count": 62
        }
      ]
    },
    {
      "cell_type": "code",
      "source": [],
      "metadata": {
        "id": "byApLmAZ7Fdd"
      },
      "execution_count": null,
      "outputs": []
    }
  ],
  "metadata": {
    "colab": {
      "provenance": []
    },
    "kernelspec": {
      "display_name": "Python 3 (ipykernel)",
      "language": "python",
      "name": "python3"
    },
    "language_info": {
      "codemirror_mode": {
        "name": "ipython",
        "version": 3
      },
      "file_extension": ".py",
      "mimetype": "text/x-python",
      "name": "python",
      "nbconvert_exporter": "python",
      "pygments_lexer": "ipython3",
      "version": "3.12.7"
    }
  },
  "nbformat": 4,
  "nbformat_minor": 0
}