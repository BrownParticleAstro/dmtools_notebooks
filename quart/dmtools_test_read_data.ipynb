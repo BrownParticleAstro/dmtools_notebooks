{
  "nbformat": 4,
  "nbformat_minor": 0,
  "metadata": {
    "colab": {
      "provenance": []
    },
    "kernelspec": {
      "name": "python3",
      "display_name": "Python 3"
    },
    "language_info": {
      "name": "python"
    }
  },
  "cells": [
    {
      "cell_type": "code",
      "execution_count": 1,
      "metadata": {
        "colab": {
          "base_uri": "https://localhost:8080/"
        },
        "id": "ZbCwrzd3jzqi",
        "outputId": "a54d671c-dcd6-4cb6-c3c8-d3f93f548e61"
      },
      "outputs": [
        {
          "output_type": "stream",
          "name": "stdout",
          "text": [
            "Requirement already satisfied: certifi in /usr/local/lib/python3.10/dist-packages (2024.8.30)\n"
          ]
        }
      ],
      "source": [
        "#!pip install requests\n",
        "!pip install certifi\n"
      ]
    },
    {
      "cell_type": "code",
      "source": [
        "import logging\n",
        "import requests\n",
        "import certifi\n",
        "\n",
        "# Configure logging\n",
        "logging.basicConfig(level=logging.DEBUG, format=\"%(asctime)s - %(levelname)s - %(message)s\")\n",
        "logger = logging.getLogger(__name__)"
      ],
      "metadata": {
        "id": "G0olmO7UkiBi"
      },
      "execution_count": 2,
      "outputs": []
    },
    {
      "cell_type": "code",
      "source": [
        "def call_search_api(base_url, query, node_type, email, api_key):\n",
        "    endpoint = f\"{base_url}\"\n",
        "    params = {\n",
        "        \"query\": query,\n",
        "        \"type\": node_type,\n",
        "        \"email\": email,\n",
        "        \"apikey\": api_key\n",
        "    }\n",
        "\n",
        "    logger.info(\"Calling search API\")\n",
        "    logger.debug(f\"Endpoint: {endpoint}\")\n",
        "    logger.debug(f\"Params: {params}\")\n",
        "\n",
        "    try:\n",
        "        ##response = requests.get(endpoint, params=params, verify=False)\n",
        "        response = requests.get(endpoint, params=params, verify=certifi.where())\n",
        "        logger.debug(f\"Response status code: {response.status_code}\")\n",
        "        response.raise_for_status()  # Raise exception for HTTP errors\n",
        "        logger.info(\"API call successful\")\n",
        "        return response.json()  # Parse the JSON response\n",
        "    except requests.HTTPError as e:\n",
        "        logger.error(f\"HTTP error occurred: {e.response.status_code} - {e.response.text}\")\n",
        "        return {\"error\": \"HTTP error\", \"details\": e.response.text}\n",
        "    except requests.ConnectionError as e:\n",
        "        logger.error(\"Connection error occurred\", exc_info=True)\n",
        "        return {\"error\": \"Connection error\", \"details\": str(e)}\n",
        "    except requests.Timeout as e:\n",
        "        logger.error(\"Timeout error occurred\", exc_info=True)\n",
        "        return {\"error\": \"Timeout error\", \"details\": str(e)}\n",
        "    except Exception as e:\n",
        "        logger.error(\"An unexpected error occurred\", exc_info=True)\n",
        "        return {\"error\": \"Unexpected error\", \"details\": str(e)}\n"
      ],
      "metadata": {
        "id": "ovurKH9KkkA1"
      },
      "execution_count": 3,
      "outputs": []
    },
    {
      "cell_type": "code",
      "source": [
        "# Example usage in Colab\n",
        "base_url = \"https://app.dmtools.brown.edu/external_api/read_data\"  # Replace with your API's base URL\n",
        "query = 'CDMS'\n",
        "node_type = \"Data\"\n",
        "email = \"andrew.gaitskell@gmail.com\"\n",
        "api_key = \"E1F8B754B16211EFBC3746C4B67EE341\""
      ],
      "metadata": {
        "id": "snmgAZlMkdzD"
      },
      "execution_count": 4,
      "outputs": []
    },
    {
      "cell_type": "code",
      "source": [
        "result = call_search_api(base_url, query, node_type, email, api_key)\n",
        "print(\"API Response:\")\n",
        "print(result)"
      ],
      "metadata": {
        "colab": {
          "base_uri": "https://localhost:8080/"
        },
        "id": "y8oXpbnpksv7",
        "outputId": "bd11bef2-3a6c-4d76-ac90-36f6532d8b3d"
      },
      "execution_count": 5,
      "outputs": [
        {
          "output_type": "stream",
          "name": "stderr",
          "text": [
            "ERROR:__main__:Connection error occurred\n",
            "Traceback (most recent call last):\n",
            "  File \"/usr/local/lib/python3.10/dist-packages/urllib3/connectionpool.py\", line 466, in _make_request\n",
            "    self._validate_conn(conn)\n",
            "  File \"/usr/local/lib/python3.10/dist-packages/urllib3/connectionpool.py\", line 1095, in _validate_conn\n",
            "    conn.connect()\n",
            "  File \"/usr/local/lib/python3.10/dist-packages/urllib3/connection.py\", line 730, in connect\n",
            "    sock_and_verified = _ssl_wrap_socket_and_match_hostname(\n",
            "  File \"/usr/local/lib/python3.10/dist-packages/urllib3/connection.py\", line 909, in _ssl_wrap_socket_and_match_hostname\n",
            "    ssl_sock = ssl_wrap_socket(\n",
            "  File \"/usr/local/lib/python3.10/dist-packages/urllib3/util/ssl_.py\", line 469, in ssl_wrap_socket\n",
            "    ssl_sock = _ssl_wrap_socket_impl(sock, context, tls_in_tls, server_hostname)\n",
            "  File \"/usr/local/lib/python3.10/dist-packages/urllib3/util/ssl_.py\", line 513, in _ssl_wrap_socket_impl\n",
            "    return ssl_context.wrap_socket(sock, server_hostname=server_hostname)\n",
            "  File \"/usr/lib/python3.10/ssl.py\", line 513, in wrap_socket\n",
            "    return self.sslsocket_class._create(\n",
            "  File \"/usr/lib/python3.10/ssl.py\", line 1100, in _create\n",
            "    self.do_handshake()\n",
            "  File \"/usr/lib/python3.10/ssl.py\", line 1371, in do_handshake\n",
            "    self._sslobj.do_handshake()\n",
            "ssl.SSLCertVerificationError: [SSL: CERTIFICATE_VERIFY_FAILED] certificate verify failed: unable to get local issuer certificate (_ssl.c:1007)\n",
            "\n",
            "During handling of the above exception, another exception occurred:\n",
            "\n",
            "Traceback (most recent call last):\n",
            "  File \"/usr/local/lib/python3.10/dist-packages/urllib3/connectionpool.py\", line 789, in urlopen\n",
            "    response = self._make_request(\n",
            "  File \"/usr/local/lib/python3.10/dist-packages/urllib3/connectionpool.py\", line 490, in _make_request\n",
            "    raise new_e\n",
            "urllib3.exceptions.SSLError: [SSL: CERTIFICATE_VERIFY_FAILED] certificate verify failed: unable to get local issuer certificate (_ssl.c:1007)\n",
            "\n",
            "The above exception was the direct cause of the following exception:\n",
            "\n",
            "Traceback (most recent call last):\n",
            "  File \"/usr/local/lib/python3.10/dist-packages/requests/adapters.py\", line 667, in send\n",
            "    resp = conn.urlopen(\n",
            "  File \"/usr/local/lib/python3.10/dist-packages/urllib3/connectionpool.py\", line 843, in urlopen\n",
            "    retries = retries.increment(\n",
            "  File \"/usr/local/lib/python3.10/dist-packages/urllib3/util/retry.py\", line 519, in increment\n",
            "    raise MaxRetryError(_pool, url, reason) from reason  # type: ignore[arg-type]\n",
            "urllib3.exceptions.MaxRetryError: HTTPSConnectionPool(host='app.dmtools.brown.edu', port=443): Max retries exceeded with url: /external_api/read_data?query=CDMS&type=Data&email=andrew.gaitskell%40gmail.com&apikey=E1F8B754B16211EFBC3746C4B67EE341 (Caused by SSLError(SSLCertVerificationError(1, '[SSL: CERTIFICATE_VERIFY_FAILED] certificate verify failed: unable to get local issuer certificate (_ssl.c:1007)')))\n",
            "\n",
            "During handling of the above exception, another exception occurred:\n",
            "\n",
            "Traceback (most recent call last):\n",
            "  File \"<ipython-input-3-7a6ec3322ab7>\", line 16, in call_search_api\n",
            "    response = requests.get(endpoint, params=params, verify=certifi.where())\n",
            "  File \"/usr/local/lib/python3.10/dist-packages/requests/api.py\", line 73, in get\n",
            "    return request(\"get\", url, params=params, **kwargs)\n",
            "  File \"/usr/local/lib/python3.10/dist-packages/requests/api.py\", line 59, in request\n",
            "    return session.request(method=method, url=url, **kwargs)\n",
            "  File \"/usr/local/lib/python3.10/dist-packages/requests/sessions.py\", line 589, in request\n",
            "    resp = self.send(prep, **send_kwargs)\n",
            "  File \"/usr/local/lib/python3.10/dist-packages/requests/sessions.py\", line 703, in send\n",
            "    r = adapter.send(request, **kwargs)\n",
            "  File \"/usr/local/lib/python3.10/dist-packages/requests/adapters.py\", line 698, in send\n",
            "    raise SSLError(e, request=request)\n",
            "requests.exceptions.SSLError: HTTPSConnectionPool(host='app.dmtools.brown.edu', port=443): Max retries exceeded with url: /external_api/read_data?query=CDMS&type=Data&email=andrew.gaitskell%40gmail.com&apikey=E1F8B754B16211EFBC3746C4B67EE341 (Caused by SSLError(SSLCertVerificationError(1, '[SSL: CERTIFICATE_VERIFY_FAILED] certificate verify failed: unable to get local issuer certificate (_ssl.c:1007)')))\n"
          ]
        },
        {
          "output_type": "stream",
          "name": "stdout",
          "text": [
            "API Response:\n",
            "{'error': 'Connection error', 'details': \"HTTPSConnectionPool(host='app.dmtools.brown.edu', port=443): Max retries exceeded with url: /external_api/read_data?query=CDMS&type=Data&email=andrew.gaitskell%40gmail.com&apikey=E1F8B754B16211EFBC3746C4B67EE341 (Caused by SSLError(SSLCertVerificationError(1, '[SSL: CERTIFICATE_VERIFY_FAILED] certificate verify failed: unable to get local issuer certificate (_ssl.c:1007)')))\"}\n"
          ]
        }
      ]
    },
    {
      "cell_type": "code",
      "source": [],
      "metadata": {
        "id": "awq9HDJTJw36"
      },
      "execution_count": 5,
      "outputs": []
    }
  ]
}