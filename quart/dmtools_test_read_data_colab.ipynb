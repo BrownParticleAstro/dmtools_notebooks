{
  "nbformat": 4,
  "nbformat_minor": 0,
  "metadata": {
    "colab": {
      "provenance": []
    },
    "kernelspec": {
      "name": "python3",
      "display_name": "Python 3"
    },
    "language_info": {
      "name": "python"
    }
  },
  "cells": [
    {
      "cell_type": "code",
      "execution_count": 1,
      "metadata": {
        "id": "ZbCwrzd3jzqi"
      },
      "outputs": [],
      "source": [
        "#!pip install requests\n",
        "# to create a user id and api key, login to https://app.dmtools.brown.edu/auth/login\n",
        "# then visit to create an apikey https://app.dmtools.brown.edu/apikeys/apikeys_by_user\n",
        "# press the button to create an apikey\n",
        "# then use your email address and apikey - see below for an example\n",
        "# infact, the credentials below should work!"
      ]
    },
    {
      "cell_type": "code",
      "source": [
        "import logging\n",
        "import requests\n",
        "\n",
        "# Configure logging\n",
        "logging.basicConfig(level=logging.DEBUG, format=\"%(asctime)s - %(levelname)s - %(message)s\")\n",
        "logger = logging.getLogger(__name__)"
      ],
      "metadata": {
        "id": "G0olmO7UkiBi"
      },
      "execution_count": 2,
      "outputs": []
    },
    {
      "cell_type": "code",
      "source": [
        "def call_search_api(base_url, query, node_type, email, api_key):\n",
        "    endpoint = f\"{base_url}\"\n",
        "    params = {\n",
        "        \"query\": query,\n",
        "        \"type\": node_type,\n",
        "        \"email\": email,\n",
        "        \"apikey\": api_key\n",
        "    }\n",
        "\n",
        "    logger.info(\"Calling search API\")\n",
        "    logger.debug(f\"Endpoint: {endpoint}\")\n",
        "    logger.debug(f\"Params: {params}\")\n",
        "\n",
        "    try:\n",
        "        response = requests.get(endpoint, params=params, verify=False)\n",
        "        logger.debug(f\"Response status code: {response.status_code}\")\n",
        "        response.raise_for_status()  # Raise exception for HTTP errors\n",
        "        logger.info(\"API call successful\")\n",
        "        return response.json()  # Parse the JSON response\n",
        "    except requests.HTTPError as e:\n",
        "        logger.error(f\"HTTP error occurred: {e.response.status_code} - {e.response.text}\")\n",
        "        return {\"error\": \"HTTP error\", \"details\": e.response.text}\n",
        "    except requests.ConnectionError as e:\n",
        "        logger.error(\"Connection error occurred\", exc_info=True)\n",
        "        return {\"error\": \"Connection error\", \"details\": str(e)}\n",
        "    except requests.Timeout as e:\n",
        "        logger.error(\"Timeout error occurred\", exc_info=True)\n",
        "        return {\"error\": \"Timeout error\", \"details\": str(e)}\n",
        "    except Exception as e:\n",
        "        logger.error(\"An unexpected error occurred\", exc_info=True)\n",
        "        return {\"error\": \"Unexpected error\", \"details\": str(e)}\n"
      ],
      "metadata": {
        "id": "ovurKH9KkkA1"
      },
      "execution_count": 3,
      "outputs": []
    },
    {
      "cell_type": "code",
      "source": [
        "# Example usage in Colab\n",
        "base_url = \"https://app.dmtools.brown.edu/external_api/read_data\"  # Replace with your API's base URL\n",
        "query = 'CDMS'\n",
        "node_type = \"Data\"\n",
        "email = \"andrew.gaitskell@gmail.com\"\n",
        "api_key = \"598EFAACB31711EF929146E133E8C0B3\""
      ],
      "metadata": {
        "id": "snmgAZlMkdzD"
      },
      "execution_count": 4,
      "outputs": []
    },
    {
      "cell_type": "code",
      "source": [
        "result = call_search_api(base_url, query, node_type, email, api_key)\n",
        "print(\"API Response:\")\n",
        "print(result)"
      ],
      "metadata": {
        "colab": {
          "base_uri": "https://localhost:8080/"
        },
        "id": "y8oXpbnpksv7",
        "outputId": "3e2ff860-b459-47b0-909c-d1520745ceff"
      },
      "execution_count": 5,
      "outputs": [
        {
          "output_type": "stream",
          "name": "stdout",
          "text": [
            "API Response:\n",
            "[]\n"
          ]
        },
        {
          "output_type": "stream",
          "name": "stderr",
          "text": [
            "/usr/local/lib/python3.10/dist-packages/urllib3/connectionpool.py:1099: InsecureRequestWarning: Unverified HTTPS request is being made to host 'app.dmtools.brown.edu'. Adding certificate verification is strongly advised. See: https://urllib3.readthedocs.io/en/latest/advanced-usage.html#tls-warnings\n",
            "  warnings.warn(\n"
          ]
        }
      ]
    },
    {
      "cell_type": "code",
      "source": [],
      "metadata": {
        "id": "awq9HDJTJw36"
      },
      "execution_count": null,
      "outputs": []
    }
  ]
}