{
 "cells": [
  {
   "cell_type": "code",
   "execution_count": 1,
   "metadata": {
    "id": "1BJwNmAqPtb1"
   },
   "outputs": [],
   "source": [
    "import ssl\n",
    "import urllib\n",
    "context = ssl._create_unverified_context()\n",
    "from urllib.request import Request, urlopen\n",
    "import json\n",
    "from io import StringIO\n",
    "import pandas as pd"
   ]
  },
  {
   "cell_type": "code",
   "execution_count": 2,
   "metadata": {
    "id": "9jewG02D53xX"
   },
   "outputs": [],
   "source": [
    "from itertools import cycle\n",
    "import plotly.graph_objs as go\n",
    "from plotly.subplots import make_subplots"
   ]
  },
  {
   "cell_type": "code",
   "execution_count": 3,
   "metadata": {},
   "outputs": [],
   "source": [
    "from dmtools_client_package.dmtools_client_module import DMToolsClient"
   ]
  },
  {
   "cell_type": "code",
   "execution_count": 4,
   "metadata": {},
   "outputs": [],
   "source": [
    "## get api key and user id from local .env file\n",
    "from dotenv import load_dotenv\n",
    "import os\n",
    "from os import environ, path\n",
    "#BASE_DIR = path.abspath(path.dirname(__file__))\n",
    "BASE_DIR = os.getcwd()\n",
    "#load_dotenv(path.join(BASE_DIR, \".env\"))\n",
    "load_dotenv(path.join(BASE_DIR, \".env\"), override=True)\n",
    "MY_DMTOOLS_APIKEY = environ.get(\"MY_DMTOOLS_APIKEY\")\n",
    "MY_DMTOOLS_USERID = environ.get(\"MY_DMTOOLS_USERID\")\n",
    "Client = DMToolsClient(MY_DMTOOLS_USERID, MY_DMTOOLS_APIKEY)"
   ]
  },
  {
   "cell_type": "code",
   "execution_count": 5,
   "metadata": {
    "jupyter": {
     "source_hidden": true
    }
   },
   "outputs": [],
   "source": [
    "## get api key and user id from local .env file\n",
    "from dotenv import load_dotenv\n",
    "import os\n",
    "from os import environ, path\n",
    "#BASE_DIR = path.abspath(path.dirname(__file__))\n",
    "BASE_DIR = os.getcwd()\n",
    "load_dotenv(path.join(BASE_DIR, \".env\"))\n",
    "MY_DMTOOLS_APIKEY = environ.get(\"MY_DMTOOLS_APIKEY\")\n",
    "MY_DMTOOLS_USERID = environ.get(\"MY_DMTOOLS_USERID\")\n",
    "Client = DMToolsClient(MY_DMTOOLS_USERID, MY_DMTOOLS_APIKEY)"
   ]
  },
  {
   "cell_type": "code",
   "execution_count": 6,
   "metadata": {},
   "outputs": [],
   "source": [
    "#Client.request_header"
   ]
  },
  {
   "cell_type": "code",
   "execution_count": 7,
   "metadata": {
    "id": "Gnbw2SdjykwR"
   },
   "outputs": [
    {
     "name": "stdout",
     "output_type": "stream",
     "text": [
      "1e-24\n"
     ]
    }
   ],
   "source": [
    "# Define scale factors\n",
    "a = Client.get_scale_factor(\"b\")\n",
    "print(a)"
   ]
  },
  {
   "cell_type": "code",
   "execution_count": 8,
   "metadata": {},
   "outputs": [
    {
     "data": {
      "text/html": [
       "<div>\n",
       "<style scoped>\n",
       "    .dataframe tbody tr th:only-of-type {\n",
       "        vertical-align: middle;\n",
       "    }\n",
       "\n",
       "    .dataframe tbody tr th {\n",
       "        vertical-align: top;\n",
       "    }\n",
       "\n",
       "    .dataframe thead th {\n",
       "        text-align: right;\n",
       "    }\n",
       "</style>\n",
       "<table border=\"1\" class=\"dataframe\">\n",
       "  <thead>\n",
       "    <tr style=\"text-align: right;\">\n",
       "      <th></th>\n",
       "      <th>plot_id</th>\n",
       "      <th>color</th>\n",
       "      <th>style</th>\n",
       "      <th>updated_at</th>\n",
       "      <th>limit_id</th>\n",
       "      <th>id</th>\n",
       "      <th>created_at</th>\n",
       "      <th>subject</th>\n",
       "      <th>row_id</th>\n",
       "    </tr>\n",
       "  </thead>\n",
       "  <tbody>\n",
       "    <tr>\n",
       "      <th>0</th>\n",
       "      <td>11</td>\n",
       "      <td>k</td>\n",
       "      <td>line</td>\n",
       "      <td>200908121136</td>\n",
       "      <td>273</td>\n",
       "      <td>48</td>\n",
       "      <td>2009-08-12 11:36:38</td>\n",
       "      <td>limit_display</td>\n",
       "      <td>0</td>\n",
       "    </tr>\n",
       "    <tr>\n",
       "      <th>1</th>\n",
       "      <td>11</td>\n",
       "      <td>r</td>\n",
       "      <td>line</td>\n",
       "      <td>200908121150</td>\n",
       "      <td>222</td>\n",
       "      <td>49</td>\n",
       "      <td>2009-08-12 11:38:42</td>\n",
       "      <td>limit_display</td>\n",
       "      <td>1</td>\n",
       "    </tr>\n",
       "    <tr>\n",
       "      <th>2</th>\n",
       "      <td>11</td>\n",
       "      <td>dkg</td>\n",
       "      <td>line</td>\n",
       "      <td>200908121140</td>\n",
       "      <td>202</td>\n",
       "      <td>50</td>\n",
       "      <td>2009-08-12 11:40:16</td>\n",
       "      <td>limit_display</td>\n",
       "      <td>2</td>\n",
       "    </tr>\n",
       "    <tr>\n",
       "      <th>3</th>\n",
       "      <td>12</td>\n",
       "      <td>k</td>\n",
       "      <td>dash</td>\n",
       "      <td>200908142122</td>\n",
       "      <td>51</td>\n",
       "      <td>53</td>\n",
       "      <td>2009-08-14 21:22:06</td>\n",
       "      <td>limit_display</td>\n",
       "      <td>3</td>\n",
       "    </tr>\n",
       "    <tr>\n",
       "      <th>4</th>\n",
       "      <td>12</td>\n",
       "      <td>k</td>\n",
       "      <td>line</td>\n",
       "      <td>200908142122</td>\n",
       "      <td>52</td>\n",
       "      <td>54</td>\n",
       "      <td>2009-08-14 21:22:07</td>\n",
       "      <td>limit_display</td>\n",
       "      <td>4</td>\n",
       "    </tr>\n",
       "    <tr>\n",
       "      <th>...</th>\n",
       "      <td>...</td>\n",
       "      <td>...</td>\n",
       "      <td>...</td>\n",
       "      <td>...</td>\n",
       "      <td>...</td>\n",
       "      <td>...</td>\n",
       "      <td>...</td>\n",
       "      <td>...</td>\n",
       "      <td>...</td>\n",
       "    </tr>\n",
       "    <tr>\n",
       "      <th>11664</th>\n",
       "      <td>4664</td>\n",
       "      <td>k</td>\n",
       "      <td>line</td>\n",
       "      <td>202108031957</td>\n",
       "      <td>1113</td>\n",
       "      <td>24917</td>\n",
       "      <td>2021-08-03 19:57:09</td>\n",
       "      <td>limit_display</td>\n",
       "      <td>11664</td>\n",
       "    </tr>\n",
       "    <tr>\n",
       "      <th>11665</th>\n",
       "      <td>4664</td>\n",
       "      <td>k</td>\n",
       "      <td>line</td>\n",
       "      <td>202108031957</td>\n",
       "      <td>1009</td>\n",
       "      <td>24918</td>\n",
       "      <td>2021-08-03 19:57:40</td>\n",
       "      <td>limit_display</td>\n",
       "      <td>11665</td>\n",
       "    </tr>\n",
       "    <tr>\n",
       "      <th>11666</th>\n",
       "      <td>4665</td>\n",
       "      <td>k</td>\n",
       "      <td>line</td>\n",
       "      <td>202111022029</td>\n",
       "      <td>322</td>\n",
       "      <td>24919</td>\n",
       "      <td>2021-11-02 20:29:28</td>\n",
       "      <td>limit_display</td>\n",
       "      <td>11666</td>\n",
       "    </tr>\n",
       "    <tr>\n",
       "      <th>11667</th>\n",
       "      <td>4667</td>\n",
       "      <td>k</td>\n",
       "      <td>line</td>\n",
       "      <td>202111031420</td>\n",
       "      <td>1115</td>\n",
       "      <td>24920</td>\n",
       "      <td>2021-11-03 14:20:11</td>\n",
       "      <td>limit_display</td>\n",
       "      <td>11667</td>\n",
       "    </tr>\n",
       "    <tr>\n",
       "      <th>11668</th>\n",
       "      <td>4668</td>\n",
       "      <td>k</td>\n",
       "      <td>line</td>\n",
       "      <td>202111031442</td>\n",
       "      <td>1116</td>\n",
       "      <td>24921</td>\n",
       "      <td>2021-11-03 14:42:03</td>\n",
       "      <td>limit_display</td>\n",
       "      <td>11668</td>\n",
       "    </tr>\n",
       "  </tbody>\n",
       "</table>\n",
       "<p>11669 rows × 9 columns</p>\n",
       "</div>"
      ],
      "text/plain": [
       "      plot_id color style    updated_at limit_id     id           created_at  \\\n",
       "0          11     k  line  200908121136      273     48  2009-08-12 11:36:38   \n",
       "1          11     r  line  200908121150      222     49  2009-08-12 11:38:42   \n",
       "2          11   dkg  line  200908121140      202     50  2009-08-12 11:40:16   \n",
       "3          12     k  dash  200908142122       51     53  2009-08-14 21:22:06   \n",
       "4          12     k  line  200908142122       52     54  2009-08-14 21:22:07   \n",
       "...       ...   ...   ...           ...      ...    ...                  ...   \n",
       "11664    4664     k  line  202108031957     1113  24917  2021-08-03 19:57:09   \n",
       "11665    4664     k  line  202108031957     1009  24918  2021-08-03 19:57:40   \n",
       "11666    4665     k  line  202111022029      322  24919  2021-11-02 20:29:28   \n",
       "11667    4667     k  line  202111031420     1115  24920  2021-11-03 14:20:11   \n",
       "11668    4668     k  line  202111031442     1116  24921  2021-11-03 14:42:03   \n",
       "\n",
       "             subject  row_id  \n",
       "0      limit_display       0  \n",
       "1      limit_display       1  \n",
       "2      limit_display       2  \n",
       "3      limit_display       3  \n",
       "4      limit_display       4  \n",
       "...              ...     ...  \n",
       "11664  limit_display   11664  \n",
       "11665  limit_display   11665  \n",
       "11666  limit_display   11666  \n",
       "11667  limit_display   11667  \n",
       "11668  limit_display   11668  \n",
       "\n",
       "[11669 rows x 9 columns]"
      ]
     },
     "execution_count": 8,
     "metadata": {},
     "output_type": "execute_result"
    }
   ],
   "source": [
    "purpose = 'read_all'\n",
    "subject = 'limit_display'\n",
    "id = ''\n",
    "Client.create_current_url(purpose, subject, id)\n",
    "all_limit_display_df = Client.read_current_as_df()\n",
    "all_limit_display_df"
   ]
  },
  {
   "cell_type": "code",
   "execution_count": 9,
   "metadata": {
    "id": "sR3ji2F_Sd2U"
   },
   "outputs": [],
   "source": [
    "combos = all_limit_display_df[['color','style']].drop_duplicates()\n",
    "style_list = all_limit_display_df['style'].drop_duplicates().tolist()\n",
    "color_list = all_limit_display_df['color'].drop_duplicates().tolist()"
   ]
  },
  {
   "cell_type": "code",
   "execution_count": 10,
   "metadata": {},
   "outputs": [],
   "source": [
    "## Checking Translations"
   ]
  },
  {
   "cell_type": "code",
   "execution_count": 11,
   "metadata": {
    "id": "7vHAXJFSUr6z"
   },
   "outputs": [],
   "source": [
    "style_list = ['line', 'dash', 'fill', 'dot', 'hex', 'asterisk', 'tril', 'plus',\n",
    " 'cross', 'circle', 'trid', 'pent', 'triu', 'trir', 'point']"
   ]
  },
  {
   "cell_type": "code",
   "execution_count": 12,
   "metadata": {
    "id": "WgPfpJzQOYf2"
   },
   "outputs": [],
   "source": [
    "color_list_plots = ['k', 'r', 'dkg', 'ltg', 'ltr', 'b', 'ltb', 'c', 'g10', 'g20', 'dkb', 'dkr', 'g', 'm', 'g60', 'g80', 'g90',\n",
    " 'g30', 'y', 'g50', 'g70', 'g40', 'w']\n",
    "\n",
    "color_list_default = ['LtR', 'LtB', 'DkR', 'DkG', 'Blue', 'k', 'DkB', 'Red', 'Grn', 'Mag', 'LtG', 'Blk', 'G60', 'Cyan']"
   ]
  },
  {
   "cell_type": "code",
   "execution_count": 13,
   "metadata": {},
   "outputs": [],
   "source": [
    "## This Trace Class creates a Dictionary that can then be added directly to the plot\n",
    "from dmtools_client_package.dmtools_client_module import PlotTrace"
   ]
  },
  {
   "cell_type": "code",
   "execution_count": 14,
   "metadata": {
    "id": "AKYd-hjWkJu_"
   },
   "outputs": [],
   "source": [
    "## test the class\n",
    "style_list = ['line', 'dash', 'fill', 'dot', 'hex', 'asterisk', 'tril', 'plus',\n",
    " 'cross', 'circle', 'trid', 'pent', 'triu', 'trir', 'point']\n",
    "\n",
    "color_list = ['LtR', 'LtB', 'DkR', 'DkG', 'Blue', 'k', 'DkB', 'Red', 'Grn', 'Mag', 'LtG', 'Blk', 'G60', 'Cyan']\n",
    "\n",
    "\n",
    "fig_chart_test = go.Figure(\n",
    "        data=[go.Scatter(x=[], y=[])]\n",
    "    )\n",
    "pt = PlotTrace()\n",
    "\n",
    "for sl in style_list:\n",
    "    color_in = 'k'\n",
    "    style_in = sl\n",
    "    pt.set_values(color_in, style_in)\n",
    "    #tc.set_trace_style('trir')\n",
    "    #tc.__dict__\n",
    "\n",
    "    fig_chart_test.add_trace(go.Scatter(pt.__dict__,x=[1],y=[2],name='name'))\n"
   ]
  },
  {
   "cell_type": "code",
   "execution_count": 15,
   "metadata": {
    "colab": {
     "base_uri": "https://localhost:8080/"
    },
    "id": "mchQU4fLyQ0D",
    "outputId": "b25b3da7-2124-4102-bfd4-35e4b7652a0b"
   },
   "outputs": [
    {
     "data": {
      "text/plain": [
       "{'mode': 'lines+markers',\n",
       " 'line': {'color': 'black', 'width': 1, 'dash': 'solid'},\n",
       " 'marker': {'symbol': 'x-dot'},\n",
       " 'fillcolor': None,\n",
       " 'opacity': 1,\n",
       " 'fill': 'toself',\n",
       " 'line_width': 1}"
      ]
     },
     "execution_count": 15,
     "metadata": {},
     "output_type": "execute_result"
    }
   ],
   "source": [
    "pt.__dict__"
   ]
  },
  {
   "cell_type": "code",
   "execution_count": 16,
   "metadata": {
    "id": "dUYQoNMSyL0h"
   },
   "outputs": [],
   "source": [
    "pt_in = {'mode': 'lines+markers',\n",
    " 'line': {'color': 'black', 'width': 1, 'dash': 'dash'},\n",
    " 'marker': {'symbol': 'blah'},\n",
    " 'fillcolor': None,\n",
    " 'opacity': 1,\n",
    " 'fill': 'none'}\n",
    "#fig_chart_test.add_trace(go.Scatter(tc_in,x=[1],y=[2],name='name'))"
   ]
  },
  {
   "cell_type": "code",
   "execution_count": 25,
   "metadata": {
    "colab": {
     "base_uri": "https://localhost:8080/"
    },
    "id": "66wXgH9xVDgp",
    "outputId": "6a45776c-efaa-4143-9762-c9dba7861dfd"
   },
   "outputs": [
    {
     "data": {
      "text/plain": [
       "'[[[\"6.00000e+01\", \"4.00000e-43\"], [\"7.00000e+01\", \"4.00000e-43\"], [\"1.60000e+02\", \"5.50000e-44\"], [\"3.20000e+02\", \"2.50000e-44\"], [\"6.30000e+02\", \"3.20000e-44\"], [\"6.40000e+02\", \"3.00000e-44\"], [\"6.40000e+02\", \"1.20000e-44\"], [\"6.30000e+02\", \"1.00000e-44\"], [\"2.25000e+02\", \"9.00000e-45\"], [\"2.15000e+02\", \"7.00000e-45\"], [\"3.15000e+02\", \"7.00000e-46\"], [\"4.70000e+02\", \"2.10000e-46\"], [\"6.50000e+02\", \"7.00000e-47\"], [\"6.60000e+02\", \"6.80000e-47\"], [\"6.60000e+02\", \"2.00000e-47\"], [\"6.50000e+02\", \"2.00000e-47\"], [\"4.70000e+02\", \"6.00000e-47\"], [\"3.15000e+02\", \"1.00000e-46\"], [\"2.15000e+02\", \"3.00000e-46\"], [\"1.00000e+02\", \"8.00000e-46\"], [\"6.00000e+01\", \"1.00000e-45\"], [\"6.00000e+01\", \"4.00000e-43\"]]]'"
      ]
     },
     "execution_count": 25,
     "metadata": {},
     "output_type": "execute_result"
    }
   ],
   "source": [
    "purpose = 'read_a'\n",
    "subject = 'data'\n",
    "id = 1\n",
    "Client.create_current_url(purpose, subject, id)\n",
    "a_data_json_obj = Client.read_current_as_json()\n",
    "a_data_json_obj['data']"
   ]
  },
  {
   "cell_type": "code",
   "execution_count": 18,
   "metadata": {},
   "outputs": [],
   "source": [
    "#nested_json_data = json.dumps(nested_payload).encode('utf-8')\n",
    "\n",
    "\n",
    "#print(\"Payload:\", json.dumps(nested_json_data))"
   ]
  },
  {
   "cell_type": "code",
   "execution_count": 19,
   "metadata": {
    "id": "HlTOwItqyT3H"
   },
   "outputs": [],
   "source": [
    "#x = Client.clean_data_values(1)"
   ]
  },
  {
   "cell_type": "code",
   "execution_count": 20,
   "metadata": {},
   "outputs": [
    {
     "data": {
      "text/plain": [
       "'\\ndef update_current(data_in,url_in):\\n    if url_in == \\'\\':\\n        encoded_data = data_in.encode(\\'utf-8\\')\\n        api_server = \"https://dmtools.brown.edu/\"\\n        data_api = \"dmtool/fastapi_data/open/data/\"\\n        fastapi_url_data = api_server + data_api + \"update_a_data/?id_in=\" + str(1)\\n        update_request = urllib.request.Request(fastapi_url_data, data=encoded_data, method=\\'PATCH\\')\\n        #update_request.add_header(\\'dmtool-userid\\', str(self.dmtool_userid))\\n        #update_request.add_header(\\'dmtool-apikey\\', self.dmtool_apikey)\\n        update_request.add_header(\\'dmtool-userid\\', Client.request_header[\\'dmtool-userid\\'])\\n        update_request.add_header(\\'dmtool-apikey\\', Client.request_header[\\'dmtool-apikey\\'])\\n        #update_request.add_header(\\'Content-Type\\', \\'application/x-www-form-urlencoded\\')\\n        update_request.add_header(\\'Content-Type\\', \\'application/json\\')\\n    else:\\n        encoded_data = data_in.encode(\\'utf-8\\')\\n        update_request = urllib.request.Request(self.current_url, data=encoded_data, method=\\'PATCH\\')\\n        update_request.add_header(\\'dmtool-userid\\', str(self.dmtools_userid))\\n        update_request.add_header(\\'dmtool-apikey\\', self.dmtools_apikey)\\n        update_request.add_header(\\'Content-Type\\', \\'application/json\\')\\n        #create_request.add_header(\\'Content-Type\\', \\'application/x-www-form-urlencoded\\')\\n    \\n    try:\\n        with urllib.request.urlopen(update_request, context=context) as response:\\n            response_data = response.read().decode(\\'utf-8\\')\\n            response_json_obj = json.loads(response_data)\\n            return response_json_obj\\n    except urllib.error.HTTPError as e:\\n        if e.code == 307:\\n            redirect_url = e.headers[\\'Location\\']\\n            return self.update_current(data_in, redirect_url)\\n        elif e.code == 422:\\n            print(\"HTTP 422 Unprocessable Entity\")\\n            error_response = e.read().decode(\\'utf-8\\')\\n            print(\"Response content:\", error_response)\\n        else:\\n            print(f\"Error: {e.code}\")\\n            error_response = e.read().decode(\\'utf-8\\')\\n            print(\"Response content:\", error_response)\\n            '"
      ]
     },
     "execution_count": 20,
     "metadata": {},
     "output_type": "execute_result"
    }
   ],
   "source": []
  },
  {
   "cell_type": "code",
   "execution_count": 21,
   "metadata": {
    "id": "CTSMdDLry0MI"
   },
   "outputs": [
    {
     "data": {
      "text/plain": [
       "'\\ndef clean_data_values(data_id_in, request_header_in):\\n    api_server = \"https://dmtools.het.brown.edu/\"\\n    data_api = \"dmtool/fastapi_data/open/data/\"\\n    fastapi_url_data = api_server + data_api + \"read_a_data/?id_in=\" + str(data_id_in)\\n    request = Request(fastapi_url_data, headers=request_header_in)\\n    r = urllib.request.urlopen(request, context=context)\\n    string = r.read().decode(\\'utf-8\\')\\n    a_data_json_obj = json.loads(string)\\n    data_string = a_data_json_obj[\\'data_values\\']\\n    #all_plots_json_obj[1]\\n    #a_data_df = pd.DataFrame(a_data_json_obj, index=[0])\\n    data_string = data_string.replace(\"{[\", \"\")\\n    data_string = data_string.replace(\"]}\", \"\")\\n    #print(data_string)\\n    data_series = data_string.split(\"]\")\\n    len(data_series)\\n    lol = []\\n    for l in range(0,len(data_series)):\\n        series_lol = []\\n        series_id = 0\\n        trace_id = l + 1\\n        single_set = data_series[l]\\n        set_list = single_set.split(\";\")\\n        for i in set_list:\\n            ## the following was added due to a different approach to data_string format\\n            r0 = i.replace(\\',[\\',\\'\\')\\n            r1 = r0.replace(\\'  \\',\\' \\')\\n            r2 = r1.replace(\\'  \\',\\' \\')\\n            r3 = r2.replace(\\'  \\',\\' \\')\\n            r4 = r3.replace(\\'\\r\\n\\',\\'\\')\\n            r5 = r4.replace(\\'\\t\\',\\' \\')\\n            r6 = r5.replace(\\',\\',\\' \\')\\n            r7 = r6.replace(\\'  \\',\\' \\')\\n            r8 = r7.replace(\\'  \\',\\' \\')\\n            r9 = r8.replace(\\'\\n\\',\\' \\')\\n            r10 = r9.replace(\"\\', \\'\",\" \")\\n            r11 = r10.replace(\"[\\'[\",\\'\\')\\n            r12 = r11.replace(\\']\\',\\'\\')\\n            r13 = r12.replace(\\'[\\',\\'\\')\\n            r14 = r13.replace(\\',\\',\\'\\')\\n            s = r14.lstrip()\\n            z = s.split(\" \");\\n            try:\\n                raw_y = z[1]\\n                raw_x = z[0].replace(\",[\", \"\")\\n                #print(\\'print split z >>>>\\', z)\\n            except:\\n                #print(z)\\n                raw_y = \\'0\\'\\n                raw_x = \\'0\\'\\n            \\n            try:\\n                x = float(raw_x)\\n                y = float(raw_y)\\n                masses =  float(raw_x)\\n                cross_sections = float(raw_y)\\n                formatted_x = \"{:.5e}\".format(x)\\n                formatted_y = \"{:.5e}\".format(y)\\n                #append_this = str(trace_id) + \",\" + formatted_x + \",\" + formatted_y\\n                #append_this = \\'[\\'+formatted_x+\\',\\'+formatted_y+\\'],\\'\\n                append_this = [formatted_x, formatted_y]\\n                series_lol = series_lol + [append_this]\\n            except:\\n                print(\\'rejected z >> \\', z)\\n        lol = lol + [series_lol]\\n         \\n\\n    nested_data = [[[\\'1\\', \\'1\\'], [\\'1\\', \\'0\\']], [[\\'1\\', \\'1\\'], [\\'1\\', \\'0\\']]]\\n    simple_data = \"data\"\\n    # Convert the nested data to a JSON string\\n    #nested_data_string = json.dumps(nested_data)\\n    nested_data_string = json.dumps(lol)\\n    \\n    # Construct the payload with the nested JSON string\\n    payload = {\\n        \"data\": nested_data_string\\n    }\\n    \\n    json_data = json.dumps(payload)\\n    print(json_data)\\n    r = update_current(json_data,\\'\\')\\n    print(r)\\n    \\n\\n'"
      ]
     },
     "execution_count": 21,
     "metadata": {},
     "output_type": "execute_result"
    }
   ],
   "source": []
  },
  {
   "cell_type": "code",
   "execution_count": 22,
   "metadata": {},
   "outputs": [
    {
     "name": "stdout",
     "output_type": "stream",
     "text": [
      "None\n"
     ]
    }
   ],
   "source": [
    "x = Client.clean_data_values(1)\n",
    "print(x)"
   ]
  },
  {
   "cell_type": "code",
   "execution_count": 27,
   "metadata": {},
   "outputs": [],
   "source": [
    "purpose = 'read_all'\n",
    "subject = 'data'\n",
    "Client.create_current_url(purpose, subject, id)\n",
    "all_data_json_obj = Client.read_current_as_json()"
   ]
  },
  {
   "cell_type": "code",
   "execution_count": 28,
   "metadata": {
    "colab": {
     "base_uri": "https://localhost:8080/",
     "height": 36
    },
    "id": "ABfObCnMMjg_",
    "outputId": "243a909a-eb8b-4179-b932-ed6fce885a0a"
   },
   "outputs": [],
   "source": [
    "for dic in all_data_json_obj:\n",
    "    data_id = dic['id']\n",
    "    Client.clean_data_values(data_id)"
   ]
  },
  {
   "cell_type": "code",
   "execution_count": null,
   "metadata": {
    "id": "w8HKg4GvLm1p"
   },
   "outputs": [],
   "source": [
    "#string_csv = StringIO(lol)\n",
    "#df = pd.read_csv(string_csv,sep=\",\", lineterminator=\"|\")"
   ]
  },
  {
   "cell_type": "code",
   "execution_count": null,
   "metadata": {
    "id": "Vily0Lq0H2jP"
   },
   "outputs": [],
   "source": [
    "## Illustrating new data string, existing data values are being retained"
   ]
  },
  {
   "cell_type": "code",
   "execution_count": 29,
   "metadata": {
    "colab": {
     "base_uri": "https://localhost:8080/"
    },
    "id": "rlVPBL329Aav",
    "outputId": "cdcc8512-a194-4791-ddec-9e4bf9f255c0"
   },
   "outputs": [
    {
     "data": {
      "text/plain": [
       "{'id': '255',\n",
       " 'limit_id': '273',\n",
       " 'subject': 'data',\n",
       " 'spin_dependency': 'SI',\n",
       " 'result_type': 'Exp',\n",
       " 'measurement_type': 'Dir',\n",
       " 'x_units': 'GeV',\n",
       " 'y_units': 'cm^2',\n",
       " 'x_rescale': '1',\n",
       " 'y_rescale': '1',\n",
       " 'default_color': 'Red',\n",
       " 'default_style': 'Line',\n",
       " 'data_values': '{[7 1.972e-40;8 1.745e-41;9 3.99605e-42;10 1.44657e-42;11 6.88567e-43;12 3.92483e-43;13 2.53937e-43;14 1.80041e-43;15 1.36651e-43;20 6.34288e-44;25 4.82693e-44;30 4.46491e-44;35 4.47831e-44;40 4.64848e-44;45 4.90415e-44;50 5.1984e-44;55 5.5259e-44;60 5.87403e-44;65 6.23234e-44;70 6.60628e-44;75 6.98284e-44;80 7.35992e-44;85 7.74999e-44;90 8.13749e-44;95 8.53623e-44;100 8.92889e-44;110 9.72357e-44;120 1.05306e-43;130 1.1331e-43;140 1.21468e-43;150 1.29606e-43;160 1.37771e-43;170 1.459e-43;180 1.5407e-43;190 1.62236e-43;200 1.7051e-43;210 1.78694e-43;220 1.86914e-43;230 1.95139e-43;240 2.03334e-43;250 2.11671e-43;260 2.19926e-43;270 2.28064e-43;280 2.36274e-43;290 2.44543e-43;300 2.52858e-43;310 2.61202e-43;320 2.693e-43;330 2.77648e-43;340 2.85977e-43;350 2.94271e-43;360 3.0251e-43;370 3.10678e-43;380 3.19066e-43;390 3.27043e-43;400 3.35546e-43;410 3.43599e-43;420 3.51846e-43;430 3.6029e-43;440 3.68576e-43;450 3.76685e-43;460 3.84972e-43;470 3.93442e-43;480 4.01704e-43;490 4.09738e-43;500 4.18342e-43;510 4.26291e-43;520 4.34817e-43;530 4.43078e-43;540 4.51497e-43;550 4.59624e-43;560 4.67897e-43;570 4.76319e-43;580 4.84417e-43;590 4.92652e-43;600 5.01027e-43;610 5.09043e-43;620 5.17697e-43;630 5.2598e-43;640 5.3387e-43;650 5.42412e-43;660 5.50548e-43;670 5.58806e-43;680 5.67188e-43;690 5.75696e-43;700 5.83756e-43;710 5.91928e-43;720 6.00215e-43;730 6.08618e-43;740 6.17139e-43;750 6.25162e-43;760 6.33289e-43;770 6.41522e-43;780 6.49861e-43;790 6.5831e-43;800 6.66868e-43;810 6.7487e-43;820 6.82968e-43;830 6.91164e-43;840 6.99458e-43;850 7.07852e-43;860 7.16346e-43;870 7.24942e-43;880 7.32916e-43;890 7.40978e-43;900 7.49129e-43;910 7.58119e-43;920 7.657e-43;930 7.74123e-43;940 7.82638e-43;950 7.91247e-43;960 7.99159e-43;970 8.07151e-43;980 8.1603e-43;990 8.2419e-43;1000 8.32432e-43]}',\n",
       " 'data': 'trace_id,x,y|1,7.00000e+00,1.97200e-40|1,8.00000e+00,1.74500e-41|1,9.00000e+00,3.99605e-42|1,1.00000e+01,1.44657e-42|1,1.10000e+01,6.88567e-43|1,1.20000e+01,3.92483e-43|1,1.30000e+01,2.53937e-43|1,1.40000e+01,1.80041e-43|1,1.50000e+01,1.36651e-43|1,2.00000e+01,6.34288e-44|1,2.50000e+01,4.82693e-44|1,3.00000e+01,4.46491e-44|1,3.50000e+01,4.47831e-44|1,4.00000e+01,4.64848e-44|1,4.50000e+01,4.90415e-44|1,5.00000e+01,5.19840e-44|1,5.50000e+01,5.52590e-44|1,6.00000e+01,5.87403e-44|1,6.50000e+01,6.23234e-44|1,7.00000e+01,6.60628e-44|1,7.50000e+01,6.98284e-44|1,8.00000e+01,7.35992e-44|1,8.50000e+01,7.74999e-44|1,9.00000e+01,8.13749e-44|1,9.50000e+01,8.53623e-44|1,1.00000e+02,8.92889e-44|1,1.10000e+02,9.72357e-44|1,1.20000e+02,1.05306e-43|1,1.30000e+02,1.13310e-43|1,1.40000e+02,1.21468e-43|1,1.50000e+02,1.29606e-43|1,1.60000e+02,1.37771e-43|1,1.70000e+02,1.45900e-43|1,1.80000e+02,1.54070e-43|1,1.90000e+02,1.62236e-43|1,2.00000e+02,1.70510e-43|1,2.10000e+02,1.78694e-43|1,2.20000e+02,1.86914e-43|1,2.30000e+02,1.95139e-43|1,2.40000e+02,2.03334e-43|1,2.50000e+02,2.11671e-43|1,2.60000e+02,2.19926e-43|1,2.70000e+02,2.28064e-43|1,2.80000e+02,2.36274e-43|1,2.90000e+02,2.44543e-43|1,3.00000e+02,2.52858e-43|1,3.10000e+02,2.61202e-43|1,3.20000e+02,2.69300e-43|1,3.30000e+02,2.77648e-43|1,3.40000e+02,2.85977e-43|1,3.50000e+02,2.94271e-43|1,3.60000e+02,3.02510e-43|1,3.70000e+02,3.10678e-43|1,3.80000e+02,3.19066e-43|1,3.90000e+02,3.27043e-43|1,4.00000e+02,3.35546e-43|1,4.10000e+02,3.43599e-43|1,4.20000e+02,3.51846e-43|1,4.30000e+02,3.60290e-43|1,4.40000e+02,3.68576e-43|1,4.50000e+02,3.76685e-43|1,4.60000e+02,3.84972e-43|1,4.70000e+02,3.93442e-43|1,4.80000e+02,4.01704e-43|1,4.90000e+02,4.09738e-43|1,5.00000e+02,4.18342e-43|1,5.10000e+02,4.26291e-43|1,5.20000e+02,4.34817e-43|1,5.30000e+02,4.43078e-43|1,5.40000e+02,4.51497e-43|1,5.50000e+02,4.59624e-43|1,5.60000e+02,4.67897e-43|1,5.70000e+02,4.76319e-43|1,5.80000e+02,4.84417e-43|1,5.90000e+02,4.92652e-43|1,6.00000e+02,5.01027e-43|1,6.10000e+02,5.09043e-43|1,6.20000e+02,5.17697e-43|1,6.30000e+02,5.25980e-43|1,6.40000e+02,5.33870e-43|1,6.50000e+02,5.42412e-43|1,6.60000e+02,5.50548e-43|1,6.70000e+02,5.58806e-43|1,6.80000e+02,5.67188e-43|1,6.90000e+02,5.75696e-43|1,7.00000e+02,5.83756e-43|1,7.10000e+02,5.91928e-43|1,7.20000e+02,6.00215e-43|1,7.30000e+02,6.08618e-43|1,7.40000e+02,6.17139e-43|1,7.50000e+02,6.25162e-43|1,7.60000e+02,6.33289e-43|1,7.70000e+02,6.41522e-43|1,7.80000e+02,6.49861e-43|1,7.90000e+02,6.58310e-43|1,8.00000e+02,6.66868e-43|1,8.10000e+02,6.74870e-43|1,8.20000e+02,6.82968e-43|1,8.30000e+02,6.91164e-43|1,8.40000e+02,6.99458e-43|1,8.50000e+02,7.07852e-43|1,8.60000e+02,7.16346e-43|1,8.70000e+02,7.24942e-43|1,8.80000e+02,7.32916e-43|1,8.90000e+02,7.40978e-43|1,9.00000e+02,7.49129e-43|1,9.10000e+02,7.58119e-43|1,9.20000e+02,7.65700e-43|1,9.30000e+02,7.74123e-43|1,9.40000e+02,7.82638e-43|1,9.50000e+02,7.91247e-43|1,9.60000e+02,7.99159e-43|1,9.70000e+02,8.07151e-43|1,9.80000e+02,8.16030e-43|1,9.90000e+02,8.24190e-43|1,1.00000e+03,8.32432e-43|',\n",
       " 'data_label': 'XENON10, 2007, first results, 58.6 live days, SI',\n",
       " 'file_name': 'XENON10_SI_PRL.limit',\n",
       " 'data_comment': 'Sigma normalized to WIMP-Nucleon [Yellin Max Gap]',\n",
       " 'data_reference': 'Phys. Rev. Lett. 100 (2008), 021303; arXiv:0706.0039',\n",
       " 'updated_at': '2013-09-18 22:59:43',\n",
       " 'creator_id': 'None',\n",
       " 'experiment': 'XENON10',\n",
       " 'rating': '90',\n",
       " 'date_of_announcement': '2007-01-01',\n",
       " 'public': '1',\n",
       " 'open': '1',\n",
       " 'official': '1',\n",
       " 'date_official': '2009-07-16 00:00:00',\n",
       " 'greatest_hit': '1',\n",
       " 'date_of_run_start': 'None',\n",
       " 'date_of_run_end': 'None',\n",
       " 'year': '2007'}"
      ]
     },
     "execution_count": 29,
     "metadata": {},
     "output_type": "execute_result"
    }
   ],
   "source": [
    "purpose = 'read_a'\n",
    "subject = 'data'\n",
    "id = '255'\n",
    "Client.create_current_url(purpose, subject, id)\n",
    "a_data_json_obj = Client.read_current_as_json()\n",
    "a_data_json_obj"
   ]
  },
  {
   "cell_type": "code",
   "execution_count": null,
   "metadata": {
    "colab": {
     "base_uri": "https://localhost:8080/"
    },
    "id": "fqQLZxXvlSF6",
    "outputId": "bced8de6-83b9-4ca8-e82c-ca278358dafd"
   },
   "outputs": [],
   "source": [
    "def get_all_owned_and_open_plots(request_header_in):\n",
    "    api_server = \"https://dmtools.het.brown.edu/\"\n",
    "    data_api = \"dmtool/fastapi_data/open/data/\"\n",
    "    fastapi_url_read_all_plots = api_server + data_api + \"read_all_plot/\"\n",
    "    #r = requests.get(fastapi_url_plots, headers = request_header)\n",
    "    request = Request(fastapi_url_read_all_plots, headers=request_header)\n",
    "    r = urllib.request.urlopen(request, context=context)\n",
    "    string = r.read().decode('utf-8')\n",
    "    all_plots_json_obj = json.loads(string)\n",
    "    #all_plots_json_obj[1]\n",
    "    all_plots_df_ret = pd.DataFrame(all_plots_json_obj)\n",
    "    all_plots_df_ret['row_id'] = all_plots_df_ret.index\n",
    "    #all_plots_df.head(10)\n",
    "    return all_plots_df_ret\n",
    "\n",
    "all_plots_df = get_all_owned_and_open_plots(request_header)\n",
    "all_plots_df.columns"
   ]
  },
  {
   "cell_type": "code",
   "execution_count": null,
   "metadata": {
    "colab": {
     "base_uri": "https://localhost:8080/",
     "height": 206
    },
    "id": "NtvQhbLFlqnY",
    "outputId": "a5c0d6a3-1245-43fd-9ce0-80edbc9da4a6"
   },
   "outputs": [],
   "source": [
    "#all_plots_df.head(5)\n",
    "all_plots_df[['id', 'old_id', 'y_units','open', 'user_id','name', 'created_at', 'row_id']].head(5)"
   ]
  },
  {
   "cell_type": "code",
   "execution_count": null,
   "metadata": {
    "colab": {
     "base_uri": "https://localhost:8080/",
     "height": 865
    },
    "id": "2GXw4xpKlujM",
    "outputId": "8a82f0c2-ac1c-4a90-e6f6-365d002a3256"
   },
   "outputs": [],
   "source": [
    "def GetPlotsContaining(string_in, request_header_in):\n",
    "    all_plots_df = get_all_owned_and_open_plots(request_header_in)\n",
    "    #all_plots_df.columns\n",
    "    return_df = all_plots_df[['id', 'old_id', 'y_units','open', 'user_id','name', 'created_at']][all_plots_df['name'].str.contains(string_in)].copy()\n",
    "    return_df['created_at'] = pd.to_datetime(return_df['created_at'], errors='coerce')\n",
    "    return_df['created_at'] = return_df['created_at'].dt.strftime('%Y%m%d%H%M')\n",
    "    return return_df\n",
    "relevant_plots = GetPlotsContaining('CDMS', request_header)\n",
    "relevant_plots"
   ]
  },
  {
   "cell_type": "code",
   "execution_count": null,
   "metadata": {
    "colab": {
     "base_uri": "https://localhost:8080/",
     "height": 36
    },
    "id": "79LrCBF8na_M",
    "outputId": "d4c8aca1-654d-4485-9ec9-098818107e8c"
   },
   "outputs": [],
   "source": [
    "def get_new_plot_id_from_old_id(all_plots_df_in, old_plot_id_in):\n",
    "    old_plot_details_ret = all_plots_df[['name','x_units', 'id', 'y_units','old_id',  'x_min', 'x_max', 'y_min', 'y_max']] \\\n",
    "    [all_plots_df['old_id']==old_plot_id_in]\n",
    "    return old_plot_details_ret\n",
    "\n",
    "\n",
    "old_plot_id = '107'\n",
    "old_plot_details = get_new_plot_id_from_old_id(all_plots_df,old_plot_id)\n",
    "plot_id = old_plot_details['id'].iloc[0]\n",
    "plot_id"
   ]
  },
  {
   "cell_type": "code",
   "execution_count": null,
   "metadata": {
    "colab": {
     "base_uri": "https://localhost:8080/",
     "height": 147
    },
    "id": "HR00i5LknokI",
    "outputId": "1d42c354-e7da-4a61-cb12-e607124c852a"
   },
   "outputs": [],
   "source": [
    "def get_this_plot_as_df(plot_id_in, request_header_in):\n",
    "    all_plots_df = get_all_owned_and_open_plots(request_header_in)\n",
    "    this_plot_ret = all_plots_df[all_plots_df['id']==plot_id_in].copy()\n",
    "    #this_plot.columns\n",
    "    this_plot_ret['created_at'] = pd.to_datetime(this_plot['created_at'], errors='coerce')\n",
    "    this_plot_ret['created_at'] = this_plot_ret['created_at'].dt.strftime('%Y%m%d%H%M')\n",
    "    this_plot_ret['updated_at'] = pd.to_datetime(this_plot['updated_at'], errors='coerce')\n",
    "    this_plot_ret['updated_at'] = this_plot_ret['updated_at'].dt.strftime('%Y%m%d%H%M')\n",
    "    this_plot_ret[['name','x_max', 'updated_at', 'y_min', 'subject', 'y_max',\n",
    "           'id', 'x_units', 'old_id', 'y_units',\n",
    "           'open', 'user_id', 'name',\n",
    "           'x_min', 'created_at', 'row_id']]\n",
    "    return this_plot_ret\n",
    "this_plot = get_this_plot_as_df('54',request_header)\n",
    "this_plot"
   ]
  },
  {
   "cell_type": "code",
   "execution_count": null,
   "metadata": {
    "id": "bdwJcr8woBmK"
   },
   "outputs": [],
   "source": [
    "class ThisPlot():\n",
    "    def __init__(self,all_plots_df_in,plot_id_in):\n",
    "        self.this_plot = all_plots_df_in[all_plots_df_in['id']==plot_id_in]\n",
    "        #this_plot\n",
    "        self.start_x_range = float(self.this_plot.iloc[0]['x_min'])\n",
    "        self.stop_x_range = float(self.this_plot.iloc[0]['x_max'])\n",
    "        self.start_y_range = float(self.this_plot.iloc[0]['y_min'])\n",
    "        self.stop_y_range = float(self.this_plot.iloc[0]['y_max'])\n",
    "        self.plot_name = self.this_plot.iloc[0]['name']\n",
    "        self.old_id = self.this_plot.iloc[0]['old_id']\n",
    "\n",
    "\n",
    "CurrentPlot = ThisPlot(all_plots_df, plot_id)\n"
   ]
  },
  {
   "cell_type": "code",
   "execution_count": null,
   "metadata": {
    "colab": {
     "base_uri": "https://localhost:8080/"
    },
    "id": "YHkAjSvopf4J",
    "outputId": "5c103018-bc38-42c1-9172-6233e6f12866"
   },
   "outputs": [],
   "source": [
    "CurrentPlot.__dict__"
   ]
  },
  {
   "cell_type": "code",
   "execution_count": null,
   "metadata": {
    "colab": {
     "base_uri": "https://localhost:8080/",
     "height": 206
    },
    "id": "EXkhypsTsW1E",
    "outputId": "fd971e3f-f75d-4472-f627-c85272e0bd2b"
   },
   "outputs": [],
   "source": [
    "def get_limit_displays_for_old_plot(old_plot_id_in, request_header_in):\n",
    "    fastapi_url_limit_displays = api_server + data_api + \"read_by_plot_limit_display/\"\n",
    "    request = Request(fastapi_url_limit_displays + '?id_in=' + str(old_plot_id_in), headers=request_header_in)\n",
    "    r = urllib.request.urlopen(request, context=context)\n",
    "    string = r.read().decode('utf-8')\n",
    "    limit_display_json_obj = json.loads(string)\n",
    "    limit_display_df_ret = pd.DataFrame(limit_display_json_obj)\n",
    "    limit_display_df_ret['row_id'] = limit_display_df_ret.index\n",
    "    limit_display_df_ret['updated_at'] = pd.to_datetime(limit_display_df_ret['updated_at'], errors='coerce')\n",
    "    limit_display_df_ret['updated_at'] = limit_display_df_ret['updated_at'].dt.strftime('%Y%m%d%H%M')\n",
    "    return limit_display_df_ret\n",
    "\n",
    "limit_display_df = get_limit_displays_for_old_plot(old_plot_id, request_header)\n",
    "limit_display_df"
   ]
  },
  {
   "cell_type": "code",
   "execution_count": null,
   "metadata": {
    "colab": {
     "base_uri": "https://localhost:8080/",
     "height": 206
    },
    "id": "KMQ9KfZI-5GC",
    "outputId": "eb70dbef-0a21-4da7-ba6c-cb4e42752606"
   },
   "outputs": [],
   "source": [
    "def get_data_displays_for_plot(plot_id_in, request_header_in):\n",
    "    fastapi_url_data_displays = api_server + data_api + \"read_by_plot_data_display/\"\n",
    "    request = Request(fastapi_url_data_displays + '?id_in=' + str(plot_id_in), headers=request_header_in)\n",
    "    r = urllib.request.urlopen(request, context=c def create_and_return_a_data(self,url_in,data_in):\n",
    "        if url_in == '':\n",
    "            encoded_data = urllib.parse.urlencode(data_in).encode('utf-8')\n",
    "            create_a_data_request = urllib.request.Request(self.fastapi_url_create_a_data, data=encoded_data, method='POST')\n",
    "            create_a_data_request.add_header('dmtool-userid', str(self.dmtool_userid))\n",
    "            create_a_data_request.add_header('dmtool-apikey', self.dmtool_apikey)\n",
    "            create_a_data_request.add_header('Content-Type', 'application/x-www-form-urlencoded')\n",
    "        else:\n",
    "            encoded_data = urllib.parse.urlencode(data_in).encode('utf-8')\n",
    "            create_a_data_request = urllib.request.Request(url_in, data=encoded_data, method='POST')\n",
    "            create_a_data_request.add_header('dmtool-userid', str(self.dmtool_userid))\n",
    "            create_a_data_request.add_header('dmtool-apikey', self.dmtool_apikey)\n",
    "            create_a_data_request.add_header('Content-Type', 'application/x-www-form-urlencoded')ontext)\n",
    "    string = r.read().decode('utf-8')\n",
    "    data_display_json_obj = json.loads(string)\n",
    "    data_display_df_ret = pd.DataFrame(data_display_json_obj)\n",
    "    data_display_df_ret['row_id'] = data_display_df_ret.index\n",
    "    data_display_df_ret['updated_at'] = pd.to_datetime(data_display_df_ret['updated_at'], errors='coerce')\n",
    "    data_display_df_ret['updated_at'] = data_display_df_ret['updated_at'].dt.strftime('%Y%m%d%H%M')\n",
    "    return data_display_df_ret\n",
    "\n",
    "data_display_df = get_data_displays_for_plot(plot_id, request_header)\n",
    "data_display_df"
   ]
  },
  {
   "cell_type": "code",
   "execution_count": null,
   "metadata": {
    "colab": {
     "base_uri": "https://localhost:8080/",
     "height": 206
    },
    "id": "s4AEe2BUCMEz",
    "outputId": "ea249bd4-8411-4f1f-a98b-196d1f2b4817"
   },
   "outputs": [],
   "source": [
    "def get_data_for_plot(plot_id_in, request_header_in):\n",
    "    data_display_df = get_data_displays_for_plot(plot_id, request_header)\n",
    "    data_df_ret = pd.DataFrame()\n",
    "    data_data_df_ret = pd.DataFrame()\n",
    "    for index, row in data_display_df.iterrows():\n",
    "        #print(row['c1'], row['c2']\n",
    "        #print('data id from data >>>>', row['data_id'])\n",
    "        fastapi_url_data = api_server + data_api + \"read_a_data/?id_in=\"+str(row['data_id'])\n",
    "        request = Request(fastapi_url_data, headers=request_header)\n",
    "        r = urllib.request.urlopen(request, context=context)\n",
    "        string = r.read().decode('utf-8')\n",
    "        a_data_json_obj = json.loads(string)\n",
    "        #print(a_data_json_obj)\n",
    "        #a_data_df = pd.DataFrame(a_data_json_obj, index=[0])\n",
    "        data_label = a_data_json_obj['data_label']\n",
    "        data_string = a_data_json_obj['data']\n",
    "        #print(data_string)\n",
    "        string_csv = StringIO(data_string)\n",
    "        data_data_resp_df = pd.read_csv(string_csv,sep=\",\", lineterminator=\"|\")\n",
    "        data_data_resp_df['data_id'] = row['data_id']\n",
    "\n",
    "        data_df_resp = pd.DataFrame(data=a_data_json_obj, index=[0])\n",
    "        #a_data_json_obj\n",
    "        #print(a_data_json_obj)\n",
    "        try:\n",
    "            y_rescale = float(data_df_resp['y_rescale'].iloc[0])\n",
    "        except:\n",
    "            y_rescale = 1\n",
    "        try:\n",
    "            x_rescale = float(data_df_resp['x_rescale'].iloc[0])\n",
    "        except:\n",
    "            x_rescale = 1\n",
    "        \n",
    "        ## when do we rescale?\n",
    "        data_data_resp_df['cross_sections'] = data_data_resp_df['y'].astype(float).apply(lambda y: y * y_rescale)\n",
    "        data_data_resp_df['masses'] = data_data_resp_df['x'].astype(float).apply(lambda x: x * x_rescale)\n",
    "        data_data_resp_df['trace_name'] = data_label\n",
    "\n",
    "        data_data_df_ret = pd.concat([data_data_df_ret,data_data_resp_df])\n",
    "        data_df_ret = pd.concat([data_df_ret,data_df_resp])\n",
    "\n",
    "    return data_df_ret , data_data_df_ret\n",
    "\n",
    "data_df, data_data_df = get_data_for_plot(plot_id, request_header)\n",
    "data_data_df.head(5)"
   ]
  },
  {
   "cell_type": "code",
   "execution_count": null,
   "metadata": {
    "colab": {
     "base_uri": "https://localhost:8080/",
     "height": 206
    },
    "id": "O_hjqKvj9ccB",
    "outputId": "abe18de5-e2c7-40c3-f722-e2bebba41fb4"
   },
   "outputs": [],
   "source": [
    "#trace_list = data_data_df[['data_id','trace_id']].drop_duplicate()\n",
    "trace_list_refs = data_data_df[['data_id','trace_id','trace_name']].copy()\n",
    "trace_list = trace_list_refs.drop_duplicates()\n",
    "trace_list"
   ]
  },
  {
   "cell_type": "code",
   "execution_count": null,
   "metadata": {
    "colab": {
     "base_uri": "https://localhost:8080/"
    },
    "id": "2rZ_5S54D-aj",
    "outputId": "6e3cd48c-dec0-4b95-bbdb-a2e16ce6384a"
   },
   "outputs": [],
   "source": [
    "#data_data_df.head(5)\n",
    "min_cross_sections = data_data_df['y'].min()\n",
    "max_cross_sections = data_data_df['y'].max()\n",
    "min_masses = data_data_df['x'].min()\n",
    "max_masses = data_data_df['x'].max()\n",
    "\n",
    "print('min y :' ,min_cross_sections)\n",
    "print('max y :' ,max_cross_sections)\n",
    "print('min x :' ,min_masses)\n",
    "print('max x :' ,max_masses)\n",
    "\n",
    "#print(start_x_range)\n",
    "#print(stop_x_range)\n",
    "#print(start_y_range)\n",
    "#print(stop_y_range)"
   ]
  },
  {
   "cell_type": "code",
   "execution_count": null,
   "metadata": {
    "colab": {
     "base_uri": "https://localhost:8080/",
     "height": 817
    },
    "id": "_v7ilgVT5rVG",
    "outputId": "10cea150-0c7b-4d7a-f09f-a4f9cac467f2"
   },
   "outputs": [],
   "source": [
    "## need this for the inital build of the dash layout\n",
    "def create_blank_chart_for_plot(plot_name_in, plot_id_in, old_plot_id_in):\n",
    "    y_title_text = r\"$\\text{WIMP Mass [GeV}/c^{2}]$\"\n",
    "    x_title_text = r\"$\\text{Cross Section [cm}^{2}\\text{] (normalized to nucleon)}$\"\n",
    "    plot_title = plot_name_in + \" - Plot Reference:\" + str(plot_id_in) + \" - Old Plot ID:\" + str(old_plot_id_in)\n",
    "    #plot_title\n",
    "    ## create empty chart\n",
    "    fig_chart_out = go.Figure(data=[go.Scatter(x=[], y=[])])\n",
    "    fig_chart_out.update_layout( autosize=False, width=800, height=800, )\n",
    "    fig_chart_out.update_layout(xaxis_range=[-1,-4])\n",
    "    fig_chart_out.update_layout(yaxis_range=[-1,-4])\n",
    "    fig_chart_out.update_layout(\n",
    "            margin=dict(l=0, r=0, t=20, b=0),\n",
    "            paper_bgcolor=\"LightSteelBlue\",)\n",
    "\n",
    "    fig_chart_out.update_layout(\n",
    "        title=dict(text=plot_title , font=dict(size=18), automargin=True, yref='paper')\n",
    "    )\n",
    "    fig_chart_out.update_xaxes(\n",
    "        #title_text=x_title_text,\n",
    "        #type=\"log\"\n",
    "        type=\"linear\"\n",
    "    )\n",
    "    fig_chart_out.update_yaxes(\n",
    "        #title_text=y_title_text,\n",
    "        type=\"log\"\n",
    "        #type=\"linear\"\n",
    "    )\n",
    "    return fig_chart_out\n",
    "\n",
    "fig_chart = create_blank_chart_for_plot('plotty',plot_id, old_plot_id)\n",
    "#fig_chart.show()"
   ]
  },
  {
   "cell_type": "code",
   "execution_count": null,
   "metadata": {
    "colab": {
     "base_uri": "https://localhost:8080/",
     "height": 984
    },
    "id": "EQtIXj-E6Hy9",
    "outputId": "e4922813-ed4b-4b1f-8872-9e880e19ade5"
   },
   "outputs": [],
   "source": [
    "def create_actual_plot(plot_name_in, plot_id_in, old_plot_id_in, data_display_df_in, data_data_df_in):\n",
    "    ## requirement to keep plots square\n",
    "    #if screen_height_in > screen_width_in:\n",
    "    #    plot_square_dimensions =\n",
    "    #plot_square_dimensions = self.screen_height / 2\n",
    "    plot_square_dimensions = 600\n",
    "\n",
    "    m1 = go.layout.Margin(l=20,r=10,b=20,t=20,pad=0)\n",
    "    hw = go.Layout(autosize=False,width=plot_square_dimensions,height=plot_square_dimensions)\n",
    "    y_title_text = r\"$\\text{Cross Section [cm}^{2}\\text{] (normalized to nucleon)}$\"\n",
    "\n",
    "    y1 = go.layout.YAxis(#title=y_title_text,\n",
    "                        title_standoff = 0,\n",
    "                        #range=[start_y_range,stop_y_range],\n",
    "                        type=\"log\",\n",
    "                        titlefont=go.layout.yaxis.title.Font(color='SteelBlue'))\n",
    "\n",
    "    x_title_text = r\"$\\text{WIMP Mass [GeV}/c^{2}]$\"\n",
    "    x1 = go.layout.XAxis(#title=x_title_text,\n",
    "                        title_standoff = 0,\n",
    "                        type=\"log\",\n",
    "                        #type=\"linear\",\n",
    "                        #range=[start_x_range,stop_x_range],\n",
    "                        titlefont=go.layout.xaxis.title.Font(color='SteelBlue'))\n",
    "\n",
    "\n",
    "    ##title1=go.layout.Title(text=\"Dark Matter Detection Results\")\n",
    "\n",
    "    fig_chart_populated = go.Figure(\n",
    "        data=[go.Scatter(x=[], y=[])],\n",
    "        layout=go.Layout(\n",
    "            margin=m1,\n",
    "            yaxis= y1,\n",
    "            xaxis= x1\n",
    "        )\n",
    "    )\n",
    "\n",
    "    plot_title = plot_name_in + \" - P: \" + str(plot_id_in) + \" - O: \" + str(old_plot_id_in)\n",
    "\n",
    "    fig_chart_populated.update_layout(\n",
    "        title=dict(text=plot_title ,font=dict(size=16),automargin=True,yref='paper')\n",
    "    )\n",
    "\n",
    "    fig_chart_populated.update_layout(hw)\n",
    "\n",
    "    for index, row in data_display_df_in.iterrows():\n",
    "        #print(row['limit_id'])\n",
    "        data_id_selected = row['data_id']\n",
    "        #print('selected data_id >>', data_id_selected)\n",
    "        #data_about_selected_df = self.data_about_df[self.data_about_df['data_id']==data_id_selected].copy()\n",
    "        data_display_selected_df_in = data_display_df_in[data_display_df_in['data_id']==data_id_selected].copy()\n",
    "        data_data_selected_df_in = data_data_df_in[data_data_df_in['data_id']==data_id_selected].copy()\n",
    "        trace_list_refs = data_data_selected_df_in[['data_id','trace_id','trace_name']].copy()\n",
    "        trace_list = trace_list_refs.drop_duplicates()\n",
    "        trace_style = data_display_selected_df_in['style'].iloc[0]\n",
    "        trace_color = data_display_selected_df_in['color'].iloc[0]\n",
    "        tc = TraceClass()\n",
    "        tc.set_values(trace_color, trace_style)\n",
    "        for index, row in trace_list.iterrows():\n",
    "            #print(row)\n",
    "            trace_data = data_data_df[(data_data_df['data_id']==row['data_id']) & (data_data_df['trace_id']==row['trace_id'])]\n",
    "            #print(trace_data)\n",
    "            #print(\"trace_data >>>>\" , trace_data)\n",
    "            trace_name = row['trace_name']\n",
    "            fig_chart_populated.add_trace(go.Scatter(tc.__dict__,\n",
    "                                              x=trace_data['masses'],\n",
    "                                              y=trace_data['cross_sections'],\n",
    "                                              name=trace_name,\n",
    "                                                      showlegend=False\n",
    "                                                  ))\n",
    "    return fig_chart_populated\n",
    "fig_chart_1 = create_actual_plot('Plot Name', plot_id, old_plot_id, data_display_df, data_data_df )\n",
    "fig_chart_1.show()"
   ]
  },
  {
   "cell_type": "code",
   "execution_count": null,
   "metadata": {
    "colab": {
     "base_uri": "https://localhost:8080/",
     "height": 55
    },
    "id": "YVV0TK0v6-b2",
    "outputId": "4545e8e6-8f47-4c7c-d345-2c50ac436e28"
   },
   "outputs": [],
   "source": [
    "'''\n",
    "## are we happy with hover template now data is 5 decimal places?\n",
    "hovertemplate =\n",
    "                                               '<i><b>Cross Section</b></i>: %{y:.4E}'+\n",
    "                                                  '<br><b>Mass</b>: %{x}<br>',\n",
    "showlegend=False,\n",
    "'''"
   ]
  },
  {
   "cell_type": "code",
   "execution_count": null,
   "metadata": {
    "colab": {
     "base_uri": "https://localhost:8080/",
     "height": 206
    },
    "id": "O-qtaLxU8K-k",
    "outputId": "ade17600-328c-4ab7-89c3-95e5616c1ef5"
   },
   "outputs": [],
   "source": [
    "limit_display_df"
   ]
  },
  {
   "cell_type": "code",
   "execution_count": null,
   "metadata": {
    "colab": {
     "base_uri": "https://localhost:8080/",
     "height": 613
    },
    "id": "W4512gdXMm5L",
    "outputId": "f2d87ba7-9dcc-4351-9068-0fdacbf18abe"
   },
   "outputs": [],
   "source": [
    "def create_populated_legend(data_display_df_in, data_df_in):\n",
    "    rows_list = list(range(1,20))\n",
    "    cols_list = list(range(1,4))\n",
    "\n",
    "    table_rows=20\n",
    "    table_cols=3\n",
    "    #plot_square_dimensions = screen_height_in / 2\n",
    "    legend_width = 600 ## this will be a maximum and will shrink if screen size < 800\n",
    "    legend_height = 20 * 16\n",
    "    fig_chart_legend = make_subplots(\n",
    "                      column_titles = ['data_id','format'],\n",
    "                      rows=table_rows,\n",
    "                      cols=table_cols,\n",
    "                      horizontal_spacing = 0.00,\n",
    "                      vertical_spacing = 0.00,\n",
    "                      #subplot_titles=(titles)\n",
    "                      column_widths=[0.1,0.8,0.1])\n",
    "\n",
    "    fig_chart_legend.update_layout(\n",
    "        #    autosize=False,\n",
    "            width=legend_width,\n",
    "            height=legend_height,\n",
    "            margin=dict(\n",
    "                l=0,\n",
    "                r=0,\n",
    "                b=0,\n",
    "                t=0,\n",
    "                pad=0\n",
    "            ),\n",
    "            paper_bgcolor=\"LightSteelBlue\",\n",
    "        )\n",
    "\n",
    "    fig_chart_legend.update_xaxes(showgrid=False)\n",
    "    fig_chart_legend.update_yaxes(showgrid=False)\n",
    "    #legend\n",
    "    fig_chart_legend.update_layout(showlegend=False)\n",
    "    #x axis\n",
    "    fig_chart_legend.update_xaxes(visible=False)\n",
    "    #y axis\n",
    "    fig_chart_legend.update_yaxes(visible=False)\n",
    "\n",
    "    fig_chart_legend.data = []\n",
    "    #fig_legend_out.show()\n",
    "\n",
    "    # Any changes to the fig must be applied to the DataFrame as the dataframe\n",
    "    # will be used when the plot is saved.\n",
    "    # Saving zoom is still to be implemented\n",
    "\n",
    "    #print(\"CD : data_display_df>>>>>>>>>\", data_display_df_in)\n",
    "\n",
    "    display_legend_df = data_display_df_in[['data_id','color','style']].copy()\n",
    "    display_legend_df.drop_duplicates(inplace=True)\n",
    "\n",
    "    rowloop = 1\n",
    "    for index, row in display_legend_df.iterrows():\n",
    "        data_selected_df = data_df_in[data_df_in['id']==row['data_id']].copy()\n",
    "        trace_name = data_selected_df['data_label'].iloc[0]\n",
    "        for c in cols_list: #enumerate here to get access to i\n",
    "            # STEP 2, notice position of arguments!\n",
    "            #table_column_names = ['data_id','data_label','format']\n",
    "            scatter_mode_list = ['text-number','text-text','format']\n",
    "            table_column_names = ['data_id','trace_name','format']\n",
    "            trace_style = row['style']\n",
    "            trace_color = row['color']\n",
    "            data_id = row['data_id']\n",
    "            tc = TraceClass()\n",
    "            tc.set_values(trace_color, trace_style)\n",
    "            #tc.set_row_col(rowloop, c)\n",
    "            #scatter_mode_list = ['text-number','text-text','format']\n",
    "            #current_column = table_column_names[c-1]\n",
    "            #current_mode = scatter_mode_list[c-1]\n",
    "            current_column = table_column_names[c-1]\n",
    "            current_mode = scatter_mode_list[c-1]\n",
    "            #print(rowloop,current_column, current_mode )\n",
    "            if current_mode =='format':\n",
    "                mode = tc.__dict__['mode']\n",
    "                #fill = 'toself'\n",
    "                fill = tc.__dict__['fill']\n",
    "                if mode == 'lines' and fill == 'none':\n",
    "                    x_data = [0,1]\n",
    "                    y_data = [0.5,0.5]\n",
    "                elif mode == 'lines' and fill == 'toself':\n",
    "                    x_data = [0,1,1,0,0]\n",
    "                    y_data = [0,0,1,1,0]\n",
    "                else:\n",
    "                    x_data = [0,1]\n",
    "                    y_data = [0.5,0.5]\n",
    "\n",
    "                fig_chart_legend.add_trace(go.Scatter(tc.__dict__,x=x_data,\n",
    "                                            y=y_data),\n",
    "                              row=rowloop, #index for the subplot, i+1 because plotly starts with 1\n",
    "                              col=c)\n",
    "\n",
    "            if current_mode =='text-number':\n",
    "                fig_chart_legend.add_trace(go.Scatter(x=[1,2],\n",
    "                                          textposition='middle right',\n",
    "                                          y=[1,1],\n",
    "                                          mode='text',\n",
    "                                          text=[str(data_id),'']\n",
    "                                        ),\n",
    "                              row=rowloop, #index for the subplot, i+1 because plotly starts with 1\n",
    "                              col=c)\n",
    "            if current_mode =='text-text':\n",
    "                fig_chart_legend.add_trace(go.Scatter(x=[1,2],\n",
    "                                          textposition='middle right',\n",
    "                                          y=[1,1],\n",
    "                                          mode='text',\n",
    "                                          text=[trace_name,'']\n",
    "                                        ),\n",
    "                              row=rowloop, #index for the subplot, i+1 because plotly starts with 1\n",
    "                              col=c)\n",
    "\n",
    "        rowloop=rowloop+1\n",
    "        fig_chart_legend.update_xaxes(showgrid=False)\n",
    "        fig_chart_legend.update_yaxes(showgrid=False)\n",
    "        #legend\n",
    "        fig_chart_legend.update_layout(showlegend=False)\n",
    "        #x axis\n",
    "        fig_chart_legend.update_xaxes(visible=False)\n",
    "        #y axis\n",
    "        fig_chart_legend.update_yaxes(visible=False)\n",
    "\n",
    "    return fig_chart_legend\n",
    "\n",
    "legend_fig = create_populated_legend(data_display_df, data_df)\n",
    "legend_fig.show()"
   ]
  },
  {
   "cell_type": "code",
   "execution_count": null,
   "metadata": {
    "id": "J-RvWsdI8Dck"
   },
   "outputs": [],
   "source": []
  }
 ],
 "metadata": {
  "colab": {
   "provenance": []
  },
  "kernelspec": {
   "display_name": "Python 3 (ipykernel)",
   "language": "python",
   "name": "python3"
  },
  "language_info": {
   "codemirror_mode": {
    "name": "ipython",
    "version": 3
   },
   "file_extension": ".py",
   "mimetype": "text/x-python",
   "name": "python",
   "nbconvert_exporter": "python",
   "pygments_lexer": "ipython3",
   "version": "3.12.4"
  }
 },
 "nbformat": 4,
 "nbformat_minor": 4
}
