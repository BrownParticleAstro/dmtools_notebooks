{
 "cells": [
  {
   "cell_type": "code",
   "execution_count": 1,
   "metadata": {
    "id": "1BJwNmAqPtb1"
   },
   "outputs": [],
   "source": [
    "import ssl\n",
    "import urllib\n",
    "context = ssl._create_unverified_context()\n",
    "from urllib.request import Request, urlopen\n",
    "import json\n",
    "from io import StringIO\n",
    "import pandas as pd\n",
    "import ast"
   ]
  },
  {
   "cell_type": "code",
   "execution_count": 2,
   "metadata": {
    "id": "9jewG02D53xX"
   },
   "outputs": [],
   "source": [
    "from itertools import cycle\n",
    "import plotly.graph_objs as go\n",
    "from plotly.subplots import make_subplots"
   ]
  },
  {
   "cell_type": "code",
   "execution_count": 3,
   "metadata": {},
   "outputs": [],
   "source": [
    "from dmtools_client_package.dmtools_client_module import DMToolsClient\n",
    "from dmtools_client_package.dmtools_client_module import PlotTrace"
   ]
  },
  {
   "cell_type": "code",
   "execution_count": 4,
   "metadata": {},
   "outputs": [],
   "source": [
    "## get api key and user id from local .env file\n",
    "from dotenv import load_dotenv\n",
    "import os\n",
    "from os import environ, path\n",
    "#BASE_DIR = path.abspath(path.dirname(__file__))\n",
    "BASE_DIR = os.getcwd()\n",
    "#load_dotenv(path.join(BASE_DIR, \".env\"))\n",
    "load_dotenv(path.join(BASE_DIR, \".env\"), override=True)\n",
    "MY_DMTOOLS_APIKEY = environ.get(\"MY_DMTOOLS_APIKEY\")\n",
    "MY_DMTOOLS_USERID = environ.get(\"MY_DMTOOLS_USERID\")\n",
    "Client = DMToolsClient(MY_DMTOOLS_USERID, MY_DMTOOLS_APIKEY)"
   ]
  },
  {
   "cell_type": "code",
   "execution_count": 5,
   "metadata": {
    "jupyter": {
     "source_hidden": true
    }
   },
   "outputs": [],
   "source": [
    "## get api key and user id from local .env file\n",
    "from dotenv import load_dotenv\n",
    "import os\n",
    "from os import environ, path\n",
    "#BASE_DIR = path.abspath(path.dirname(__file__))\n",
    "BASE_DIR = os.getcwd()\n",
    "load_dotenv(path.join(BASE_DIR, \".env\"))\n",
    "MY_DMTOOLS_APIKEY = environ.get(\"MY_DMTOOLS_APIKEY\")\n",
    "MY_DMTOOLS_USERID = environ.get(\"MY_DMTOOLS_USERID\")\n",
    "Client = DMToolsClient(MY_DMTOOLS_USERID, MY_DMTOOLS_APIKEY)"
   ]
  },
  {
   "cell_type": "code",
   "execution_count": 6,
   "metadata": {},
   "outputs": [],
   "source": [
    "#Client.request_header"
   ]
  },
  {
   "cell_type": "code",
   "execution_count": 7,
   "metadata": {
    "id": "Gnbw2SdjykwR"
   },
   "outputs": [
    {
     "name": "stdout",
     "output_type": "stream",
     "text": [
      "1e-24\n"
     ]
    }
   ],
   "source": [
    "# Define scale factors\n",
    "a = Client.get_scale_factor(\"b\")\n",
    "print(a)"
   ]
  },
  {
   "cell_type": "code",
   "execution_count": 8,
   "metadata": {},
   "outputs": [
    {
     "data": {
      "text/html": [
       "<div>\n",
       "<style scoped>\n",
       "    .dataframe tbody tr th:only-of-type {\n",
       "        vertical-align: middle;\n",
       "    }\n",
       "\n",
       "    .dataframe tbody tr th {\n",
       "        vertical-align: top;\n",
       "    }\n",
       "\n",
       "    .dataframe thead th {\n",
       "        text-align: right;\n",
       "    }\n",
       "</style>\n",
       "<table border=\"1\" class=\"dataframe\">\n",
       "  <thead>\n",
       "    <tr style=\"text-align: right;\">\n",
       "      <th></th>\n",
       "      <th>color</th>\n",
       "      <th>plot_id</th>\n",
       "      <th>style</th>\n",
       "      <th>updated_at</th>\n",
       "      <th>id</th>\n",
       "      <th>limit_id</th>\n",
       "      <th>created_at</th>\n",
       "      <th>subject</th>\n",
       "      <th>row_id</th>\n",
       "    </tr>\n",
       "  </thead>\n",
       "  <tbody>\n",
       "    <tr>\n",
       "      <th>0</th>\n",
       "      <td>k</td>\n",
       "      <td>11</td>\n",
       "      <td>line</td>\n",
       "      <td>200908121136</td>\n",
       "      <td>48</td>\n",
       "      <td>273</td>\n",
       "      <td>2009-08-12 11:36:38</td>\n",
       "      <td>limit_display</td>\n",
       "      <td>0</td>\n",
       "    </tr>\n",
       "    <tr>\n",
       "      <th>1</th>\n",
       "      <td>r</td>\n",
       "      <td>11</td>\n",
       "      <td>line</td>\n",
       "      <td>200908121150</td>\n",
       "      <td>49</td>\n",
       "      <td>222</td>\n",
       "      <td>2009-08-12 11:38:42</td>\n",
       "      <td>limit_display</td>\n",
       "      <td>1</td>\n",
       "    </tr>\n",
       "    <tr>\n",
       "      <th>2</th>\n",
       "      <td>dkg</td>\n",
       "      <td>11</td>\n",
       "      <td>line</td>\n",
       "      <td>200908121140</td>\n",
       "      <td>50</td>\n",
       "      <td>202</td>\n",
       "      <td>2009-08-12 11:40:16</td>\n",
       "      <td>limit_display</td>\n",
       "      <td>2</td>\n",
       "    </tr>\n",
       "    <tr>\n",
       "      <th>3</th>\n",
       "      <td>k</td>\n",
       "      <td>12</td>\n",
       "      <td>dash</td>\n",
       "      <td>200908142122</td>\n",
       "      <td>53</td>\n",
       "      <td>51</td>\n",
       "      <td>2009-08-14 21:22:06</td>\n",
       "      <td>limit_display</td>\n",
       "      <td>3</td>\n",
       "    </tr>\n",
       "    <tr>\n",
       "      <th>4</th>\n",
       "      <td>k</td>\n",
       "      <td>12</td>\n",
       "      <td>line</td>\n",
       "      <td>200908142122</td>\n",
       "      <td>54</td>\n",
       "      <td>52</td>\n",
       "      <td>2009-08-14 21:22:07</td>\n",
       "      <td>limit_display</td>\n",
       "      <td>4</td>\n",
       "    </tr>\n",
       "    <tr>\n",
       "      <th>...</th>\n",
       "      <td>...</td>\n",
       "      <td>...</td>\n",
       "      <td>...</td>\n",
       "      <td>...</td>\n",
       "      <td>...</td>\n",
       "      <td>...</td>\n",
       "      <td>...</td>\n",
       "      <td>...</td>\n",
       "      <td>...</td>\n",
       "    </tr>\n",
       "    <tr>\n",
       "      <th>11664</th>\n",
       "      <td>k</td>\n",
       "      <td>4664</td>\n",
       "      <td>line</td>\n",
       "      <td>202108031957</td>\n",
       "      <td>24917</td>\n",
       "      <td>1113</td>\n",
       "      <td>2021-08-03 19:57:09</td>\n",
       "      <td>limit_display</td>\n",
       "      <td>11664</td>\n",
       "    </tr>\n",
       "    <tr>\n",
       "      <th>11665</th>\n",
       "      <td>k</td>\n",
       "      <td>4664</td>\n",
       "      <td>line</td>\n",
       "      <td>202108031957</td>\n",
       "      <td>24918</td>\n",
       "      <td>1009</td>\n",
       "      <td>2021-08-03 19:57:40</td>\n",
       "      <td>limit_display</td>\n",
       "      <td>11665</td>\n",
       "    </tr>\n",
       "    <tr>\n",
       "      <th>11666</th>\n",
       "      <td>k</td>\n",
       "      <td>4665</td>\n",
       "      <td>line</td>\n",
       "      <td>202111022029</td>\n",
       "      <td>24919</td>\n",
       "      <td>322</td>\n",
       "      <td>2021-11-02 20:29:28</td>\n",
       "      <td>limit_display</td>\n",
       "      <td>11666</td>\n",
       "    </tr>\n",
       "    <tr>\n",
       "      <th>11667</th>\n",
       "      <td>k</td>\n",
       "      <td>4667</td>\n",
       "      <td>line</td>\n",
       "      <td>202111031420</td>\n",
       "      <td>24920</td>\n",
       "      <td>1115</td>\n",
       "      <td>2021-11-03 14:20:11</td>\n",
       "      <td>limit_display</td>\n",
       "      <td>11667</td>\n",
       "    </tr>\n",
       "    <tr>\n",
       "      <th>11668</th>\n",
       "      <td>k</td>\n",
       "      <td>4668</td>\n",
       "      <td>line</td>\n",
       "      <td>202111031442</td>\n",
       "      <td>24921</td>\n",
       "      <td>1116</td>\n",
       "      <td>2021-11-03 14:42:03</td>\n",
       "      <td>limit_display</td>\n",
       "      <td>11668</td>\n",
       "    </tr>\n",
       "  </tbody>\n",
       "</table>\n",
       "<p>11669 rows × 9 columns</p>\n",
       "</div>"
      ],
      "text/plain": [
       "      color plot_id style    updated_at     id limit_id           created_at  \\\n",
       "0         k      11  line  200908121136     48      273  2009-08-12 11:36:38   \n",
       "1         r      11  line  200908121150     49      222  2009-08-12 11:38:42   \n",
       "2       dkg      11  line  200908121140     50      202  2009-08-12 11:40:16   \n",
       "3         k      12  dash  200908142122     53       51  2009-08-14 21:22:06   \n",
       "4         k      12  line  200908142122     54       52  2009-08-14 21:22:07   \n",
       "...     ...     ...   ...           ...    ...      ...                  ...   \n",
       "11664     k    4664  line  202108031957  24917     1113  2021-08-03 19:57:09   \n",
       "11665     k    4664  line  202108031957  24918     1009  2021-08-03 19:57:40   \n",
       "11666     k    4665  line  202111022029  24919      322  2021-11-02 20:29:28   \n",
       "11667     k    4667  line  202111031420  24920     1115  2021-11-03 14:20:11   \n",
       "11668     k    4668  line  202111031442  24921     1116  2021-11-03 14:42:03   \n",
       "\n",
       "             subject  row_id  \n",
       "0      limit_display       0  \n",
       "1      limit_display       1  \n",
       "2      limit_display       2  \n",
       "3      limit_display       3  \n",
       "4      limit_display       4  \n",
       "...              ...     ...  \n",
       "11664  limit_display   11664  \n",
       "11665  limit_display   11665  \n",
       "11666  limit_display   11666  \n",
       "11667  limit_display   11667  \n",
       "11668  limit_display   11668  \n",
       "\n",
       "[11669 rows x 9 columns]"
      ]
     },
     "execution_count": 8,
     "metadata": {},
     "output_type": "execute_result"
    }
   ],
   "source": [
    "purpose = 'read_all'\n",
    "subject = 'limit_display'\n",
    "id = ''\n",
    "Client.create_current_url(purpose, subject, id)\n",
    "all_limit_display_df = Client.read_current_as_df()\n",
    "all_limit_display_df"
   ]
  },
  {
   "cell_type": "code",
   "execution_count": 9,
   "metadata": {
    "id": "sR3ji2F_Sd2U"
   },
   "outputs": [],
   "source": [
    "combos = all_limit_display_df[['color','style']].drop_duplicates()\n",
    "style_list = all_limit_display_df['style'].drop_duplicates().tolist()\n",
    "color_list = all_limit_display_df['color'].drop_duplicates().tolist()"
   ]
  },
  {
   "cell_type": "code",
   "execution_count": 10,
   "metadata": {},
   "outputs": [],
   "source": [
    "## Checking Translations"
   ]
  },
  {
   "cell_type": "code",
   "execution_count": 11,
   "metadata": {
    "id": "7vHAXJFSUr6z"
   },
   "outputs": [],
   "source": [
    "style_list = ['line', 'dash', 'fill', 'dot', 'hex', 'asterisk', 'tril', 'plus',\n",
    " 'cross', 'circle', 'trid', 'pent', 'triu', 'trir', 'point']"
   ]
  },
  {
   "cell_type": "code",
   "execution_count": 12,
   "metadata": {
    "id": "WgPfpJzQOYf2"
   },
   "outputs": [],
   "source": [
    "color_list_plots = ['k', 'r', 'dkg', 'ltg', 'ltr', 'b', 'ltb', 'c', 'g10', 'g20', 'dkb', 'dkr', 'g', 'm', 'g60', 'g80', 'g90',\n",
    " 'g30', 'y', 'g50', 'g70', 'g40', 'w']\n",
    "\n",
    "color_list_default = ['LtR', 'LtB', 'DkR', 'DkG', 'Blue', 'k', 'DkB', 'Red', 'Grn', 'Mag', 'LtG', 'Blk', 'G60', 'Cyan']"
   ]
  },
  {
   "cell_type": "code",
   "execution_count": 13,
   "metadata": {},
   "outputs": [],
   "source": [
    "## This Trace Class creates a Dictionary that can then be added directly to the plot\n",
    "from dmtools_client_package.dmtools_client_module import PlotTrace"
   ]
  },
  {
   "cell_type": "code",
   "execution_count": 14,
   "metadata": {
    "id": "AKYd-hjWkJu_"
   },
   "outputs": [],
   "source": [
    "## test the class\n",
    "style_list = ['line', 'dash', 'fill', 'dot', 'hex', 'asterisk', 'tril', 'plus',\n",
    " 'cross', 'circle', 'trid', 'pent', 'triu', 'trir', 'point']\n",
    "\n",
    "color_list = ['LtR', 'LtB', 'DkR', 'DkG', 'Blue', 'k', 'DkB', 'Red', 'Grn', 'Mag', 'LtG', 'Blk', 'G60', 'Cyan']\n",
    "\n",
    "\n",
    "fig_chart_test = go.Figure(\n",
    "        data=[go.Scatter(x=[], y=[])]\n",
    "    )\n",
    "pt = PlotTrace()\n",
    "\n",
    "for sl in style_list:\n",
    "    color_in = 'k'\n",
    "    style_in = sl\n",
    "    pt.set_values(color_in, style_in)\n",
    "    #tc.set_trace_style('trir')\n",
    "    #tc.__dict__\n",
    "\n",
    "    fig_chart_test.add_trace(go.Scatter(pt.__dict__,x=[1],y=[2],name='name'))\n"
   ]
  },
  {
   "cell_type": "code",
   "execution_count": 15,
   "metadata": {
    "colab": {
     "base_uri": "https://localhost:8080/"
    },
    "id": "mchQU4fLyQ0D",
    "outputId": "b25b3da7-2124-4102-bfd4-35e4b7652a0b"
   },
   "outputs": [
    {
     "data": {
      "text/plain": [
       "{'mode': 'lines+markers',\n",
       " 'line': {'color': 'black', 'width': 1, 'dash': 'solid'},\n",
       " 'marker': {'symbol': 'x-dot'},\n",
       " 'fillcolor': None,\n",
       " 'opacity': 1,\n",
       " 'fill': 'toself',\n",
       " 'line_width': 1}"
      ]
     },
     "execution_count": 15,
     "metadata": {},
     "output_type": "execute_result"
    }
   ],
   "source": [
    "pt.__dict__"
   ]
  },
  {
   "cell_type": "code",
   "execution_count": 16,
   "metadata": {
    "id": "dUYQoNMSyL0h"
   },
   "outputs": [],
   "source": [
    "pt_in = {'mode': 'lines+markers',\n",
    " 'line': {'color': 'black', 'width': 1, 'dash': 'dash'},\n",
    " 'marker': {'symbol': 'blah'},\n",
    " 'fillcolor': None,\n",
    " 'opacity': 1,\n",
    " 'fill': 'none'}\n",
    "#fig_chart_test.add_trace(go.Scatter(tc_in,x=[1],y=[2],name='name'))"
   ]
  },
  {
   "cell_type": "code",
   "execution_count": 17,
   "metadata": {
    "colab": {
     "base_uri": "https://localhost:8080/"
    },
    "id": "66wXgH9xVDgp",
    "outputId": "6a45776c-efaa-4143-9762-c9dba7861dfd"
   },
   "outputs": [
    {
     "data": {
      "text/plain": [
       "'[[[\"6.00000e+01\", \"4.00000e-43\"], [\"7.00000e+01\", \"4.00000e-43\"], [\"1.60000e+02\", \"5.50000e-44\"], [\"3.20000e+02\", \"2.50000e-44\"], [\"6.30000e+02\", \"3.20000e-44\"], [\"6.40000e+02\", \"3.00000e-44\"], [\"6.40000e+02\", \"1.20000e-44\"], [\"6.30000e+02\", \"1.00000e-44\"], [\"2.25000e+02\", \"9.00000e-45\"], [\"2.15000e+02\", \"7.00000e-45\"], [\"3.15000e+02\", \"7.00000e-46\"], [\"4.70000e+02\", \"2.10000e-46\"], [\"6.50000e+02\", \"7.00000e-47\"], [\"6.60000e+02\", \"6.80000e-47\"], [\"6.60000e+02\", \"2.00000e-47\"], [\"6.50000e+02\", \"2.00000e-47\"], [\"4.70000e+02\", \"6.00000e-47\"], [\"3.15000e+02\", \"1.00000e-46\"], [\"2.15000e+02\", \"3.00000e-46\"], [\"1.00000e+02\", \"8.00000e-46\"], [\"6.00000e+01\", \"1.00000e-45\"], [\"6.00000e+01\", \"4.00000e-43\"]]]'"
      ]
     },
     "execution_count": 17,
     "metadata": {},
     "output_type": "execute_result"
    }
   ],
   "source": [
    "purpose = 'read_a'\n",
    "subject = 'data'\n",
    "id = 1\n",
    "Client.create_current_url(purpose, subject, id)\n",
    "a_data_json_obj = Client.read_current_as_json()\n",
    "a_data_json_obj['data']"
   ]
  },
  {
   "cell_type": "code",
   "execution_count": 18,
   "metadata": {},
   "outputs": [],
   "source": [
    "#nested_json_data = json.dumps(nested_payload).encode('utf-8')\n",
    "\n",
    "\n",
    "#print(\"Payload:\", json.dumps(nested_json_data))"
   ]
  },
  {
   "cell_type": "code",
   "execution_count": 19,
   "metadata": {
    "id": "HlTOwItqyT3H"
   },
   "outputs": [],
   "source": [
    "#x = Client.clean_data_values(1)"
   ]
  },
  {
   "cell_type": "code",
   "execution_count": null,
   "metadata": {},
   "outputs": [],
   "source": []
  },
  {
   "cell_type": "code",
   "execution_count": null,
   "metadata": {
    "id": "CTSMdDLry0MI"
   },
   "outputs": [],
   "source": []
  },
  {
   "cell_type": "code",
   "execution_count": 20,
   "metadata": {},
   "outputs": [
    {
     "name": "stdout",
     "output_type": "stream",
     "text": [
      "{\"data\": \"[[[\\\"6.00000e+01\\\", \\\"4.00000e-43\\\"], [\\\"7.00000e+01\\\", \\\"4.00000e-43\\\"], [\\\"1.60000e+02\\\", \\\"5.50000e-44\\\"], [\\\"3.20000e+02\\\", \\\"2.50000e-44\\\"], [\\\"6.30000e+02\\\", \\\"3.20000e-44\\\"], [\\\"6.40000e+02\\\", \\\"3.00000e-44\\\"], [\\\"6.40000e+02\\\", \\\"1.20000e-44\\\"], [\\\"6.30000e+02\\\", \\\"1.00000e-44\\\"], [\\\"2.25000e+02\\\", \\\"9.00000e-45\\\"], [\\\"2.15000e+02\\\", \\\"7.00000e-45\\\"], [\\\"3.15000e+02\\\", \\\"7.00000e-46\\\"], [\\\"4.70000e+02\\\", \\\"2.10000e-46\\\"], [\\\"6.50000e+02\\\", \\\"7.00000e-47\\\"], [\\\"6.60000e+02\\\", \\\"6.80000e-47\\\"], [\\\"6.60000e+02\\\", \\\"2.00000e-47\\\"], [\\\"6.50000e+02\\\", \\\"2.00000e-47\\\"], [\\\"4.70000e+02\\\", \\\"6.00000e-47\\\"], [\\\"3.15000e+02\\\", \\\"1.00000e-46\\\"], [\\\"2.15000e+02\\\", \\\"3.00000e-46\\\"], [\\\"1.00000e+02\\\", \\\"8.00000e-46\\\"], [\\\"6.00000e+01\\\", \\\"1.00000e-45\\\"], [\\\"6.00000e+01\\\", \\\"4.00000e-43\\\"]]]\"}\n",
      "None\n"
     ]
    }
   ],
   "source": [
    "x = Client.clean_data_values(1)\n",
    "print(x)"
   ]
  },
  {
   "cell_type": "code",
   "execution_count": 21,
   "metadata": {},
   "outputs": [],
   "source": [
    "purpose = 'read_all'\n",
    "subject = 'data'\n",
    "Client.create_current_url(purpose, subject, id)\n",
    "all_data_json_obj = Client.read_current_as_json()"
   ]
  },
  {
   "cell_type": "code",
   "execution_count": 22,
   "metadata": {
    "colab": {
     "base_uri": "https://localhost:8080/",
     "height": 36
    },
    "id": "ABfObCnMMjg_",
    "outputId": "243a909a-eb8b-4179-b932-ed6fce885a0a"
   },
   "outputs": [],
   "source": [
    "#for dic in all_data_json_obj:\n",
    "#    data_id = dic['id']\n",
    "#    Client.clean_data_values(data_id)"
   ]
  },
  {
   "cell_type": "code",
   "execution_count": 23,
   "metadata": {
    "id": "w8HKg4GvLm1p"
   },
   "outputs": [],
   "source": [
    "#string_csv = StringIO(lol)\n",
    "#df = pd.read_csv(string_csv,sep=\",\", lineterminator=\"|\")"
   ]
  },
  {
   "cell_type": "code",
   "execution_count": 24,
   "metadata": {
    "id": "Vily0Lq0H2jP"
   },
   "outputs": [],
   "source": [
    "## Illustrating new data string, existing data values are being retained"
   ]
  },
  {
   "cell_type": "code",
   "execution_count": 25,
   "metadata": {
    "colab": {
     "base_uri": "https://localhost:8080/"
    },
    "id": "rlVPBL329Aav",
    "outputId": "cdcc8512-a194-4791-ddec-9e4bf9f255c0"
   },
   "outputs": [],
   "source": [
    "purpose = 'read_a'\n",
    "subject = 'data'\n",
    "id = '255'\n",
    "Client.create_current_url(purpose, subject, id)\n",
    "a_data_json_obj = Client.read_current_as_json()\n",
    "#a_data_json_obj"
   ]
  },
  {
   "cell_type": "code",
   "execution_count": 26,
   "metadata": {},
   "outputs": [],
   "source": [
    "purpose = 'read_all'\n",
    "subject = 'plot'\n",
    "Client.create_current_url(purpose, subject, id)\n",
    "all_plots_df = Client.read_current_as_df()\n",
    "#all_plots_df.columns"
   ]
  },
  {
   "cell_type": "code",
   "execution_count": 27,
   "metadata": {
    "colab": {
     "base_uri": "https://localhost:8080/",
     "height": 206
    },
    "id": "NtvQhbLFlqnY",
    "outputId": "a5c0d6a3-1245-43fd-9ce0-80edbc9da4a6"
   },
   "outputs": [
    {
     "data": {
      "text/html": [
       "<div>\n",
       "<style scoped>\n",
       "    .dataframe tbody tr th:only-of-type {\n",
       "        vertical-align: middle;\n",
       "    }\n",
       "\n",
       "    .dataframe tbody tr th {\n",
       "        vertical-align: top;\n",
       "    }\n",
       "\n",
       "    .dataframe thead th {\n",
       "        text-align: right;\n",
       "    }\n",
       "</style>\n",
       "<table border=\"1\" class=\"dataframe\">\n",
       "  <thead>\n",
       "    <tr style=\"text-align: right;\">\n",
       "      <th></th>\n",
       "      <th>id</th>\n",
       "      <th>old_id</th>\n",
       "      <th>y_units</th>\n",
       "      <th>open</th>\n",
       "      <th>user_id</th>\n",
       "      <th>name</th>\n",
       "      <th>created_at</th>\n",
       "      <th>row_id</th>\n",
       "    </tr>\n",
       "  </thead>\n",
       "  <tbody>\n",
       "    <tr>\n",
       "      <th>0</th>\n",
       "      <td>20</td>\n",
       "      <td>53</td>\n",
       "      <td>cm2</td>\n",
       "      <td>1</td>\n",
       "      <td>None</td>\n",
       "      <td>XENON10_for_thesis</td>\n",
       "      <td>2009-10-14 07:48:53</td>\n",
       "      <td>0</td>\n",
       "    </tr>\n",
       "    <tr>\n",
       "      <th>1</th>\n",
       "      <td>26</td>\n",
       "      <td>66</td>\n",
       "      <td>cm2</td>\n",
       "      <td>1</td>\n",
       "      <td>None</td>\n",
       "      <td>XENON10_LUX_compare</td>\n",
       "      <td>2009-11-19 14:22:11</td>\n",
       "      <td>1</td>\n",
       "    </tr>\n",
       "    <tr>\n",
       "      <th>2</th>\n",
       "      <td>33</td>\n",
       "      <td>73</td>\n",
       "      <td>cm2</td>\n",
       "      <td>1</td>\n",
       "      <td>None</td>\n",
       "      <td>XENON10_LUX_ZEPLINIII</td>\n",
       "      <td>2009-11-23 21:12:03</td>\n",
       "      <td>2</td>\n",
       "    </tr>\n",
       "    <tr>\n",
       "      <th>3</th>\n",
       "      <td>54</td>\n",
       "      <td>107</td>\n",
       "      <td>cm2</td>\n",
       "      <td>1</td>\n",
       "      <td>None</td>\n",
       "      <td>CDMS_new_results</td>\n",
       "      <td>2010-01-04 18:59:18</td>\n",
       "      <td>3</td>\n",
       "    </tr>\n",
       "    <tr>\n",
       "      <th>4</th>\n",
       "      <td>74</td>\n",
       "      <td>148</td>\n",
       "      <td>cm2</td>\n",
       "      <td>1</td>\n",
       "      <td>None</td>\n",
       "      <td>CoGeNT_plus_Xenon_100_New</td>\n",
       "      <td>2010-02-05 00:29:07</td>\n",
       "      <td>4</td>\n",
       "    </tr>\n",
       "  </tbody>\n",
       "</table>\n",
       "</div>"
      ],
      "text/plain": [
       "   id old_id y_units open user_id                       name  \\\n",
       "0  20     53     cm2    1    None         XENON10_for_thesis   \n",
       "1  26     66     cm2    1    None        XENON10_LUX_compare   \n",
       "2  33     73     cm2    1    None      XENON10_LUX_ZEPLINIII   \n",
       "3  54    107     cm2    1    None           CDMS_new_results   \n",
       "4  74    148     cm2    1    None  CoGeNT_plus_Xenon_100_New   \n",
       "\n",
       "            created_at  row_id  \n",
       "0  2009-10-14 07:48:53       0  \n",
       "1  2009-11-19 14:22:11       1  \n",
       "2  2009-11-23 21:12:03       2  \n",
       "3  2010-01-04 18:59:18       3  \n",
       "4  2010-02-05 00:29:07       4  "
      ]
     },
     "execution_count": 27,
     "metadata": {},
     "output_type": "execute_result"
    }
   ],
   "source": [
    "#all_plots_df.head(5)\n",
    "all_plots_df[['id', 'old_id', 'y_units','open', 'user_id','name', 'created_at', 'row_id']].head(5)"
   ]
  },
  {
   "cell_type": "code",
   "execution_count": 28,
   "metadata": {
    "colab": {
     "base_uri": "https://localhost:8080/",
     "height": 865
    },
    "id": "2GXw4xpKlujM",
    "outputId": "8a82f0c2-ac1c-4a90-e6f6-365d002a3256"
   },
   "outputs": [
    {
     "data": {
      "text/html": [
       "<div>\n",
       "<style scoped>\n",
       "    .dataframe tbody tr th:only-of-type {\n",
       "        vertical-align: middle;\n",
       "    }\n",
       "\n",
       "    .dataframe tbody tr th {\n",
       "        vertical-align: top;\n",
       "    }\n",
       "\n",
       "    .dataframe thead th {\n",
       "        text-align: right;\n",
       "    }\n",
       "</style>\n",
       "<table border=\"1\" class=\"dataframe\">\n",
       "  <thead>\n",
       "    <tr style=\"text-align: right;\">\n",
       "      <th></th>\n",
       "      <th>id</th>\n",
       "      <th>old_id</th>\n",
       "      <th>y_units</th>\n",
       "      <th>open</th>\n",
       "      <th>user_id</th>\n",
       "      <th>name</th>\n",
       "      <th>created_at</th>\n",
       "    </tr>\n",
       "  </thead>\n",
       "  <tbody>\n",
       "    <tr>\n",
       "      <th>3</th>\n",
       "      <td>54</td>\n",
       "      <td>107</td>\n",
       "      <td>cm2</td>\n",
       "      <td>1</td>\n",
       "      <td>None</td>\n",
       "      <td>CDMS_new_results</td>\n",
       "      <td>201001041859</td>\n",
       "    </tr>\n",
       "    <tr>\n",
       "      <th>6</th>\n",
       "      <td>97</td>\n",
       "      <td>183</td>\n",
       "      <td>cm2</td>\n",
       "      <td>1</td>\n",
       "      <td>None</td>\n",
       "      <td>CDMS II limits</td>\n",
       "      <td>201002280018</td>\n",
       "    </tr>\n",
       "    <tr>\n",
       "      <th>8</th>\n",
       "      <td>138</td>\n",
       "      <td>250</td>\n",
       "      <td>cm2</td>\n",
       "      <td>1</td>\n",
       "      <td>None</td>\n",
       "      <td>ZEPLIN-III, XENON10, CDMS</td>\n",
       "      <td>201004201202</td>\n",
       "    </tr>\n",
       "    <tr>\n",
       "      <th>11</th>\n",
       "      <td>156</td>\n",
       "      <td>269</td>\n",
       "      <td>cm2</td>\n",
       "      <td>1</td>\n",
       "      <td>None</td>\n",
       "      <td>LUX-XENON100-SuperCDMS</td>\n",
       "      <td>201005032038</td>\n",
       "    </tr>\n",
       "    <tr>\n",
       "      <th>12</th>\n",
       "      <td>159</td>\n",
       "      <td>272</td>\n",
       "      <td>cm2</td>\n",
       "      <td>1</td>\n",
       "      <td>None</td>\n",
       "      <td>SuperCDMS-XENON100-LUX</td>\n",
       "      <td>201005041733</td>\n",
       "    </tr>\n",
       "  </tbody>\n",
       "</table>\n",
       "</div>"
      ],
      "text/plain": [
       "     id old_id y_units open user_id                       name    created_at\n",
       "3    54    107     cm2    1    None           CDMS_new_results  201001041859\n",
       "6    97    183     cm2    1    None             CDMS II limits  201002280018\n",
       "8   138    250     cm2    1    None  ZEPLIN-III, XENON10, CDMS  201004201202\n",
       "11  156    269     cm2    1    None     LUX-XENON100-SuperCDMS  201005032038\n",
       "12  159    272     cm2    1    None     SuperCDMS-XENON100-LUX  201005041733"
      ]
     },
     "execution_count": 28,
     "metadata": {},
     "output_type": "execute_result"
    }
   ],
   "source": [
    "def GetPlotsContaining(string_in):\n",
    "    purpose = 'read_all'\n",
    "    subject = 'plot'\n",
    "    Client.create_current_url(purpose, subject, id)\n",
    "    all_plots_df = Client.read_current_as_df()\n",
    "    #all_plots_df.columns\n",
    "    return_df = all_plots_df[['id', 'old_id', 'y_units','open', 'user_id','name', 'created_at']][all_plots_df['name'].str.contains(string_in)].copy()\n",
    "    return_df['created_at'] = pd.to_datetime(return_df['created_at'], errors='coerce')\n",
    "    return_df['created_at'] = return_df['created_at'].dt.strftime('%Y%m%d%H%M')\n",
    "    return return_df\n",
    "relevant_plots = GetPlotsContaining('CDMS')\n",
    "relevant_plots.head(5)"
   ]
  },
  {
   "cell_type": "code",
   "execution_count": 29,
   "metadata": {
    "colab": {
     "base_uri": "https://localhost:8080/",
     "height": 36
    },
    "id": "79LrCBF8na_M",
    "outputId": "d4c8aca1-654d-4485-9ec9-098818107e8c"
   },
   "outputs": [
    {
     "data": {
      "text/plain": [
       "'54'"
      ]
     },
     "execution_count": 29,
     "metadata": {},
     "output_type": "execute_result"
    }
   ],
   "source": [
    "def get_new_plot_id_from_old_id(all_plots_df_in, old_plot_id_in):\n",
    "    purpose = 'read_all'\n",
    "    subject = 'plot'\n",
    "    Client.create_current_url(purpose, subject, id)\n",
    "    all_plots_df = Client.read_current_as_df()\n",
    "    old_plot_details_ret = all_plots_df[['name','x_units', 'id', 'y_units','old_id',  'x_min', 'x_max', 'y_min', 'y_max']] \\\n",
    "    [all_plots_df['old_id']==old_plot_id_in]\n",
    "    return old_plot_details_ret\n",
    "\n",
    "\n",
    "old_plot_id = '107'\n",
    "old_plot_details = get_new_plot_id_from_old_id(all_plots_df,old_plot_id)\n",
    "plot_id = old_plot_details['id'].iloc[0]\n",
    "plot_id"
   ]
  },
  {
   "cell_type": "code",
   "execution_count": 30,
   "metadata": {
    "colab": {
     "base_uri": "https://localhost:8080/",
     "height": 147
    },
    "id": "HR00i5LknokI",
    "outputId": "1d42c354-e7da-4a61-cb12-e607124c852a"
   },
   "outputs": [
    {
     "data": {
      "text/plain": [
       "{'id': '54',\n",
       " 'subject': 'plot',\n",
       " 'old_id': '107',\n",
       " 'open': '1',\n",
       " 'name': 'CDMS_new_results',\n",
       " 'x_min': '1.000000e+00',\n",
       " 'x_max': '1.000000e+04',\n",
       " 'y_min': '-5.000000e+01',\n",
       " 'y_max': '-3.600000e+01',\n",
       " 'x_units': 'GeV/c^2',\n",
       " 'y_units': 'cm2',\n",
       " 'user_id': 'None',\n",
       " 'updated_at': '2011-11-10 16:31:54'}"
      ]
     },
     "execution_count": 30,
     "metadata": {},
     "output_type": "execute_result"
    }
   ],
   "source": [
    "def get_this_plot_as_json(plot_id_in):\n",
    "    purpose = 'read_a'\n",
    "    subject = 'plot'\n",
    "    id_in = plot_id_in\n",
    "    Client.create_current_url(purpose, subject, id_in)\n",
    "    this_plot_ret = Client.read_current_as_json()\n",
    "    #this_plot_ret = all_plots_df[all_plots_df['id']==plot_id_in].copy()\n",
    "    #this_plot.columns\n",
    "    #this_plot_ret['created_at'] = pd.to_datetime(this_plot['created_at'], errors='coerce')\n",
    "    #this_plot_ret['created_at'] = this_plot_ret['created_at'].dt.strftime('%Y%m%d%H%M')\n",
    "    #this_plot_ret['updated_at'] = pd.to_datetime(this_plot['updated_at'], errors='coerce')\n",
    "    #this_plot_ret['updated_at'] = this_plot_ret['updated_at'].dt.strftime('%Y%m%d%H%M')\n",
    "    #this_plot_ret[['name','x_max', 'updated_at', 'y_min', 'subject', 'y_max',\n",
    "    #       'id', 'x_units', 'old_id', 'y_units',\n",
    "    #       'open', 'user_id', 'name',\n",
    "    #       'x_min', 'created_at', 'row_id']]\n",
    "    return this_plot_ret\n",
    "this_plot = get_this_plot_as_json('54')\n",
    "this_plot"
   ]
  },
  {
   "cell_type": "code",
   "execution_count": 31,
   "metadata": {
    "id": "bdwJcr8woBmK"
   },
   "outputs": [],
   "source": [
    "class ThisPlot():\n",
    "    def __init__(self,all_plots_df_in,plot_id_in):\n",
    "        self.this_plot = all_plots_df_in[all_plots_df_in['id']==plot_id_in]\n",
    "        #this_plot\n",
    "        self.start_x_range = float(self.this_plot.iloc[0]['x_min'])\n",
    "        self.stop_x_range = float(self.this_plot.iloc[0]['x_max'])\n",
    "        self.start_y_range = float(self.this_plot.iloc[0]['y_min'])\n",
    "        self.stop_y_range = float(self.this_plot.iloc[0]['y_max'])\n",
    "        self.plot_name = self.this_plot.iloc[0]['name']\n",
    "        self.old_id = self.this_plot.iloc[0]['old_id']\n",
    "\n",
    "\n",
    "CurrentPlot = ThisPlot(all_plots_df, plot_id)\n"
   ]
  },
  {
   "cell_type": "code",
   "execution_count": 32,
   "metadata": {
    "colab": {
     "base_uri": "https://localhost:8080/"
    },
    "id": "YHkAjSvopf4J",
    "outputId": "5c103018-bc38-42c1-9172-6233e6f12866"
   },
   "outputs": [
    {
     "data": {
      "text/plain": [
       "{'this_plot':           x_min plot_eps  x_units y_units legend_eps old_id user_id no_id  \\\n",
       " 3  1.000000e+00     None  GeV/c^2     cm2       None    107    None     0   \n",
       " \n",
       "   subject           created_at  ... old_user_id          y_min  \\\n",
       " 3    plot  2010-01-04 18:59:18  ...        None  -5.000000e+01   \n",
       " \n",
       "            archived_at              name         x_max plot_png  id  \\\n",
       " 3  1980-01-01 00:00:00  CDMS_new_results  1.000000e+04     None  54   \n",
       " \n",
       "            y_max legend_png row_id  \n",
       " 3  -3.600000e+01       None      3  \n",
       " \n",
       " [1 rows x 23 columns],\n",
       " 'start_x_range': 1.0,\n",
       " 'stop_x_range': 10000.0,\n",
       " 'start_y_range': -50.0,\n",
       " 'stop_y_range': -36.0,\n",
       " 'plot_name': 'CDMS_new_results',\n",
       " 'old_id': '107'}"
      ]
     },
     "execution_count": 32,
     "metadata": {},
     "output_type": "execute_result"
    }
   ],
   "source": [
    "CurrentPlot.__dict__"
   ]
  },
  {
   "cell_type": "code",
   "execution_count": 33,
   "metadata": {
    "colab": {
     "base_uri": "https://localhost:8080/",
     "height": 206
    },
    "id": "EXkhypsTsW1E",
    "outputId": "fd971e3f-f75d-4472-f627-c85272e0bd2b"
   },
   "outputs": [
    {
     "data": {
      "text/html": [
       "<div>\n",
       "<style scoped>\n",
       "    .dataframe tbody tr th:only-of-type {\n",
       "        vertical-align: middle;\n",
       "    }\n",
       "\n",
       "    .dataframe tbody tr th {\n",
       "        vertical-align: top;\n",
       "    }\n",
       "\n",
       "    .dataframe thead th {\n",
       "        text-align: right;\n",
       "    }\n",
       "</style>\n",
       "<table border=\"1\" class=\"dataframe\">\n",
       "  <thead>\n",
       "    <tr style=\"text-align: right;\">\n",
       "      <th></th>\n",
       "      <th>id</th>\n",
       "      <th>limit_id</th>\n",
       "      <th>plot_id</th>\n",
       "      <th>color</th>\n",
       "      <th>style</th>\n",
       "      <th>updated_at</th>\n",
       "      <th>subject</th>\n",
       "      <th>row_id</th>\n",
       "    </tr>\n",
       "  </thead>\n",
       "  <tbody>\n",
       "    <tr>\n",
       "      <th>0</th>\n",
       "      <td>457</td>\n",
       "      <td>273</td>\n",
       "      <td>107</td>\n",
       "      <td>r</td>\n",
       "      <td>line</td>\n",
       "      <td>201111101631</td>\n",
       "      <td>limit_display</td>\n",
       "      <td>0</td>\n",
       "    </tr>\n",
       "    <tr>\n",
       "      <th>1</th>\n",
       "      <td>458</td>\n",
       "      <td>136</td>\n",
       "      <td>107</td>\n",
       "      <td>g</td>\n",
       "      <td>dash</td>\n",
       "      <td>201001041902</td>\n",
       "      <td>limit_display</td>\n",
       "      <td>1</td>\n",
       "    </tr>\n",
       "    <tr>\n",
       "      <th>2</th>\n",
       "      <td>460</td>\n",
       "      <td>305</td>\n",
       "      <td>107</td>\n",
       "      <td>k</td>\n",
       "      <td>line</td>\n",
       "      <td>201001041910</td>\n",
       "      <td>limit_display</td>\n",
       "      <td>2</td>\n",
       "    </tr>\n",
       "    <tr>\n",
       "      <th>3</th>\n",
       "      <td>3216</td>\n",
       "      <td>407</td>\n",
       "      <td>107</td>\n",
       "      <td>c</td>\n",
       "      <td>fill</td>\n",
       "      <td>201107220146</td>\n",
       "      <td>limit_display</td>\n",
       "      <td>3</td>\n",
       "    </tr>\n",
       "    <tr>\n",
       "      <th>4</th>\n",
       "      <td>3217</td>\n",
       "      <td>216</td>\n",
       "      <td>107</td>\n",
       "      <td>ltg</td>\n",
       "      <td>fill</td>\n",
       "      <td>201107220145</td>\n",
       "      <td>limit_display</td>\n",
       "      <td>4</td>\n",
       "    </tr>\n",
       "  </tbody>\n",
       "</table>\n",
       "</div>"
      ],
      "text/plain": [
       "     id limit_id plot_id color style    updated_at        subject  row_id\n",
       "0   457      273     107     r  line  201111101631  limit_display       0\n",
       "1   458      136     107     g  dash  201001041902  limit_display       1\n",
       "2   460      305     107     k  line  201001041910  limit_display       2\n",
       "3  3216      407     107     c  fill  201107220146  limit_display       3\n",
       "4  3217      216     107   ltg  fill  201107220145  limit_display       4"
      ]
     },
     "execution_count": 33,
     "metadata": {},
     "output_type": "execute_result"
    }
   ],
   "source": [
    "def get_limit_displays_for_old_plot(old_plot_id_in, request_header_in):\n",
    "    fastapi_url_limit_displays = api_server + data_api + \"read_by_plot_limit_display/\"\n",
    "    request = Request(fastapi_url_limit_displays + '?id_in=' + str(old_plot_id_in), headers=request_header_in)\n",
    "    r = urllib.request.urlopen(request, context=context)\n",
    "    string = r.read().decode('utf-8')\n",
    "    limit_display_json_obj = json.loads(string)\n",
    "    limit_display_df_ret = pd.DataFrame(limit_display_json_obj)\n",
    "    limit_display_df_ret['row_id'] = limit_display_df_ret.index\n",
    "    limit_display_df_ret['updated_at'] = pd.to_datetime(limit_display_df_ret['updated_at'], errors='coerce')\n",
    "    limit_display_df_ret['updated_at'] = limit_display_df_ret['updated_at'].dt.strftime('%Y%m%d%H%M')\n",
    "    return limit_display_df_ret\n",
    "\n",
    "purpose = 'read_by_plot'\n",
    "subject = 'limit_display'\n",
    "Client.create_current_url(purpose, subject, old_plot_id)\n",
    "limit_display_df = Client.read_current_as_df()\n",
    "limit_display_df['row_id'] = limit_display_df.index\n",
    "limit_display_df['updated_at'] = pd.to_datetime(limit_display_df['updated_at'], errors='coerce')\n",
    "limit_display_df['updated_at'] = limit_display_df['updated_at'].dt.strftime('%Y%m%d%H%M')\n",
    "\n",
    "limit_display_df"
   ]
  },
  {
   "cell_type": "code",
   "execution_count": 34,
   "metadata": {
    "colab": {
     "base_uri": "https://localhost:8080/",
     "height": 206
    },
    "id": "KMQ9KfZI-5GC",
    "outputId": "eb70dbef-0a21-4da7-ba6c-cb4e42752606"
   },
   "outputs": [
    {
     "data": {
      "text/html": [
       "<div>\n",
       "<style scoped>\n",
       "    .dataframe tbody tr th:only-of-type {\n",
       "        vertical-align: middle;\n",
       "    }\n",
       "\n",
       "    .dataframe tbody tr th {\n",
       "        vertical-align: top;\n",
       "    }\n",
       "\n",
       "    .dataframe thead th {\n",
       "        text-align: right;\n",
       "    }\n",
       "</style>\n",
       "<table border=\"1\" class=\"dataframe\">\n",
       "  <thead>\n",
       "    <tr style=\"text-align: right;\">\n",
       "      <th></th>\n",
       "      <th>id</th>\n",
       "      <th>subject</th>\n",
       "      <th>name</th>\n",
       "      <th>old_id</th>\n",
       "      <th>old_plot_id</th>\n",
       "      <th>limit_id</th>\n",
       "      <th>plot_id</th>\n",
       "      <th>color</th>\n",
       "      <th>style</th>\n",
       "      <th>data_id</th>\n",
       "      <th>updated_at</th>\n",
       "      <th>open</th>\n",
       "      <th>row_id</th>\n",
       "    </tr>\n",
       "  </thead>\n",
       "  <tbody>\n",
       "    <tr>\n",
       "      <th>0</th>\n",
       "      <td>95</td>\n",
       "      <td>data_display</td>\n",
       "      <td>None</td>\n",
       "      <td>None</td>\n",
       "      <td>107</td>\n",
       "      <td>273</td>\n",
       "      <td>54</td>\n",
       "      <td>r</td>\n",
       "      <td>line</td>\n",
       "      <td>255</td>\n",
       "      <td>201111101631</td>\n",
       "      <td>1</td>\n",
       "      <td>0</td>\n",
       "    </tr>\n",
       "    <tr>\n",
       "      <th>1</th>\n",
       "      <td>96</td>\n",
       "      <td>data_display</td>\n",
       "      <td>None</td>\n",
       "      <td>None</td>\n",
       "      <td>107</td>\n",
       "      <td>136</td>\n",
       "      <td>54</td>\n",
       "      <td>g</td>\n",
       "      <td>dash</td>\n",
       "      <td>134</td>\n",
       "      <td>201001041902</td>\n",
       "      <td>1</td>\n",
       "      <td>1</td>\n",
       "    </tr>\n",
       "    <tr>\n",
       "      <th>2</th>\n",
       "      <td>97</td>\n",
       "      <td>data_display</td>\n",
       "      <td>None</td>\n",
       "      <td>None</td>\n",
       "      <td>107</td>\n",
       "      <td>305</td>\n",
       "      <td>54</td>\n",
       "      <td>k</td>\n",
       "      <td>line</td>\n",
       "      <td>271</td>\n",
       "      <td>201001041910</td>\n",
       "      <td>1</td>\n",
       "      <td>2</td>\n",
       "    </tr>\n",
       "    <tr>\n",
       "      <th>3</th>\n",
       "      <td>151</td>\n",
       "      <td>data_display</td>\n",
       "      <td>None</td>\n",
       "      <td>None</td>\n",
       "      <td>107</td>\n",
       "      <td>407</td>\n",
       "      <td>54</td>\n",
       "      <td>c</td>\n",
       "      <td>fill</td>\n",
       "      <td>350</td>\n",
       "      <td>201107220146</td>\n",
       "      <td>1</td>\n",
       "      <td>3</td>\n",
       "    </tr>\n",
       "    <tr>\n",
       "      <th>4</th>\n",
       "      <td>152</td>\n",
       "      <td>data_display</td>\n",
       "      <td>None</td>\n",
       "      <td>None</td>\n",
       "      <td>107</td>\n",
       "      <td>216</td>\n",
       "      <td>54</td>\n",
       "      <td>ltg</td>\n",
       "      <td>fill</td>\n",
       "      <td>200</td>\n",
       "      <td>201107220145</td>\n",
       "      <td>1</td>\n",
       "      <td>4</td>\n",
       "    </tr>\n",
       "  </tbody>\n",
       "</table>\n",
       "</div>"
      ],
      "text/plain": [
       "    id       subject  name old_id old_plot_id limit_id plot_id color style  \\\n",
       "0   95  data_display  None   None         107      273      54     r  line   \n",
       "1   96  data_display  None   None         107      136      54     g  dash   \n",
       "2   97  data_display  None   None         107      305      54     k  line   \n",
       "3  151  data_display  None   None         107      407      54     c  fill   \n",
       "4  152  data_display  None   None         107      216      54   ltg  fill   \n",
       "\n",
       "  data_id    updated_at open  row_id  \n",
       "0     255  201111101631    1       0  \n",
       "1     134  201001041902    1       1  \n",
       "2     271  201001041910    1       2  \n",
       "3     350  201107220146    1       3  \n",
       "4     200  201107220145    1       4  "
      ]
     },
     "execution_count": 34,
     "metadata": {},
     "output_type": "execute_result"
    }
   ],
   "source": [
    "purpose = 'read_by_plot'\n",
    "subject = 'data_display'\n",
    "Client.create_current_url(purpose, subject, plot_id)\n",
    "data_display_df = Client.read_current_as_df()\n",
    "data_display_df['row_id'] = data_display_df.index\n",
    "data_display_df['updated_at'] = pd.to_datetime(data_display_df['updated_at'], errors='coerce')\n",
    "data_display_df['updated_at'] = data_display_df['updated_at'].dt.strftime('%Y%m%d%H%M')\n",
    "\n",
    "data_display_df"
   ]
  },
  {
   "cell_type": "code",
   "execution_count": 35,
   "metadata": {},
   "outputs": [
    {
     "name": "stdout",
     "output_type": "stream",
     "text": [
      "read_a_data_url >>>>>>>>>>>>> https://dmtools.brown.edu/dmtool/fastapi_data/open/data/read_a_data/?id_in=-1\n"
     ]
    }
   ],
   "source": [
    "Client.get_data_for_plot(54)"
   ]
  },
  {
   "cell_type": "code",
   "execution_count": null,
   "metadata": {
    "colab": {
     "base_uri": "https://localhost:8080/",
     "height": 206
    },
    "id": "s4AEe2BUCMEz",
    "outputId": "ea249bd4-8411-4f1f-a98b-196d1f2b4817"
   },
   "outputs": [],
   "source": [
    "def get_data_for_plot(plot_id_in):\n",
    "    purpose = 'read_by_plot'\n",
    "    subject = 'data_display'\n",
    "    Client.create_current_url(purpose, subject, plot_id_in)\n",
    "    data_display_df = Client.read_current_as_df()\n",
    "    data_data_df_ret = pd.DataFrame()\n",
    "    data_df_ret = pd.DataFrame()\n",
    "    for index, row in data_display_df.iterrows():\n",
    "        #print(row['c1'], row['c2']\n",
    "        #print('data id from data >>>>', row['data_id'])\n",
    "        purpose = 'read_a'\n",
    "        subject = 'data'\n",
    "        Client.create_current_url(purpose, subject, row['data_id'])\n",
    "        a_data_json_obj = Client.read_current_as_json()\n",
    "        data_label = a_data_json_obj['data_label']\n",
    "        data_string = a_data_json_obj['data']\n",
    "        # Convert the string back to a list of lists of lists\n",
    "        reconstructed_list = json.loads(data_string)\n",
    "        #print(\"Deserialized list:\", reconstructed_list)\n",
    "        \n",
    "        # Flatten the list and add a reference to the top-level list\n",
    "        flattened_data = []\n",
    "        for i, sublist in enumerate(reconstructed_list):\n",
    "            for inner_list in sublist:\n",
    "                flattened_data.append([i+1] + inner_list)\n",
    "        \n",
    "        # Create a DataFrame from the flattened list\n",
    "        columns = ['trace_id', 'x', 'y']\n",
    "        data_data_resp_df = pd.DataFrame(flattened_data, columns=columns)\n",
    "        #print(data_string)\n",
    "        # Convert the string to an actual list\n",
    "        #data_eval = ast.literal_eval(data_string)\n",
    "        #print(data_eval)\n",
    "        # Flatten the list of lists of lists into a 2D list\n",
    "        #flattened_data = [inner for outer in data_eval for inner in outer]\n",
    "        #print(flattened_data)\n",
    "        # Convert the 2D list to a DataFrame\n",
    "        #df = pd.DataFrame(flattened_data)\n",
    "        #data_data_resp_df['data_id'] = row['data_id']\n",
    "\n",
    "        data_df_resp = pd.DataFrame(data=a_data_json_obj, index=[0])\n",
    "        #a_data_json_obj\n",
    "        #print(a_data_json_obj)\n",
    "        try:\n",
    "            y_rescale = float(a_data_json_obj['y_rescale'])\n",
    "        except:\n",
    "            y_rescale = 1\n",
    "        try:\n",
    "            x_rescale = float(a_data_json_obj['x_rescale'])\n",
    "        except:\n",
    "            x_rescale = 1\n",
    "        \n",
    "        ## when do we rescale?\n",
    "        data_data_resp_df['cross_sections'] = data_data_resp_df['y'].astype(float).apply(lambda y: y * y_rescale)\n",
    "        data_data_resp_df['masses'] = data_data_resp_df['x'].astype(float).apply(lambda x: x * x_rescale)\n",
    "        data_data_resp_df['trace_name'] = data_label\n",
    "        data_data_resp_df['data_id'] = row['data_id']\n",
    "\n",
    "        data_data_df_ret = pd.concat([data_data_df_ret,data_data_resp_df])\n",
    "        data_df_ret = pd.concat([data_df_ret,data_df_resp])\n",
    "\n",
    "    return data_df_ret , data_data_df_ret # data_df_ret , data_data_df_ret\n",
    "\n",
    "data_df , data_data_df = get_data_for_plot(plot_id)\n",
    "#data_data_df.head(5)\n",
    "#data_df\n",
    "data_data_df"
   ]
  },
  {
   "cell_type": "code",
   "execution_count": null,
   "metadata": {
    "colab": {
     "base_uri": "https://localhost:8080/",
     "height": 206
    },
    "id": "O_hjqKvj9ccB",
    "outputId": "abe18de5-e2c7-40c3-f722-e2bebba41fb4"
   },
   "outputs": [],
   "source": [
    "#trace_list = data_data_df[['data_id','trace_id']].drop_duplicate()\n",
    "trace_list_refs = data_data_df[['data_id','trace_id','trace_name']].copy()\n",
    "trace_list = trace_list_refs.drop_duplicates()\n",
    "trace_list"
   ]
  },
  {
   "cell_type": "code",
   "execution_count": null,
   "metadata": {
    "colab": {
     "base_uri": "https://localhost:8080/"
    },
    "id": "2rZ_5S54D-aj",
    "outputId": "6e3cd48c-dec0-4b95-bbdb-a2e16ce6384a"
   },
   "outputs": [],
   "source": [
    "#data_data_df.head(5)\n",
    "min_cross_sections = data_data_df['cross_sections'].min()\n",
    "max_cross_sections = data_data_df['cross_sections'].max()\n",
    "min_masses = data_data_df['masses'].min()\n",
    "max_masses = data_data_df['masses'].max()\n",
    "\n",
    "print('min y :' ,min_cross_sections)\n",
    "print('max y :' ,max_cross_sections)\n",
    "print('min x :' ,min_masses)\n",
    "print('max x :' ,max_masses)\n",
    "\n",
    "#print(start_x_range)\n",
    "#print(stop_x_range)\n",
    "#print(start_y_range)\n",
    "#print(stop_y_range)"
   ]
  },
  {
   "cell_type": "code",
   "execution_count": null,
   "metadata": {
    "colab": {
     "base_uri": "https://localhost:8080/",
     "height": 817
    },
    "id": "_v7ilgVT5rVG",
    "outputId": "10cea150-0c7b-4d7a-f09f-a4f9cac467f2"
   },
   "outputs": [],
   "source": [
    "## need this for the inital build of the dash layout\n",
    "def create_blank_chart_for_plot(plot_name_in, plot_id_in, old_plot_id_in):\n",
    "    y_title_text = r\"$\\text{WIMP Mass [GeV}/c^{2}]$\"\n",
    "    x_title_text = r\"$\\text{Cross Section [cm}^{2}\\text{] (normalized to nucleon)}$\"\n",
    "    plot_title = plot_name_in + \" - Plot Reference:\" + str(plot_id_in) + \" - Old Plot ID:\" + str(old_plot_id_in)\n",
    "    #plot_title\n",
    "    ## create empty chart\n",
    "    fig_chart_out = go.Figure(data=[go.Scatter(x=[], y=[])])\n",
    "    fig_chart_out.update_layout( autosize=False, width=800, height=800, )\n",
    "    fig_chart_out.update_layout(xaxis_range=[-1,-4])\n",
    "    fig_chart_out.update_layout(yaxis_range=[-1,-4])\n",
    "    fig_chart_out.update_layout(\n",
    "            margin=dict(l=0, r=0, t=20, b=0),\n",
    "            paper_bgcolor=\"LightSteelBlue\",)\n",
    "\n",
    "    fig_chart_out.update_layout(\n",
    "        title=dict(text=plot_title , font=dict(size=18), automargin=True, yref='paper')\n",
    "    )\n",
    "    fig_chart_out.update_xaxes(\n",
    "        #title_text=x_title_text,\n",
    "        #type=\"log\"\n",
    "        type=\"linear\"\n",
    "    )\n",
    "    fig_chart_out.update_yaxes(\n",
    "        #title_text=y_title_text,\n",
    "        type=\"log\"\n",
    "        #type=\"linear\"\n",
    "    )\n",
    "    return fig_chart_out\n",
    "\n",
    "fig_chart = create_blank_chart_for_plot('plotty',plot_id, old_plot_id)\n",
    "#fig_chart.show()"
   ]
  },
  {
   "cell_type": "code",
   "execution_count": null,
   "metadata": {
    "colab": {
     "base_uri": "https://localhost:8080/",
     "height": 984
    },
    "id": "EQtIXj-E6Hy9",
    "outputId": "e4922813-ed4b-4b1f-8872-9e880e19ade5"
   },
   "outputs": [],
   "source": [
    "def create_actual_plot(plot_name_in, plot_id_in, old_plot_id_in, data_display_df_in, data_data_df_in):\n",
    "    ## requirement to keep plots square\n",
    "    #if screen_height_in > screen_width_in:\n",
    "    #    plot_square_dimensions =\n",
    "    #plot_square_dimensions = self.screen_height / 2\n",
    "    plot_square_dimensions = 600\n",
    "\n",
    "    m1 = go.layout.Margin(l=20,r=10,b=20,t=20,pad=0)\n",
    "    hw = go.Layout(autosize=False,width=plot_square_dimensions,height=plot_square_dimensions)\n",
    "    y_title_text = r\"$\\text{Cross Section [cm}^{2}\\text{] (normalized to nucleon)}$\"\n",
    "\n",
    "    y1 = go.layout.YAxis(#title=y_title_text,\n",
    "                        title_standoff = 0,\n",
    "                        #range=[start_y_range,stop_y_range],\n",
    "                        type=\"log\",\n",
    "                        titlefont=go.layout.yaxis.title.Font(color='SteelBlue'))\n",
    "\n",
    "    x_title_text = r\"$\\text{WIMP Mass [GeV}/c^{2}]$\"\n",
    "    x1 = go.layout.XAxis(#title=x_title_text,\n",
    "                        title_standoff = 0,\n",
    "                        type=\"log\",\n",
    "                        #type=\"linear\",\n",
    "                        #range=[start_x_range,stop_x_range],\n",
    "                        titlefont=go.layout.xaxis.title.Font(color='SteelBlue'))\n",
    "\n",
    "\n",
    "    ##title1=go.layout.Title(text=\"Dark Matter Detection Results\")\n",
    "\n",
    "    fig_chart_populated = go.Figure(\n",
    "        data=[go.Scatter(x=[], y=[])],\n",
    "        layout=go.Layout(\n",
    "            margin=m1,\n",
    "            yaxis= y1,\n",
    "            xaxis= x1\n",
    "        )\n",
    "    )\n",
    "\n",
    "    plot_title = plot_name_in + \" - P: \" + str(plot_id_in) + \" - O: \" + str(old_plot_id_in)\n",
    "\n",
    "    fig_chart_populated.update_layout(\n",
    "        title=dict(text=plot_title ,font=dict(size=16),automargin=True,yref='paper')\n",
    "    )\n",
    "\n",
    "    fig_chart_populated.update_layout(hw)\n",
    "\n",
    "    for index, row in data_display_df_in.iterrows():\n",
    "        #print(row['limit_id'])\n",
    "        data_id_selected = row['data_id']\n",
    "        #print('selected data_id >>', data_id_selected)\n",
    "        #data_about_selected_df = self.data_about_df[self.data_about_df['data_id']==data_id_selected].copy()\n",
    "        data_display_selected_df_in = data_display_df_in[data_display_df_in['data_id']==data_id_selected].copy()\n",
    "        data_data_selected_df_in = data_data_df_in[data_data_df_in['data_id']==data_id_selected].copy()\n",
    "        trace_list_refs = data_data_selected_df_in[['data_id','trace_id','trace_name']].copy()\n",
    "        trace_list = trace_list_refs.drop_duplicates()\n",
    "        trace_style = data_display_selected_df_in['style'].iloc[0]\n",
    "        trace_color = data_display_selected_df_in['color'].iloc[0]\n",
    "        pt = PlotTrace()\n",
    "        pt.set_values(trace_color, trace_style)\n",
    "        for index, row in trace_list.iterrows():\n",
    "            #print(row)\n",
    "            trace_data = data_data_df[(data_data_df['data_id']==row['data_id']) & (data_data_df['trace_id']==row['trace_id'])]\n",
    "            #print(trace_data)\n",
    "            #print(\"trace_data >>>>\" , trace_data)\n",
    "            trace_name = row['trace_name']\n",
    "            fig_chart_populated.add_trace(go.Scatter(pt.__dict__,\n",
    "                                              x=trace_data['masses'],\n",
    "                                              y=trace_data['cross_sections'],\n",
    "                                              name=trace_name,\n",
    "                                                      showlegend=False\n",
    "                                                  ))\n",
    "    return fig_chart_populated\n",
    "fig_chart_1 = create_actual_plot('Plot Name', plot_id, old_plot_id, data_display_df, data_data_df )\n",
    "fig_chart_1.show()"
   ]
  },
  {
   "cell_type": "code",
   "execution_count": null,
   "metadata": {
    "colab": {
     "base_uri": "https://localhost:8080/",
     "height": 55
    },
    "id": "YVV0TK0v6-b2",
    "outputId": "4545e8e6-8f47-4c7c-d345-2c50ac436e28"
   },
   "outputs": [],
   "source": [
    "'''\n",
    "## are we happy with hover template now data is 5 decimal places?\n",
    "hovertemplate =\n",
    "                                               '<i><b>Cross Section</b></i>: %{y:.4E}'+\n",
    "                                                  '<br><b>Mass</b>: %{x}<br>',\n",
    "showlegend=False,\n",
    "'''"
   ]
  },
  {
   "cell_type": "code",
   "execution_count": null,
   "metadata": {
    "colab": {
     "base_uri": "https://localhost:8080/",
     "height": 206
    },
    "id": "O-qtaLxU8K-k",
    "outputId": "ade17600-328c-4ab7-89c3-95e5616c1ef5"
   },
   "outputs": [],
   "source": [
    "limit_display_df"
   ]
  },
  {
   "cell_type": "code",
   "execution_count": null,
   "metadata": {
    "colab": {
     "base_uri": "https://localhost:8080/",
     "height": 613
    },
    "id": "W4512gdXMm5L",
    "outputId": "f2d87ba7-9dcc-4351-9068-0fdacbf18abe"
   },
   "outputs": [],
   "source": [
    "def create_populated_legend(data_display_df_in, data_df_in):\n",
    "    rows_list = list(range(1,20))\n",
    "    cols_list = list(range(1,4))\n",
    "\n",
    "    table_rows=20\n",
    "    table_cols=3\n",
    "    #plot_square_dimensions = screen_height_in / 2\n",
    "    legend_width = 600 ## this will be a maximum and will shrink if screen size < 800\n",
    "    legend_height = 20 * 16\n",
    "    fig_chart_legend = make_subplots(\n",
    "                      column_titles = ['data_id','format'],\n",
    "                      rows=table_rows,\n",
    "                      cols=table_cols,\n",
    "                      horizontal_spacing = 0.00,\n",
    "                      vertical_spacing = 0.00,\n",
    "                      #subplot_titles=(titles)\n",
    "                      column_widths=[0.1,0.8,0.1])\n",
    "\n",
    "    fig_chart_legend.update_layout(\n",
    "        #    autosize=False,\n",
    "            width=legend_width,\n",
    "            height=legend_height,\n",
    "            margin=dict(\n",
    "                l=0,\n",
    "                r=0,\n",
    "                b=0,\n",
    "                t=0,\n",
    "                pad=0\n",
    "            ),\n",
    "            paper_bgcolor=\"LightSteelBlue\",\n",
    "        )\n",
    "\n",
    "    fig_chart_legend.update_xaxes(showgrid=False)\n",
    "    fig_chart_legend.update_yaxes(showgrid=False)\n",
    "    #legend\n",
    "    fig_chart_legend.update_layout(showlegend=False)\n",
    "    #x axis\n",
    "    fig_chart_legend.update_xaxes(visible=False)\n",
    "    #y axis\n",
    "    fig_chart_legend.update_yaxes(visible=False)\n",
    "\n",
    "    fig_chart_legend.data = []\n",
    "    #fig_legend_out.show()\n",
    "\n",
    "    # Any changes to the fig must be applied to the DataFrame as the dataframe\n",
    "    # will be used when the plot is saved.\n",
    "    # Saving zoom is still to be implemented\n",
    "\n",
    "    #print(\"CD : data_display_df>>>>>>>>>\", data_display_df_in)\n",
    "\n",
    "    display_legend_df = data_display_df_in[['data_id','color','style']].copy()\n",
    "    display_legend_df.drop_duplicates(inplace=True)\n",
    "\n",
    "    rowloop = 1\n",
    "    for index, row in display_legend_df.iterrows():\n",
    "        data_selected_df = data_df_in[data_df_in['id']==row['data_id']].copy()\n",
    "        trace_name = data_selected_df['data_label'].iloc[0]\n",
    "        for c in cols_list: #enumerate here to get access to i\n",
    "            # STEP 2, notice position of arguments!\n",
    "            #table_column_names = ['data_id','data_label','format']\n",
    "            scatter_mode_list = ['text-number','text-text','format']\n",
    "            table_column_names = ['data_id','trace_name','format']\n",
    "            trace_style = row['style']\n",
    "            trace_color = row['color']\n",
    "            data_id = row['data_id']\n",
    "            pt = PlotTrace()\n",
    "            pt.set_values(trace_color, trace_style)\n",
    "            #tc.set_row_col(rowloop, c)\n",
    "            #scatter_mode_list = ['text-number','text-text','format']\n",
    "            #current_column = table_column_names[c-1]\n",
    "            #current_mode = scatter_mode_list[c-1]\n",
    "            current_column = table_column_names[c-1]\n",
    "            current_mode = scatter_mode_list[c-1]\n",
    "            #print(rowloop,current_column, current_mode )\n",
    "            if current_mode =='format':\n",
    "                mode = pt.__dict__['mode']\n",
    "                #fill = 'toself'\n",
    "                fill = pt.__dict__['fill']\n",
    "                if mode == 'lines' and fill == 'none':\n",
    "                    x_data = [0,1]\n",
    "                    y_data = [0.5,0.5]\n",
    "                elif mode == 'lines' and fill == 'toself':\n",
    "                    x_data = [0,1,1,0,0]\n",
    "                    y_data = [0,0,1,1,0]\n",
    "                else:\n",
    "                    x_data = [0,1]\n",
    "                    y_data = [0.5,0.5]\n",
    "\n",
    "                fig_chart_legend.add_trace(go.Scatter(pt.__dict__,x=x_data,\n",
    "                                            y=y_data),\n",
    "                              row=rowloop, #index for the subplot, i+1 because plotly starts with 1\n",
    "                              col=c)\n",
    "\n",
    "            if current_mode =='text-number':\n",
    "                fig_chart_legend.add_trace(go.Scatter(x=[1,2],\n",
    "                                          textposition='middle right',\n",
    "                                          y=[1,1],\n",
    "                                          mode='text',\n",
    "                                          text=[str(data_id),'']\n",
    "                                        ),\n",
    "                              row=rowloop, #index for the subplot, i+1 because plotly starts with 1\n",
    "                              col=c)\n",
    "            if current_mode =='text-text':\n",
    "                fig_chart_legend.add_trace(go.Scatter(x=[1,2],\n",
    "                                          textposition='middle right',\n",
    "                                          y=[1,1],\n",
    "                                          mode='text',\n",
    "                                          text=[trace_name,'']\n",
    "                                        ),\n",
    "                              row=rowloop, #index for the subplot, i+1 because plotly starts with 1\n",
    "                              col=c)\n",
    "\n",
    "        rowloop=rowloop+1\n",
    "        fig_chart_legend.update_xaxes(showgrid=False)\n",
    "        fig_chart_legend.update_yaxes(showgrid=False)\n",
    "        #legend\n",
    "        fig_chart_legend.update_layout(showlegend=False)\n",
    "        #x axis\n",
    "        fig_chart_legend.update_xaxes(visible=False)\n",
    "        #y axis\n",
    "        fig_chart_legend.update_yaxes(visible=False)\n",
    "\n",
    "    return fig_chart_legend\n",
    "\n",
    "legend_fig = create_populated_legend(data_display_df, data_df)\n",
    "legend_fig.show()"
   ]
  },
  {
   "cell_type": "code",
   "execution_count": null,
   "metadata": {},
   "outputs": [],
   "source": [
    "data_display_df"
   ]
  },
  {
   "cell_type": "code",
   "execution_count": null,
   "metadata": {
    "id": "J-RvWsdI8Dck"
   },
   "outputs": [],
   "source": [
    "data_df"
   ]
  },
  {
   "cell_type": "code",
   "execution_count": null,
   "metadata": {},
   "outputs": [],
   "source": []
  }
 ],
 "metadata": {
  "colab": {
   "provenance": []
  },
  "kernelspec": {
   "display_name": "Python 3 (ipykernel)",
   "language": "python",
   "name": "python3"
  },
  "language_info": {
   "codemirror_mode": {
    "name": "ipython",
    "version": 3
   },
   "file_extension": ".py",
   "mimetype": "text/x-python",
   "name": "python",
   "nbconvert_exporter": "python",
   "pygments_lexer": "ipython3",
   "version": "3.12.4"
  }
 },
 "nbformat": 4,
 "nbformat_minor": 4
}
