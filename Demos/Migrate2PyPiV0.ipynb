{
 "cells": [
  {
   "cell_type": "code",
   "execution_count": null,
   "metadata": {
    "id": "1BJwNmAqPtb1"
   },
   "outputs": [],
   "source": [
    "import ssl\n",
    "import urllib\n",
    "context = ssl._create_unverified_context()\n",
    "from urllib.request import Request, urlopen\n",
    "import json\n",
    "from io import StringIO\n",
    "import pandas as pd\n",
    "import ast"
   ]
  },
  {
   "cell_type": "code",
   "execution_count": null,
   "metadata": {
    "id": "9jewG02D53xX"
   },
   "outputs": [],
   "source": [
    "from itertools import cycle\n",
    "import plotly.graph_objs as go\n",
    "from plotly.subplots import make_subplots"
   ]
  },
  {
   "cell_type": "code",
   "execution_count": null,
   "metadata": {},
   "outputs": [],
   "source": [
    "from dmtools_client_package.dmtools_client_module import DMToolsClient\n",
    "from dmtools_client_package.dmtools_client_module import PlotTrace"
   ]
  },
  {
   "cell_type": "code",
   "execution_count": null,
   "metadata": {},
   "outputs": [],
   "source": [
    "## get api key and user id from local .env file\n",
    "from dotenv import load_dotenv\n",
    "import os\n",
    "from os import environ, path\n",
    "#BASE_DIR = path.abspath(path.dirname(__file__))\n",
    "BASE_DIR = os.getcwd()\n",
    "#load_dotenv(path.join(BASE_DIR, \".env\"))\n",
    "load_dotenv(path.join(BASE_DIR, \".env\"), override=True)\n",
    "MY_DMTOOLS_APIKEY = environ.get(\"MY_DMTOOLS_APIKEY\")\n",
    "MY_DMTOOLS_USERID = environ.get(\"MY_DMTOOLS_USERID\")\n",
    "Client = DMToolsClient(MY_DMTOOLS_USERID, MY_DMTOOLS_APIKEY)"
   ]
  },
  {
   "cell_type": "code",
   "execution_count": null,
   "metadata": {
    "jupyter": {
     "source_hidden": true
    }
   },
   "outputs": [],
   "source": [
    "## get api key and user id from local .env file\n",
    "from dotenv import load_dotenv\n",
    "import os\n",
    "from os import environ, path\n",
    "#BASE_DIR = path.abspath(path.dirname(__file__))\n",
    "BASE_DIR = os.getcwd()\n",
    "load_dotenv(path.join(BASE_DIR, \".env\"))\n",
    "MY_DMTOOLS_APIKEY = environ.get(\"MY_DMTOOLS_APIKEY\")\n",
    "MY_DMTOOLS_USERID = environ.get(\"MY_DMTOOLS_USERID\")\n",
    "Client = DMToolsClient(MY_DMTOOLS_USERID, MY_DMTOOLS_APIKEY)"
   ]
  },
  {
   "cell_type": "code",
   "execution_count": null,
   "metadata": {},
   "outputs": [],
   "source": [
    "#Client.request_header"
   ]
  },
  {
   "cell_type": "code",
   "execution_count": null,
   "metadata": {
    "id": "Gnbw2SdjykwR"
   },
   "outputs": [],
   "source": [
    "# Define scale factors\n",
    "a = Client.get_scale_factor(\"b\")\n",
    "print(a)"
   ]
  },
  {
   "cell_type": "code",
   "execution_count": null,
   "metadata": {},
   "outputs": [],
   "source": [
    "purpose = 'read_all'\n",
    "subject = 'limit_display'\n",
    "id = ''\n",
    "Client.create_current_url(purpose, subject, id)\n",
    "all_limit_display_df = Client.read_current_as_df()\n",
    "all_limit_display_df"
   ]
  },
  {
   "cell_type": "code",
   "execution_count": null,
   "metadata": {
    "id": "sR3ji2F_Sd2U"
   },
   "outputs": [],
   "source": [
    "combos = all_limit_display_df[['color','style']].drop_duplicates()\n",
    "style_list = all_limit_display_df['style'].drop_duplicates().tolist()\n",
    "color_list = all_limit_display_df['color'].drop_duplicates().tolist()"
   ]
  },
  {
   "cell_type": "code",
   "execution_count": null,
   "metadata": {},
   "outputs": [],
   "source": [
    "## Checking Translations"
   ]
  },
  {
   "cell_type": "code",
   "execution_count": null,
   "metadata": {
    "id": "7vHAXJFSUr6z"
   },
   "outputs": [],
   "source": [
    "style_list = ['line', 'dash', 'fill', 'dot', 'hex', 'asterisk', 'tril', 'plus',\n",
    " 'cross', 'circle', 'trid', 'pent', 'triu', 'trir', 'point']"
   ]
  },
  {
   "cell_type": "code",
   "execution_count": null,
   "metadata": {
    "id": "WgPfpJzQOYf2"
   },
   "outputs": [],
   "source": [
    "color_list_plots = ['k', 'r', 'dkg', 'ltg', 'ltr', 'b', 'ltb', 'c', 'g10', 'g20', 'dkb', 'dkr', 'g', 'm', 'g60', 'g80', 'g90',\n",
    " 'g30', 'y', 'g50', 'g70', 'g40', 'w']\n",
    "\n",
    "color_list_default = ['LtR', 'LtB', 'DkR', 'DkG', 'Blue', 'k', 'DkB', 'Red', 'Grn', 'Mag', 'LtG', 'Blk', 'G60', 'Cyan']"
   ]
  },
  {
   "cell_type": "code",
   "execution_count": null,
   "metadata": {},
   "outputs": [],
   "source": [
    "## This Trace Class creates a Dictionary that can then be added directly to the plot\n",
    "from dmtools_client_package.dmtools_client_module import PlotTrace"
   ]
  },
  {
   "cell_type": "code",
   "execution_count": null,
   "metadata": {
    "id": "AKYd-hjWkJu_"
   },
   "outputs": [],
   "source": [
    "## test the class\n",
    "style_list = ['line', 'dash', 'fill', 'dot', 'hex', 'asterisk', 'tril', 'plus',\n",
    " 'cross', 'circle', 'trid', 'pent', 'triu', 'trir', 'point']\n",
    "\n",
    "color_list = ['LtR', 'LtB', 'DkR', 'DkG', 'Blue', 'k', 'DkB', 'Red', 'Grn', 'Mag', 'LtG', 'Blk', 'G60', 'Cyan']\n",
    "\n",
    "\n",
    "fig_chart_test = go.Figure(\n",
    "        data=[go.Scatter(x=[], y=[])]\n",
    "    )\n",
    "pt = PlotTrace()\n",
    "\n",
    "for sl in style_list:\n",
    "    color_in = 'k'\n",
    "    style_in = sl\n",
    "    pt.set_values(color_in, style_in)\n",
    "    #tc.set_trace_style('trir')\n",
    "    #tc.__dict__\n",
    "\n",
    "    fig_chart_test.add_trace(go.Scatter(pt.__dict__,x=[1],y=[2],name='name'))\n"
   ]
  },
  {
   "cell_type": "code",
   "execution_count": null,
   "metadata": {
    "colab": {
     "base_uri": "https://localhost:8080/"
    },
    "id": "mchQU4fLyQ0D",
    "outputId": "b25b3da7-2124-4102-bfd4-35e4b7652a0b"
   },
   "outputs": [],
   "source": [
    "pt.__dict__"
   ]
  },
  {
   "cell_type": "code",
   "execution_count": null,
   "metadata": {
    "id": "dUYQoNMSyL0h"
   },
   "outputs": [],
   "source": [
    "pt_in = {'mode': 'lines+markers',\n",
    " 'line': {'color': 'black', 'width': 1, 'dash': 'dash'},\n",
    " 'marker': {'symbol': 'blah'},\n",
    " 'fillcolor': None,\n",
    " 'opacity': 1,\n",
    " 'fill': 'none'}\n",
    "#fig_chart_test.add_trace(go.Scatter(tc_in,x=[1],y=[2],name='name'))"
   ]
  },
  {
   "cell_type": "code",
   "execution_count": null,
   "metadata": {
    "colab": {
     "base_uri": "https://localhost:8080/"
    },
    "id": "66wXgH9xVDgp",
    "outputId": "6a45776c-efaa-4143-9762-c9dba7861dfd"
   },
   "outputs": [],
   "source": [
    "purpose = 'read_a'\n",
    "subject = 'data'\n",
    "id = 1\n",
    "Client.create_current_url(purpose, subject, id)\n",
    "a_data_json_obj = Client.read_current_as_json()\n",
    "a_data_json_obj['data']"
   ]
  },
  {
   "cell_type": "code",
   "execution_count": null,
   "metadata": {},
   "outputs": [],
   "source": [
    "#nested_json_data = json.dumps(nested_payload).encode('utf-8')\n",
    "\n",
    "\n",
    "#print(\"Payload:\", json.dumps(nested_json_data))"
   ]
  },
  {
   "cell_type": "code",
   "execution_count": null,
   "metadata": {
    "id": "HlTOwItqyT3H"
   },
   "outputs": [],
   "source": [
    "#x = Client.clean_data_values(1)"
   ]
  },
  {
   "cell_type": "code",
   "execution_count": null,
   "metadata": {},
   "outputs": [],
   "source": []
  },
  {
   "cell_type": "code",
   "execution_count": null,
   "metadata": {
    "id": "CTSMdDLry0MI"
   },
   "outputs": [],
   "source": []
  },
  {
   "cell_type": "code",
   "execution_count": null,
   "metadata": {},
   "outputs": [],
   "source": [
    "x = Client.clean_data_values(1)\n",
    "print(x)"
   ]
  },
  {
   "cell_type": "code",
   "execution_count": null,
   "metadata": {},
   "outputs": [],
   "source": [
    "purpose = 'read_all'\n",
    "subject = 'data'\n",
    "Client.create_current_url(purpose, subject, id)\n",
    "all_data_json_obj = Client.read_current_as_json()"
   ]
  },
  {
   "cell_type": "code",
   "execution_count": null,
   "metadata": {
    "colab": {
     "base_uri": "https://localhost:8080/",
     "height": 36
    },
    "id": "ABfObCnMMjg_",
    "outputId": "243a909a-eb8b-4179-b932-ed6fce885a0a"
   },
   "outputs": [],
   "source": [
    "#for dic in all_data_json_obj:\n",
    "#    data_id = dic['id']\n",
    "#    Client.clean_data_values(data_id)"
   ]
  },
  {
   "cell_type": "code",
   "execution_count": null,
   "metadata": {
    "id": "w8HKg4GvLm1p"
   },
   "outputs": [],
   "source": [
    "#string_csv = StringIO(lol)\n",
    "#df = pd.read_csv(string_csv,sep=\",\", lineterminator=\"|\")"
   ]
  },
  {
   "cell_type": "code",
   "execution_count": null,
   "metadata": {
    "id": "Vily0Lq0H2jP"
   },
   "outputs": [],
   "source": [
    "## Illustrating new data string, existing data values are being retained"
   ]
  },
  {
   "cell_type": "code",
   "execution_count": null,
   "metadata": {
    "colab": {
     "base_uri": "https://localhost:8080/"
    },
    "id": "rlVPBL329Aav",
    "outputId": "cdcc8512-a194-4791-ddec-9e4bf9f255c0"
   },
   "outputs": [],
   "source": [
    "purpose = 'read_a'\n",
    "subject = 'data'\n",
    "id = '255'\n",
    "Client.create_current_url(purpose, subject, id)\n",
    "a_data_json_obj = Client.read_current_as_json()\n",
    "#a_data_json_obj"
   ]
  },
  {
   "cell_type": "code",
   "execution_count": null,
   "metadata": {},
   "outputs": [],
   "source": [
    "purpose = 'read_all'\n",
    "subject = 'plot'\n",
    "Client.create_current_url(purpose, subject, id)\n",
    "all_plots_df = Client.read_current_as_df()\n",
    "#all_plots_df.columns"
   ]
  },
  {
   "cell_type": "code",
   "execution_count": null,
   "metadata": {
    "colab": {
     "base_uri": "https://localhost:8080/",
     "height": 206
    },
    "id": "NtvQhbLFlqnY",
    "outputId": "a5c0d6a3-1245-43fd-9ce0-80edbc9da4a6"
   },
   "outputs": [],
   "source": [
    "#all_plots_df.head(5)\n",
    "all_plots_df[['id', 'old_id', 'y_units','open', 'user_id','name', 'created_at', 'row_id']].head(5)"
   ]
  },
  {
   "cell_type": "code",
   "execution_count": null,
   "metadata": {
    "colab": {
     "base_uri": "https://localhost:8080/",
     "height": 865
    },
    "id": "2GXw4xpKlujM",
    "outputId": "8a82f0c2-ac1c-4a90-e6f6-365d002a3256"
   },
   "outputs": [],
   "source": [
    "def GetPlotsContaining(string_in):\n",
    "    purpose = 'read_all'\n",
    "    subject = 'plot'\n",
    "    Client.create_current_url(purpose, subject, id)\n",
    "    all_plots_df = Client.read_current_as_df()\n",
    "    #all_plots_df.columns\n",
    "    return_df = all_plots_df[['id', 'old_id', 'y_units','open', 'user_id','name', 'created_at']][all_plots_df['name'].str.contains(string_in)].copy()\n",
    "    return_df['created_at'] = pd.to_datetime(return_df['created_at'], errors='coerce')\n",
    "    return_df['created_at'] = return_df['created_at'].dt.strftime('%Y%m%d%H%M')\n",
    "    return return_df\n",
    "relevant_plots = GetPlotsContaining('CDMS')\n",
    "relevant_plots.head(5)"
   ]
  },
  {
   "cell_type": "code",
   "execution_count": null,
   "metadata": {
    "colab": {
     "base_uri": "https://localhost:8080/",
     "height": 36
    },
    "id": "79LrCBF8na_M",
    "outputId": "d4c8aca1-654d-4485-9ec9-098818107e8c"
   },
   "outputs": [],
   "source": [
    "def get_new_plot_id_from_old_id(all_plots_df_in, old_plot_id_in):\n",
    "    purpose = 'read_all'\n",
    "    subject = 'plot'\n",
    "    Client.create_current_url(purpose, subject, id)\n",
    "    all_plots_df = Client.read_current_as_df()\n",
    "    old_plot_details_ret = all_plots_df[['name','x_units', 'id', 'y_units','old_id',  'x_min', 'x_max', 'y_min', 'y_max']] \\\n",
    "    [all_plots_df['old_id']==old_plot_id_in]\n",
    "    return old_plot_details_ret\n",
    "\n",
    "\n",
    "old_plot_id = '107'\n",
    "old_plot_details = get_new_plot_id_from_old_id(all_plots_df,old_plot_id)\n",
    "plot_id = old_plot_details['id'].iloc[0]\n",
    "plot_id"
   ]
  },
  {
   "cell_type": "code",
   "execution_count": null,
   "metadata": {
    "colab": {
     "base_uri": "https://localhost:8080/",
     "height": 147
    },
    "id": "HR00i5LknokI",
    "outputId": "1d42c354-e7da-4a61-cb12-e607124c852a"
   },
   "outputs": [],
   "source": [
    "def get_this_plot_as_json(plot_id_in):\n",
    "    purpose = 'read_a'\n",
    "    subject = 'plot'\n",
    "    id_in = plot_id_in\n",
    "    Client.create_current_url(purpose, subject, id_in)\n",
    "    this_plot_ret = Client.read_current_as_json()\n",
    "    #this_plot_ret = all_plots_df[all_plots_df['id']==plot_id_in].copy()\n",
    "    #this_plot.columns\n",
    "    #this_plot_ret['created_at'] = pd.to_datetime(this_plot['created_at'], errors='coerce')\n",
    "    #this_plot_ret['created_at'] = this_plot_ret['created_at'].dt.strftime('%Y%m%d%H%M')\n",
    "    #this_plot_ret['updated_at'] = pd.to_datetime(this_plot['updated_at'], errors='coerce')\n",
    "    #this_plot_ret['updated_at'] = this_plot_ret['updated_at'].dt.strftime('%Y%m%d%H%M')\n",
    "    #this_plot_ret[['name','x_max', 'updated_at', 'y_min', 'subject', 'y_max',\n",
    "    #       'id', 'x_units', 'old_id', 'y_units',\n",
    "    #       'open', 'user_id', 'name',\n",
    "    #       'x_min', 'created_at', 'row_id']]\n",
    "    return this_plot_ret\n",
    "this_plot = get_this_plot_as_json('54')\n",
    "this_plot"
   ]
  },
  {
   "cell_type": "code",
   "execution_count": null,
   "metadata": {
    "id": "bdwJcr8woBmK"
   },
   "outputs": [],
   "source": [
    "class ThisPlot():\n",
    "    def __init__(self,all_plots_df_in,plot_id_in):\n",
    "        self.this_plot = all_plots_df_in[all_plots_df_in['id']==plot_id_in]\n",
    "        #this_plot\n",
    "        self.start_x_range = float(self.this_plot.iloc[0]['x_min'])\n",
    "        self.stop_x_range = float(self.this_plot.iloc[0]['x_max'])\n",
    "        self.start_y_range = float(self.this_plot.iloc[0]['y_min'])\n",
    "        self.stop_y_range = float(self.this_plot.iloc[0]['y_max'])\n",
    "        self.plot_name = self.this_plot.iloc[0]['name']\n",
    "        self.old_id = self.this_plot.iloc[0]['old_id']\n",
    "\n",
    "\n",
    "CurrentPlot = ThisPlot(all_plots_df, plot_id)\n"
   ]
  },
  {
   "cell_type": "code",
   "execution_count": null,
   "metadata": {
    "colab": {
     "base_uri": "https://localhost:8080/"
    },
    "id": "YHkAjSvopf4J",
    "outputId": "5c103018-bc38-42c1-9172-6233e6f12866"
   },
   "outputs": [],
   "source": [
    "CurrentPlot.__dict__"
   ]
  },
  {
   "cell_type": "code",
   "execution_count": null,
   "metadata": {
    "colab": {
     "base_uri": "https://localhost:8080/",
     "height": 206
    },
    "id": "EXkhypsTsW1E",
    "outputId": "fd971e3f-f75d-4472-f627-c85272e0bd2b"
   },
   "outputs": [],
   "source": [
    "def get_limit_displays_for_old_plot(old_plot_id_in, request_header_in):\n",
    "    fastapi_url_limit_displays = api_server + data_api + \"read_by_plot_limit_display/\"\n",
    "    request = Request(fastapi_url_limit_displays + '?id_in=' + str(old_plot_id_in), headers=request_header_in)\n",
    "    r = urllib.request.urlopen(request, context=context)\n",
    "    string = r.read().decode('utf-8')\n",
    "    limit_display_json_obj = json.loads(string)\n",
    "    limit_display_df_ret = pd.DataFrame(limit_display_json_obj)\n",
    "    limit_display_df_ret['row_id'] = limit_display_df_ret.index\n",
    "    limit_display_df_ret['updated_at'] = pd.to_datetime(limit_display_df_ret['updated_at'], errors='coerce')\n",
    "    limit_display_df_ret['updated_at'] = limit_display_df_ret['updated_at'].dt.strftime('%Y%m%d%H%M')\n",
    "    return limit_display_df_ret\n",
    "\n",
    "purpose = 'read_by_plot'\n",
    "subject = 'limit_display'\n",
    "Client.create_current_url(purpose, subject, old_plot_id)\n",
    "limit_display_df = Client.read_current_as_df()\n",
    "limit_display_df['row_id'] = limit_display_df.index\n",
    "limit_display_df['updated_at'] = pd.to_datetime(limit_display_df['updated_at'], errors='coerce')\n",
    "limit_display_df['updated_at'] = limit_display_df['updated_at'].dt.strftime('%Y%m%d%H%M')\n",
    "\n",
    "limit_display_df"
   ]
  },
  {
   "cell_type": "code",
   "execution_count": null,
   "metadata": {
    "colab": {
     "base_uri": "https://localhost:8080/",
     "height": 206
    },
    "id": "KMQ9KfZI-5GC",
    "outputId": "eb70dbef-0a21-4da7-ba6c-cb4e42752606"
   },
   "outputs": [],
   "source": [
    "purpose = 'read_by_plot'\n",
    "subject = 'data_display'\n",
    "Client.create_current_url(purpose, subject, plot_id)\n",
    "data_display_df = Client.read_current_as_df()\n",
    "data_display_df['row_id'] = data_display_df.index\n",
    "data_display_df['updated_at'] = pd.to_datetime(data_display_df['updated_at'], errors='coerce')\n",
    "data_display_df['updated_at'] = data_display_df['updated_at'].dt.strftime('%Y%m%d%H%M')\n",
    "\n",
    "data_display_df"
   ]
  },
  {
   "cell_type": "code",
   "execution_count": null,
   "metadata": {},
   "outputs": [],
   "source": [
    "Client.get_data_for_plot(54)"
   ]
  },
  {
   "cell_type": "code",
   "execution_count": null,
   "metadata": {},
   "outputs": [],
   "source": [
    "Client.data_data_df"
   ]
  },
  {
   "cell_type": "code",
   "execution_count": null,
   "metadata": {
    "colab": {
     "base_uri": "https://localhost:8080/",
     "height": 206
    },
    "id": "O_hjqKvj9ccB",
    "outputId": "abe18de5-e2c7-40c3-f722-e2bebba41fb4"
   },
   "outputs": [],
   "source": [
    "#trace_list = data_data_df[['data_id','trace_id']].drop_duplicate()\n",
    "#trace_list_refs = data_data_df[['data_id','trace_id','trace_name']].copy()\n",
    "#trace_list = trace_list_refs.drop_duplicates()\n",
    "Client.trace_list"
   ]
  },
  {
   "cell_type": "code",
   "execution_count": null,
   "metadata": {
    "colab": {
     "base_uri": "https://localhost:8080/"
    },
    "id": "2rZ_5S54D-aj",
    "outputId": "6e3cd48c-dec0-4b95-bbdb-a2e16ce6384a"
   },
   "outputs": [],
   "source": [
    "#data_data_df.head(5)\n",
    "#min_cross_sections = data_data_df['cross_sections'].min()\n",
    "#max_cross_sections = data_data_df['cross_sections'].max()\n",
    "#min_masses = data_data_df['masses'].min()\n",
    "#max_masses = data_data_df['masses'].max()\n",
    "\n",
    "print('min y :' ,Client.plot_min_cross_sections)\n",
    "print('max y :' ,Client.plot_max_cross_sections)\n",
    "print('min x :' ,Client.plot_min_masses)\n",
    "print('max x :' ,Client.plot_max_masses)\n",
    "\n",
    "#print(start_x_range)\n",
    "#print(stop_x_range)\n",
    "#print(start_y_range)\n",
    "#print(stop_y_range)"
   ]
  },
  {
   "cell_type": "code",
   "execution_count": null,
   "metadata": {
    "colab": {
     "base_uri": "https://localhost:8080/",
     "height": 817
    },
    "id": "_v7ilgVT5rVG",
    "outputId": "10cea150-0c7b-4d7a-f09f-a4f9cac467f2"
   },
   "outputs": [],
   "source": [
    "## need this for the inital build of the dash layout\n",
    "def create_blank_chart_for_plot(plot_name_in, plot_id_in, old_plot_id_in):\n",
    "    y_title_text = r\"$\\text{WIMP Mass [GeV}/c^{2}]$\"\n",
    "    x_title_text = r\"$\\text{Cross Section [cm}^{2}\\text{] (normalized to nucleon)}$\"\n",
    "    plot_title = plot_name_in + \" - Plot Reference:\" + str(plot_id_in) + \" - Old Plot ID:\" + str(old_plot_id_in)\n",
    "    #plot_title\n",
    "    ## create empty chart\n",
    "    fig_chart_out = go.Figure(data=[go.Scatter(x=[], y=[])])\n",
    "    fig_chart_out.update_layout( autosize=False, width=800, height=800, )\n",
    "    fig_chart_out.update_layout(xaxis_range=[-1,-4])\n",
    "    fig_chart_out.update_layout(yaxis_range=[-1,-4])\n",
    "    fig_chart_out.update_layout(\n",
    "            margin=dict(l=0, r=0, t=20, b=0),\n",
    "            paper_bgcolor=\"LightSteelBlue\",)\n",
    "\n",
    "    fig_chart_out.update_layout(\n",
    "        title=dict(text=plot_title , font=dict(size=18), automargin=True, yref='paper')\n",
    "    )\n",
    "    fig_chart_out.update_xaxes(\n",
    "        #title_text=x_title_text,\n",
    "        #type=\"log\"\n",
    "        type=\"linear\"\n",
    "    )\n",
    "    fig_chart_out.update_yaxes(\n",
    "        #title_text=y_title_text,\n",
    "        type=\"log\"\n",
    "        #type=\"linear\"\n",
    "    )\n",
    "    return fig_chart_out\n",
    "\n",
    "fig_chart = create_blank_chart_for_plot('plotty',plot_id, old_plot_id)\n",
    "#fig_chart.show()"
   ]
  },
  {
   "cell_type": "code",
   "execution_count": null,
   "metadata": {
    "colab": {
     "base_uri": "https://localhost:8080/",
     "height": 984
    },
    "id": "EQtIXj-E6Hy9",
    "outputId": "e4922813-ed4b-4b1f-8872-9e880e19ade5"
   },
   "outputs": [],
   "source": [
    "def create_actual_plot(plot_name_in, plot_id_in, old_plot_id_in, data_display_df_in, data_data_df_in):\n",
    "    ## requirement to keep plots square\n",
    "    #if screen_height_in > screen_width_in:\n",
    "    #    plot_square_dimensions =\n",
    "    #plot_square_dimensions = self.screen_height / 2\n",
    "    plot_square_dimensions = 600\n",
    "\n",
    "    m1 = go.layout.Margin(l=20,r=10,b=20,t=20,pad=0)\n",
    "    hw = go.Layout(autosize=False,width=plot_square_dimensions,height=plot_square_dimensions)\n",
    "    y_title_text = r\"$\\text{Cross Section [cm}^{2}\\text{] (normalized to nucleon)}$\"\n",
    "\n",
    "    y1 = go.layout.YAxis(#title=y_title_text,\n",
    "                        title_standoff = 0,\n",
    "                        #range=[start_y_range,stop_y_range],\n",
    "                        type=\"log\",\n",
    "                        titlefont=go.layout.yaxis.title.Font(color='SteelBlue'))\n",
    "\n",
    "    x_title_text = r\"$\\text{WIMP Mass [GeV}/c^{2}]$\"\n",
    "    x1 = go.layout.XAxis(#title=x_title_text,\n",
    "                        title_standoff = 0,\n",
    "                        type=\"log\",\n",
    "                        #type=\"linear\",\n",
    "                        #range=[start_x_range,stop_x_range],\n",
    "                        titlefont=go.layout.xaxis.title.Font(color='SteelBlue'))\n",
    "\n",
    "\n",
    "    ##title1=go.layout.Title(text=\"Dark Matter Detection Results\")\n",
    "\n",
    "    fig_chart_populated = go.Figure(\n",
    "        data=[go.Scatter(x=[], y=[])],\n",
    "        layout=go.Layout(\n",
    "            margin=m1,\n",
    "            yaxis= y1,\n",
    "            xaxis= x1\n",
    "        )\n",
    "    )\n",
    "\n",
    "    plot_title = plot_name_in + \" - P: \" + str(plot_id_in) + \" - O: \" + str(old_plot_id_in)\n",
    "\n",
    "    fig_chart_populated.update_layout(\n",
    "        title=dict(text=plot_title ,font=dict(size=16),automargin=True,yref='paper')\n",
    "    )\n",
    "\n",
    "    fig_chart_populated.update_layout(hw)\n",
    "\n",
    "    for index, row in data_display_df_in.iterrows():\n",
    "        #print(row['limit_id'])\n",
    "        data_id_selected = row['data_id']\n",
    "        #print('selected data_id >>', data_id_selected)\n",
    "        #data_about_selected_df = self.data_about_df[self.data_about_df['data_id']==data_id_selected].copy()\n",
    "        data_display_selected_df_in = data_display_df_in[data_display_df_in['data_id']==data_id_selected].copy()\n",
    "        data_data_selected_df_in = data_data_df_in[data_data_df_in['data_id']==data_id_selected].copy()\n",
    "        trace_list_refs = data_data_selected_df_in[['data_id','trace_id','trace_name']].copy()\n",
    "        trace_list = trace_list_refs.drop_duplicates()\n",
    "        trace_style = data_display_selected_df_in['style'].iloc[0]\n",
    "        trace_color = data_display_selected_df_in['color'].iloc[0]\n",
    "        pt = PlotTrace()\n",
    "        pt.set_values(trace_color, trace_style)\n",
    "        for index, row in trace_list.iterrows():\n",
    "            #print(row)\n",
    "            trace_data = data_data_df[(data_data_df['data_id']==row['data_id']) & (data_data_df['trace_id']==row['trace_id'])]\n",
    "            #print(trace_data)\n",
    "            #print(\"trace_data >>>>\" , trace_data)\n",
    "            trace_name = row['trace_name']\n",
    "            fig_chart_populated.add_trace(go.Scatter(pt.__dict__,\n",
    "                                              x=trace_data['masses'],\n",
    "                                              y=trace_data['cross_sections'],\n",
    "                                              name=trace_name,\n",
    "                                                      showlegend=False\n",
    "                                                  ))\n",
    "    return fig_chart_populated\n",
    "fig_chart_1 = create_actual_plot('Plot Name', plot_id, old_plot_id, data_display_df, data_data_df )\n",
    "fig_chart_1.show()"
   ]
  },
  {
   "cell_type": "code",
   "execution_count": null,
   "metadata": {
    "colab": {
     "base_uri": "https://localhost:8080/",
     "height": 55
    },
    "id": "YVV0TK0v6-b2",
    "outputId": "4545e8e6-8f47-4c7c-d345-2c50ac436e28"
   },
   "outputs": [],
   "source": [
    "'''\n",
    "## are we happy with hover template now data is 5 decimal places?\n",
    "hovertemplate =\n",
    "                                               '<i><b>Cross Section</b></i>: %{y:.4E}'+\n",
    "                                                  '<br><b>Mass</b>: %{x}<br>',\n",
    "showlegend=False,\n",
    "'''"
   ]
  },
  {
   "cell_type": "code",
   "execution_count": null,
   "metadata": {
    "colab": {
     "base_uri": "https://localhost:8080/",
     "height": 206
    },
    "id": "O-qtaLxU8K-k",
    "outputId": "ade17600-328c-4ab7-89c3-95e5616c1ef5"
   },
   "outputs": [],
   "source": [
    "limit_display_df"
   ]
  },
  {
   "cell_type": "code",
   "execution_count": null,
   "metadata": {
    "colab": {
     "base_uri": "https://localhost:8080/",
     "height": 613
    },
    "id": "W4512gdXMm5L",
    "outputId": "f2d87ba7-9dcc-4351-9068-0fdacbf18abe"
   },
   "outputs": [],
   "source": [
    "def create_populated_legend(data_display_df_in, data_df_in):\n",
    "    rows_list = list(range(1,20))\n",
    "    cols_list = list(range(1,4))\n",
    "\n",
    "    table_rows=20\n",
    "    table_cols=3\n",
    "    #plot_square_dimensions = screen_height_in / 2\n",
    "    legend_width = 600 ## this will be a maximum and will shrink if screen size < 800\n",
    "    legend_height = 20 * 16\n",
    "    fig_chart_legend = make_subplots(\n",
    "                      column_titles = ['data_id','format'],\n",
    "                      rows=table_rows,\n",
    "                      cols=table_cols,\n",
    "                      horizontal_spacing = 0.00,\n",
    "                      vertical_spacing = 0.00,\n",
    "                      #subplot_titles=(titles)\n",
    "                      column_widths=[0.1,0.8,0.1])\n",
    "\n",
    "    fig_chart_legend.update_layout(\n",
    "        #    autosize=False,\n",
    "            width=legend_width,\n",
    "            height=legend_height,\n",
    "            margin=dict(\n",
    "                l=0,\n",
    "                r=0,\n",
    "                b=0,\n",
    "                t=0,\n",
    "                pad=0\n",
    "            ),\n",
    "            paper_bgcolor=\"LightSteelBlue\",\n",
    "        )\n",
    "\n",
    "    fig_chart_legend.update_xaxes(showgrid=False)\n",
    "    fig_chart_legend.update_yaxes(showgrid=False)\n",
    "    #legend\n",
    "    fig_chart_legend.update_layout(showlegend=False)\n",
    "    #x axis\n",
    "    fig_chart_legend.update_xaxes(visible=False)\n",
    "    #y axis\n",
    "    fig_chart_legend.update_yaxes(visible=False)\n",
    "\n",
    "    fig_chart_legend.data = []\n",
    "    #fig_legend_out.show()\n",
    "\n",
    "    # Any changes to the fig must be applied to the DataFrame as the dataframe\n",
    "    # will be used when the plot is saved.\n",
    "    # Saving zoom is still to be implemented\n",
    "\n",
    "    #print(\"CD : data_display_df>>>>>>>>>\", data_display_df_in)\n",
    "\n",
    "    display_legend_df = data_display_df_in[['data_id','color','style']].copy()\n",
    "    display_legend_df.drop_duplicates(inplace=True)\n",
    "\n",
    "    rowloop = 1\n",
    "    for index, row in display_legend_df.iterrows():\n",
    "        data_selected_df = data_df_in[data_df_in['id']==row['data_id']].copy()\n",
    "        trace_name = data_selected_df['data_label'].iloc[0]\n",
    "        for c in cols_list: #enumerate here to get access to i\n",
    "            # STEP 2, notice position of arguments!\n",
    "            #table_column_names = ['data_id','data_label','format']\n",
    "            scatter_mode_list = ['text-number','text-text','format']\n",
    "            table_column_names = ['data_id','trace_name','format']\n",
    "            trace_style = row['style']\n",
    "            trace_color = row['color']\n",
    "            data_id = row['data_id']\n",
    "            pt = PlotTrace()\n",
    "            pt.set_values(trace_color, trace_style)\n",
    "            #tc.set_row_col(rowloop, c)\n",
    "            #scatter_mode_list = ['text-number','text-text','format']\n",
    "            #current_column = table_column_names[c-1]\n",
    "            #current_mode = scatter_mode_list[c-1]\n",
    "            current_column = table_column_names[c-1]\n",
    "            current_mode = scatter_mode_list[c-1]\n",
    "            #print(rowloop,current_column, current_mode )\n",
    "            if current_mode =='format':\n",
    "                mode = pt.__dict__['mode']\n",
    "                #fill = 'toself'\n",
    "                fill = pt.__dict__['fill']\n",
    "                if mode == 'lines' and fill == 'none':\n",
    "                    x_data = [0,1]\n",
    "                    y_data = [0.5,0.5]\n",
    "                elif mode == 'lines' and fill == 'toself':\n",
    "                    x_data = [0,1,1,0,0]\n",
    "                    y_data = [0,0,1,1,0]\n",
    "                else:\n",
    "                    x_data = [0,1]\n",
    "                    y_data = [0.5,0.5]\n",
    "\n",
    "                fig_chart_legend.add_trace(go.Scatter(pt.__dict__,x=x_data,\n",
    "                                            y=y_data),\n",
    "                              row=rowloop, #index for the subplot, i+1 because plotly starts with 1\n",
    "                              col=c)\n",
    "\n",
    "            if current_mode =='text-number':\n",
    "                fig_chart_legend.add_trace(go.Scatter(x=[1,2],\n",
    "                                          textposition='middle right',\n",
    "                                          y=[1,1],\n",
    "                                          mode='text',\n",
    "                                          text=[str(data_id),'']\n",
    "                                        ),\n",
    "                              row=rowloop, #index for the subplot, i+1 because plotly starts with 1\n",
    "                              col=c)\n",
    "            if current_mode =='text-text':\n",
    "                fig_chart_legend.add_trace(go.Scatter(x=[1,2],\n",
    "                                          textposition='middle right',\n",
    "                                          y=[1,1],\n",
    "                                          mode='text',\n",
    "                                          text=[trace_name,'']\n",
    "                                        ),\n",
    "                              row=rowloop, #index for the subplot, i+1 because plotly starts with 1\n",
    "                              col=c)\n",
    "\n",
    "        rowloop=rowloop+1\n",
    "        fig_chart_legend.update_xaxes(showgrid=False)\n",
    "        fig_chart_legend.update_yaxes(showgrid=False)\n",
    "        #legend\n",
    "        fig_chart_legend.update_layout(showlegend=False)\n",
    "        #x axis\n",
    "        fig_chart_legend.update_xaxes(visible=False)\n",
    "        #y axis\n",
    "        fig_chart_legend.update_yaxes(visible=False)\n",
    "\n",
    "    return fig_chart_legend\n",
    "\n",
    "legend_fig = create_populated_legend(data_display_df, data_df)\n",
    "legend_fig.show()"
   ]
  },
  {
   "cell_type": "code",
   "execution_count": null,
   "metadata": {},
   "outputs": [],
   "source": [
    "data_display_df"
   ]
  },
  {
   "cell_type": "code",
   "execution_count": null,
   "metadata": {
    "id": "J-RvWsdI8Dck"
   },
   "outputs": [],
   "source": [
    "data_df"
   ]
  },
  {
   "cell_type": "code",
   "execution_count": null,
   "metadata": {},
   "outputs": [],
   "source": []
  }
 ],
 "metadata": {
  "colab": {
   "provenance": []
  },
  "kernelspec": {
   "display_name": "Python 3 (ipykernel)",
   "language": "python",
   "name": "python3"
  },
  "language_info": {
   "codemirror_mode": {
    "name": "ipython",
    "version": 3
   },
   "file_extension": ".py",
   "mimetype": "text/x-python",
   "name": "python",
   "nbconvert_exporter": "python",
   "pygments_lexer": "ipython3",
   "version": "3.12.4"
  }
 },
 "nbformat": 4,
 "nbformat_minor": 4
}
