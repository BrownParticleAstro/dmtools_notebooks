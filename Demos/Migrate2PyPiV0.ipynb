{
 "cells": [
  {
   "cell_type": "code",
   "execution_count": 1,
   "metadata": {
    "id": "1BJwNmAqPtb1"
   },
   "outputs": [],
   "source": [
    "import ssl\n",
    "import urllib\n",
    "context = ssl._create_unverified_context()\n",
    "from urllib.request import Request, urlopen\n",
    "import json\n",
    "from io import StringIO\n",
    "import pandas as pd\n",
    "import ast"
   ]
  },
  {
   "cell_type": "code",
   "execution_count": 2,
   "metadata": {
    "id": "9jewG02D53xX"
   },
   "outputs": [],
   "source": [
    "from itertools import cycle\n",
    "import plotly.graph_objs as go\n",
    "from plotly.subplots import make_subplots"
   ]
  },
  {
   "cell_type": "code",
   "execution_count": 3,
   "metadata": {},
   "outputs": [],
   "source": [
    "from dmtools_client_package.dmtools_client_module import DMToolsClient\n",
    "from dmtools_client_package.dmtools_client_module import PlotTrace"
   ]
  },
  {
   "cell_type": "code",
   "execution_count": 4,
   "metadata": {},
   "outputs": [],
   "source": [
    "## get api key and user id from local .env file\n",
    "from dotenv import load_dotenv\n",
    "import os\n",
    "from os import environ, path\n",
    "#BASE_DIR = path.abspath(path.dirname(__file__))\n",
    "BASE_DIR = os.getcwd()\n",
    "#load_dotenv(path.join(BASE_DIR, \".env\"))\n",
    "load_dotenv(path.join(BASE_DIR, \".env\"), override=True)\n",
    "MY_DMTOOLS_APIKEY = environ.get(\"MY_DMTOOLS_APIKEY\")\n",
    "MY_DMTOOLS_USERID = environ.get(\"MY_DMTOOLS_USERID\")\n",
    "Client = DMToolsClient(MY_DMTOOLS_USERID, MY_DMTOOLS_APIKEY)"
   ]
  },
  {
   "cell_type": "code",
   "execution_count": 5,
   "metadata": {
    "jupyter": {
     "source_hidden": true
    }
   },
   "outputs": [],
   "source": [
    "## get api key and user id from local .env file\n",
    "from dotenv import load_dotenv\n",
    "import os\n",
    "from os import environ, path\n",
    "#BASE_DIR = path.abspath(path.dirname(__file__))\n",
    "BASE_DIR = os.getcwd()\n",
    "load_dotenv(path.join(BASE_DIR, \".env\"))\n",
    "MY_DMTOOLS_APIKEY = environ.get(\"MY_DMTOOLS_APIKEY\")\n",
    "MY_DMTOOLS_USERID = environ.get(\"MY_DMTOOLS_USERID\")\n",
    "Client = DMToolsClient(MY_DMTOOLS_USERID, MY_DMTOOLS_APIKEY)"
   ]
  },
  {
   "cell_type": "code",
   "execution_count": 6,
   "metadata": {},
   "outputs": [],
   "source": [
    "#Client.request_header"
   ]
  },
  {
   "cell_type": "code",
   "execution_count": 7,
   "metadata": {
    "id": "Gnbw2SdjykwR"
   },
   "outputs": [
    {
     "name": "stdout",
     "output_type": "stream",
     "text": [
      "1e-24\n"
     ]
    }
   ],
   "source": [
    "# Define scale factors\n",
    "a = Client.get_scale_factor(\"b\")\n",
    "print(a)"
   ]
  },
  {
   "cell_type": "code",
   "execution_count": 8,
   "metadata": {},
   "outputs": [
    {
     "data": {
      "text/html": [
       "<div>\n",
       "<style scoped>\n",
       "    .dataframe tbody tr th:only-of-type {\n",
       "        vertical-align: middle;\n",
       "    }\n",
       "\n",
       "    .dataframe tbody tr th {\n",
       "        vertical-align: top;\n",
       "    }\n",
       "\n",
       "    .dataframe thead th {\n",
       "        text-align: right;\n",
       "    }\n",
       "</style>\n",
       "<table border=\"1\" class=\"dataframe\">\n",
       "  <thead>\n",
       "    <tr style=\"text-align: right;\">\n",
       "      <th></th>\n",
       "      <th>plot_id</th>\n",
       "      <th>color</th>\n",
       "      <th>style</th>\n",
       "      <th>updated_at</th>\n",
       "      <th>limit_id</th>\n",
       "      <th>id</th>\n",
       "      <th>created_at</th>\n",
       "      <th>subject</th>\n",
       "      <th>row_id</th>\n",
       "    </tr>\n",
       "  </thead>\n",
       "  <tbody>\n",
       "    <tr>\n",
       "      <th>0</th>\n",
       "      <td>11</td>\n",
       "      <td>k</td>\n",
       "      <td>line</td>\n",
       "      <td>200908121136</td>\n",
       "      <td>273</td>\n",
       "      <td>48</td>\n",
       "      <td>2009-08-12 11:36:38</td>\n",
       "      <td>limit_display</td>\n",
       "      <td>0</td>\n",
       "    </tr>\n",
       "    <tr>\n",
       "      <th>1</th>\n",
       "      <td>11</td>\n",
       "      <td>r</td>\n",
       "      <td>line</td>\n",
       "      <td>200908121150</td>\n",
       "      <td>222</td>\n",
       "      <td>49</td>\n",
       "      <td>2009-08-12 11:38:42</td>\n",
       "      <td>limit_display</td>\n",
       "      <td>1</td>\n",
       "    </tr>\n",
       "    <tr>\n",
       "      <th>2</th>\n",
       "      <td>11</td>\n",
       "      <td>dkg</td>\n",
       "      <td>line</td>\n",
       "      <td>200908121140</td>\n",
       "      <td>202</td>\n",
       "      <td>50</td>\n",
       "      <td>2009-08-12 11:40:16</td>\n",
       "      <td>limit_display</td>\n",
       "      <td>2</td>\n",
       "    </tr>\n",
       "    <tr>\n",
       "      <th>3</th>\n",
       "      <td>12</td>\n",
       "      <td>k</td>\n",
       "      <td>dash</td>\n",
       "      <td>200908142122</td>\n",
       "      <td>51</td>\n",
       "      <td>53</td>\n",
       "      <td>2009-08-14 21:22:06</td>\n",
       "      <td>limit_display</td>\n",
       "      <td>3</td>\n",
       "    </tr>\n",
       "    <tr>\n",
       "      <th>4</th>\n",
       "      <td>12</td>\n",
       "      <td>k</td>\n",
       "      <td>line</td>\n",
       "      <td>200908142122</td>\n",
       "      <td>52</td>\n",
       "      <td>54</td>\n",
       "      <td>2009-08-14 21:22:07</td>\n",
       "      <td>limit_display</td>\n",
       "      <td>4</td>\n",
       "    </tr>\n",
       "    <tr>\n",
       "      <th>...</th>\n",
       "      <td>...</td>\n",
       "      <td>...</td>\n",
       "      <td>...</td>\n",
       "      <td>...</td>\n",
       "      <td>...</td>\n",
       "      <td>...</td>\n",
       "      <td>...</td>\n",
       "      <td>...</td>\n",
       "      <td>...</td>\n",
       "    </tr>\n",
       "    <tr>\n",
       "      <th>11664</th>\n",
       "      <td>4664</td>\n",
       "      <td>k</td>\n",
       "      <td>line</td>\n",
       "      <td>202108031957</td>\n",
       "      <td>1113</td>\n",
       "      <td>24917</td>\n",
       "      <td>2021-08-03 19:57:09</td>\n",
       "      <td>limit_display</td>\n",
       "      <td>11664</td>\n",
       "    </tr>\n",
       "    <tr>\n",
       "      <th>11665</th>\n",
       "      <td>4664</td>\n",
       "      <td>k</td>\n",
       "      <td>line</td>\n",
       "      <td>202108031957</td>\n",
       "      <td>1009</td>\n",
       "      <td>24918</td>\n",
       "      <td>2021-08-03 19:57:40</td>\n",
       "      <td>limit_display</td>\n",
       "      <td>11665</td>\n",
       "    </tr>\n",
       "    <tr>\n",
       "      <th>11666</th>\n",
       "      <td>4665</td>\n",
       "      <td>k</td>\n",
       "      <td>line</td>\n",
       "      <td>202111022029</td>\n",
       "      <td>322</td>\n",
       "      <td>24919</td>\n",
       "      <td>2021-11-02 20:29:28</td>\n",
       "      <td>limit_display</td>\n",
       "      <td>11666</td>\n",
       "    </tr>\n",
       "    <tr>\n",
       "      <th>11667</th>\n",
       "      <td>4667</td>\n",
       "      <td>k</td>\n",
       "      <td>line</td>\n",
       "      <td>202111031420</td>\n",
       "      <td>1115</td>\n",
       "      <td>24920</td>\n",
       "      <td>2021-11-03 14:20:11</td>\n",
       "      <td>limit_display</td>\n",
       "      <td>11667</td>\n",
       "    </tr>\n",
       "    <tr>\n",
       "      <th>11668</th>\n",
       "      <td>4668</td>\n",
       "      <td>k</td>\n",
       "      <td>line</td>\n",
       "      <td>202111031442</td>\n",
       "      <td>1116</td>\n",
       "      <td>24921</td>\n",
       "      <td>2021-11-03 14:42:03</td>\n",
       "      <td>limit_display</td>\n",
       "      <td>11668</td>\n",
       "    </tr>\n",
       "  </tbody>\n",
       "</table>\n",
       "<p>11669 rows × 9 columns</p>\n",
       "</div>"
      ],
      "text/plain": [
       "      plot_id color style    updated_at limit_id     id           created_at  \\\n",
       "0          11     k  line  200908121136      273     48  2009-08-12 11:36:38   \n",
       "1          11     r  line  200908121150      222     49  2009-08-12 11:38:42   \n",
       "2          11   dkg  line  200908121140      202     50  2009-08-12 11:40:16   \n",
       "3          12     k  dash  200908142122       51     53  2009-08-14 21:22:06   \n",
       "4          12     k  line  200908142122       52     54  2009-08-14 21:22:07   \n",
       "...       ...   ...   ...           ...      ...    ...                  ...   \n",
       "11664    4664     k  line  202108031957     1113  24917  2021-08-03 19:57:09   \n",
       "11665    4664     k  line  202108031957     1009  24918  2021-08-03 19:57:40   \n",
       "11666    4665     k  line  202111022029      322  24919  2021-11-02 20:29:28   \n",
       "11667    4667     k  line  202111031420     1115  24920  2021-11-03 14:20:11   \n",
       "11668    4668     k  line  202111031442     1116  24921  2021-11-03 14:42:03   \n",
       "\n",
       "             subject  row_id  \n",
       "0      limit_display       0  \n",
       "1      limit_display       1  \n",
       "2      limit_display       2  \n",
       "3      limit_display       3  \n",
       "4      limit_display       4  \n",
       "...              ...     ...  \n",
       "11664  limit_display   11664  \n",
       "11665  limit_display   11665  \n",
       "11666  limit_display   11666  \n",
       "11667  limit_display   11667  \n",
       "11668  limit_display   11668  \n",
       "\n",
       "[11669 rows x 9 columns]"
      ]
     },
     "execution_count": 8,
     "metadata": {},
     "output_type": "execute_result"
    }
   ],
   "source": [
    "purpose = 'read_all'\n",
    "subject = 'limit_display'\n",
    "id = ''\n",
    "Client.create_current_url(purpose, subject, id)\n",
    "all_limit_display_df = Client.read_current_as_df()\n",
    "all_limit_display_df"
   ]
  },
  {
   "cell_type": "code",
   "execution_count": 9,
   "metadata": {
    "id": "sR3ji2F_Sd2U"
   },
   "outputs": [],
   "source": [
    "combos = all_limit_display_df[['color','style']].drop_duplicates()\n",
    "style_list = all_limit_display_df['style'].drop_duplicates().tolist()\n",
    "color_list = all_limit_display_df['color'].drop_duplicates().tolist()"
   ]
  },
  {
   "cell_type": "code",
   "execution_count": 10,
   "metadata": {},
   "outputs": [],
   "source": [
    "## Checking Translations"
   ]
  },
  {
   "cell_type": "code",
   "execution_count": 11,
   "metadata": {
    "id": "7vHAXJFSUr6z"
   },
   "outputs": [],
   "source": [
    "style_list = ['line', 'dash', 'fill', 'dot', 'hex', 'asterisk', 'tril', 'plus',\n",
    " 'cross', 'circle', 'trid', 'pent', 'triu', 'trir', 'point']"
   ]
  },
  {
   "cell_type": "code",
   "execution_count": 12,
   "metadata": {
    "id": "WgPfpJzQOYf2"
   },
   "outputs": [],
   "source": [
    "color_list_plots = ['k', 'r', 'dkg', 'ltg', 'ltr', 'b', 'ltb', 'c', 'g10', 'g20', 'dkb', 'dkr', 'g', 'm', 'g60', 'g80', 'g90',\n",
    " 'g30', 'y', 'g50', 'g70', 'g40', 'w']\n",
    "\n",
    "color_list_default = ['LtR', 'LtB', 'DkR', 'DkG', 'Blue', 'k', 'DkB', 'Red', 'Grn', 'Mag', 'LtG', 'Blk', 'G60', 'Cyan']"
   ]
  },
  {
   "cell_type": "code",
   "execution_count": 13,
   "metadata": {},
   "outputs": [],
   "source": [
    "## This Trace Class creates a Dictionary that can then be added directly to the plot\n",
    "from dmtools_client_package.dmtools_client_module import PlotTrace"
   ]
  },
  {
   "cell_type": "code",
   "execution_count": 14,
   "metadata": {
    "id": "AKYd-hjWkJu_"
   },
   "outputs": [],
   "source": [
    "## test the class\n",
    "style_list = ['line', 'dash', 'fill', 'dot', 'hex', 'asterisk', 'tril', 'plus',\n",
    " 'cross', 'circle', 'trid', 'pent', 'triu', 'trir', 'point']\n",
    "\n",
    "color_list = ['LtR', 'LtB', 'DkR', 'DkG', 'Blue', 'k', 'DkB', 'Red', 'Grn', 'Mag', 'LtG', 'Blk', 'G60', 'Cyan']\n",
    "\n",
    "\n",
    "fig_chart_test = go.Figure(\n",
    "        data=[go.Scatter(x=[], y=[])]\n",
    "    )\n",
    "pt = PlotTrace()\n",
    "\n",
    "for sl in style_list:\n",
    "    color_in = 'k'\n",
    "    style_in = sl\n",
    "    pt.set_values(color_in, style_in)\n",
    "    #tc.set_trace_style('trir')\n",
    "    #tc.__dict__\n",
    "\n",
    "    fig_chart_test.add_trace(go.Scatter(pt.__dict__,x=[1],y=[2],name='name'))\n"
   ]
  },
  {
   "cell_type": "code",
   "execution_count": 15,
   "metadata": {
    "colab": {
     "base_uri": "https://localhost:8080/"
    },
    "id": "mchQU4fLyQ0D",
    "outputId": "b25b3da7-2124-4102-bfd4-35e4b7652a0b"
   },
   "outputs": [
    {
     "data": {
      "text/plain": [
       "{'mode': 'lines+markers',\n",
       " 'line': {'color': 'black', 'width': 1, 'dash': 'solid'},\n",
       " 'marker': {'symbol': 'x-dot'},\n",
       " 'fillcolor': None,\n",
       " 'opacity': 1,\n",
       " 'fill': 'toself',\n",
       " 'line_width': 1}"
      ]
     },
     "execution_count": 15,
     "metadata": {},
     "output_type": "execute_result"
    }
   ],
   "source": [
    "pt.__dict__"
   ]
  },
  {
   "cell_type": "code",
   "execution_count": 16,
   "metadata": {
    "id": "dUYQoNMSyL0h"
   },
   "outputs": [],
   "source": [
    "pt_in = {'mode': 'lines+markers',\n",
    " 'line': {'color': 'black', 'width': 1, 'dash': 'dash'},\n",
    " 'marker': {'symbol': 'blah'},\n",
    " 'fillcolor': None,\n",
    " 'opacity': 1,\n",
    " 'fill': 'none'}\n",
    "#fig_chart_test.add_trace(go.Scatter(tc_in,x=[1],y=[2],name='name'))"
   ]
  },
  {
   "cell_type": "code",
   "execution_count": 17,
   "metadata": {
    "colab": {
     "base_uri": "https://localhost:8080/"
    },
    "id": "66wXgH9xVDgp",
    "outputId": "6a45776c-efaa-4143-9762-c9dba7861dfd"
   },
   "outputs": [
    {
     "data": {
      "text/plain": [
       "'[[[\"6.00000e+01\", \"4.00000e-43\"], [\"7.00000e+01\", \"4.00000e-43\"], [\"1.60000e+02\", \"5.50000e-44\"], [\"3.20000e+02\", \"2.50000e-44\"], [\"6.30000e+02\", \"3.20000e-44\"], [\"6.40000e+02\", \"3.00000e-44\"], [\"6.40000e+02\", \"1.20000e-44\"], [\"6.30000e+02\", \"1.00000e-44\"], [\"2.25000e+02\", \"9.00000e-45\"], [\"2.15000e+02\", \"7.00000e-45\"], [\"3.15000e+02\", \"7.00000e-46\"], [\"4.70000e+02\", \"2.10000e-46\"], [\"6.50000e+02\", \"7.00000e-47\"], [\"6.60000e+02\", \"6.80000e-47\"], [\"6.60000e+02\", \"2.00000e-47\"], [\"6.50000e+02\", \"2.00000e-47\"], [\"4.70000e+02\", \"6.00000e-47\"], [\"3.15000e+02\", \"1.00000e-46\"], [\"2.15000e+02\", \"3.00000e-46\"], [\"1.00000e+02\", \"8.00000e-46\"], [\"6.00000e+01\", \"1.00000e-45\"], [\"6.00000e+01\", \"4.00000e-43\"]]]'"
      ]
     },
     "execution_count": 17,
     "metadata": {},
     "output_type": "execute_result"
    }
   ],
   "source": [
    "purpose = 'read_a'\n",
    "subject = 'data'\n",
    "id = 1\n",
    "Client.create_current_url(purpose, subject, id)\n",
    "a_data_json_obj = Client.read_current_as_json()\n",
    "a_data_json_obj['data']"
   ]
  },
  {
   "cell_type": "code",
   "execution_count": 18,
   "metadata": {},
   "outputs": [],
   "source": [
    "#nested_json_data = json.dumps(nested_payload).encode('utf-8')\n",
    "\n",
    "\n",
    "#print(\"Payload:\", json.dumps(nested_json_data))"
   ]
  },
  {
   "cell_type": "code",
   "execution_count": 19,
   "metadata": {
    "id": "HlTOwItqyT3H"
   },
   "outputs": [],
   "source": [
    "#x = Client.clean_data_values(1)"
   ]
  },
  {
   "cell_type": "code",
   "execution_count": null,
   "metadata": {},
   "outputs": [],
   "source": []
  },
  {
   "cell_type": "code",
   "execution_count": null,
   "metadata": {
    "id": "CTSMdDLry0MI"
   },
   "outputs": [],
   "source": []
  },
  {
   "cell_type": "code",
   "execution_count": 20,
   "metadata": {},
   "outputs": [
    {
     "name": "stdout",
     "output_type": "stream",
     "text": [
      "{\"data\": \"[[[\\\"6.00000e+01\\\", \\\"4.00000e-43\\\"], [\\\"7.00000e+01\\\", \\\"4.00000e-43\\\"], [\\\"1.60000e+02\\\", \\\"5.50000e-44\\\"], [\\\"3.20000e+02\\\", \\\"2.50000e-44\\\"], [\\\"6.30000e+02\\\", \\\"3.20000e-44\\\"], [\\\"6.40000e+02\\\", \\\"3.00000e-44\\\"], [\\\"6.40000e+02\\\", \\\"1.20000e-44\\\"], [\\\"6.30000e+02\\\", \\\"1.00000e-44\\\"], [\\\"2.25000e+02\\\", \\\"9.00000e-45\\\"], [\\\"2.15000e+02\\\", \\\"7.00000e-45\\\"], [\\\"3.15000e+02\\\", \\\"7.00000e-46\\\"], [\\\"4.70000e+02\\\", \\\"2.10000e-46\\\"], [\\\"6.50000e+02\\\", \\\"7.00000e-47\\\"], [\\\"6.60000e+02\\\", \\\"6.80000e-47\\\"], [\\\"6.60000e+02\\\", \\\"2.00000e-47\\\"], [\\\"6.50000e+02\\\", \\\"2.00000e-47\\\"], [\\\"4.70000e+02\\\", \\\"6.00000e-47\\\"], [\\\"3.15000e+02\\\", \\\"1.00000e-46\\\"], [\\\"2.15000e+02\\\", \\\"3.00000e-46\\\"], [\\\"1.00000e+02\\\", \\\"8.00000e-46\\\"], [\\\"6.00000e+01\\\", \\\"1.00000e-45\\\"], [\\\"6.00000e+01\\\", \\\"4.00000e-43\\\"]]]\"}\n",
      "None\n"
     ]
    }
   ],
   "source": [
    "x = Client.clean_data_values(1)\n",
    "print(x)"
   ]
  },
  {
   "cell_type": "code",
   "execution_count": 21,
   "metadata": {},
   "outputs": [],
   "source": [
    "purpose = 'read_all'\n",
    "subject = 'data'\n",
    "Client.create_current_url(purpose, subject, id)\n",
    "all_data_json_obj = Client.read_current_as_json()"
   ]
  },
  {
   "cell_type": "code",
   "execution_count": 22,
   "metadata": {
    "colab": {
     "base_uri": "https://localhost:8080/",
     "height": 36
    },
    "id": "ABfObCnMMjg_",
    "outputId": "243a909a-eb8b-4179-b932-ed6fce885a0a"
   },
   "outputs": [],
   "source": [
    "#for dic in all_data_json_obj:\n",
    "#    data_id = dic['id']\n",
    "#    Client.clean_data_values(data_id)"
   ]
  },
  {
   "cell_type": "code",
   "execution_count": 23,
   "metadata": {
    "id": "w8HKg4GvLm1p"
   },
   "outputs": [],
   "source": [
    "#string_csv = StringIO(lol)\n",
    "#df = pd.read_csv(string_csv,sep=\",\", lineterminator=\"|\")"
   ]
  },
  {
   "cell_type": "code",
   "execution_count": 24,
   "metadata": {
    "id": "Vily0Lq0H2jP"
   },
   "outputs": [],
   "source": [
    "## Illustrating new data string, existing data values are being retained"
   ]
  },
  {
   "cell_type": "code",
   "execution_count": 25,
   "metadata": {
    "colab": {
     "base_uri": "https://localhost:8080/"
    },
    "id": "rlVPBL329Aav",
    "outputId": "cdcc8512-a194-4791-ddec-9e4bf9f255c0"
   },
   "outputs": [
    {
     "data": {
      "text/plain": [
       "{'id': '255',\n",
       " 'limit_id': '273',\n",
       " 'subject': 'data',\n",
       " 'spin_dependency': 'SI',\n",
       " 'result_type': 'Exp',\n",
       " 'measurement_type': 'Dir',\n",
       " 'x_units': 'GeV',\n",
       " 'y_units': 'cm^2',\n",
       " 'x_rescale': '1',\n",
       " 'y_rescale': '1',\n",
       " 'default_color': 'Red',\n",
       " 'default_style': 'Line',\n",
       " 'data_values': '{[7 1.972e-40;8 1.745e-41;9 3.99605e-42;10 1.44657e-42;11 6.88567e-43;12 3.92483e-43;13 2.53937e-43;14 1.80041e-43;15 1.36651e-43;20 6.34288e-44;25 4.82693e-44;30 4.46491e-44;35 4.47831e-44;40 4.64848e-44;45 4.90415e-44;50 5.1984e-44;55 5.5259e-44;60 5.87403e-44;65 6.23234e-44;70 6.60628e-44;75 6.98284e-44;80 7.35992e-44;85 7.74999e-44;90 8.13749e-44;95 8.53623e-44;100 8.92889e-44;110 9.72357e-44;120 1.05306e-43;130 1.1331e-43;140 1.21468e-43;150 1.29606e-43;160 1.37771e-43;170 1.459e-43;180 1.5407e-43;190 1.62236e-43;200 1.7051e-43;210 1.78694e-43;220 1.86914e-43;230 1.95139e-43;240 2.03334e-43;250 2.11671e-43;260 2.19926e-43;270 2.28064e-43;280 2.36274e-43;290 2.44543e-43;300 2.52858e-43;310 2.61202e-43;320 2.693e-43;330 2.77648e-43;340 2.85977e-43;350 2.94271e-43;360 3.0251e-43;370 3.10678e-43;380 3.19066e-43;390 3.27043e-43;400 3.35546e-43;410 3.43599e-43;420 3.51846e-43;430 3.6029e-43;440 3.68576e-43;450 3.76685e-43;460 3.84972e-43;470 3.93442e-43;480 4.01704e-43;490 4.09738e-43;500 4.18342e-43;510 4.26291e-43;520 4.34817e-43;530 4.43078e-43;540 4.51497e-43;550 4.59624e-43;560 4.67897e-43;570 4.76319e-43;580 4.84417e-43;590 4.92652e-43;600 5.01027e-43;610 5.09043e-43;620 5.17697e-43;630 5.2598e-43;640 5.3387e-43;650 5.42412e-43;660 5.50548e-43;670 5.58806e-43;680 5.67188e-43;690 5.75696e-43;700 5.83756e-43;710 5.91928e-43;720 6.00215e-43;730 6.08618e-43;740 6.17139e-43;750 6.25162e-43;760 6.33289e-43;770 6.41522e-43;780 6.49861e-43;790 6.5831e-43;800 6.66868e-43;810 6.7487e-43;820 6.82968e-43;830 6.91164e-43;840 6.99458e-43;850 7.07852e-43;860 7.16346e-43;870 7.24942e-43;880 7.32916e-43;890 7.40978e-43;900 7.49129e-43;910 7.58119e-43;920 7.657e-43;930 7.74123e-43;940 7.82638e-43;950 7.91247e-43;960 7.99159e-43;970 8.07151e-43;980 8.1603e-43;990 8.2419e-43;1000 8.32432e-43]}',\n",
       " 'data': '[[[\"7.00000e+00\", \"1.97200e-40\"], [\"8.00000e+00\", \"1.74500e-41\"], [\"9.00000e+00\", \"3.99605e-42\"], [\"1.00000e+01\", \"1.44657e-42\"], [\"1.10000e+01\", \"6.88567e-43\"], [\"1.20000e+01\", \"3.92483e-43\"], [\"1.30000e+01\", \"2.53937e-43\"], [\"1.40000e+01\", \"1.80041e-43\"], [\"1.50000e+01\", \"1.36651e-43\"], [\"2.00000e+01\", \"6.34288e-44\"], [\"2.50000e+01\", \"4.82693e-44\"], [\"3.00000e+01\", \"4.46491e-44\"], [\"3.50000e+01\", \"4.47831e-44\"], [\"4.00000e+01\", \"4.64848e-44\"], [\"4.50000e+01\", \"4.90415e-44\"], [\"5.00000e+01\", \"5.19840e-44\"], [\"5.50000e+01\", \"5.52590e-44\"], [\"6.00000e+01\", \"5.87403e-44\"], [\"6.50000e+01\", \"6.23234e-44\"], [\"7.00000e+01\", \"6.60628e-44\"], [\"7.50000e+01\", \"6.98284e-44\"], [\"8.00000e+01\", \"7.35992e-44\"], [\"8.50000e+01\", \"7.74999e-44\"], [\"9.00000e+01\", \"8.13749e-44\"], [\"9.50000e+01\", \"8.53623e-44\"], [\"1.00000e+02\", \"8.92889e-44\"], [\"1.10000e+02\", \"9.72357e-44\"], [\"1.20000e+02\", \"1.05306e-43\"], [\"1.30000e+02\", \"1.13310e-43\"], [\"1.40000e+02\", \"1.21468e-43\"], [\"1.50000e+02\", \"1.29606e-43\"], [\"1.60000e+02\", \"1.37771e-43\"], [\"1.70000e+02\", \"1.45900e-43\"], [\"1.80000e+02\", \"1.54070e-43\"], [\"1.90000e+02\", \"1.62236e-43\"], [\"2.00000e+02\", \"1.70510e-43\"], [\"2.10000e+02\", \"1.78694e-43\"], [\"2.20000e+02\", \"1.86914e-43\"], [\"2.30000e+02\", \"1.95139e-43\"], [\"2.40000e+02\", \"2.03334e-43\"], [\"2.50000e+02\", \"2.11671e-43\"], [\"2.60000e+02\", \"2.19926e-43\"], [\"2.70000e+02\", \"2.28064e-43\"], [\"2.80000e+02\", \"2.36274e-43\"], [\"2.90000e+02\", \"2.44543e-43\"], [\"3.00000e+02\", \"2.52858e-43\"], [\"3.10000e+02\", \"2.61202e-43\"], [\"3.20000e+02\", \"2.69300e-43\"], [\"3.30000e+02\", \"2.77648e-43\"], [\"3.40000e+02\", \"2.85977e-43\"], [\"3.50000e+02\", \"2.94271e-43\"], [\"3.60000e+02\", \"3.02510e-43\"], [\"3.70000e+02\", \"3.10678e-43\"], [\"3.80000e+02\", \"3.19066e-43\"], [\"3.90000e+02\", \"3.27043e-43\"], [\"4.00000e+02\", \"3.35546e-43\"], [\"4.10000e+02\", \"3.43599e-43\"], [\"4.20000e+02\", \"3.51846e-43\"], [\"4.30000e+02\", \"3.60290e-43\"], [\"4.40000e+02\", \"3.68576e-43\"], [\"4.50000e+02\", \"3.76685e-43\"], [\"4.60000e+02\", \"3.84972e-43\"], [\"4.70000e+02\", \"3.93442e-43\"], [\"4.80000e+02\", \"4.01704e-43\"], [\"4.90000e+02\", \"4.09738e-43\"], [\"5.00000e+02\", \"4.18342e-43\"], [\"5.10000e+02\", \"4.26291e-43\"], [\"5.20000e+02\", \"4.34817e-43\"], [\"5.30000e+02\", \"4.43078e-43\"], [\"5.40000e+02\", \"4.51497e-43\"], [\"5.50000e+02\", \"4.59624e-43\"], [\"5.60000e+02\", \"4.67897e-43\"], [\"5.70000e+02\", \"4.76319e-43\"], [\"5.80000e+02\", \"4.84417e-43\"], [\"5.90000e+02\", \"4.92652e-43\"], [\"6.00000e+02\", \"5.01027e-43\"], [\"6.10000e+02\", \"5.09043e-43\"], [\"6.20000e+02\", \"5.17697e-43\"], [\"6.30000e+02\", \"5.25980e-43\"], [\"6.40000e+02\", \"5.33870e-43\"], [\"6.50000e+02\", \"5.42412e-43\"], [\"6.60000e+02\", \"5.50548e-43\"], [\"6.70000e+02\", \"5.58806e-43\"], [\"6.80000e+02\", \"5.67188e-43\"], [\"6.90000e+02\", \"5.75696e-43\"], [\"7.00000e+02\", \"5.83756e-43\"], [\"7.10000e+02\", \"5.91928e-43\"], [\"7.20000e+02\", \"6.00215e-43\"], [\"7.30000e+02\", \"6.08618e-43\"], [\"7.40000e+02\", \"6.17139e-43\"], [\"7.50000e+02\", \"6.25162e-43\"], [\"7.60000e+02\", \"6.33289e-43\"], [\"7.70000e+02\", \"6.41522e-43\"], [\"7.80000e+02\", \"6.49861e-43\"], [\"7.90000e+02\", \"6.58310e-43\"], [\"8.00000e+02\", \"6.66868e-43\"], [\"8.10000e+02\", \"6.74870e-43\"], [\"8.20000e+02\", \"6.82968e-43\"], [\"8.30000e+02\", \"6.91164e-43\"], [\"8.40000e+02\", \"6.99458e-43\"], [\"8.50000e+02\", \"7.07852e-43\"], [\"8.60000e+02\", \"7.16346e-43\"], [\"8.70000e+02\", \"7.24942e-43\"], [\"8.80000e+02\", \"7.32916e-43\"], [\"8.90000e+02\", \"7.40978e-43\"], [\"9.00000e+02\", \"7.49129e-43\"], [\"9.10000e+02\", \"7.58119e-43\"], [\"9.20000e+02\", \"7.65700e-43\"], [\"9.30000e+02\", \"7.74123e-43\"], [\"9.40000e+02\", \"7.82638e-43\"], [\"9.50000e+02\", \"7.91247e-43\"], [\"9.60000e+02\", \"7.99159e-43\"], [\"9.70000e+02\", \"8.07151e-43\"], [\"9.80000e+02\", \"8.16030e-43\"], [\"9.90000e+02\", \"8.24190e-43\"], [\"1.00000e+03\", \"8.32432e-43\"]]]',\n",
       " 'data_label': 'XENON10, 2007, first results, 58.6 live days, SI',\n",
       " 'file_name': 'XENON10_SI_PRL.limit',\n",
       " 'data_comment': 'Sigma normalized to WIMP-Nucleon [Yellin Max Gap]',\n",
       " 'data_reference': 'Phys. Rev. Lett. 100 (2008), 021303; arXiv:0706.0039',\n",
       " 'updated_at': '2013-09-18 22:59:43',\n",
       " 'creator_id': 'None',\n",
       " 'experiment': 'XENON10',\n",
       " 'rating': '90',\n",
       " 'date_of_announcement': '2007-01-01',\n",
       " 'public': '1',\n",
       " 'open': '1',\n",
       " 'official': '1',\n",
       " 'date_official': '2009-07-16 00:00:00',\n",
       " 'greatest_hit': '1',\n",
       " 'date_of_run_start': 'None',\n",
       " 'date_of_run_end': 'None',\n",
       " 'year': '2007'}"
      ]
     },
     "execution_count": 25,
     "metadata": {},
     "output_type": "execute_result"
    }
   ],
   "source": [
    "purpose = 'read_a'\n",
    "subject = 'data'\n",
    "id = '255'\n",
    "Client.create_current_url(purpose, subject, id)\n",
    "a_data_json_obj = Client.read_current_as_json()\n",
    "#a_data_json_obj"
   ]
  },
  {
   "cell_type": "code",
   "execution_count": 26,
   "metadata": {},
   "outputs": [
    {
     "data": {
      "text/plain": [
       "Index(['x_min', 'plot_eps', 'x_units', 'y_units', 'legend_eps', 'old_id',\n",
       "       'user_id', 'no_id', 'subject', 'created_at', 'open', 'old_name',\n",
       "       'updated_at', 'old_user_id', 'y_min', 'archived_at', 'name', 'x_max',\n",
       "       'plot_png', 'id', 'y_max', 'legend_png', 'row_id'],\n",
       "      dtype='object')"
      ]
     },
     "execution_count": 26,
     "metadata": {},
     "output_type": "execute_result"
    }
   ],
   "source": [
    "purpose = 'read_all'\n",
    "subject = 'plot'\n",
    "Client.create_current_url(purpose, subject, id)\n",
    "all_plots_df = Client.read_current_as_df()\n",
    "#all_plots_df.columns"
   ]
  },
  {
   "cell_type": "code",
   "execution_count": 27,
   "metadata": {
    "colab": {
     "base_uri": "https://localhost:8080/",
     "height": 206
    },
    "id": "NtvQhbLFlqnY",
    "outputId": "a5c0d6a3-1245-43fd-9ce0-80edbc9da4a6"
   },
   "outputs": [
    {
     "data": {
      "text/html": [
       "<div>\n",
       "<style scoped>\n",
       "    .dataframe tbody tr th:only-of-type {\n",
       "        vertical-align: middle;\n",
       "    }\n",
       "\n",
       "    .dataframe tbody tr th {\n",
       "        vertical-align: top;\n",
       "    }\n",
       "\n",
       "    .dataframe thead th {\n",
       "        text-align: right;\n",
       "    }\n",
       "</style>\n",
       "<table border=\"1\" class=\"dataframe\">\n",
       "  <thead>\n",
       "    <tr style=\"text-align: right;\">\n",
       "      <th></th>\n",
       "      <th>id</th>\n",
       "      <th>old_id</th>\n",
       "      <th>y_units</th>\n",
       "      <th>open</th>\n",
       "      <th>user_id</th>\n",
       "      <th>name</th>\n",
       "      <th>created_at</th>\n",
       "      <th>row_id</th>\n",
       "    </tr>\n",
       "  </thead>\n",
       "  <tbody>\n",
       "    <tr>\n",
       "      <th>0</th>\n",
       "      <td>20</td>\n",
       "      <td>53</td>\n",
       "      <td>cm2</td>\n",
       "      <td>1</td>\n",
       "      <td>None</td>\n",
       "      <td>XENON10_for_thesis</td>\n",
       "      <td>2009-10-14 07:48:53</td>\n",
       "      <td>0</td>\n",
       "    </tr>\n",
       "    <tr>\n",
       "      <th>1</th>\n",
       "      <td>26</td>\n",
       "      <td>66</td>\n",
       "      <td>cm2</td>\n",
       "      <td>1</td>\n",
       "      <td>None</td>\n",
       "      <td>XENON10_LUX_compare</td>\n",
       "      <td>2009-11-19 14:22:11</td>\n",
       "      <td>1</td>\n",
       "    </tr>\n",
       "    <tr>\n",
       "      <th>2</th>\n",
       "      <td>33</td>\n",
       "      <td>73</td>\n",
       "      <td>cm2</td>\n",
       "      <td>1</td>\n",
       "      <td>None</td>\n",
       "      <td>XENON10_LUX_ZEPLINIII</td>\n",
       "      <td>2009-11-23 21:12:03</td>\n",
       "      <td>2</td>\n",
       "    </tr>\n",
       "    <tr>\n",
       "      <th>3</th>\n",
       "      <td>54</td>\n",
       "      <td>107</td>\n",
       "      <td>cm2</td>\n",
       "      <td>1</td>\n",
       "      <td>None</td>\n",
       "      <td>CDMS_new_results</td>\n",
       "      <td>2010-01-04 18:59:18</td>\n",
       "      <td>3</td>\n",
       "    </tr>\n",
       "    <tr>\n",
       "      <th>4</th>\n",
       "      <td>74</td>\n",
       "      <td>148</td>\n",
       "      <td>cm2</td>\n",
       "      <td>1</td>\n",
       "      <td>None</td>\n",
       "      <td>CoGeNT_plus_Xenon_100_New</td>\n",
       "      <td>2010-02-05 00:29:07</td>\n",
       "      <td>4</td>\n",
       "    </tr>\n",
       "  </tbody>\n",
       "</table>\n",
       "</div>"
      ],
      "text/plain": [
       "   id old_id y_units open user_id                       name  \\\n",
       "0  20     53     cm2    1    None         XENON10_for_thesis   \n",
       "1  26     66     cm2    1    None        XENON10_LUX_compare   \n",
       "2  33     73     cm2    1    None      XENON10_LUX_ZEPLINIII   \n",
       "3  54    107     cm2    1    None           CDMS_new_results   \n",
       "4  74    148     cm2    1    None  CoGeNT_plus_Xenon_100_New   \n",
       "\n",
       "            created_at  row_id  \n",
       "0  2009-10-14 07:48:53       0  \n",
       "1  2009-11-19 14:22:11       1  \n",
       "2  2009-11-23 21:12:03       2  \n",
       "3  2010-01-04 18:59:18       3  \n",
       "4  2010-02-05 00:29:07       4  "
      ]
     },
     "execution_count": 27,
     "metadata": {},
     "output_type": "execute_result"
    }
   ],
   "source": [
    "#all_plots_df.head(5)\n",
    "all_plots_df[['id', 'old_id', 'y_units','open', 'user_id','name', 'created_at', 'row_id']].head(5)"
   ]
  },
  {
   "cell_type": "code",
   "execution_count": 43,
   "metadata": {
    "colab": {
     "base_uri": "https://localhost:8080/",
     "height": 865
    },
    "id": "2GXw4xpKlujM",
    "outputId": "8a82f0c2-ac1c-4a90-e6f6-365d002a3256"
   },
   "outputs": [
    {
     "data": {
      "text/html": [
       "<div>\n",
       "<style scoped>\n",
       "    .dataframe tbody tr th:only-of-type {\n",
       "        vertical-align: middle;\n",
       "    }\n",
       "\n",
       "    .dataframe tbody tr th {\n",
       "        vertical-align: top;\n",
       "    }\n",
       "\n",
       "    .dataframe thead th {\n",
       "        text-align: right;\n",
       "    }\n",
       "</style>\n",
       "<table border=\"1\" class=\"dataframe\">\n",
       "  <thead>\n",
       "    <tr style=\"text-align: right;\">\n",
       "      <th></th>\n",
       "      <th>id</th>\n",
       "      <th>old_id</th>\n",
       "      <th>y_units</th>\n",
       "      <th>open</th>\n",
       "      <th>user_id</th>\n",
       "      <th>name</th>\n",
       "      <th>created_at</th>\n",
       "    </tr>\n",
       "  </thead>\n",
       "  <tbody>\n",
       "    <tr>\n",
       "      <th>3</th>\n",
       "      <td>54</td>\n",
       "      <td>107</td>\n",
       "      <td>cm2</td>\n",
       "      <td>1</td>\n",
       "      <td>None</td>\n",
       "      <td>CDMS_new_results</td>\n",
       "      <td>201001041859</td>\n",
       "    </tr>\n",
       "    <tr>\n",
       "      <th>6</th>\n",
       "      <td>97</td>\n",
       "      <td>183</td>\n",
       "      <td>cm2</td>\n",
       "      <td>1</td>\n",
       "      <td>None</td>\n",
       "      <td>CDMS II limits</td>\n",
       "      <td>201002280018</td>\n",
       "    </tr>\n",
       "    <tr>\n",
       "      <th>8</th>\n",
       "      <td>138</td>\n",
       "      <td>250</td>\n",
       "      <td>cm2</td>\n",
       "      <td>1</td>\n",
       "      <td>None</td>\n",
       "      <td>ZEPLIN-III, XENON10, CDMS</td>\n",
       "      <td>201004201202</td>\n",
       "    </tr>\n",
       "    <tr>\n",
       "      <th>11</th>\n",
       "      <td>156</td>\n",
       "      <td>269</td>\n",
       "      <td>cm2</td>\n",
       "      <td>1</td>\n",
       "      <td>None</td>\n",
       "      <td>LUX-XENON100-SuperCDMS</td>\n",
       "      <td>201005032038</td>\n",
       "    </tr>\n",
       "    <tr>\n",
       "      <th>12</th>\n",
       "      <td>159</td>\n",
       "      <td>272</td>\n",
       "      <td>cm2</td>\n",
       "      <td>1</td>\n",
       "      <td>None</td>\n",
       "      <td>SuperCDMS-XENON100-LUX</td>\n",
       "      <td>201005041733</td>\n",
       "    </tr>\n",
       "  </tbody>\n",
       "</table>\n",
       "</div>"
      ],
      "text/plain": [
       "     id old_id y_units open user_id                       name    created_at\n",
       "3    54    107     cm2    1    None           CDMS_new_results  201001041859\n",
       "6    97    183     cm2    1    None             CDMS II limits  201002280018\n",
       "8   138    250     cm2    1    None  ZEPLIN-III, XENON10, CDMS  201004201202\n",
       "11  156    269     cm2    1    None     LUX-XENON100-SuperCDMS  201005032038\n",
       "12  159    272     cm2    1    None     SuperCDMS-XENON100-LUX  201005041733"
      ]
     },
     "execution_count": 43,
     "metadata": {},
     "output_type": "execute_result"
    }
   ],
   "source": [
    "def GetPlotsContaining(string_in):\n",
    "    purpose = 'read_all'\n",
    "    subject = 'plot'\n",
    "    Client.create_current_url(purpose, subject, id)\n",
    "    all_plots_df = Client.read_current_as_df()\n",
    "    #all_plots_df.columns\n",
    "    return_df = all_plots_df[['id', 'old_id', 'y_units','open', 'user_id','name', 'created_at']][all_plots_df['name'].str.contains(string_in)].copy()\n",
    "    return_df['created_at'] = pd.to_datetime(return_df['created_at'], errors='coerce')\n",
    "    return_df['created_at'] = return_df['created_at'].dt.strftime('%Y%m%d%H%M')\n",
    "    return return_df\n",
    "relevant_plots = GetPlotsContaining('CDMS')\n",
    "relevant_plots.head(5)"
   ]
  },
  {
   "cell_type": "code",
   "execution_count": 29,
   "metadata": {
    "colab": {
     "base_uri": "https://localhost:8080/",
     "height": 36
    },
    "id": "79LrCBF8na_M",
    "outputId": "d4c8aca1-654d-4485-9ec9-098818107e8c"
   },
   "outputs": [
    {
     "data": {
      "text/plain": [
       "'54'"
      ]
     },
     "execution_count": 29,
     "metadata": {},
     "output_type": "execute_result"
    }
   ],
   "source": [
    "def get_new_plot_id_from_old_id(all_plots_df_in, old_plot_id_in):\n",
    "    purpose = 'read_all'\n",
    "    subject = 'plot'\n",
    "    Client.create_current_url(purpose, subject, id)\n",
    "    all_plots_df = Client.read_current_as_df()\n",
    "    old_plot_details_ret = all_plots_df[['name','x_units', 'id', 'y_units','old_id',  'x_min', 'x_max', 'y_min', 'y_max']] \\\n",
    "    [all_plots_df['old_id']==old_plot_id_in]\n",
    "    return old_plot_details_ret\n",
    "\n",
    "\n",
    "old_plot_id = '107'\n",
    "old_plot_details = get_new_plot_id_from_old_id(all_plots_df,old_plot_id)\n",
    "plot_id = old_plot_details['id'].iloc[0]\n",
    "plot_id"
   ]
  },
  {
   "cell_type": "code",
   "execution_count": 30,
   "metadata": {
    "colab": {
     "base_uri": "https://localhost:8080/",
     "height": 147
    },
    "id": "HR00i5LknokI",
    "outputId": "1d42c354-e7da-4a61-cb12-e607124c852a"
   },
   "outputs": [
    {
     "data": {
      "text/plain": [
       "{'id': '54',\n",
       " 'subject': 'plot',\n",
       " 'old_id': '107',\n",
       " 'open': '1',\n",
       " 'name': 'CDMS_new_results',\n",
       " 'x_min': '1.000000e+00',\n",
       " 'x_max': '1.000000e+04',\n",
       " 'y_min': '-5.000000e+01',\n",
       " 'y_max': '-3.600000e+01',\n",
       " 'x_units': 'GeV/c^2',\n",
       " 'y_units': 'cm2',\n",
       " 'user_id': 'None',\n",
       " 'updated_at': '2011-11-10 16:31:54'}"
      ]
     },
     "execution_count": 30,
     "metadata": {},
     "output_type": "execute_result"
    }
   ],
   "source": [
    "def get_this_plot_as_json(plot_id_in):\n",
    "    purpose = 'read_a'\n",
    "    subject = 'plot'\n",
    "    id_in = plot_id_in\n",
    "    Client.create_current_url(purpose, subject, id_in)\n",
    "    this_plot_ret = Client.read_current_as_json()\n",
    "    #this_plot_ret = all_plots_df[all_plots_df['id']==plot_id_in].copy()\n",
    "    #this_plot.columns\n",
    "    #this_plot_ret['created_at'] = pd.to_datetime(this_plot['created_at'], errors='coerce')\n",
    "    #this_plot_ret['created_at'] = this_plot_ret['created_at'].dt.strftime('%Y%m%d%H%M')\n",
    "    #this_plot_ret['updated_at'] = pd.to_datetime(this_plot['updated_at'], errors='coerce')\n",
    "    #this_plot_ret['updated_at'] = this_plot_ret['updated_at'].dt.strftime('%Y%m%d%H%M')\n",
    "    #this_plot_ret[['name','x_max', 'updated_at', 'y_min', 'subject', 'y_max',\n",
    "    #       'id', 'x_units', 'old_id', 'y_units',\n",
    "    #       'open', 'user_id', 'name',\n",
    "    #       'x_min', 'created_at', 'row_id']]\n",
    "    return this_plot_ret\n",
    "this_plot = get_this_plot_as_json('54')\n",
    "this_plot"
   ]
  },
  {
   "cell_type": "code",
   "execution_count": 31,
   "metadata": {
    "id": "bdwJcr8woBmK"
   },
   "outputs": [],
   "source": [
    "class ThisPlot():\n",
    "    def __init__(self,all_plots_df_in,plot_id_in):\n",
    "        self.this_plot = all_plots_df_in[all_plots_df_in['id']==plot_id_in]\n",
    "        #this_plot\n",
    "        self.start_x_range = float(self.this_plot.iloc[0]['x_min'])\n",
    "        self.stop_x_range = float(self.this_plot.iloc[0]['x_max'])\n",
    "        self.start_y_range = float(self.this_plot.iloc[0]['y_min'])\n",
    "        self.stop_y_range = float(self.this_plot.iloc[0]['y_max'])\n",
    "        self.plot_name = self.this_plot.iloc[0]['name']\n",
    "        self.old_id = self.this_plot.iloc[0]['old_id']\n",
    "\n",
    "\n",
    "CurrentPlot = ThisPlot(all_plots_df, plot_id)\n"
   ]
  },
  {
   "cell_type": "code",
   "execution_count": 32,
   "metadata": {
    "colab": {
     "base_uri": "https://localhost:8080/"
    },
    "id": "YHkAjSvopf4J",
    "outputId": "5c103018-bc38-42c1-9172-6233e6f12866"
   },
   "outputs": [
    {
     "data": {
      "text/plain": [
       "{'this_plot':           x_min plot_eps  x_units y_units legend_eps old_id user_id no_id  \\\n",
       " 3  1.000000e+00     None  GeV/c^2     cm2       None    107    None     0   \n",
       " \n",
       "   subject           created_at  ... old_user_id          y_min  \\\n",
       " 3    plot  2010-01-04 18:59:18  ...        None  -5.000000e+01   \n",
       " \n",
       "            archived_at              name         x_max plot_png  id  \\\n",
       " 3  1980-01-01 00:00:00  CDMS_new_results  1.000000e+04     None  54   \n",
       " \n",
       "            y_max legend_png row_id  \n",
       " 3  -3.600000e+01       None      3  \n",
       " \n",
       " [1 rows x 23 columns],\n",
       " 'start_x_range': 1.0,\n",
       " 'stop_x_range': 10000.0,\n",
       " 'start_y_range': -50.0,\n",
       " 'stop_y_range': -36.0,\n",
       " 'plot_name': 'CDMS_new_results',\n",
       " 'old_id': '107'}"
      ]
     },
     "execution_count": 32,
     "metadata": {},
     "output_type": "execute_result"
    }
   ],
   "source": [
    "CurrentPlot.__dict__"
   ]
  },
  {
   "cell_type": "code",
   "execution_count": 44,
   "metadata": {
    "colab": {
     "base_uri": "https://localhost:8080/",
     "height": 206
    },
    "id": "EXkhypsTsW1E",
    "outputId": "fd971e3f-f75d-4472-f627-c85272e0bd2b"
   },
   "outputs": [
    {
     "data": {
      "text/html": [
       "<div>\n",
       "<style scoped>\n",
       "    .dataframe tbody tr th:only-of-type {\n",
       "        vertical-align: middle;\n",
       "    }\n",
       "\n",
       "    .dataframe tbody tr th {\n",
       "        vertical-align: top;\n",
       "    }\n",
       "\n",
       "    .dataframe thead th {\n",
       "        text-align: right;\n",
       "    }\n",
       "</style>\n",
       "<table border=\"1\" class=\"dataframe\">\n",
       "  <thead>\n",
       "    <tr style=\"text-align: right;\">\n",
       "      <th></th>\n",
       "      <th>id</th>\n",
       "      <th>limit_id</th>\n",
       "      <th>plot_id</th>\n",
       "      <th>color</th>\n",
       "      <th>style</th>\n",
       "      <th>updated_at</th>\n",
       "      <th>subject</th>\n",
       "      <th>row_id</th>\n",
       "    </tr>\n",
       "  </thead>\n",
       "  <tbody>\n",
       "    <tr>\n",
       "      <th>0</th>\n",
       "      <td>457</td>\n",
       "      <td>273</td>\n",
       "      <td>107</td>\n",
       "      <td>r</td>\n",
       "      <td>line</td>\n",
       "      <td>201111101631</td>\n",
       "      <td>limit_display</td>\n",
       "      <td>0</td>\n",
       "    </tr>\n",
       "    <tr>\n",
       "      <th>1</th>\n",
       "      <td>458</td>\n",
       "      <td>136</td>\n",
       "      <td>107</td>\n",
       "      <td>g</td>\n",
       "      <td>dash</td>\n",
       "      <td>201001041902</td>\n",
       "      <td>limit_display</td>\n",
       "      <td>1</td>\n",
       "    </tr>\n",
       "    <tr>\n",
       "      <th>2</th>\n",
       "      <td>460</td>\n",
       "      <td>305</td>\n",
       "      <td>107</td>\n",
       "      <td>k</td>\n",
       "      <td>line</td>\n",
       "      <td>201001041910</td>\n",
       "      <td>limit_display</td>\n",
       "      <td>2</td>\n",
       "    </tr>\n",
       "    <tr>\n",
       "      <th>3</th>\n",
       "      <td>3216</td>\n",
       "      <td>407</td>\n",
       "      <td>107</td>\n",
       "      <td>c</td>\n",
       "      <td>fill</td>\n",
       "      <td>201107220146</td>\n",
       "      <td>limit_display</td>\n",
       "      <td>3</td>\n",
       "    </tr>\n",
       "    <tr>\n",
       "      <th>4</th>\n",
       "      <td>3217</td>\n",
       "      <td>216</td>\n",
       "      <td>107</td>\n",
       "      <td>ltg</td>\n",
       "      <td>fill</td>\n",
       "      <td>201107220145</td>\n",
       "      <td>limit_display</td>\n",
       "      <td>4</td>\n",
       "    </tr>\n",
       "  </tbody>\n",
       "</table>\n",
       "</div>"
      ],
      "text/plain": [
       "     id limit_id plot_id color style    updated_at        subject  row_id\n",
       "0   457      273     107     r  line  201111101631  limit_display       0\n",
       "1   458      136     107     g  dash  201001041902  limit_display       1\n",
       "2   460      305     107     k  line  201001041910  limit_display       2\n",
       "3  3216      407     107     c  fill  201107220146  limit_display       3\n",
       "4  3217      216     107   ltg  fill  201107220145  limit_display       4"
      ]
     },
     "execution_count": 44,
     "metadata": {},
     "output_type": "execute_result"
    }
   ],
   "source": [
    "def get_limit_displays_for_old_plot(old_plot_id_in, request_header_in):\n",
    "    fastapi_url_limit_displays = api_server + data_api + \"read_by_plot_limit_display/\"\n",
    "    request = Request(fastapi_url_limit_displays + '?id_in=' + str(old_plot_id_in), headers=request_header_in)\n",
    "    r = urllib.request.urlopen(request, context=context)\n",
    "    string = r.read().decode('utf-8')\n",
    "    limit_display_json_obj = json.loads(string)\n",
    "    limit_display_df_ret = pd.DataFrame(limit_display_json_obj)\n",
    "    limit_display_df_ret['row_id'] = limit_display_df_ret.index\n",
    "    limit_display_df_ret['updated_at'] = pd.to_datetime(limit_display_df_ret['updated_at'], errors='coerce')\n",
    "    limit_display_df_ret['updated_at'] = limit_display_df_ret['updated_at'].dt.strftime('%Y%m%d%H%M')\n",
    "    return limit_display_df_ret\n",
    "\n",
    "purpose = 'read_by_plot'\n",
    "subject = 'limit_display'\n",
    "Client.create_current_url(purpose, subject, old_plot_id)\n",
    "limit_display_df = Client.read_current_as_df()\n",
    "limit_display_df['row_id'] = limit_display_df.index\n",
    "limit_display_df['updated_at'] = pd.to_datetime(limit_display_df['updated_at'], errors='coerce')\n",
    "limit_display_df['updated_at'] = limit_display_df['updated_at'].dt.strftime('%Y%m%d%H%M')\n",
    "\n",
    "limit_display_df"
   ]
  },
  {
   "cell_type": "code",
   "execution_count": 46,
   "metadata": {
    "colab": {
     "base_uri": "https://localhost:8080/",
     "height": 206
    },
    "id": "KMQ9KfZI-5GC",
    "outputId": "eb70dbef-0a21-4da7-ba6c-cb4e42752606"
   },
   "outputs": [
    {
     "data": {
      "text/html": [
       "<div>\n",
       "<style scoped>\n",
       "    .dataframe tbody tr th:only-of-type {\n",
       "        vertical-align: middle;\n",
       "    }\n",
       "\n",
       "    .dataframe tbody tr th {\n",
       "        vertical-align: top;\n",
       "    }\n",
       "\n",
       "    .dataframe thead th {\n",
       "        text-align: right;\n",
       "    }\n",
       "</style>\n",
       "<table border=\"1\" class=\"dataframe\">\n",
       "  <thead>\n",
       "    <tr style=\"text-align: right;\">\n",
       "      <th></th>\n",
       "      <th>id</th>\n",
       "      <th>subject</th>\n",
       "      <th>name</th>\n",
       "      <th>old_id</th>\n",
       "      <th>old_plot_id</th>\n",
       "      <th>limit_id</th>\n",
       "      <th>plot_id</th>\n",
       "      <th>color</th>\n",
       "      <th>style</th>\n",
       "      <th>data_id</th>\n",
       "      <th>updated_at</th>\n",
       "      <th>open</th>\n",
       "      <th>row_id</th>\n",
       "    </tr>\n",
       "  </thead>\n",
       "  <tbody>\n",
       "    <tr>\n",
       "      <th>0</th>\n",
       "      <td>95</td>\n",
       "      <td>data_display</td>\n",
       "      <td>None</td>\n",
       "      <td>None</td>\n",
       "      <td>107</td>\n",
       "      <td>273</td>\n",
       "      <td>54</td>\n",
       "      <td>r</td>\n",
       "      <td>line</td>\n",
       "      <td>255</td>\n",
       "      <td>201111101631</td>\n",
       "      <td>1</td>\n",
       "      <td>0</td>\n",
       "    </tr>\n",
       "    <tr>\n",
       "      <th>1</th>\n",
       "      <td>96</td>\n",
       "      <td>data_display</td>\n",
       "      <td>None</td>\n",
       "      <td>None</td>\n",
       "      <td>107</td>\n",
       "      <td>136</td>\n",
       "      <td>54</td>\n",
       "      <td>g</td>\n",
       "      <td>dash</td>\n",
       "      <td>134</td>\n",
       "      <td>201001041902</td>\n",
       "      <td>1</td>\n",
       "      <td>1</td>\n",
       "    </tr>\n",
       "    <tr>\n",
       "      <th>2</th>\n",
       "      <td>97</td>\n",
       "      <td>data_display</td>\n",
       "      <td>None</td>\n",
       "      <td>None</td>\n",
       "      <td>107</td>\n",
       "      <td>305</td>\n",
       "      <td>54</td>\n",
       "      <td>k</td>\n",
       "      <td>line</td>\n",
       "      <td>271</td>\n",
       "      <td>201001041910</td>\n",
       "      <td>1</td>\n",
       "      <td>2</td>\n",
       "    </tr>\n",
       "    <tr>\n",
       "      <th>3</th>\n",
       "      <td>151</td>\n",
       "      <td>data_display</td>\n",
       "      <td>None</td>\n",
       "      <td>None</td>\n",
       "      <td>107</td>\n",
       "      <td>407</td>\n",
       "      <td>54</td>\n",
       "      <td>c</td>\n",
       "      <td>fill</td>\n",
       "      <td>350</td>\n",
       "      <td>201107220146</td>\n",
       "      <td>1</td>\n",
       "      <td>3</td>\n",
       "    </tr>\n",
       "    <tr>\n",
       "      <th>4</th>\n",
       "      <td>152</td>\n",
       "      <td>data_display</td>\n",
       "      <td>None</td>\n",
       "      <td>None</td>\n",
       "      <td>107</td>\n",
       "      <td>216</td>\n",
       "      <td>54</td>\n",
       "      <td>ltg</td>\n",
       "      <td>fill</td>\n",
       "      <td>200</td>\n",
       "      <td>201107220145</td>\n",
       "      <td>1</td>\n",
       "      <td>4</td>\n",
       "    </tr>\n",
       "  </tbody>\n",
       "</table>\n",
       "</div>"
      ],
      "text/plain": [
       "    id       subject  name old_id old_plot_id limit_id plot_id color style  \\\n",
       "0   95  data_display  None   None         107      273      54     r  line   \n",
       "1   96  data_display  None   None         107      136      54     g  dash   \n",
       "2   97  data_display  None   None         107      305      54     k  line   \n",
       "3  151  data_display  None   None         107      407      54     c  fill   \n",
       "4  152  data_display  None   None         107      216      54   ltg  fill   \n",
       "\n",
       "  data_id    updated_at open  row_id  \n",
       "0     255  201111101631    1       0  \n",
       "1     134  201001041902    1       1  \n",
       "2     271  201001041910    1       2  \n",
       "3     350  201107220146    1       3  \n",
       "4     200  201107220145    1       4  "
      ]
     },
     "execution_count": 46,
     "metadata": {},
     "output_type": "execute_result"
    }
   ],
   "source": [
    "purpose = 'read_by_plot'\n",
    "subject = 'data_display'\n",
    "Client.create_current_url(purpose, subject, plot_id)\n",
    "data_display_df = Client.read_current_as_df()\n",
    "data_display_df['row_id'] = data_display_df.index\n",
    "data_display_df['updated_at'] = pd.to_datetime(data_display_df['updated_at'], errors='coerce')\n",
    "data_display_df['updated_at'] = data_display_df['updated_at'].dt.strftime('%Y%m%d%H%M')\n",
    "\n",
    "data_display_df"
   ]
  },
  {
   "cell_type": "code",
   "execution_count": 48,
   "metadata": {
    "colab": {
     "base_uri": "https://localhost:8080/",
     "height": 206
    },
    "id": "s4AEe2BUCMEz",
    "outputId": "ea249bd4-8411-4f1f-a98b-196d1f2b4817"
   },
   "outputs": [
    {
     "data": {
      "text/html": [
       "<div>\n",
       "<style scoped>\n",
       "    .dataframe tbody tr th:only-of-type {\n",
       "        vertical-align: middle;\n",
       "    }\n",
       "\n",
       "    .dataframe tbody tr th {\n",
       "        vertical-align: top;\n",
       "    }\n",
       "\n",
       "    .dataframe thead th {\n",
       "        text-align: right;\n",
       "    }\n",
       "</style>\n",
       "<table border=\"1\" class=\"dataframe\">\n",
       "  <thead>\n",
       "    <tr style=\"text-align: right;\">\n",
       "      <th></th>\n",
       "      <th>trace_id</th>\n",
       "      <th>x</th>\n",
       "      <th>y</th>\n",
       "      <th>cross_sections</th>\n",
       "      <th>masses</th>\n",
       "      <th>trace_name</th>\n",
       "      <th>data_id</th>\n",
       "    </tr>\n",
       "  </thead>\n",
       "  <tbody>\n",
       "    <tr>\n",
       "      <th>0</th>\n",
       "      <td>1</td>\n",
       "      <td>7.00000e+00</td>\n",
       "      <td>1.97200e-40</td>\n",
       "      <td>1.972000e-40</td>\n",
       "      <td>7.0</td>\n",
       "      <td>XENON10, 2007, first results, 58.6 live days, SI</td>\n",
       "      <td>255</td>\n",
       "    </tr>\n",
       "    <tr>\n",
       "      <th>1</th>\n",
       "      <td>1</td>\n",
       "      <td>8.00000e+00</td>\n",
       "      <td>1.74500e-41</td>\n",
       "      <td>1.745000e-41</td>\n",
       "      <td>8.0</td>\n",
       "      <td>XENON10, 2007, first results, 58.6 live days, SI</td>\n",
       "      <td>255</td>\n",
       "    </tr>\n",
       "    <tr>\n",
       "      <th>2</th>\n",
       "      <td>1</td>\n",
       "      <td>9.00000e+00</td>\n",
       "      <td>3.99605e-42</td>\n",
       "      <td>3.996050e-42</td>\n",
       "      <td>9.0</td>\n",
       "      <td>XENON10, 2007, first results, 58.6 live days, SI</td>\n",
       "      <td>255</td>\n",
       "    </tr>\n",
       "    <tr>\n",
       "      <th>3</th>\n",
       "      <td>1</td>\n",
       "      <td>1.00000e+01</td>\n",
       "      <td>1.44657e-42</td>\n",
       "      <td>1.446570e-42</td>\n",
       "      <td>10.0</td>\n",
       "      <td>XENON10, 2007, first results, 58.6 live days, SI</td>\n",
       "      <td>255</td>\n",
       "    </tr>\n",
       "    <tr>\n",
       "      <th>4</th>\n",
       "      <td>1</td>\n",
       "      <td>1.10000e+01</td>\n",
       "      <td>6.88567e-43</td>\n",
       "      <td>6.885670e-43</td>\n",
       "      <td>11.0</td>\n",
       "      <td>XENON10, 2007, first results, 58.6 live days, SI</td>\n",
       "      <td>255</td>\n",
       "    </tr>\n",
       "    <tr>\n",
       "      <th>...</th>\n",
       "      <td>...</td>\n",
       "      <td>...</td>\n",
       "      <td>...</td>\n",
       "      <td>...</td>\n",
       "      <td>...</td>\n",
       "      <td>...</td>\n",
       "      <td>...</td>\n",
       "    </tr>\n",
       "    <tr>\n",
       "      <th>59</th>\n",
       "      <td>1</td>\n",
       "      <td>2.00000e+02</td>\n",
       "      <td>5.04887e-10</td>\n",
       "      <td>5.048870e-46</td>\n",
       "      <td>200.0</td>\n",
       "      <td>Arrenberg et. al., 2008, Kaluza Klein DM in Un...</td>\n",
       "      <td>200</td>\n",
       "    </tr>\n",
       "    <tr>\n",
       "      <th>60</th>\n",
       "      <td>1</td>\n",
       "      <td>1.50000e+02</td>\n",
       "      <td>1.21404e-09</td>\n",
       "      <td>1.214040e-45</td>\n",
       "      <td>150.0</td>\n",
       "      <td>Arrenberg et. al., 2008, Kaluza Klein DM in Un...</td>\n",
       "      <td>200</td>\n",
       "    </tr>\n",
       "    <tr>\n",
       "      <th>61</th>\n",
       "      <td>1</td>\n",
       "      <td>1.00000e+02</td>\n",
       "      <td>5.35327e-09</td>\n",
       "      <td>5.353270e-45</td>\n",
       "      <td>100.0</td>\n",
       "      <td>Arrenberg et. al., 2008, Kaluza Klein DM in Un...</td>\n",
       "      <td>200</td>\n",
       "    </tr>\n",
       "    <tr>\n",
       "      <th>62</th>\n",
       "      <td>1</td>\n",
       "      <td>5.00000e+01</td>\n",
       "      <td>1.37176e-07</td>\n",
       "      <td>1.371760e-43</td>\n",
       "      <td>50.0</td>\n",
       "      <td>Arrenberg et. al., 2008, Kaluza Klein DM in Un...</td>\n",
       "      <td>200</td>\n",
       "    </tr>\n",
       "    <tr>\n",
       "      <th>63</th>\n",
       "      <td>1</td>\n",
       "      <td>5.00000e+00</td>\n",
       "      <td>6.67617e-02</td>\n",
       "      <td>6.676170e-38</td>\n",
       "      <td>5.0</td>\n",
       "      <td>Arrenberg et. al., 2008, Kaluza Klein DM in Un...</td>\n",
       "      <td>200</td>\n",
       "    </tr>\n",
       "  </tbody>\n",
       "</table>\n",
       "<p>525 rows × 7 columns</p>\n",
       "</div>"
      ],
      "text/plain": [
       "    trace_id            x            y  cross_sections  masses  \\\n",
       "0          1  7.00000e+00  1.97200e-40    1.972000e-40     7.0   \n",
       "1          1  8.00000e+00  1.74500e-41    1.745000e-41     8.0   \n",
       "2          1  9.00000e+00  3.99605e-42    3.996050e-42     9.0   \n",
       "3          1  1.00000e+01  1.44657e-42    1.446570e-42    10.0   \n",
       "4          1  1.10000e+01  6.88567e-43    6.885670e-43    11.0   \n",
       "..       ...          ...          ...             ...     ...   \n",
       "59         1  2.00000e+02  5.04887e-10    5.048870e-46   200.0   \n",
       "60         1  1.50000e+02  1.21404e-09    1.214040e-45   150.0   \n",
       "61         1  1.00000e+02  5.35327e-09    5.353270e-45   100.0   \n",
       "62         1  5.00000e+01  1.37176e-07    1.371760e-43    50.0   \n",
       "63         1  5.00000e+00  6.67617e-02    6.676170e-38     5.0   \n",
       "\n",
       "                                           trace_name data_id  \n",
       "0    XENON10, 2007, first results, 58.6 live days, SI     255  \n",
       "1    XENON10, 2007, first results, 58.6 live days, SI     255  \n",
       "2    XENON10, 2007, first results, 58.6 live days, SI     255  \n",
       "3    XENON10, 2007, first results, 58.6 live days, SI     255  \n",
       "4    XENON10, 2007, first results, 58.6 live days, SI     255  \n",
       "..                                                ...     ...  \n",
       "59  Arrenberg et. al., 2008, Kaluza Klein DM in Un...     200  \n",
       "60  Arrenberg et. al., 2008, Kaluza Klein DM in Un...     200  \n",
       "61  Arrenberg et. al., 2008, Kaluza Klein DM in Un...     200  \n",
       "62  Arrenberg et. al., 2008, Kaluza Klein DM in Un...     200  \n",
       "63  Arrenberg et. al., 2008, Kaluza Klein DM in Un...     200  \n",
       "\n",
       "[525 rows x 7 columns]"
      ]
     },
     "execution_count": 48,
     "metadata": {},
     "output_type": "execute_result"
    }
   ],
   "source": [
    "def get_data_for_plot(plot_id_in):\n",
    "    purpose = 'read_by_plot'\n",
    "    subject = 'data_display'\n",
    "    Client.create_current_url(purpose, subject, plot_id_in)\n",
    "    data_display_df = Client.read_current_as_df()\n",
    "    data_data_df_ret = pd.DataFrame()\n",
    "    data_df_ret = pd.DataFrame()\n",
    "    for index, row in data_display_df.iterrows():\n",
    "        #print(row['c1'], row['c2']\n",
    "        #print('data id from data >>>>', row['data_id'])\n",
    "        purpose = 'read_a'\n",
    "        subject = 'data'\n",
    "        Client.create_current_url(purpose, subject, row['data_id'])\n",
    "        a_data_json_obj = Client.read_current_as_json()\n",
    "        data_label = a_data_json_obj['data_label']\n",
    "        data_string = a_data_json_obj['data']\n",
    "        # Convert the string back to a list of lists of lists\n",
    "        reconstructed_list = json.loads(data_string)\n",
    "        #print(\"Deserialized list:\", reconstructed_list)\n",
    "        \n",
    "        # Flatten the list and add a reference to the top-level list\n",
    "        flattened_data = []\n",
    "        for i, sublist in enumerate(reconstructed_list):\n",
    "            for inner_list in sublist:\n",
    "                flattened_data.append([i+1] + inner_list)\n",
    "        \n",
    "        # Create a DataFrame from the flattened list\n",
    "        columns = ['trace_id', 'x', 'y']\n",
    "        data_data_resp_df = pd.DataFrame(flattened_data, columns=columns)\n",
    "        #print(data_string)\n",
    "        # Convert the string to an actual list\n",
    "        #data_eval = ast.literal_eval(data_string)\n",
    "        #print(data_eval)\n",
    "        # Flatten the list of lists of lists into a 2D list\n",
    "        #flattened_data = [inner for outer in data_eval for inner in outer]\n",
    "        #print(flattened_data)\n",
    "        # Convert the 2D list to a DataFrame\n",
    "        #df = pd.DataFrame(flattened_data)\n",
    "        #data_data_resp_df['data_id'] = row['data_id']\n",
    "\n",
    "        data_df_resp = pd.DataFrame(data=a_data_json_obj, index=[0])\n",
    "        #a_data_json_obj\n",
    "        #print(a_data_json_obj)\n",
    "        try:\n",
    "            y_rescale = float(a_data_json_obj['y_rescale'])\n",
    "        except:\n",
    "            y_rescale = 1\n",
    "        try:\n",
    "            x_rescale = float(a_data_json_obj['x_rescale'])\n",
    "        except:\n",
    "            x_rescale = 1\n",
    "        \n",
    "        ## when do we rescale?\n",
    "        data_data_resp_df['cross_sections'] = data_data_resp_df['y'].astype(float).apply(lambda y: y * y_rescale)\n",
    "        data_data_resp_df['masses'] = data_data_resp_df['x'].astype(float).apply(lambda x: x * x_rescale)\n",
    "        data_data_resp_df['trace_name'] = data_label\n",
    "        data_data_resp_df['data_id'] = row['data_id']\n",
    "\n",
    "        data_data_df_ret = pd.concat([data_data_df_ret,data_data_resp_df])\n",
    "        data_df_ret = pd.concat([data_df_ret,data_df_resp])\n",
    "\n",
    "    return data_df_ret , data_data_df_ret # data_df_ret , data_data_df_ret\n",
    "\n",
    "data_df , data_data_df = get_data_for_plot(plot_id)\n",
    "#data_data_df.head(5)\n",
    "#data_df\n",
    "data_data_df"
   ]
  },
  {
   "cell_type": "code",
   "execution_count": 50,
   "metadata": {
    "colab": {
     "base_uri": "https://localhost:8080/",
     "height": 206
    },
    "id": "O_hjqKvj9ccB",
    "outputId": "abe18de5-e2c7-40c3-f722-e2bebba41fb4"
   },
   "outputs": [
    {
     "data": {
      "text/html": [
       "<div>\n",
       "<style scoped>\n",
       "    .dataframe tbody tr th:only-of-type {\n",
       "        vertical-align: middle;\n",
       "    }\n",
       "\n",
       "    .dataframe tbody tr th {\n",
       "        vertical-align: top;\n",
       "    }\n",
       "\n",
       "    .dataframe thead th {\n",
       "        text-align: right;\n",
       "    }\n",
       "</style>\n",
       "<table border=\"1\" class=\"dataframe\">\n",
       "  <thead>\n",
       "    <tr style=\"text-align: right;\">\n",
       "      <th></th>\n",
       "      <th>data_id</th>\n",
       "      <th>trace_id</th>\n",
       "      <th>trace_name</th>\n",
       "    </tr>\n",
       "  </thead>\n",
       "  <tbody>\n",
       "    <tr>\n",
       "      <th>0</th>\n",
       "      <td>255</td>\n",
       "      <td>1</td>\n",
       "      <td>XENON10, 2007, first results, 58.6 live days, SI</td>\n",
       "    </tr>\n",
       "    <tr>\n",
       "      <th>0</th>\n",
       "      <td>134</td>\n",
       "      <td>1</td>\n",
       "      <td>LUX 300 kg LXe Projection (Jul 2007) - Offline</td>\n",
       "    </tr>\n",
       "    <tr>\n",
       "      <th>0</th>\n",
       "      <td>271</td>\n",
       "      <td>1</td>\n",
       "      <td>CDMS II (Soudan), 2009, Ge detector, SI</td>\n",
       "    </tr>\n",
       "    <tr>\n",
       "      <th>0</th>\n",
       "      <td>350</td>\n",
       "      <td>1</td>\n",
       "      <td>CoGeNT, 2010, models with M_wimp ~7-11 GeV per...</td>\n",
       "    </tr>\n",
       "    <tr>\n",
       "      <th>0</th>\n",
       "      <td>200</td>\n",
       "      <td>1</td>\n",
       "      <td>Arrenberg et. al., 2008, Kaluza Klein DM in Un...</td>\n",
       "    </tr>\n",
       "  </tbody>\n",
       "</table>\n",
       "</div>"
      ],
      "text/plain": [
       "  data_id  trace_id                                         trace_name\n",
       "0     255         1   XENON10, 2007, first results, 58.6 live days, SI\n",
       "0     134         1     LUX 300 kg LXe Projection (Jul 2007) - Offline\n",
       "0     271         1            CDMS II (Soudan), 2009, Ge detector, SI\n",
       "0     350         1  CoGeNT, 2010, models with M_wimp ~7-11 GeV per...\n",
       "0     200         1  Arrenberg et. al., 2008, Kaluza Klein DM in Un..."
      ]
     },
     "execution_count": 50,
     "metadata": {},
     "output_type": "execute_result"
    }
   ],
   "source": [
    "#trace_list = data_data_df[['data_id','trace_id']].drop_duplicate()\n",
    "trace_list_refs = data_data_df[['data_id','trace_id','trace_name']].copy()\n",
    "trace_list = trace_list_refs.drop_duplicates()\n",
    "trace_list"
   ]
  },
  {
   "cell_type": "code",
   "execution_count": 51,
   "metadata": {
    "colab": {
     "base_uri": "https://localhost:8080/"
    },
    "id": "2rZ_5S54D-aj",
    "outputId": "6e3cd48c-dec0-4b95-bbdb-a2e16ce6384a"
   },
   "outputs": [
    {
     "name": "stdout",
     "output_type": "stream",
     "text": [
      "min y : 3.1794e-48\n",
      "max y : 3.84013e-31\n",
      "min x : 3.425\n",
      "max x : 10000.0\n"
     ]
    }
   ],
   "source": [
    "#data_data_df.head(5)\n",
    "min_cross_sections = data_data_df['cross_sections'].min()\n",
    "max_cross_sections = data_data_df['cross_sections'].max()\n",
    "min_masses = data_data_df['masses'].min()\n",
    "max_masses = data_data_df['masses'].max()\n",
    "\n",
    "print('min y :' ,min_cross_sections)\n",
    "print('max y :' ,max_cross_sections)\n",
    "print('min x :' ,min_masses)\n",
    "print('max x :' ,max_masses)\n",
    "\n",
    "#print(start_x_range)\n",
    "#print(stop_x_range)\n",
    "#print(start_y_range)\n",
    "#print(stop_y_range)"
   ]
  },
  {
   "cell_type": "code",
   "execution_count": 52,
   "metadata": {
    "colab": {
     "base_uri": "https://localhost:8080/",
     "height": 817
    },
    "id": "_v7ilgVT5rVG",
    "outputId": "10cea150-0c7b-4d7a-f09f-a4f9cac467f2"
   },
   "outputs": [],
   "source": [
    "## need this for the inital build of the dash layout\n",
    "def create_blank_chart_for_plot(plot_name_in, plot_id_in, old_plot_id_in):\n",
    "    y_title_text = r\"$\\text{WIMP Mass [GeV}/c^{2}]$\"\n",
    "    x_title_text = r\"$\\text{Cross Section [cm}^{2}\\text{] (normalized to nucleon)}$\"\n",
    "    plot_title = plot_name_in + \" - Plot Reference:\" + str(plot_id_in) + \" - Old Plot ID:\" + str(old_plot_id_in)\n",
    "    #plot_title\n",
    "    ## create empty chart\n",
    "    fig_chart_out = go.Figure(data=[go.Scatter(x=[], y=[])])\n",
    "    fig_chart_out.update_layout( autosize=False, width=800, height=800, )\n",
    "    fig_chart_out.update_layout(xaxis_range=[-1,-4])\n",
    "    fig_chart_out.update_layout(yaxis_range=[-1,-4])\n",
    "    fig_chart_out.update_layout(\n",
    "            margin=dict(l=0, r=0, t=20, b=0),\n",
    "            paper_bgcolor=\"LightSteelBlue\",)\n",
    "\n",
    "    fig_chart_out.update_layout(\n",
    "        title=dict(text=plot_title , font=dict(size=18), automargin=True, yref='paper')\n",
    "    )\n",
    "    fig_chart_out.update_xaxes(\n",
    "        #title_text=x_title_text,\n",
    "        #type=\"log\"\n",
    "        type=\"linear\"\n",
    "    )\n",
    "    fig_chart_out.update_yaxes(\n",
    "        #title_text=y_title_text,\n",
    "        type=\"log\"\n",
    "        #type=\"linear\"\n",
    "    )\n",
    "    return fig_chart_out\n",
    "\n",
    "fig_chart = create_blank_chart_for_plot('plotty',plot_id, old_plot_id)\n",
    "#fig_chart.show()"
   ]
  },
  {
   "cell_type": "code",
   "execution_count": 53,
   "metadata": {
    "colab": {
     "base_uri": "https://localhost:8080/",
     "height": 984
    },
    "id": "EQtIXj-E6Hy9",
    "outputId": "e4922813-ed4b-4b1f-8872-9e880e19ade5"
   },
   "outputs": [
    {
     "data": {
      "application/vnd.plotly.v1+json": {
       "config": {
        "plotlyServerURL": "https://plot.ly"
       },
       "data": [
        {
         "type": "scatter",
         "x": [],
         "y": []
        },
        {
         "fill": "none",
         "line": {
          "color": "red",
          "dash": "solid",
          "width": 1
         },
         "marker": {
          "symbol": "x"
         },
         "mode": "lines",
         "name": "XENON10, 2007, first results, 58.6 live days, SI",
         "opacity": 1,
         "showlegend": false,
         "type": "scatter",
         "x": [
          7,
          8,
          9,
          10,
          11,
          12,
          13,
          14,
          15,
          20,
          25,
          30,
          35,
          40,
          45,
          50,
          55,
          60,
          65,
          70,
          75,
          80,
          85,
          90,
          95,
          100,
          110,
          120,
          130,
          140,
          150,
          160,
          170,
          180,
          190,
          200,
          210,
          220,
          230,
          240,
          250,
          260,
          270,
          280,
          290,
          300,
          310,
          320,
          330,
          340,
          350,
          360,
          370,
          380,
          390,
          400,
          410,
          420,
          430,
          440,
          450,
          460,
          470,
          480,
          490,
          500,
          510,
          520,
          530,
          540,
          550,
          560,
          570,
          580,
          590,
          600,
          610,
          620,
          630,
          640,
          650,
          660,
          670,
          680,
          690,
          700,
          710,
          720,
          730,
          740,
          750,
          760,
          770,
          780,
          790,
          800,
          810,
          820,
          830,
          840,
          850,
          860,
          870,
          880,
          890,
          900,
          910,
          920,
          930,
          940,
          950,
          960,
          970,
          980,
          990,
          1000
         ],
         "y": [
          1.972e-40,
          1.745e-41,
          3.99605e-42,
          1.44657e-42,
          6.88567e-43,
          3.92483e-43,
          2.53937e-43,
          1.80041e-43,
          1.36651e-43,
          6.34288e-44,
          4.82693e-44,
          4.46491e-44,
          4.47831e-44,
          4.64848e-44,
          4.90415e-44,
          5.1984e-44,
          5.5259e-44,
          5.87403e-44,
          6.23234e-44,
          6.60628e-44,
          6.98284e-44,
          7.35992e-44,
          7.74999e-44,
          8.13749e-44,
          8.53623e-44,
          8.92889e-44,
          9.72357e-44,
          1.05306e-43,
          1.1331e-43,
          1.21468e-43,
          1.29606e-43,
          1.37771e-43,
          1.459e-43,
          1.5407e-43,
          1.62236e-43,
          1.7051e-43,
          1.78694e-43,
          1.86914e-43,
          1.95139e-43,
          2.03334e-43,
          2.11671e-43,
          2.19926e-43,
          2.28064e-43,
          2.36274e-43,
          2.44543e-43,
          2.52858e-43,
          2.61202e-43,
          2.693e-43,
          2.77648e-43,
          2.85977e-43,
          2.94271e-43,
          3.0251e-43,
          3.10678e-43,
          3.19066e-43,
          3.27043e-43,
          3.35546e-43,
          3.43599e-43,
          3.51846e-43,
          3.6029e-43,
          3.68576e-43,
          3.76685e-43,
          3.84972e-43,
          3.93442e-43,
          4.01704e-43,
          4.09738e-43,
          4.18342e-43,
          4.26291e-43,
          4.34817e-43,
          4.43078e-43,
          4.51497e-43,
          4.59624e-43,
          4.67897e-43,
          4.76319e-43,
          4.84417e-43,
          4.92652e-43,
          5.01027e-43,
          5.09043e-43,
          5.17697e-43,
          5.2598e-43,
          5.3387e-43,
          5.42412e-43,
          5.50548e-43,
          5.58806e-43,
          5.67188e-43,
          5.75696e-43,
          5.83756e-43,
          5.91928e-43,
          6.00215e-43,
          6.08618e-43,
          6.17139e-43,
          6.25162e-43,
          6.33289e-43,
          6.41522e-43,
          6.49861e-43,
          6.5831e-43,
          6.66868e-43,
          6.7487e-43,
          6.82968e-43,
          6.91164e-43,
          6.99458e-43,
          7.07852e-43,
          7.16346e-43,
          7.24942e-43,
          7.32916e-43,
          7.40978e-43,
          7.49129e-43,
          7.58119e-43,
          7.657e-43,
          7.74123e-43,
          7.82638e-43,
          7.91247e-43,
          7.99159e-43,
          8.07151e-43,
          8.1603e-43,
          8.2419e-43,
          8.32432e-43
         ]
        },
        {
         "fill": "none",
         "line": {
          "color": "grey",
          "dash": "dash",
          "width": 1
         },
         "marker": {
          "symbol": "x"
         },
         "mode": "lines",
         "name": "LUX 300 kg LXe Projection (Jul 2007) - Offline",
         "opacity": 1,
         "showlegend": false,
         "type": "scatter",
         "x": [
          10.593,
          11.22,
          11.885,
          12.589,
          13.335,
          14.125,
          14.962,
          15.849,
          16.788,
          17.783,
          18.836,
          19.953,
          21.135,
          22.387,
          23.714,
          25.119,
          26.607,
          28.184,
          29.854,
          31.623,
          33.497,
          35.481,
          37.584,
          39.811,
          42.17,
          44.668,
          47.315,
          50.119,
          53.088,
          56.234,
          59.566,
          63.096,
          79.433,
          100,
          125.89,
          158.49,
          199.53,
          251.19,
          316.23,
          398.11,
          501.19,
          630.96,
          794.33,
          1000,
          1584.9,
          2511.9,
          3981.1,
          6309.6,
          10000
         ],
         "y": [
          5.9693e-44,
          2.6973e-44,
          1.4709e-44,
          8.9193e-45,
          5.8066e-45,
          4.0017e-45,
          2.8845e-45,
          2.1621e-45,
          1.6736e-45,
          1.3321e-45,
          1.0915e-45,
          9.2362e-46,
          7.9919e-46,
          7.0333e-46,
          6.2917e-46,
          5.7341e-46,
          5.3147e-46,
          4.9929e-46,
          4.7631e-46,
          4.5288e-46,
          4.4388e-46,
          4.3609e-46,
          4.3192e-46,
          4.3044e-46,
          4.3114e-46,
          4.3387e-46,
          4.387e-46,
          4.4582e-46,
          4.5267e-46,
          4.6778e-46,
          4.8294e-46,
          4.9585e-46,
          5.744e-46,
          6.8742e-46,
          8.324e-46,
          1.0218e-45,
          1.2629e-45,
          1.5693e-45,
          1.9564e-45,
          2.4466e-45,
          3.0638e-45,
          3.8426e-45,
          4.8221e-45,
          6.0587e-45,
          9.5735e-45,
          1.5146e-44,
          2.3976e-44,
          3.7972e-44,
          6.0156e-44
         ]
        },
        {
         "fill": "none",
         "line": {
          "color": "black",
          "dash": "solid",
          "width": 1
         },
         "marker": {
          "symbol": "x"
         },
         "mode": "lines",
         "name": "CDMS II (Soudan), 2009, Ge detector, SI",
         "opacity": 1,
         "showlegend": false,
         "type": "scatter",
         "x": [
          10.1882,
          10.4505,
          10.7196,
          10.9956,
          11.2787,
          11.5691,
          11.8669,
          12.1725,
          12.4859,
          12.8073,
          13.1371,
          13.4753,
          13.8223,
          14.1782,
          14.5432,
          14.9176,
          15.3017,
          15.6957,
          16.0998,
          16.5143,
          16.9395,
          17.3757,
          17.823,
          18.2819,
          18.7526,
          19.2355,
          19.7307,
          20.2387,
          20.7598,
          21.2943,
          21.8426,
          22.4049,
          22.9818,
          23.5735,
          24.1805,
          24.803,
          25.4416,
          26.0967,
          26.7686,
          27.4578,
          28.1648,
          28.8899,
          29.6337,
          30.3967,
          31.1793,
          31.9821,
          32.8056,
          33.6502,
          34.5166,
          35.4053,
          36.3169,
          37.2519,
          38.211,
          39.1948,
          40.204,
          41.2391,
          42.3009,
          43.39,
          44.5072,
          45.6531,
          46.8285,
          48.0342,
          49.271,
          50.5395,
          51.8408,
          53.1755,
          54.5446,
          55.949,
          57.3895,
          58.8671,
          60.3828,
          61.9374,
          63.5321,
          65.1679,
          66.8458,
          68.5668,
          70.3322,
          72.1431,
          74.0005,
          75.9058,
          77.8602,
          79.8648,
          81.9211,
          84.0303,
          86.1938,
          88.4131,
          90.6894,
          93.0244,
          95.4195,
          97.8763,
          100.396,
          102.981,
          105.633,
          108.352,
          111.142,
          114.004,
          116.939,
          119.95,
          123.038,
          126.206,
          129.455,
          132.788,
          136.207,
          139.714,
          143.311,
          147.001,
          150.786,
          154.668,
          158.651,
          162.735,
          166.925,
          171.223,
          175.632,
          180.154,
          184.792,
          189.55,
          194.43,
          199.436,
          204.571,
          209.838,
          215.241,
          220.783,
          226.467,
          232.298,
          238.279,
          244.414,
          250.707,
          257.162,
          263.783,
          270.574,
          277.541,
          284.687,
          292.017,
          299.535,
          307.247,
          315.158,
          323.272,
          331.596,
          340.133,
          348.89,
          357.873,
          367.087,
          376.539,
          386.234,
          396.178,
          406.378,
          416.841,
          427.574,
          438.582,
          449.875,
          461.457,
          473.339,
          485.526,
          498.026,
          510.849,
          524.002,
          537.493,
          551.332,
          565.527,
          580.088,
          595.023,
          610.343,
          626.058,
          642.177,
          658.711,
          675.671,
          693.067,
          710.912,
          729.215,
          747.991,
          767.249,
          787.003,
          807.266,
          828.051,
          849.371,
          871.239,
          893.671,
          916.681,
          940.282,
          964.492,
          989.324,
          1014.8,
          1040.92,
          1067.72,
          1095.22,
          1123.41,
          1152.34,
          1182.01,
          1212.44,
          1243.66,
          1275.68,
          1308.52,
          1342.21,
          1376.77,
          1412.22,
          1448.58,
          1485.88,
          1524.13,
          1563.37,
          1603.63,
          1644.91,
          1687.27,
          1730.71,
          1775.27,
          1820.98,
          1867.86,
          1915.95,
          1965.28,
          2015.88,
          2067.79,
          2121.02,
          2175.63,
          2231.65,
          2289.11,
          2348.05,
          2408.5,
          2470.51,
          2534.12,
          2599.37,
          2666.29,
          2734.94,
          2805.36,
          2877.59,
          2951.68,
          3027.67,
          3105.63,
          3185.59,
          3267.61,
          3351.74,
          3438.03,
          3526.55,
          3617.35,
          3710.49,
          3806.02,
          3904.01,
          4004.53,
          4107.63,
          4213.39,
          4321.88,
          4433.15,
          4547.29,
          4664.37,
          4784.46,
          4907.65,
          5034.01,
          5163.62,
          5296.56,
          5432.93,
          5572.81,
          5716.3,
          5863.48,
          6014.44,
          6169.3,
          6328.14,
          6491.07,
          6658.19,
          6829.62,
          7005.46,
          7185.83,
          7370.84,
          7560.62,
          7755.28,
          7954.96,
          8159.77,
          8369.86,
          8585.36,
          8806.41,
          9033.15,
          9265.72,
          9504.29,
          9748.99,
          10000
         ],
         "y": [
          2.39759e-41,
          1.34971e-41,
          8.67951e-42,
          6.44652e-42,
          5.83044e-42,
          5.198e-42,
          4.33857e-42,
          3.57506e-42,
          2.7522e-42,
          2.63224e-42,
          2.30515e-42,
          2.03118e-42,
          1.80182e-42,
          1.60781e-42,
          1.42039e-42,
          1.23909e-42,
          1.08258e-42,
          9.52367e-43,
          8.38267e-43,
          7.4669e-43,
          6.72945e-43,
          6.02527e-43,
          5.45435e-43,
          4.99025e-43,
          4.56004e-43,
          4.18449e-43,
          3.85574e-43,
          3.54537e-43,
          3.31141e-43,
          3.06727e-43,
          2.86723e-43,
          2.68931e-43,
          2.53009e-43,
          2.40124e-43,
          2.27247e-43,
          2.14335e-43,
          2.03851e-43,
          1.94417e-43,
          1.85838e-43,
          1.79078e-43,
          1.70938e-43,
          1.64504e-43,
          1.5951e-43,
          1.53228e-43,
          1.49144e-43,
          1.43798e-43,
          1.39641e-43,
          1.36707e-43,
          1.32466e-43,
          1.27244e-43,
          1.22028e-43,
          1.17304e-43,
          1.13021e-43,
          1.09093e-43,
          1.05571e-43,
          1.02347e-43,
          9.93984e-44,
          9.67348e-44,
          9.42927e-44,
          9.20774e-44,
          9.00631e-44,
          8.82333e-44,
          8.65739e-44,
          8.51207e-44,
          8.37663e-44,
          8.25483e-44,
          8.14576e-44,
          8.04908e-44,
          7.95985e-44,
          7.88583e-44,
          7.82156e-44,
          6.79739e-44,
          6.75641e-44,
          6.7203e-44,
          6.68984e-44,
          6.66715e-44,
          6.65159e-44,
          6.64233e-44,
          6.63919e-44,
          6.64003e-44,
          6.64779e-44,
          6.66211e-44,
          6.68178e-44,
          6.70583e-44,
          6.73463e-44,
          6.76865e-44,
          6.80751e-44,
          6.85112e-44,
          6.89941e-44,
          6.95232e-44,
          7.0098e-44,
          7.07181e-44,
          7.13833e-44,
          7.20932e-44,
          7.28477e-44,
          7.36467e-44,
          7.44904e-44,
          7.53785e-44,
          7.63114e-44,
          7.72892e-44,
          7.83122e-44,
          7.93885e-44,
          8.05087e-44,
          8.16732e-44,
          8.28863e-44,
          8.41465e-44,
          8.54544e-44,
          8.68101e-44,
          8.82147e-44,
          8.96689e-44,
          9.11735e-44,
          9.27294e-44,
          9.43372e-44,
          9.59999e-44,
          9.77145e-44,
          9.9484e-44,
          1.01309e-43,
          1.03191e-43,
          1.05131e-43,
          1.07131e-43,
          1.0919e-43,
          1.11311e-43,
          1.13495e-43,
          1.15743e-43,
          1.18057e-43,
          1.20437e-43,
          1.22886e-43,
          1.25405e-43,
          1.27995e-43,
          1.30659e-43,
          1.33397e-43,
          1.36212e-43,
          1.39105e-43,
          1.42078e-43,
          1.45133e-43,
          1.48278e-43,
          1.51502e-43,
          1.54814e-43,
          1.58217e-43,
          1.61712e-43,
          1.65301e-43,
          1.68987e-43,
          1.72772e-43,
          1.76659e-43,
          1.8065e-43,
          1.84747e-43,
          1.88953e-43,
          1.93272e-43,
          1.97705e-43,
          2.02255e-43,
          2.06927e-43,
          2.11719e-43,
          2.1664e-43,
          2.21691e-43,
          2.26875e-43,
          2.32195e-43,
          2.37655e-43,
          2.43258e-43,
          2.49008e-43,
          2.54908e-43,
          2.60963e-43,
          2.67176e-43,
          2.73551e-43,
          2.80093e-43,
          2.86805e-43,
          2.93692e-43,
          3.00758e-43,
          3.08008e-43,
          3.15447e-43,
          3.23079e-43,
          3.3091e-43,
          3.38944e-43,
          3.47186e-43,
          3.55643e-43,
          3.64318e-43,
          3.73219e-43,
          3.82351e-43,
          3.91719e-43,
          4.01329e-43,
          4.11189e-43,
          4.21304e-43,
          4.3168e-43,
          4.42325e-43,
          4.53245e-43,
          4.64448e-43,
          4.7594e-43,
          4.8773e-43,
          4.99824e-43,
          5.1223e-43,
          5.24957e-43,
          5.38013e-43,
          5.51406e-43,
          5.65144e-43,
          5.79237e-43,
          5.93694e-43,
          6.08524e-43,
          6.23737e-43,
          6.39343e-43,
          6.55351e-43,
          6.71772e-43,
          6.88617e-43,
          7.05896e-43,
          7.23621e-43,
          7.41803e-43,
          7.60454e-43,
          7.79586e-43,
          7.99211e-43,
          8.19341e-43,
          8.39991e-43,
          8.61174e-43,
          8.82902e-43,
          9.0519e-43,
          9.28052e-43,
          9.51504e-43,
          9.7556e-43,
          1.00024e-42,
          1.02555e-42,
          1.05151e-42,
          1.07815e-42,
          1.10546e-42,
          1.13349e-42,
          1.16223e-42,
          1.19172e-42,
          1.22196e-42,
          1.25299e-42,
          1.28481e-42,
          1.31745e-42,
          1.35094e-42,
          1.38528e-42,
          1.42051e-42,
          1.45665e-42,
          1.49372e-42,
          1.53175e-42,
          1.57075e-42,
          1.61076e-42,
          1.6518e-42,
          1.69389e-42,
          1.73707e-42,
          1.78137e-42,
          1.8268e-42,
          1.8734e-42,
          1.9212e-42,
          1.97024e-42,
          2.02053e-42,
          2.07212e-42,
          2.12504e-42,
          2.17933e-42,
          2.235e-42,
          2.29211e-42,
          2.3507e-42,
          2.41079e-42,
          2.47243e-42,
          2.53566e-42,
          2.60052e-42,
          2.66704e-42,
          2.73528e-42,
          2.80528e-42,
          2.87708e-42,
          2.95073e-42,
          3.02627e-42,
          3.10376e-42,
          3.18325e-42,
          3.26478e-42,
          3.34841e-42,
          3.43419e-42,
          3.52219e-42,
          3.61244e-42,
          3.70503e-42,
          3.79999e-42,
          3.89741e-42,
          3.99733e-42,
          4.09982e-42
         ]
        },
        {
         "fill": "toself",
         "line": {
          "color": "cyan",
          "dash": "solid",
          "width": 1
         },
         "marker": {
          "symbol": "x"
         },
         "mode": "lines",
         "name": "CoGeNT, 2010, models with M_wimp ~7-11 GeV per cm^2, SI",
         "opacity": 1,
         "showlegend": false,
         "type": "scatter",
         "x": [
          3.425,
          3.474,
          3.524,
          3.591,
          3.694,
          3.837,
          3.892,
          3.966,
          4.004,
          4.401,
          4.953,
          6.992,
          7.962,
          8.891,
          9.858,
          11.862,
          14.497,
          17.271,
          20.477,
          23.824,
          30.613,
          43.652,
          59.649,
          98.955
         ],
         "y": [
          9.68e-39,
          5.45e-39,
          3.68e-39,
          2.74e-39,
          1.88e-39,
          1.11e-39,
          9.57e-40,
          5.57e-40,
          4.88e-40,
          3.4e-40,
          2.11e-40,
          1.09e-40,
          1.21e-40,
          8.58e-41,
          7.76e-41,
          5.81e-41,
          4.67e-41,
          4.52e-41,
          4.6e-41,
          4.99e-41,
          5.89e-41,
          8.73e-41,
          1.25e-40,
          2.23e-40
         ]
        },
        {
         "fill": "toself",
         "line": {
          "color": "green",
          "dash": "solid",
          "width": 1
         },
         "marker": {
          "symbol": "x"
         },
         "mode": "lines",
         "name": "Arrenberg et. al., 2008, Kaluza Klein DM in Universal Extra Dimensions, gamma-1, SI",
         "opacity": 1,
         "showlegend": false,
         "type": "scatter",
         "x": [
          5,
          50,
          100,
          150,
          200,
          250,
          300,
          350,
          400,
          450,
          500,
          550,
          600,
          650,
          700,
          750,
          800,
          850,
          900,
          950,
          1000,
          1050,
          1100,
          1150,
          1200,
          1250,
          1300,
          1350,
          1400,
          1450,
          1500,
          1550,
          1600,
          1650,
          1700,
          1750,
          1800,
          1850,
          1900,
          1950,
          2000,
          2000,
          1900,
          1800,
          1700,
          1600,
          1500,
          1400,
          1300,
          1200,
          1100,
          1000,
          900,
          800,
          700,
          600,
          500,
          400,
          300,
          200,
          150,
          100,
          50,
          5
         ],
         "y": [
          3.84013e-31,
          5.21989e-37,
          8.313229999999999e-39,
          7.350849999999999e-40,
          1.31414e-40,
          3.4573899999999996e-41,
          1.16178e-41,
          4.6229299999999993e-42,
          2.08214e-42,
          1.03095e-42,
          5.50118e-43,
          3.11884e-43,
          1.8590499999999998e-43,
          1.1558199999999999e-43,
          7.449060000000001e-44,
          4.95207e-44,
          3.3824099999999994e-44,
          2.3659899999999997e-44,
          1.6903599999999997e-44,
          1.23069e-44,
          9.11366e-45,
          6.85338e-45,
          5.226089999999999e-45,
          4.036279999999999e-45,
          3.1539699999999997e-45,
          2.49116e-45,
          1.98727e-45,
          1.59995e-45,
          1.2991699999999999e-45,
          1.06337e-45,
          8.76869e-46,
          7.28132e-46,
          6.085899999999999e-46,
          5.1181099999999996e-46,
          4.32923e-46,
          3.68202e-46,
          3.14781e-46,
          2.70431e-46,
          2.3341099999999997e-46,
          2.0235e-46,
          1.7615999999999998e-46,
          3.1794e-48,
          3.5247499999999994e-48,
          3.92971e-48,
          4.4088899999999993e-48,
          4.98164e-48,
          5.674089999999999e-48,
          6.52222e-48,
          7.57664e-48,
          8.910499999999999e-48,
          1.0632599999999999e-47,
          1.2910899999999998e-47,
          1.6015699999999998e-47,
          2.0405999999999998e-47,
          2.6914099999999995e-47,
          3.7186899999999997e-47,
          5.48905e-47,
          8.970829999999998e-47,
          1.75216e-46,
          5.0488699999999995e-46,
          1.21404e-45,
          5.3532699999999995e-45,
          1.37176e-43,
          6.676169999999999e-38
         ]
        }
       ],
       "layout": {
        "autosize": false,
        "height": 600,
        "margin": {
         "b": 20,
         "l": 20,
         "pad": 0,
         "r": 10,
         "t": 20
        },
        "template": {
         "data": {
          "bar": [
           {
            "error_x": {
             "color": "#2a3f5f"
            },
            "error_y": {
             "color": "#2a3f5f"
            },
            "marker": {
             "line": {
              "color": "#E5ECF6",
              "width": 0.5
             },
             "pattern": {
              "fillmode": "overlay",
              "size": 10,
              "solidity": 0.2
             }
            },
            "type": "bar"
           }
          ],
          "barpolar": [
           {
            "marker": {
             "line": {
              "color": "#E5ECF6",
              "width": 0.5
             },
             "pattern": {
              "fillmode": "overlay",
              "size": 10,
              "solidity": 0.2
             }
            },
            "type": "barpolar"
           }
          ],
          "carpet": [
           {
            "aaxis": {
             "endlinecolor": "#2a3f5f",
             "gridcolor": "white",
             "linecolor": "white",
             "minorgridcolor": "white",
             "startlinecolor": "#2a3f5f"
            },
            "baxis": {
             "endlinecolor": "#2a3f5f",
             "gridcolor": "white",
             "linecolor": "white",
             "minorgridcolor": "white",
             "startlinecolor": "#2a3f5f"
            },
            "type": "carpet"
           }
          ],
          "choropleth": [
           {
            "colorbar": {
             "outlinewidth": 0,
             "ticks": ""
            },
            "type": "choropleth"
           }
          ],
          "contour": [
           {
            "colorbar": {
             "outlinewidth": 0,
             "ticks": ""
            },
            "colorscale": [
             [
              0,
              "#0d0887"
             ],
             [
              0.1111111111111111,
              "#46039f"
             ],
             [
              0.2222222222222222,
              "#7201a8"
             ],
             [
              0.3333333333333333,
              "#9c179e"
             ],
             [
              0.4444444444444444,
              "#bd3786"
             ],
             [
              0.5555555555555556,
              "#d8576b"
             ],
             [
              0.6666666666666666,
              "#ed7953"
             ],
             [
              0.7777777777777778,
              "#fb9f3a"
             ],
             [
              0.8888888888888888,
              "#fdca26"
             ],
             [
              1,
              "#f0f921"
             ]
            ],
            "type": "contour"
           }
          ],
          "contourcarpet": [
           {
            "colorbar": {
             "outlinewidth": 0,
             "ticks": ""
            },
            "type": "contourcarpet"
           }
          ],
          "heatmap": [
           {
            "colorbar": {
             "outlinewidth": 0,
             "ticks": ""
            },
            "colorscale": [
             [
              0,
              "#0d0887"
             ],
             [
              0.1111111111111111,
              "#46039f"
             ],
             [
              0.2222222222222222,
              "#7201a8"
             ],
             [
              0.3333333333333333,
              "#9c179e"
             ],
             [
              0.4444444444444444,
              "#bd3786"
             ],
             [
              0.5555555555555556,
              "#d8576b"
             ],
             [
              0.6666666666666666,
              "#ed7953"
             ],
             [
              0.7777777777777778,
              "#fb9f3a"
             ],
             [
              0.8888888888888888,
              "#fdca26"
             ],
             [
              1,
              "#f0f921"
             ]
            ],
            "type": "heatmap"
           }
          ],
          "heatmapgl": [
           {
            "colorbar": {
             "outlinewidth": 0,
             "ticks": ""
            },
            "colorscale": [
             [
              0,
              "#0d0887"
             ],
             [
              0.1111111111111111,
              "#46039f"
             ],
             [
              0.2222222222222222,
              "#7201a8"
             ],
             [
              0.3333333333333333,
              "#9c179e"
             ],
             [
              0.4444444444444444,
              "#bd3786"
             ],
             [
              0.5555555555555556,
              "#d8576b"
             ],
             [
              0.6666666666666666,
              "#ed7953"
             ],
             [
              0.7777777777777778,
              "#fb9f3a"
             ],
             [
              0.8888888888888888,
              "#fdca26"
             ],
             [
              1,
              "#f0f921"
             ]
            ],
            "type": "heatmapgl"
           }
          ],
          "histogram": [
           {
            "marker": {
             "pattern": {
              "fillmode": "overlay",
              "size": 10,
              "solidity": 0.2
             }
            },
            "type": "histogram"
           }
          ],
          "histogram2d": [
           {
            "colorbar": {
             "outlinewidth": 0,
             "ticks": ""
            },
            "colorscale": [
             [
              0,
              "#0d0887"
             ],
             [
              0.1111111111111111,
              "#46039f"
             ],
             [
              0.2222222222222222,
              "#7201a8"
             ],
             [
              0.3333333333333333,
              "#9c179e"
             ],
             [
              0.4444444444444444,
              "#bd3786"
             ],
             [
              0.5555555555555556,
              "#d8576b"
             ],
             [
              0.6666666666666666,
              "#ed7953"
             ],
             [
              0.7777777777777778,
              "#fb9f3a"
             ],
             [
              0.8888888888888888,
              "#fdca26"
             ],
             [
              1,
              "#f0f921"
             ]
            ],
            "type": "histogram2d"
           }
          ],
          "histogram2dcontour": [
           {
            "colorbar": {
             "outlinewidth": 0,
             "ticks": ""
            },
            "colorscale": [
             [
              0,
              "#0d0887"
             ],
             [
              0.1111111111111111,
              "#46039f"
             ],
             [
              0.2222222222222222,
              "#7201a8"
             ],
             [
              0.3333333333333333,
              "#9c179e"
             ],
             [
              0.4444444444444444,
              "#bd3786"
             ],
             [
              0.5555555555555556,
              "#d8576b"
             ],
             [
              0.6666666666666666,
              "#ed7953"
             ],
             [
              0.7777777777777778,
              "#fb9f3a"
             ],
             [
              0.8888888888888888,
              "#fdca26"
             ],
             [
              1,
              "#f0f921"
             ]
            ],
            "type": "histogram2dcontour"
           }
          ],
          "mesh3d": [
           {
            "colorbar": {
             "outlinewidth": 0,
             "ticks": ""
            },
            "type": "mesh3d"
           }
          ],
          "parcoords": [
           {
            "line": {
             "colorbar": {
              "outlinewidth": 0,
              "ticks": ""
             }
            },
            "type": "parcoords"
           }
          ],
          "pie": [
           {
            "automargin": true,
            "type": "pie"
           }
          ],
          "scatter": [
           {
            "fillpattern": {
             "fillmode": "overlay",
             "size": 10,
             "solidity": 0.2
            },
            "type": "scatter"
           }
          ],
          "scatter3d": [
           {
            "line": {
             "colorbar": {
              "outlinewidth": 0,
              "ticks": ""
             }
            },
            "marker": {
             "colorbar": {
              "outlinewidth": 0,
              "ticks": ""
             }
            },
            "type": "scatter3d"
           }
          ],
          "scattercarpet": [
           {
            "marker": {
             "colorbar": {
              "outlinewidth": 0,
              "ticks": ""
             }
            },
            "type": "scattercarpet"
           }
          ],
          "scattergeo": [
           {
            "marker": {
             "colorbar": {
              "outlinewidth": 0,
              "ticks": ""
             }
            },
            "type": "scattergeo"
           }
          ],
          "scattergl": [
           {
            "marker": {
             "colorbar": {
              "outlinewidth": 0,
              "ticks": ""
             }
            },
            "type": "scattergl"
           }
          ],
          "scattermapbox": [
           {
            "marker": {
             "colorbar": {
              "outlinewidth": 0,
              "ticks": ""
             }
            },
            "type": "scattermapbox"
           }
          ],
          "scatterpolar": [
           {
            "marker": {
             "colorbar": {
              "outlinewidth": 0,
              "ticks": ""
             }
            },
            "type": "scatterpolar"
           }
          ],
          "scatterpolargl": [
           {
            "marker": {
             "colorbar": {
              "outlinewidth": 0,
              "ticks": ""
             }
            },
            "type": "scatterpolargl"
           }
          ],
          "scatterternary": [
           {
            "marker": {
             "colorbar": {
              "outlinewidth": 0,
              "ticks": ""
             }
            },
            "type": "scatterternary"
           }
          ],
          "surface": [
           {
            "colorbar": {
             "outlinewidth": 0,
             "ticks": ""
            },
            "colorscale": [
             [
              0,
              "#0d0887"
             ],
             [
              0.1111111111111111,
              "#46039f"
             ],
             [
              0.2222222222222222,
              "#7201a8"
             ],
             [
              0.3333333333333333,
              "#9c179e"
             ],
             [
              0.4444444444444444,
              "#bd3786"
             ],
             [
              0.5555555555555556,
              "#d8576b"
             ],
             [
              0.6666666666666666,
              "#ed7953"
             ],
             [
              0.7777777777777778,
              "#fb9f3a"
             ],
             [
              0.8888888888888888,
              "#fdca26"
             ],
             [
              1,
              "#f0f921"
             ]
            ],
            "type": "surface"
           }
          ],
          "table": [
           {
            "cells": {
             "fill": {
              "color": "#EBF0F8"
             },
             "line": {
              "color": "white"
             }
            },
            "header": {
             "fill": {
              "color": "#C8D4E3"
             },
             "line": {
              "color": "white"
             }
            },
            "type": "table"
           }
          ]
         },
         "layout": {
          "annotationdefaults": {
           "arrowcolor": "#2a3f5f",
           "arrowhead": 0,
           "arrowwidth": 1
          },
          "autotypenumbers": "strict",
          "coloraxis": {
           "colorbar": {
            "outlinewidth": 0,
            "ticks": ""
           }
          },
          "colorscale": {
           "diverging": [
            [
             0,
             "#8e0152"
            ],
            [
             0.1,
             "#c51b7d"
            ],
            [
             0.2,
             "#de77ae"
            ],
            [
             0.3,
             "#f1b6da"
            ],
            [
             0.4,
             "#fde0ef"
            ],
            [
             0.5,
             "#f7f7f7"
            ],
            [
             0.6,
             "#e6f5d0"
            ],
            [
             0.7,
             "#b8e186"
            ],
            [
             0.8,
             "#7fbc41"
            ],
            [
             0.9,
             "#4d9221"
            ],
            [
             1,
             "#276419"
            ]
           ],
           "sequential": [
            [
             0,
             "#0d0887"
            ],
            [
             0.1111111111111111,
             "#46039f"
            ],
            [
             0.2222222222222222,
             "#7201a8"
            ],
            [
             0.3333333333333333,
             "#9c179e"
            ],
            [
             0.4444444444444444,
             "#bd3786"
            ],
            [
             0.5555555555555556,
             "#d8576b"
            ],
            [
             0.6666666666666666,
             "#ed7953"
            ],
            [
             0.7777777777777778,
             "#fb9f3a"
            ],
            [
             0.8888888888888888,
             "#fdca26"
            ],
            [
             1,
             "#f0f921"
            ]
           ],
           "sequentialminus": [
            [
             0,
             "#0d0887"
            ],
            [
             0.1111111111111111,
             "#46039f"
            ],
            [
             0.2222222222222222,
             "#7201a8"
            ],
            [
             0.3333333333333333,
             "#9c179e"
            ],
            [
             0.4444444444444444,
             "#bd3786"
            ],
            [
             0.5555555555555556,
             "#d8576b"
            ],
            [
             0.6666666666666666,
             "#ed7953"
            ],
            [
             0.7777777777777778,
             "#fb9f3a"
            ],
            [
             0.8888888888888888,
             "#fdca26"
            ],
            [
             1,
             "#f0f921"
            ]
           ]
          },
          "colorway": [
           "#636efa",
           "#EF553B",
           "#00cc96",
           "#ab63fa",
           "#FFA15A",
           "#19d3f3",
           "#FF6692",
           "#B6E880",
           "#FF97FF",
           "#FECB52"
          ],
          "font": {
           "color": "#2a3f5f"
          },
          "geo": {
           "bgcolor": "white",
           "lakecolor": "white",
           "landcolor": "#E5ECF6",
           "showlakes": true,
           "showland": true,
           "subunitcolor": "white"
          },
          "hoverlabel": {
           "align": "left"
          },
          "hovermode": "closest",
          "mapbox": {
           "style": "light"
          },
          "paper_bgcolor": "white",
          "plot_bgcolor": "#E5ECF6",
          "polar": {
           "angularaxis": {
            "gridcolor": "white",
            "linecolor": "white",
            "ticks": ""
           },
           "bgcolor": "#E5ECF6",
           "radialaxis": {
            "gridcolor": "white",
            "linecolor": "white",
            "ticks": ""
           }
          },
          "scene": {
           "xaxis": {
            "backgroundcolor": "#E5ECF6",
            "gridcolor": "white",
            "gridwidth": 2,
            "linecolor": "white",
            "showbackground": true,
            "ticks": "",
            "zerolinecolor": "white"
           },
           "yaxis": {
            "backgroundcolor": "#E5ECF6",
            "gridcolor": "white",
            "gridwidth": 2,
            "linecolor": "white",
            "showbackground": true,
            "ticks": "",
            "zerolinecolor": "white"
           },
           "zaxis": {
            "backgroundcolor": "#E5ECF6",
            "gridcolor": "white",
            "gridwidth": 2,
            "linecolor": "white",
            "showbackground": true,
            "ticks": "",
            "zerolinecolor": "white"
           }
          },
          "shapedefaults": {
           "line": {
            "color": "#2a3f5f"
           }
          },
          "ternary": {
           "aaxis": {
            "gridcolor": "white",
            "linecolor": "white",
            "ticks": ""
           },
           "baxis": {
            "gridcolor": "white",
            "linecolor": "white",
            "ticks": ""
           },
           "bgcolor": "#E5ECF6",
           "caxis": {
            "gridcolor": "white",
            "linecolor": "white",
            "ticks": ""
           }
          },
          "title": {
           "x": 0.05
          },
          "xaxis": {
           "automargin": true,
           "gridcolor": "white",
           "linecolor": "white",
           "ticks": "",
           "title": {
            "standoff": 15
           },
           "zerolinecolor": "white",
           "zerolinewidth": 2
          },
          "yaxis": {
           "automargin": true,
           "gridcolor": "white",
           "linecolor": "white",
           "ticks": "",
           "title": {
            "standoff": 15
           },
           "zerolinecolor": "white",
           "zerolinewidth": 2
          }
         }
        },
        "title": {
         "automargin": true,
         "font": {
          "size": 16
         },
         "text": "Plot Name - P: 54 - O: 107",
         "yref": "paper"
        },
        "width": 600,
        "xaxis": {
         "autorange": true,
         "range": [
          0.5346605758284443,
          4
         ],
         "title": {
          "font": {
           "color": "SteelBlue"
          },
          "standoff": 0
         },
         "type": "log"
        },
        "yaxis": {
         "autorange": true,
         "range": [
          -48.44665487215194,
          -29.466654031153645
         ],
         "title": {
          "font": {
           "color": "SteelBlue"
          },
          "standoff": 0
         },
         "type": "log"
        }
       }
      },
      "image/png": "[encoded data removed]",
      "text/html": [
       "<div>                            <div id=\"2ff2d095-0f5d-4c75-8633-89df66c4e509\" class=\"plotly-graph-div\" style=\"height:600px; width:600px;\"></div>            <script type=\"text/javascript\">                require([\"plotly\"], function(Plotly) {                    window.PLOTLYENV=window.PLOTLYENV || {};                                    if (document.getElementById(\"2ff2d095-0f5d-4c75-8633-89df66c4e509\")) {                    Plotly.newPlot(                        \"2ff2d095-0f5d-4c75-8633-89df66c4e509\",                        [{\"x\":[],\"y\":[],\"type\":\"scatter\"},{\"fill\":\"none\",\"line\":{\"color\":\"red\",\"dash\":\"solid\",\"width\":1},\"marker\":{\"symbol\":\"x\"},\"mode\":\"lines\",\"name\":\"XENON10, 2007, first results, 58.6 live days, SI\",\"opacity\":1,\"showlegend\":false,\"x\":[7.0,8.0,9.0,10.0,11.0,12.0,13.0,14.0,15.0,20.0,25.0,30.0,35.0,40.0,45.0,50.0,55.0,60.0,65.0,70.0,75.0,80.0,85.0,90.0,95.0,100.0,110.0,120.0,130.0,140.0,150.0,160.0,170.0,180.0,190.0,200.0,210.0,220.0,230.0,240.0,250.0,260.0,270.0,280.0,290.0,300.0,310.0,320.0,330.0,340.0,350.0,360.0,370.0,380.0,390.0,400.0,410.0,420.0,430.0,440.0,450.0,460.0,470.0,480.0,490.0,500.0,510.0,520.0,530.0,540.0,550.0,560.0,570.0,580.0,590.0,600.0,610.0,620.0,630.0,640.0,650.0,660.0,670.0,680.0,690.0,700.0,710.0,720.0,730.0,740.0,750.0,760.0,770.0,780.0,790.0,800.0,810.0,820.0,830.0,840.0,850.0,860.0,870.0,880.0,890.0,900.0,910.0,920.0,930.0,940.0,950.0,960.0,970.0,980.0,990.0,1000.0],\"y\":[1.972e-40,1.745e-41,3.99605e-42,1.44657e-42,6.88567e-43,3.92483e-43,2.53937e-43,1.80041e-43,1.36651e-43,6.34288e-44,4.82693e-44,4.46491e-44,4.47831e-44,4.64848e-44,4.90415e-44,5.1984e-44,5.5259e-44,5.87403e-44,6.23234e-44,6.60628e-44,6.98284e-44,7.35992e-44,7.74999e-44,8.13749e-44,8.53623e-44,8.92889e-44,9.72357e-44,1.05306e-43,1.1331e-43,1.21468e-43,1.29606e-43,1.37771e-43,1.459e-43,1.5407e-43,1.62236e-43,1.7051e-43,1.78694e-43,1.86914e-43,1.95139e-43,2.03334e-43,2.11671e-43,2.19926e-43,2.28064e-43,2.36274e-43,2.44543e-43,2.52858e-43,2.61202e-43,2.693e-43,2.77648e-43,2.85977e-43,2.94271e-43,3.0251e-43,3.10678e-43,3.19066e-43,3.27043e-43,3.35546e-43,3.43599e-43,3.51846e-43,3.6029e-43,3.68576e-43,3.76685e-43,3.84972e-43,3.93442e-43,4.01704e-43,4.09738e-43,4.18342e-43,4.26291e-43,4.34817e-43,4.43078e-43,4.51497e-43,4.59624e-43,4.67897e-43,4.76319e-43,4.84417e-43,4.92652e-43,5.01027e-43,5.09043e-43,5.17697e-43,5.2598e-43,5.3387e-43,5.42412e-43,5.50548e-43,5.58806e-43,5.67188e-43,5.75696e-43,5.83756e-43,5.91928e-43,6.00215e-43,6.08618e-43,6.17139e-43,6.25162e-43,6.33289e-43,6.41522e-43,6.49861e-43,6.5831e-43,6.66868e-43,6.7487e-43,6.82968e-43,6.91164e-43,6.99458e-43,7.07852e-43,7.16346e-43,7.24942e-43,7.32916e-43,7.40978e-43,7.49129e-43,7.58119e-43,7.657e-43,7.74123e-43,7.82638e-43,7.91247e-43,7.99159e-43,8.07151e-43,8.1603e-43,8.2419e-43,8.32432e-43],\"type\":\"scatter\"},{\"fill\":\"none\",\"line\":{\"color\":\"grey\",\"dash\":\"dash\",\"width\":1},\"marker\":{\"symbol\":\"x\"},\"mode\":\"lines\",\"name\":\"LUX 300 kg LXe Projection (Jul 2007) - Offline\",\"opacity\":1,\"showlegend\":false,\"x\":[10.593,11.22,11.885,12.589,13.335,14.125,14.962,15.849,16.788,17.783,18.836,19.953,21.135,22.387,23.714,25.119,26.607,28.184,29.854,31.623,33.497,35.481,37.584,39.811,42.17,44.668,47.315,50.119,53.088,56.234,59.566,63.096,79.433,100.0,125.89,158.49,199.53,251.19,316.23,398.11,501.19,630.96,794.33,1000.0,1584.9,2511.9,3981.1,6309.6,10000.0],\"y\":[5.9693e-44,2.6973e-44,1.4709e-44,8.9193e-45,5.8066e-45,4.0017e-45,2.8845e-45,2.1621e-45,1.6736e-45,1.3321e-45,1.0915e-45,9.2362e-46,7.9919e-46,7.0333e-46,6.2917e-46,5.7341e-46,5.3147e-46,4.9929e-46,4.7631e-46,4.5288e-46,4.4388e-46,4.3609e-46,4.3192e-46,4.3044e-46,4.3114e-46,4.3387e-46,4.387e-46,4.4582e-46,4.5267e-46,4.6778e-46,4.8294e-46,4.9585e-46,5.744e-46,6.8742e-46,8.324e-46,1.0218e-45,1.2629e-45,1.5693e-45,1.9564e-45,2.4466e-45,3.0638e-45,3.8426e-45,4.8221e-45,6.0587e-45,9.5735e-45,1.5146e-44,2.3976e-44,3.7972e-44,6.0156e-44],\"type\":\"scatter\"},{\"fill\":\"none\",\"line\":{\"color\":\"black\",\"dash\":\"solid\",\"width\":1},\"marker\":{\"symbol\":\"x\"},\"mode\":\"lines\",\"name\":\"CDMS II (Soudan), 2009, Ge detector, SI\",\"opacity\":1,\"showlegend\":false,\"x\":[10.1882,10.4505,10.7196,10.9956,11.2787,11.5691,11.8669,12.1725,12.4859,12.8073,13.1371,13.4753,13.8223,14.1782,14.5432,14.9176,15.3017,15.6957,16.0998,16.5143,16.9395,17.3757,17.823,18.2819,18.7526,19.2355,19.7307,20.2387,20.7598,21.2943,21.8426,22.4049,22.9818,23.5735,24.1805,24.803,25.4416,26.0967,26.7686,27.4578,28.1648,28.8899,29.6337,30.3967,31.1793,31.9821,32.8056,33.6502,34.5166,35.4053,36.3169,37.2519,38.211,39.1948,40.204,41.2391,42.3009,43.39,44.5072,45.6531,46.8285,48.0342,49.271,50.5395,51.8408,53.1755,54.5446,55.949,57.3895,58.8671,60.3828,61.9374,63.5321,65.1679,66.8458,68.5668,70.3322,72.1431,74.0005,75.9058,77.8602,79.8648,81.9211,84.0303,86.1938,88.4131,90.6894,93.0244,95.4195,97.8763,100.396,102.981,105.633,108.352,111.142,114.004,116.939,119.95,123.038,126.206,129.455,132.788,136.207,139.714,143.311,147.001,150.786,154.668,158.651,162.735,166.925,171.223,175.632,180.154,184.792,189.55,194.43,199.436,204.571,209.838,215.241,220.783,226.467,232.298,238.279,244.414,250.707,257.162,263.783,270.574,277.541,284.687,292.017,299.535,307.247,315.158,323.272,331.596,340.133,348.89,357.873,367.087,376.539,386.234,396.178,406.378,416.841,427.574,438.582,449.875,461.457,473.339,485.526,498.026,510.849,524.002,537.493,551.332,565.527,580.088,595.023,610.343,626.058,642.177,658.711,675.671,693.067,710.912,729.215,747.991,767.249,787.003,807.266,828.051,849.371,871.239,893.671,916.681,940.282,964.492,989.324,1014.8,1040.92,1067.72,1095.22,1123.41,1152.34,1182.01,1212.44,1243.66,1275.68,1308.52,1342.21,1376.77,1412.22,1448.58,1485.88,1524.13,1563.37,1603.63,1644.91,1687.27,1730.71,1775.27,1820.98,1867.86,1915.95,1965.28,2015.88,2067.79,2121.02,2175.63,2231.65,2289.11,2348.05,2408.5,2470.51,2534.12,2599.37,2666.29,2734.94,2805.36,2877.59,2951.68,3027.67,3105.63,3185.59,3267.61,3351.74,3438.03,3526.55,3617.35,3710.49,3806.02,3904.01,4004.53,4107.63,4213.39,4321.88,4433.15,4547.29,4664.37,4784.46,4907.65,5034.01,5163.62,5296.56,5432.93,5572.81,5716.3,5863.48,6014.44,6169.3,6328.14,6491.07,6658.19,6829.62,7005.46,7185.83,7370.84,7560.62,7755.28,7954.96,8159.77,8369.86,8585.36,8806.41,9033.15,9265.72,9504.29,9748.99,10000.0],\"y\":[2.39759e-41,1.34971e-41,8.67951e-42,6.44652e-42,5.83044e-42,5.198e-42,4.33857e-42,3.57506e-42,2.7522e-42,2.63224e-42,2.30515e-42,2.03118e-42,1.80182e-42,1.60781e-42,1.42039e-42,1.23909e-42,1.08258e-42,9.52367e-43,8.38267e-43,7.4669e-43,6.72945e-43,6.02527e-43,5.45435e-43,4.99025e-43,4.56004e-43,4.18449e-43,3.85574e-43,3.54537e-43,3.31141e-43,3.06727e-43,2.86723e-43,2.68931e-43,2.53009e-43,2.40124e-43,2.27247e-43,2.14335e-43,2.03851e-43,1.94417e-43,1.85838e-43,1.79078e-43,1.70938e-43,1.64504e-43,1.5951e-43,1.53228e-43,1.49144e-43,1.43798e-43,1.39641e-43,1.36707e-43,1.32466e-43,1.27244e-43,1.22028e-43,1.17304e-43,1.13021e-43,1.09093e-43,1.05571e-43,1.02347e-43,9.93984e-44,9.67348e-44,9.42927e-44,9.20774e-44,9.00631e-44,8.82333e-44,8.65739e-44,8.51207e-44,8.37663e-44,8.25483e-44,8.14576e-44,8.04908e-44,7.95985e-44,7.88583e-44,7.82156e-44,6.79739e-44,6.75641e-44,6.7203e-44,6.68984e-44,6.66715e-44,6.65159e-44,6.64233e-44,6.63919e-44,6.64003e-44,6.64779e-44,6.66211e-44,6.68178e-44,6.70583e-44,6.73463e-44,6.76865e-44,6.80751e-44,6.85112e-44,6.89941e-44,6.95232e-44,7.0098e-44,7.07181e-44,7.13833e-44,7.20932e-44,7.28477e-44,7.36467e-44,7.44904e-44,7.53785e-44,7.63114e-44,7.72892e-44,7.83122e-44,7.93885e-44,8.05087e-44,8.16732e-44,8.28863e-44,8.41465e-44,8.54544e-44,8.68101e-44,8.82147e-44,8.96689e-44,9.11735e-44,9.27294e-44,9.43372e-44,9.59999e-44,9.77145e-44,9.9484e-44,1.01309e-43,1.03191e-43,1.05131e-43,1.07131e-43,1.0919e-43,1.11311e-43,1.13495e-43,1.15743e-43,1.18057e-43,1.20437e-43,1.22886e-43,1.25405e-43,1.27995e-43,1.30659e-43,1.33397e-43,1.36212e-43,1.39105e-43,1.42078e-43,1.45133e-43,1.48278e-43,1.51502e-43,1.54814e-43,1.58217e-43,1.61712e-43,1.65301e-43,1.68987e-43,1.72772e-43,1.76659e-43,1.8065e-43,1.84747e-43,1.88953e-43,1.93272e-43,1.97705e-43,2.02255e-43,2.06927e-43,2.11719e-43,2.1664e-43,2.21691e-43,2.26875e-43,2.32195e-43,2.37655e-43,2.43258e-43,2.49008e-43,2.54908e-43,2.60963e-43,2.67176e-43,2.73551e-43,2.80093e-43,2.86805e-43,2.93692e-43,3.00758e-43,3.08008e-43,3.15447e-43,3.23079e-43,3.3091e-43,3.38944e-43,3.47186e-43,3.55643e-43,3.64318e-43,3.73219e-43,3.82351e-43,3.91719e-43,4.01329e-43,4.11189e-43,4.21304e-43,4.3168e-43,4.42325e-43,4.53245e-43,4.64448e-43,4.7594e-43,4.8773e-43,4.99824e-43,5.1223e-43,5.24957e-43,5.38013e-43,5.51406e-43,5.65144e-43,5.79237e-43,5.93694e-43,6.08524e-43,6.23737e-43,6.39343e-43,6.55351e-43,6.71772e-43,6.88617e-43,7.05896e-43,7.23621e-43,7.41803e-43,7.60454e-43,7.79586e-43,7.99211e-43,8.19341e-43,8.39991e-43,8.61174e-43,8.82902e-43,9.0519e-43,9.28052e-43,9.51504e-43,9.7556e-43,1.00024e-42,1.02555e-42,1.05151e-42,1.07815e-42,1.10546e-42,1.13349e-42,1.16223e-42,1.19172e-42,1.22196e-42,1.25299e-42,1.28481e-42,1.31745e-42,1.35094e-42,1.38528e-42,1.42051e-42,1.45665e-42,1.49372e-42,1.53175e-42,1.57075e-42,1.61076e-42,1.6518e-42,1.69389e-42,1.73707e-42,1.78137e-42,1.8268e-42,1.8734e-42,1.9212e-42,1.97024e-42,2.02053e-42,2.07212e-42,2.12504e-42,2.17933e-42,2.235e-42,2.29211e-42,2.3507e-42,2.41079e-42,2.47243e-42,2.53566e-42,2.60052e-42,2.66704e-42,2.73528e-42,2.80528e-42,2.87708e-42,2.95073e-42,3.02627e-42,3.10376e-42,3.18325e-42,3.26478e-42,3.34841e-42,3.43419e-42,3.52219e-42,3.61244e-42,3.70503e-42,3.79999e-42,3.89741e-42,3.99733e-42,4.09982e-42],\"type\":\"scatter\"},{\"fill\":\"toself\",\"line\":{\"color\":\"cyan\",\"dash\":\"solid\",\"width\":1},\"marker\":{\"symbol\":\"x\"},\"mode\":\"lines\",\"name\":\"CoGeNT, 2010, models with M_wimp ~7-11 GeV per cm^2, SI\",\"opacity\":1,\"showlegend\":false,\"x\":[3.425,3.474,3.524,3.591,3.694,3.837,3.892,3.966,4.004,4.401,4.953,6.992,7.962,8.891,9.858,11.862,14.497,17.271,20.477,23.824,30.613,43.652,59.649,98.955],\"y\":[9.68e-39,5.45e-39,3.68e-39,2.74e-39,1.88e-39,1.11e-39,9.57e-40,5.57e-40,4.88e-40,3.4e-40,2.11e-40,1.09e-40,1.21e-40,8.58e-41,7.76e-41,5.81e-41,4.67e-41,4.52e-41,4.6e-41,4.99e-41,5.89e-41,8.73e-41,1.25e-40,2.23e-40],\"type\":\"scatter\"},{\"fill\":\"toself\",\"line\":{\"color\":\"green\",\"dash\":\"solid\",\"width\":1},\"marker\":{\"symbol\":\"x\"},\"mode\":\"lines\",\"name\":\"Arrenberg et. al., 2008, Kaluza Klein DM in Universal Extra Dimensions, gamma-1, SI\",\"opacity\":1,\"showlegend\":false,\"x\":[5.0,50.0,100.0,150.0,200.0,250.0,300.0,350.0,400.0,450.0,500.0,550.0,600.0,650.0,700.0,750.0,800.0,850.0,900.0,950.0,1000.0,1050.0,1100.0,1150.0,1200.0,1250.0,1300.0,1350.0,1400.0,1450.0,1500.0,1550.0,1600.0,1650.0,1700.0,1750.0,1800.0,1850.0,1900.0,1950.0,2000.0,2000.0,1900.0,1800.0,1700.0,1600.0,1500.0,1400.0,1300.0,1200.0,1100.0,1000.0,900.0,800.0,700.0,600.0,500.0,400.0,300.0,200.0,150.0,100.0,50.0,5.0],\"y\":[3.84013e-31,5.21989e-37,8.313229999999999e-39,7.350849999999999e-40,1.31414e-40,3.4573899999999996e-41,1.16178e-41,4.6229299999999993e-42,2.08214e-42,1.03095e-42,5.50118e-43,3.11884e-43,1.8590499999999998e-43,1.1558199999999999e-43,7.449060000000001e-44,4.95207e-44,3.3824099999999994e-44,2.3659899999999997e-44,1.6903599999999997e-44,1.23069e-44,9.11366e-45,6.85338e-45,5.226089999999999e-45,4.036279999999999e-45,3.1539699999999997e-45,2.49116e-45,1.98727e-45,1.59995e-45,1.2991699999999999e-45,1.06337e-45,8.76869e-46,7.28132e-46,6.085899999999999e-46,5.1181099999999996e-46,4.32923e-46,3.68202e-46,3.14781e-46,2.70431e-46,2.3341099999999997e-46,2.0235e-46,1.7615999999999998e-46,3.1794e-48,3.5247499999999994e-48,3.92971e-48,4.4088899999999993e-48,4.98164e-48,5.674089999999999e-48,6.52222e-48,7.57664e-48,8.910499999999999e-48,1.0632599999999999e-47,1.2910899999999998e-47,1.6015699999999998e-47,2.0405999999999998e-47,2.6914099999999995e-47,3.7186899999999997e-47,5.48905e-47,8.970829999999998e-47,1.75216e-46,5.0488699999999995e-46,1.21404e-45,5.3532699999999995e-45,1.37176e-43,6.676169999999999e-38],\"type\":\"scatter\"}],                        {\"margin\":{\"b\":20,\"l\":20,\"pad\":0,\"r\":10,\"t\":20},\"xaxis\":{\"title\":{\"font\":{\"color\":\"SteelBlue\"},\"standoff\":0},\"type\":\"log\"},\"yaxis\":{\"title\":{\"font\":{\"color\":\"SteelBlue\"},\"standoff\":0},\"type\":\"log\"},\"template\":{\"data\":{\"histogram2dcontour\":[{\"type\":\"histogram2dcontour\",\"colorbar\":{\"outlinewidth\":0,\"ticks\":\"\"},\"colorscale\":[[0.0,\"#0d0887\"],[0.1111111111111111,\"#46039f\"],[0.2222222222222222,\"#7201a8\"],[0.3333333333333333,\"#9c179e\"],[0.4444444444444444,\"#bd3786\"],[0.5555555555555556,\"#d8576b\"],[0.6666666666666666,\"#ed7953\"],[0.7777777777777778,\"#fb9f3a\"],[0.8888888888888888,\"#fdca26\"],[1.0,\"#f0f921\"]]}],\"choropleth\":[{\"type\":\"choropleth\",\"colorbar\":{\"outlinewidth\":0,\"ticks\":\"\"}}],\"histogram2d\":[{\"type\":\"histogram2d\",\"colorbar\":{\"outlinewidth\":0,\"ticks\":\"\"},\"colorscale\":[[0.0,\"#0d0887\"],[0.1111111111111111,\"#46039f\"],[0.2222222222222222,\"#7201a8\"],[0.3333333333333333,\"#9c179e\"],[0.4444444444444444,\"#bd3786\"],[0.5555555555555556,\"#d8576b\"],[0.6666666666666666,\"#ed7953\"],[0.7777777777777778,\"#fb9f3a\"],[0.8888888888888888,\"#fdca26\"],[1.0,\"#f0f921\"]]}],\"heatmap\":[{\"type\":\"heatmap\",\"colorbar\":{\"outlinewidth\":0,\"ticks\":\"\"},\"colorscale\":[[0.0,\"#0d0887\"],[0.1111111111111111,\"#46039f\"],[0.2222222222222222,\"#7201a8\"],[0.3333333333333333,\"#9c179e\"],[0.4444444444444444,\"#bd3786\"],[0.5555555555555556,\"#d8576b\"],[0.6666666666666666,\"#ed7953\"],[0.7777777777777778,\"#fb9f3a\"],[0.8888888888888888,\"#fdca26\"],[1.0,\"#f0f921\"]]}],\"heatmapgl\":[{\"type\":\"heatmapgl\",\"colorbar\":{\"outlinewidth\":0,\"ticks\":\"\"},\"colorscale\":[[0.0,\"#0d0887\"],[0.1111111111111111,\"#46039f\"],[0.2222222222222222,\"#7201a8\"],[0.3333333333333333,\"#9c179e\"],[0.4444444444444444,\"#bd3786\"],[0.5555555555555556,\"#d8576b\"],[0.6666666666666666,\"#ed7953\"],[0.7777777777777778,\"#fb9f3a\"],[0.8888888888888888,\"#fdca26\"],[1.0,\"#f0f921\"]]}],\"contourcarpet\":[{\"type\":\"contourcarpet\",\"colorbar\":{\"outlinewidth\":0,\"ticks\":\"\"}}],\"contour\":[{\"type\":\"contour\",\"colorbar\":{\"outlinewidth\":0,\"ticks\":\"\"},\"colorscale\":[[0.0,\"#0d0887\"],[0.1111111111111111,\"#46039f\"],[0.2222222222222222,\"#7201a8\"],[0.3333333333333333,\"#9c179e\"],[0.4444444444444444,\"#bd3786\"],[0.5555555555555556,\"#d8576b\"],[0.6666666666666666,\"#ed7953\"],[0.7777777777777778,\"#fb9f3a\"],[0.8888888888888888,\"#fdca26\"],[1.0,\"#f0f921\"]]}],\"surface\":[{\"type\":\"surface\",\"colorbar\":{\"outlinewidth\":0,\"ticks\":\"\"},\"colorscale\":[[0.0,\"#0d0887\"],[0.1111111111111111,\"#46039f\"],[0.2222222222222222,\"#7201a8\"],[0.3333333333333333,\"#9c179e\"],[0.4444444444444444,\"#bd3786\"],[0.5555555555555556,\"#d8576b\"],[0.6666666666666666,\"#ed7953\"],[0.7777777777777778,\"#fb9f3a\"],[0.8888888888888888,\"#fdca26\"],[1.0,\"#f0f921\"]]}],\"mesh3d\":[{\"type\":\"mesh3d\",\"colorbar\":{\"outlinewidth\":0,\"ticks\":\"\"}}],\"scatter\":[{\"fillpattern\":{\"fillmode\":\"overlay\",\"size\":10,\"solidity\":0.2},\"type\":\"scatter\"}],\"parcoords\":[{\"type\":\"parcoords\",\"line\":{\"colorbar\":{\"outlinewidth\":0,\"ticks\":\"\"}}}],\"scatterpolargl\":[{\"type\":\"scatterpolargl\",\"marker\":{\"colorbar\":{\"outlinewidth\":0,\"ticks\":\"\"}}}],\"bar\":[{\"error_x\":{\"color\":\"#2a3f5f\"},\"error_y\":{\"color\":\"#2a3f5f\"},\"marker\":{\"line\":{\"color\":\"#E5ECF6\",\"width\":0.5},\"pattern\":{\"fillmode\":\"overlay\",\"size\":10,\"solidity\":0.2}},\"type\":\"bar\"}],\"scattergeo\":[{\"type\":\"scattergeo\",\"marker\":{\"colorbar\":{\"outlinewidth\":0,\"ticks\":\"\"}}}],\"scatterpolar\":[{\"type\":\"scatterpolar\",\"marker\":{\"colorbar\":{\"outlinewidth\":0,\"ticks\":\"\"}}}],\"histogram\":[{\"marker\":{\"pattern\":{\"fillmode\":\"overlay\",\"size\":10,\"solidity\":0.2}},\"type\":\"histogram\"}],\"scattergl\":[{\"type\":\"scattergl\",\"marker\":{\"colorbar\":{\"outlinewidth\":0,\"ticks\":\"\"}}}],\"scatter3d\":[{\"type\":\"scatter3d\",\"line\":{\"colorbar\":{\"outlinewidth\":0,\"ticks\":\"\"}},\"marker\":{\"colorbar\":{\"outlinewidth\":0,\"ticks\":\"\"}}}],\"scattermapbox\":[{\"type\":\"scattermapbox\",\"marker\":{\"colorbar\":{\"outlinewidth\":0,\"ticks\":\"\"}}}],\"scatterternary\":[{\"type\":\"scatterternary\",\"marker\":{\"colorbar\":{\"outlinewidth\":0,\"ticks\":\"\"}}}],\"scattercarpet\":[{\"type\":\"scattercarpet\",\"marker\":{\"colorbar\":{\"outlinewidth\":0,\"ticks\":\"\"}}}],\"carpet\":[{\"aaxis\":{\"endlinecolor\":\"#2a3f5f\",\"gridcolor\":\"white\",\"linecolor\":\"white\",\"minorgridcolor\":\"white\",\"startlinecolor\":\"#2a3f5f\"},\"baxis\":{\"endlinecolor\":\"#2a3f5f\",\"gridcolor\":\"white\",\"linecolor\":\"white\",\"minorgridcolor\":\"white\",\"startlinecolor\":\"#2a3f5f\"},\"type\":\"carpet\"}],\"table\":[{\"cells\":{\"fill\":{\"color\":\"#EBF0F8\"},\"line\":{\"color\":\"white\"}},\"header\":{\"fill\":{\"color\":\"#C8D4E3\"},\"line\":{\"color\":\"white\"}},\"type\":\"table\"}],\"barpolar\":[{\"marker\":{\"line\":{\"color\":\"#E5ECF6\",\"width\":0.5},\"pattern\":{\"fillmode\":\"overlay\",\"size\":10,\"solidity\":0.2}},\"type\":\"barpolar\"}],\"pie\":[{\"automargin\":true,\"type\":\"pie\"}]},\"layout\":{\"autotypenumbers\":\"strict\",\"colorway\":[\"#636efa\",\"#EF553B\",\"#00cc96\",\"#ab63fa\",\"#FFA15A\",\"#19d3f3\",\"#FF6692\",\"#B6E880\",\"#FF97FF\",\"#FECB52\"],\"font\":{\"color\":\"#2a3f5f\"},\"hovermode\":\"closest\",\"hoverlabel\":{\"align\":\"left\"},\"paper_bgcolor\":\"white\",\"plot_bgcolor\":\"#E5ECF6\",\"polar\":{\"bgcolor\":\"#E5ECF6\",\"angularaxis\":{\"gridcolor\":\"white\",\"linecolor\":\"white\",\"ticks\":\"\"},\"radialaxis\":{\"gridcolor\":\"white\",\"linecolor\":\"white\",\"ticks\":\"\"}},\"ternary\":{\"bgcolor\":\"#E5ECF6\",\"aaxis\":{\"gridcolor\":\"white\",\"linecolor\":\"white\",\"ticks\":\"\"},\"baxis\":{\"gridcolor\":\"white\",\"linecolor\":\"white\",\"ticks\":\"\"},\"caxis\":{\"gridcolor\":\"white\",\"linecolor\":\"white\",\"ticks\":\"\"}},\"coloraxis\":{\"colorbar\":{\"outlinewidth\":0,\"ticks\":\"\"}},\"colorscale\":{\"sequential\":[[0.0,\"#0d0887\"],[0.1111111111111111,\"#46039f\"],[0.2222222222222222,\"#7201a8\"],[0.3333333333333333,\"#9c179e\"],[0.4444444444444444,\"#bd3786\"],[0.5555555555555556,\"#d8576b\"],[0.6666666666666666,\"#ed7953\"],[0.7777777777777778,\"#fb9f3a\"],[0.8888888888888888,\"#fdca26\"],[1.0,\"#f0f921\"]],\"sequentialminus\":[[0.0,\"#0d0887\"],[0.1111111111111111,\"#46039f\"],[0.2222222222222222,\"#7201a8\"],[0.3333333333333333,\"#9c179e\"],[0.4444444444444444,\"#bd3786\"],[0.5555555555555556,\"#d8576b\"],[0.6666666666666666,\"#ed7953\"],[0.7777777777777778,\"#fb9f3a\"],[0.8888888888888888,\"#fdca26\"],[1.0,\"#f0f921\"]],\"diverging\":[[0,\"#8e0152\"],[0.1,\"#c51b7d\"],[0.2,\"#de77ae\"],[0.3,\"#f1b6da\"],[0.4,\"#fde0ef\"],[0.5,\"#f7f7f7\"],[0.6,\"#e6f5d0\"],[0.7,\"#b8e186\"],[0.8,\"#7fbc41\"],[0.9,\"#4d9221\"],[1,\"#276419\"]]},\"xaxis\":{\"gridcolor\":\"white\",\"linecolor\":\"white\",\"ticks\":\"\",\"title\":{\"standoff\":15},\"zerolinecolor\":\"white\",\"automargin\":true,\"zerolinewidth\":2},\"yaxis\":{\"gridcolor\":\"white\",\"linecolor\":\"white\",\"ticks\":\"\",\"title\":{\"standoff\":15},\"zerolinecolor\":\"white\",\"automargin\":true,\"zerolinewidth\":2},\"scene\":{\"xaxis\":{\"backgroundcolor\":\"#E5ECF6\",\"gridcolor\":\"white\",\"linecolor\":\"white\",\"showbackground\":true,\"ticks\":\"\",\"zerolinecolor\":\"white\",\"gridwidth\":2},\"yaxis\":{\"backgroundcolor\":\"#E5ECF6\",\"gridcolor\":\"white\",\"linecolor\":\"white\",\"showbackground\":true,\"ticks\":\"\",\"zerolinecolor\":\"white\",\"gridwidth\":2},\"zaxis\":{\"backgroundcolor\":\"#E5ECF6\",\"gridcolor\":\"white\",\"linecolor\":\"white\",\"showbackground\":true,\"ticks\":\"\",\"zerolinecolor\":\"white\",\"gridwidth\":2}},\"shapedefaults\":{\"line\":{\"color\":\"#2a3f5f\"}},\"annotationdefaults\":{\"arrowcolor\":\"#2a3f5f\",\"arrowhead\":0,\"arrowwidth\":1},\"geo\":{\"bgcolor\":\"white\",\"landcolor\":\"#E5ECF6\",\"subunitcolor\":\"white\",\"showland\":true,\"showlakes\":true,\"lakecolor\":\"white\"},\"title\":{\"x\":0.05},\"mapbox\":{\"style\":\"light\"}}},\"title\":{\"font\":{\"size\":16},\"text\":\"Plot Name - P: 54 - O: 107\",\"automargin\":true,\"yref\":\"paper\"},\"autosize\":false,\"height\":600,\"width\":600},                        {\"responsive\": true}                    ).then(function(){\n",
       "                            \n",
       "var gd = document.getElementById('2ff2d095-0f5d-4c75-8633-89df66c4e509');\n",
       "var x = new MutationObserver(function (mutations, observer) {{\n",
       "        var display = window.getComputedStyle(gd).display;\n",
       "        if (!display || display === 'none') {{\n",
       "            console.log([gd, 'removed!']);\n",
       "            Plotly.purge(gd);\n",
       "            observer.disconnect();\n",
       "        }}\n",
       "}});\n",
       "\n",
       "// Listen for the removal of the full notebook cells\n",
       "var notebookContainer = gd.closest('#notebook-container');\n",
       "if (notebookContainer) {{\n",
       "    x.observe(notebookContainer, {childList: true});\n",
       "}}\n",
       "\n",
       "// Listen for the clearing of the current output cell\n",
       "var outputEl = gd.closest('.output');\n",
       "if (outputEl) {{\n",
       "    x.observe(outputEl, {childList: true});\n",
       "}}\n",
       "\n",
       "                        })                };                });            </script>        </div>"
      ]
     },
     "metadata": {},
     "output_type": "display_data"
    }
   ],
   "source": [
    "def create_actual_plot(plot_name_in, plot_id_in, old_plot_id_in, data_display_df_in, data_data_df_in):\n",
    "    ## requirement to keep plots square\n",
    "    #if screen_height_in > screen_width_in:\n",
    "    #    plot_square_dimensions =\n",
    "    #plot_square_dimensions = self.screen_height / 2\n",
    "    plot_square_dimensions = 600\n",
    "\n",
    "    m1 = go.layout.Margin(l=20,r=10,b=20,t=20,pad=0)\n",
    "    hw = go.Layout(autosize=False,width=plot_square_dimensions,height=plot_square_dimensions)\n",
    "    y_title_text = r\"$\\text{Cross Section [cm}^{2}\\text{] (normalized to nucleon)}$\"\n",
    "\n",
    "    y1 = go.layout.YAxis(#title=y_title_text,\n",
    "                        title_standoff = 0,\n",
    "                        #range=[start_y_range,stop_y_range],\n",
    "                        type=\"log\",\n",
    "                        titlefont=go.layout.yaxis.title.Font(color='SteelBlue'))\n",
    "\n",
    "    x_title_text = r\"$\\text{WIMP Mass [GeV}/c^{2}]$\"\n",
    "    x1 = go.layout.XAxis(#title=x_title_text,\n",
    "                        title_standoff = 0,\n",
    "                        type=\"log\",\n",
    "                        #type=\"linear\",\n",
    "                        #range=[start_x_range,stop_x_range],\n",
    "                        titlefont=go.layout.xaxis.title.Font(color='SteelBlue'))\n",
    "\n",
    "\n",
    "    ##title1=go.layout.Title(text=\"Dark Matter Detection Results\")\n",
    "\n",
    "    fig_chart_populated = go.Figure(\n",
    "        data=[go.Scatter(x=[], y=[])],\n",
    "        layout=go.Layout(\n",
    "            margin=m1,\n",
    "            yaxis= y1,\n",
    "            xaxis= x1\n",
    "        )\n",
    "    )\n",
    "\n",
    "    plot_title = plot_name_in + \" - P: \" + str(plot_id_in) + \" - O: \" + str(old_plot_id_in)\n",
    "\n",
    "    fig_chart_populated.update_layout(\n",
    "        title=dict(text=plot_title ,font=dict(size=16),automargin=True,yref='paper')\n",
    "    )\n",
    "\n",
    "    fig_chart_populated.update_layout(hw)\n",
    "\n",
    "    for index, row in data_display_df_in.iterrows():\n",
    "        #print(row['limit_id'])\n",
    "        data_id_selected = row['data_id']\n",
    "        #print('selected data_id >>', data_id_selected)\n",
    "        #data_about_selected_df = self.data_about_df[self.data_about_df['data_id']==data_id_selected].copy()\n",
    "        data_display_selected_df_in = data_display_df_in[data_display_df_in['data_id']==data_id_selected].copy()\n",
    "        data_data_selected_df_in = data_data_df_in[data_data_df_in['data_id']==data_id_selected].copy()\n",
    "        trace_list_refs = data_data_selected_df_in[['data_id','trace_id','trace_name']].copy()\n",
    "        trace_list = trace_list_refs.drop_duplicates()\n",
    "        trace_style = data_display_selected_df_in['style'].iloc[0]\n",
    "        trace_color = data_display_selected_df_in['color'].iloc[0]\n",
    "        pt = PlotTrace()\n",
    "        pt.set_values(trace_color, trace_style)\n",
    "        for index, row in trace_list.iterrows():\n",
    "            #print(row)\n",
    "            trace_data = data_data_df[(data_data_df['data_id']==row['data_id']) & (data_data_df['trace_id']==row['trace_id'])]\n",
    "            #print(trace_data)\n",
    "            #print(\"trace_data >>>>\" , trace_data)\n",
    "            trace_name = row['trace_name']\n",
    "            fig_chart_populated.add_trace(go.Scatter(pt.__dict__,\n",
    "                                              x=trace_data['masses'],\n",
    "                                              y=trace_data['cross_sections'],\n",
    "                                              name=trace_name,\n",
    "                                                      showlegend=False\n",
    "                                                  ))\n",
    "    return fig_chart_populated\n",
    "fig_chart_1 = create_actual_plot('Plot Name', plot_id, old_plot_id, data_display_df, data_data_df )\n",
    "fig_chart_1.show()"
   ]
  },
  {
   "cell_type": "code",
   "execution_count": 54,
   "metadata": {
    "colab": {
     "base_uri": "https://localhost:8080/",
     "height": 55
    },
    "id": "YVV0TK0v6-b2",
    "outputId": "4545e8e6-8f47-4c7c-d345-2c50ac436e28"
   },
   "outputs": [
    {
     "data": {
      "text/plain": [
       "\"\\n## are we happy with hover template now data is 5 decimal places?\\nhovertemplate =\\n                                               '<i><b>Cross Section</b></i>: %{y:.4E}'+\\n                                                  '<br><b>Mass</b>: %{x}<br>',\\nshowlegend=False,\\n\""
      ]
     },
     "execution_count": 54,
     "metadata": {},
     "output_type": "execute_result"
    }
   ],
   "source": [
    "'''\n",
    "## are we happy with hover template now data is 5 decimal places?\n",
    "hovertemplate =\n",
    "                                               '<i><b>Cross Section</b></i>: %{y:.4E}'+\n",
    "                                                  '<br><b>Mass</b>: %{x}<br>',\n",
    "showlegend=False,\n",
    "'''"
   ]
  },
  {
   "cell_type": "code",
   "execution_count": 55,
   "metadata": {
    "colab": {
     "base_uri": "https://localhost:8080/",
     "height": 206
    },
    "id": "O-qtaLxU8K-k",
    "outputId": "ade17600-328c-4ab7-89c3-95e5616c1ef5"
   },
   "outputs": [
    {
     "data": {
      "text/html": [
       "<div>\n",
       "<style scoped>\n",
       "    .dataframe tbody tr th:only-of-type {\n",
       "        vertical-align: middle;\n",
       "    }\n",
       "\n",
       "    .dataframe tbody tr th {\n",
       "        vertical-align: top;\n",
       "    }\n",
       "\n",
       "    .dataframe thead th {\n",
       "        text-align: right;\n",
       "    }\n",
       "</style>\n",
       "<table border=\"1\" class=\"dataframe\">\n",
       "  <thead>\n",
       "    <tr style=\"text-align: right;\">\n",
       "      <th></th>\n",
       "      <th>id</th>\n",
       "      <th>limit_id</th>\n",
       "      <th>plot_id</th>\n",
       "      <th>color</th>\n",
       "      <th>style</th>\n",
       "      <th>updated_at</th>\n",
       "      <th>subject</th>\n",
       "      <th>row_id</th>\n",
       "    </tr>\n",
       "  </thead>\n",
       "  <tbody>\n",
       "    <tr>\n",
       "      <th>0</th>\n",
       "      <td>457</td>\n",
       "      <td>273</td>\n",
       "      <td>107</td>\n",
       "      <td>r</td>\n",
       "      <td>line</td>\n",
       "      <td>201111101631</td>\n",
       "      <td>limit_display</td>\n",
       "      <td>0</td>\n",
       "    </tr>\n",
       "    <tr>\n",
       "      <th>1</th>\n",
       "      <td>458</td>\n",
       "      <td>136</td>\n",
       "      <td>107</td>\n",
       "      <td>g</td>\n",
       "      <td>dash</td>\n",
       "      <td>201001041902</td>\n",
       "      <td>limit_display</td>\n",
       "      <td>1</td>\n",
       "    </tr>\n",
       "    <tr>\n",
       "      <th>2</th>\n",
       "      <td>460</td>\n",
       "      <td>305</td>\n",
       "      <td>107</td>\n",
       "      <td>k</td>\n",
       "      <td>line</td>\n",
       "      <td>201001041910</td>\n",
       "      <td>limit_display</td>\n",
       "      <td>2</td>\n",
       "    </tr>\n",
       "    <tr>\n",
       "      <th>3</th>\n",
       "      <td>3216</td>\n",
       "      <td>407</td>\n",
       "      <td>107</td>\n",
       "      <td>c</td>\n",
       "      <td>fill</td>\n",
       "      <td>201107220146</td>\n",
       "      <td>limit_display</td>\n",
       "      <td>3</td>\n",
       "    </tr>\n",
       "    <tr>\n",
       "      <th>4</th>\n",
       "      <td>3217</td>\n",
       "      <td>216</td>\n",
       "      <td>107</td>\n",
       "      <td>ltg</td>\n",
       "      <td>fill</td>\n",
       "      <td>201107220145</td>\n",
       "      <td>limit_display</td>\n",
       "      <td>4</td>\n",
       "    </tr>\n",
       "  </tbody>\n",
       "</table>\n",
       "</div>"
      ],
      "text/plain": [
       "     id limit_id plot_id color style    updated_at        subject  row_id\n",
       "0   457      273     107     r  line  201111101631  limit_display       0\n",
       "1   458      136     107     g  dash  201001041902  limit_display       1\n",
       "2   460      305     107     k  line  201001041910  limit_display       2\n",
       "3  3216      407     107     c  fill  201107220146  limit_display       3\n",
       "4  3217      216     107   ltg  fill  201107220145  limit_display       4"
      ]
     },
     "execution_count": 55,
     "metadata": {},
     "output_type": "execute_result"
    }
   ],
   "source": [
    "limit_display_df"
   ]
  },
  {
   "cell_type": "code",
   "execution_count": 56,
   "metadata": {
    "colab": {
     "base_uri": "https://localhost:8080/",
     "height": 613
    },
    "id": "W4512gdXMm5L",
    "outputId": "f2d87ba7-9dcc-4351-9068-0fdacbf18abe"
   },
   "outputs": [
    {
     "data": {
      "application/vnd.plotly.v1+json": {
       "config": {
        "plotlyServerURL": "https://plot.ly"
       },
       "data": [
        {
         "mode": "text",
         "text": [
          "255",
          ""
         ],
         "textposition": "middle right",
         "type": "scatter",
         "x": [
          1,
          2
         ],
         "xaxis": "x",
         "y": [
          1,
          1
         ],
         "yaxis": "y"
        },
        {
         "mode": "text",
         "text": [
          "XENON10, 2007, first results, 58.6 live days, SI",
          ""
         ],
         "textposition": "middle right",
         "type": "scatter",
         "x": [
          1,
          2
         ],
         "xaxis": "x2",
         "y": [
          1,
          1
         ],
         "yaxis": "y2"
        },
        {
         "fill": "none",
         "line": {
          "color": "red",
          "dash": "solid",
          "width": 1
         },
         "marker": {
          "symbol": "x"
         },
         "mode": "lines",
         "opacity": 1,
         "type": "scatter",
         "x": [
          0,
          1
         ],
         "xaxis": "x3",
         "y": [
          0.5,
          0.5
         ],
         "yaxis": "y3"
        },
        {
         "mode": "text",
         "text": [
          "134",
          ""
         ],
         "textposition": "middle right",
         "type": "scatter",
         "x": [
          1,
          2
         ],
         "xaxis": "x4",
         "y": [
          1,
          1
         ],
         "yaxis": "y4"
        },
        {
         "mode": "text",
         "text": [
          "LUX 300 kg LXe Projection (Jul 2007) - Offline",
          ""
         ],
         "textposition": "middle right",
         "type": "scatter",
         "x": [
          1,
          2
         ],
         "xaxis": "x5",
         "y": [
          1,
          1
         ],
         "yaxis": "y5"
        },
        {
         "fill": "none",
         "line": {
          "color": "grey",
          "dash": "dash",
          "width": 1
         },
         "marker": {
          "symbol": "x"
         },
         "mode": "lines",
         "opacity": 1,
         "type": "scatter",
         "x": [
          0,
          1
         ],
         "xaxis": "x6",
         "y": [
          0.5,
          0.5
         ],
         "yaxis": "y6"
        },
        {
         "mode": "text",
         "text": [
          "271",
          ""
         ],
         "textposition": "middle right",
         "type": "scatter",
         "x": [
          1,
          2
         ],
         "xaxis": "x7",
         "y": [
          1,
          1
         ],
         "yaxis": "y7"
        },
        {
         "mode": "text",
         "text": [
          "CDMS II (Soudan), 2009, Ge detector, SI",
          ""
         ],
         "textposition": "middle right",
         "type": "scatter",
         "x": [
          1,
          2
         ],
         "xaxis": "x8",
         "y": [
          1,
          1
         ],
         "yaxis": "y8"
        },
        {
         "fill": "none",
         "line": {
          "color": "black",
          "dash": "solid",
          "width": 1
         },
         "marker": {
          "symbol": "x"
         },
         "mode": "lines",
         "opacity": 1,
         "type": "scatter",
         "x": [
          0,
          1
         ],
         "xaxis": "x9",
         "y": [
          0.5,
          0.5
         ],
         "yaxis": "y9"
        },
        {
         "mode": "text",
         "text": [
          "350",
          ""
         ],
         "textposition": "middle right",
         "type": "scatter",
         "x": [
          1,
          2
         ],
         "xaxis": "x10",
         "y": [
          1,
          1
         ],
         "yaxis": "y10"
        },
        {
         "mode": "text",
         "text": [
          "CoGeNT, 2010, models with M_wimp ~7-11 GeV per cm^2, SI",
          ""
         ],
         "textposition": "middle right",
         "type": "scatter",
         "x": [
          1,
          2
         ],
         "xaxis": "x11",
         "y": [
          1,
          1
         ],
         "yaxis": "y11"
        },
        {
         "fill": "toself",
         "line": {
          "color": "cyan",
          "dash": "solid",
          "width": 1
         },
         "marker": {
          "symbol": "x"
         },
         "mode": "lines",
         "opacity": 1,
         "type": "scatter",
         "x": [
          0,
          1,
          1,
          0,
          0
         ],
         "xaxis": "x12",
         "y": [
          0,
          0,
          1,
          1,
          0
         ],
         "yaxis": "y12"
        },
        {
         "mode": "text",
         "text": [
          "200",
          ""
         ],
         "textposition": "middle right",
         "type": "scatter",
         "x": [
          1,
          2
         ],
         "xaxis": "x13",
         "y": [
          1,
          1
         ],
         "yaxis": "y13"
        },
        {
         "mode": "text",
         "text": [
          "Arrenberg et. al., 2008, Kaluza Klein DM in Universal Extra Dimensions, gamma-1, SI",
          ""
         ],
         "textposition": "middle right",
         "type": "scatter",
         "x": [
          1,
          2
         ],
         "xaxis": "x14",
         "y": [
          1,
          1
         ],
         "yaxis": "y14"
        },
        {
         "fill": "toself",
         "line": {
          "color": "green",
          "dash": "solid",
          "width": 1
         },
         "marker": {
          "symbol": "x"
         },
         "mode": "lines",
         "opacity": 1,
         "type": "scatter",
         "x": [
          0,
          1,
          1,
          0,
          0
         ],
         "xaxis": "x15",
         "y": [
          0,
          0,
          1,
          1,
          0
         ],
         "yaxis": "y15"
        }
       ],
       "layout": {
        "annotations": [
         {
          "font": {
           "size": 16
          },
          "showarrow": false,
          "text": "data_id",
          "x": 0.05,
          "xanchor": "center",
          "xref": "paper",
          "y": 1,
          "yanchor": "bottom",
          "yref": "paper"
         },
         {
          "font": {
           "size": 16
          },
          "showarrow": false,
          "text": "format",
          "x": 0.5,
          "xanchor": "center",
          "xref": "paper",
          "y": 1,
          "yanchor": "bottom",
          "yref": "paper"
         }
        ],
        "height": 320,
        "margin": {
         "b": 0,
         "l": 0,
         "pad": 0,
         "r": 0,
         "t": 0
        },
        "paper_bgcolor": "LightSteelBlue",
        "showlegend": false,
        "template": {
         "data": {
          "bar": [
           {
            "error_x": {
             "color": "#2a3f5f"
            },
            "error_y": {
             "color": "#2a3f5f"
            },
            "marker": {
             "line": {
              "color": "#E5ECF6",
              "width": 0.5
             },
             "pattern": {
              "fillmode": "overlay",
              "size": 10,
              "solidity": 0.2
             }
            },
            "type": "bar"
           }
          ],
          "barpolar": [
           {
            "marker": {
             "line": {
              "color": "#E5ECF6",
              "width": 0.5
             },
             "pattern": {
              "fillmode": "overlay",
              "size": 10,
              "solidity": 0.2
             }
            },
            "type": "barpolar"
           }
          ],
          "carpet": [
           {
            "aaxis": {
             "endlinecolor": "#2a3f5f",
             "gridcolor": "white",
             "linecolor": "white",
             "minorgridcolor": "white",
             "startlinecolor": "#2a3f5f"
            },
            "baxis": {
             "endlinecolor": "#2a3f5f",
             "gridcolor": "white",
             "linecolor": "white",
             "minorgridcolor": "white",
             "startlinecolor": "#2a3f5f"
            },
            "type": "carpet"
           }
          ],
          "choropleth": [
           {
            "colorbar": {
             "outlinewidth": 0,
             "ticks": ""
            },
            "type": "choropleth"
           }
          ],
          "contour": [
           {
            "colorbar": {
             "outlinewidth": 0,
             "ticks": ""
            },
            "colorscale": [
             [
              0,
              "#0d0887"
             ],
             [
              0.1111111111111111,
              "#46039f"
             ],
             [
              0.2222222222222222,
              "#7201a8"
             ],
             [
              0.3333333333333333,
              "#9c179e"
             ],
             [
              0.4444444444444444,
              "#bd3786"
             ],
             [
              0.5555555555555556,
              "#d8576b"
             ],
             [
              0.6666666666666666,
              "#ed7953"
             ],
             [
              0.7777777777777778,
              "#fb9f3a"
             ],
             [
              0.8888888888888888,
              "#fdca26"
             ],
             [
              1,
              "#f0f921"
             ]
            ],
            "type": "contour"
           }
          ],
          "contourcarpet": [
           {
            "colorbar": {
             "outlinewidth": 0,
             "ticks": ""
            },
            "type": "contourcarpet"
           }
          ],
          "heatmap": [
           {
            "colorbar": {
             "outlinewidth": 0,
             "ticks": ""
            },
            "colorscale": [
             [
              0,
              "#0d0887"
             ],
             [
              0.1111111111111111,
              "#46039f"
             ],
             [
              0.2222222222222222,
              "#7201a8"
             ],
             [
              0.3333333333333333,
              "#9c179e"
             ],
             [
              0.4444444444444444,
              "#bd3786"
             ],
             [
              0.5555555555555556,
              "#d8576b"
             ],
             [
              0.6666666666666666,
              "#ed7953"
             ],
             [
              0.7777777777777778,
              "#fb9f3a"
             ],
             [
              0.8888888888888888,
              "#fdca26"
             ],
             [
              1,
              "#f0f921"
             ]
            ],
            "type": "heatmap"
           }
          ],
          "heatmapgl": [
           {
            "colorbar": {
             "outlinewidth": 0,
             "ticks": ""
            },
            "colorscale": [
             [
              0,
              "#0d0887"
             ],
             [
              0.1111111111111111,
              "#46039f"
             ],
             [
              0.2222222222222222,
              "#7201a8"
             ],
             [
              0.3333333333333333,
              "#9c179e"
             ],
             [
              0.4444444444444444,
              "#bd3786"
             ],
             [
              0.5555555555555556,
              "#d8576b"
             ],
             [
              0.6666666666666666,
              "#ed7953"
             ],
             [
              0.7777777777777778,
              "#fb9f3a"
             ],
             [
              0.8888888888888888,
              "#fdca26"
             ],
             [
              1,
              "#f0f921"
             ]
            ],
            "type": "heatmapgl"
           }
          ],
          "histogram": [
           {
            "marker": {
             "pattern": {
              "fillmode": "overlay",
              "size": 10,
              "solidity": 0.2
             }
            },
            "type": "histogram"
           }
          ],
          "histogram2d": [
           {
            "colorbar": {
             "outlinewidth": 0,
             "ticks": ""
            },
            "colorscale": [
             [
              0,
              "#0d0887"
             ],
             [
              0.1111111111111111,
              "#46039f"
             ],
             [
              0.2222222222222222,
              "#7201a8"
             ],
             [
              0.3333333333333333,
              "#9c179e"
             ],
             [
              0.4444444444444444,
              "#bd3786"
             ],
             [
              0.5555555555555556,
              "#d8576b"
             ],
             [
              0.6666666666666666,
              "#ed7953"
             ],
             [
              0.7777777777777778,
              "#fb9f3a"
             ],
             [
              0.8888888888888888,
              "#fdca26"
             ],
             [
              1,
              "#f0f921"
             ]
            ],
            "type": "histogram2d"
           }
          ],
          "histogram2dcontour": [
           {
            "colorbar": {
             "outlinewidth": 0,
             "ticks": ""
            },
            "colorscale": [
             [
              0,
              "#0d0887"
             ],
             [
              0.1111111111111111,
              "#46039f"
             ],
             [
              0.2222222222222222,
              "#7201a8"
             ],
             [
              0.3333333333333333,
              "#9c179e"
             ],
             [
              0.4444444444444444,
              "#bd3786"
             ],
             [
              0.5555555555555556,
              "#d8576b"
             ],
             [
              0.6666666666666666,
              "#ed7953"
             ],
             [
              0.7777777777777778,
              "#fb9f3a"
             ],
             [
              0.8888888888888888,
              "#fdca26"
             ],
             [
              1,
              "#f0f921"
             ]
            ],
            "type": "histogram2dcontour"
           }
          ],
          "mesh3d": [
           {
            "colorbar": {
             "outlinewidth": 0,
             "ticks": ""
            },
            "type": "mesh3d"
           }
          ],
          "parcoords": [
           {
            "line": {
             "colorbar": {
              "outlinewidth": 0,
              "ticks": ""
             }
            },
            "type": "parcoords"
           }
          ],
          "pie": [
           {
            "automargin": true,
            "type": "pie"
           }
          ],
          "scatter": [
           {
            "fillpattern": {
             "fillmode": "overlay",
             "size": 10,
             "solidity": 0.2
            },
            "type": "scatter"
           }
          ],
          "scatter3d": [
           {
            "line": {
             "colorbar": {
              "outlinewidth": 0,
              "ticks": ""
             }
            },
            "marker": {
             "colorbar": {
              "outlinewidth": 0,
              "ticks": ""
             }
            },
            "type": "scatter3d"
           }
          ],
          "scattercarpet": [
           {
            "marker": {
             "colorbar": {
              "outlinewidth": 0,
              "ticks": ""
             }
            },
            "type": "scattercarpet"
           }
          ],
          "scattergeo": [
           {
            "marker": {
             "colorbar": {
              "outlinewidth": 0,
              "ticks": ""
             }
            },
            "type": "scattergeo"
           }
          ],
          "scattergl": [
           {
            "marker": {
             "colorbar": {
              "outlinewidth": 0,
              "ticks": ""
             }
            },
            "type": "scattergl"
           }
          ],
          "scattermapbox": [
           {
            "marker": {
             "colorbar": {
              "outlinewidth": 0,
              "ticks": ""
             }
            },
            "type": "scattermapbox"
           }
          ],
          "scatterpolar": [
           {
            "marker": {
             "colorbar": {
              "outlinewidth": 0,
              "ticks": ""
             }
            },
            "type": "scatterpolar"
           }
          ],
          "scatterpolargl": [
           {
            "marker": {
             "colorbar": {
              "outlinewidth": 0,
              "ticks": ""
             }
            },
            "type": "scatterpolargl"
           }
          ],
          "scatterternary": [
           {
            "marker": {
             "colorbar": {
              "outlinewidth": 0,
              "ticks": ""
             }
            },
            "type": "scatterternary"
           }
          ],
          "surface": [
           {
            "colorbar": {
             "outlinewidth": 0,
             "ticks": ""
            },
            "colorscale": [
             [
              0,
              "#0d0887"
             ],
             [
              0.1111111111111111,
              "#46039f"
             ],
             [
              0.2222222222222222,
              "#7201a8"
             ],
             [
              0.3333333333333333,
              "#9c179e"
             ],
             [
              0.4444444444444444,
              "#bd3786"
             ],
             [
              0.5555555555555556,
              "#d8576b"
             ],
             [
              0.6666666666666666,
              "#ed7953"
             ],
             [
              0.7777777777777778,
              "#fb9f3a"
             ],
             [
              0.8888888888888888,
              "#fdca26"
             ],
             [
              1,
              "#f0f921"
             ]
            ],
            "type": "surface"
           }
          ],
          "table": [
           {
            "cells": {
             "fill": {
              "color": "#EBF0F8"
             },
             "line": {
              "color": "white"
             }
            },
            "header": {
             "fill": {
              "color": "#C8D4E3"
             },
             "line": {
              "color": "white"
             }
            },
            "type": "table"
           }
          ]
         },
         "layout": {
          "annotationdefaults": {
           "arrowcolor": "#2a3f5f",
           "arrowhead": 0,
           "arrowwidth": 1
          },
          "autotypenumbers": "strict",
          "coloraxis": {
           "colorbar": {
            "outlinewidth": 0,
            "ticks": ""
           }
          },
          "colorscale": {
           "diverging": [
            [
             0,
             "#8e0152"
            ],
            [
             0.1,
             "#c51b7d"
            ],
            [
             0.2,
             "#de77ae"
            ],
            [
             0.3,
             "#f1b6da"
            ],
            [
             0.4,
             "#fde0ef"
            ],
            [
             0.5,
             "#f7f7f7"
            ],
            [
             0.6,
             "#e6f5d0"
            ],
            [
             0.7,
             "#b8e186"
            ],
            [
             0.8,
             "#7fbc41"
            ],
            [
             0.9,
             "#4d9221"
            ],
            [
             1,
             "#276419"
            ]
           ],
           "sequential": [
            [
             0,
             "#0d0887"
            ],
            [
             0.1111111111111111,
             "#46039f"
            ],
            [
             0.2222222222222222,
             "#7201a8"
            ],
            [
             0.3333333333333333,
             "#9c179e"
            ],
            [
             0.4444444444444444,
             "#bd3786"
            ],
            [
             0.5555555555555556,
             "#d8576b"
            ],
            [
             0.6666666666666666,
             "#ed7953"
            ],
            [
             0.7777777777777778,
             "#fb9f3a"
            ],
            [
             0.8888888888888888,
             "#fdca26"
            ],
            [
             1,
             "#f0f921"
            ]
           ],
           "sequentialminus": [
            [
             0,
             "#0d0887"
            ],
            [
             0.1111111111111111,
             "#46039f"
            ],
            [
             0.2222222222222222,
             "#7201a8"
            ],
            [
             0.3333333333333333,
             "#9c179e"
            ],
            [
             0.4444444444444444,
             "#bd3786"
            ],
            [
             0.5555555555555556,
             "#d8576b"
            ],
            [
             0.6666666666666666,
             "#ed7953"
            ],
            [
             0.7777777777777778,
             "#fb9f3a"
            ],
            [
             0.8888888888888888,
             "#fdca26"
            ],
            [
             1,
             "#f0f921"
            ]
           ]
          },
          "colorway": [
           "#636efa",
           "#EF553B",
           "#00cc96",
           "#ab63fa",
           "#FFA15A",
           "#19d3f3",
           "#FF6692",
           "#B6E880",
           "#FF97FF",
           "#FECB52"
          ],
          "font": {
           "color": "#2a3f5f"
          },
          "geo": {
           "bgcolor": "white",
           "lakecolor": "white",
           "landcolor": "#E5ECF6",
           "showlakes": true,
           "showland": true,
           "subunitcolor": "white"
          },
          "hoverlabel": {
           "align": "left"
          },
          "hovermode": "closest",
          "mapbox": {
           "style": "light"
          },
          "paper_bgcolor": "white",
          "plot_bgcolor": "#E5ECF6",
          "polar": {
           "angularaxis": {
            "gridcolor": "white",
            "linecolor": "white",
            "ticks": ""
           },
           "bgcolor": "#E5ECF6",
           "radialaxis": {
            "gridcolor": "white",
            "linecolor": "white",
            "ticks": ""
           }
          },
          "scene": {
           "xaxis": {
            "backgroundcolor": "#E5ECF6",
            "gridcolor": "white",
            "gridwidth": 2,
            "linecolor": "white",
            "showbackground": true,
            "ticks": "",
            "zerolinecolor": "white"
           },
           "yaxis": {
            "backgroundcolor": "#E5ECF6",
            "gridcolor": "white",
            "gridwidth": 2,
            "linecolor": "white",
            "showbackground": true,
            "ticks": "",
            "zerolinecolor": "white"
           },
           "zaxis": {
            "backgroundcolor": "#E5ECF6",
            "gridcolor": "white",
            "gridwidth": 2,
            "linecolor": "white",
            "showbackground": true,
            "ticks": "",
            "zerolinecolor": "white"
           }
          },
          "shapedefaults": {
           "line": {
            "color": "#2a3f5f"
           }
          },
          "ternary": {
           "aaxis": {
            "gridcolor": "white",
            "linecolor": "white",
            "ticks": ""
           },
           "baxis": {
            "gridcolor": "white",
            "linecolor": "white",
            "ticks": ""
           },
           "bgcolor": "#E5ECF6",
           "caxis": {
            "gridcolor": "white",
            "linecolor": "white",
            "ticks": ""
           }
          },
          "title": {
           "x": 0.05
          },
          "xaxis": {
           "automargin": true,
           "gridcolor": "white",
           "linecolor": "white",
           "ticks": "",
           "title": {
            "standoff": 15
           },
           "zerolinecolor": "white",
           "zerolinewidth": 2
          },
          "yaxis": {
           "automargin": true,
           "gridcolor": "white",
           "linecolor": "white",
           "ticks": "",
           "title": {
            "standoff": 15
           },
           "zerolinecolor": "white",
           "zerolinewidth": 2
          }
         }
        },
        "width": 600,
        "xaxis": {
         "anchor": "y",
         "autorange": true,
         "domain": [
          0,
          0.1
         ],
         "range": [
          0.9444444444444444,
          2.0555555555555554
         ],
         "showgrid": false,
         "type": "linear",
         "visible": false
        },
        "xaxis10": {
         "anchor": "y10",
         "autorange": true,
         "domain": [
          0,
          0.1
         ],
         "range": [
          0.9444444444444444,
          2.0555555555555554
         ],
         "showgrid": false,
         "type": "linear",
         "visible": false
        },
        "xaxis11": {
         "anchor": "y11",
         "autorange": true,
         "domain": [
          0.1,
          0.9
         ],
         "range": [
          0.9444444444444444,
          2.0555555555555554
         ],
         "showgrid": false,
         "type": "linear",
         "visible": false
        },
        "xaxis12": {
         "anchor": "y12",
         "autorange": true,
         "domain": [
          0.9,
          1
         ],
         "range": [
          0,
          1
         ],
         "showgrid": false,
         "type": "linear",
         "visible": false
        },
        "xaxis13": {
         "anchor": "y13",
         "autorange": true,
         "domain": [
          0,
          0.1
         ],
         "range": [
          0.9444444444444444,
          2.0555555555555554
         ],
         "showgrid": false,
         "type": "linear",
         "visible": false
        },
        "xaxis14": {
         "anchor": "y14",
         "autorange": true,
         "domain": [
          0.1,
          0.9
         ],
         "range": [
          0.9444444444444444,
          2.0555555555555554
         ],
         "showgrid": false,
         "type": "linear",
         "visible": false
        },
        "xaxis15": {
         "anchor": "y15",
         "autorange": true,
         "domain": [
          0.9,
          1
         ],
         "range": [
          0,
          1
         ],
         "showgrid": false,
         "type": "linear",
         "visible": false
        },
        "xaxis16": {
         "anchor": "y16",
         "domain": [
          0,
          0.1
         ],
         "showgrid": false,
         "visible": false
        },
        "xaxis17": {
         "anchor": "y17",
         "domain": [
          0.1,
          0.9
         ],
         "showgrid": false,
         "visible": false
        },
        "xaxis18": {
         "anchor": "y18",
         "domain": [
          0.9,
          1
         ],
         "showgrid": false,
         "visible": false
        },
        "xaxis19": {
         "anchor": "y19",
         "domain": [
          0,
          0.1
         ],
         "showgrid": false,
         "visible": false
        },
        "xaxis2": {
         "anchor": "y2",
         "autorange": true,
         "domain": [
          0.1,
          0.9
         ],
         "range": [
          0.9444444444444444,
          2.0555555555555554
         ],
         "showgrid": false,
         "type": "linear",
         "visible": false
        },
        "xaxis20": {
         "anchor": "y20",
         "domain": [
          0.1,
          0.9
         ],
         "showgrid": false,
         "visible": false
        },
        "xaxis21": {
         "anchor": "y21",
         "domain": [
          0.9,
          1
         ],
         "showgrid": false,
         "visible": false
        },
        "xaxis22": {
         "anchor": "y22",
         "domain": [
          0,
          0.1
         ],
         "showgrid": false,
         "visible": false
        },
        "xaxis23": {
         "anchor": "y23",
         "domain": [
          0.1,
          0.9
         ],
         "showgrid": false,
         "visible": false
        },
        "xaxis24": {
         "anchor": "y24",
         "domain": [
          0.9,
          1
         ],
         "showgrid": false,
         "visible": false
        },
        "xaxis25": {
         "anchor": "y25",
         "domain": [
          0,
          0.1
         ],
         "showgrid": false,
         "visible": false
        },
        "xaxis26": {
         "anchor": "y26",
         "domain": [
          0.1,
          0.9
         ],
         "showgrid": false,
         "visible": false
        },
        "xaxis27": {
         "anchor": "y27",
         "domain": [
          0.9,
          1
         ],
         "showgrid": false,
         "visible": false
        },
        "xaxis28": {
         "anchor": "y28",
         "domain": [
          0,
          0.1
         ],
         "showgrid": false,
         "visible": false
        },
        "xaxis29": {
         "anchor": "y29",
         "domain": [
          0.1,
          0.9
         ],
         "showgrid": false,
         "visible": false
        },
        "xaxis3": {
         "anchor": "y3",
         "autorange": true,
         "domain": [
          0.9,
          1
         ],
         "range": [
          0,
          1
         ],
         "showgrid": false,
         "type": "linear",
         "visible": false
        },
        "xaxis30": {
         "anchor": "y30",
         "domain": [
          0.9,
          1
         ],
         "showgrid": false,
         "visible": false
        },
        "xaxis31": {
         "anchor": "y31",
         "domain": [
          0,
          0.1
         ],
         "showgrid": false,
         "visible": false
        },
        "xaxis32": {
         "anchor": "y32",
         "domain": [
          0.1,
          0.9
         ],
         "showgrid": false,
         "visible": false
        },
        "xaxis33": {
         "anchor": "y33",
         "domain": [
          0.9,
          1
         ],
         "showgrid": false,
         "visible": false
        },
        "xaxis34": {
         "anchor": "y34",
         "domain": [
          0,
          0.1
         ],
         "showgrid": false,
         "visible": false
        },
        "xaxis35": {
         "anchor": "y35",
         "domain": [
          0.1,
          0.9
         ],
         "showgrid": false,
         "visible": false
        },
        "xaxis36": {
         "anchor": "y36",
         "domain": [
          0.9,
          1
         ],
         "showgrid": false,
         "visible": false
        },
        "xaxis37": {
         "anchor": "y37",
         "domain": [
          0,
          0.1
         ],
         "showgrid": false,
         "visible": false
        },
        "xaxis38": {
         "anchor": "y38",
         "domain": [
          0.1,
          0.9
         ],
         "showgrid": false,
         "visible": false
        },
        "xaxis39": {
         "anchor": "y39",
         "domain": [
          0.9,
          1
         ],
         "showgrid": false,
         "visible": false
        },
        "xaxis4": {
         "anchor": "y4",
         "autorange": true,
         "domain": [
          0,
          0.1
         ],
         "range": [
          0.9444444444444444,
          2.0555555555555554
         ],
         "showgrid": false,
         "type": "linear",
         "visible": false
        },
        "xaxis40": {
         "anchor": "y40",
         "domain": [
          0,
          0.1
         ],
         "showgrid": false,
         "visible": false
        },
        "xaxis41": {
         "anchor": "y41",
         "domain": [
          0.1,
          0.9
         ],
         "showgrid": false,
         "visible": false
        },
        "xaxis42": {
         "anchor": "y42",
         "domain": [
          0.9,
          1
         ],
         "showgrid": false,
         "visible": false
        },
        "xaxis43": {
         "anchor": "y43",
         "domain": [
          0,
          0.1
         ],
         "showgrid": false,
         "visible": false
        },
        "xaxis44": {
         "anchor": "y44",
         "domain": [
          0.1,
          0.9
         ],
         "showgrid": false,
         "visible": false
        },
        "xaxis45": {
         "anchor": "y45",
         "domain": [
          0.9,
          1
         ],
         "showgrid": false,
         "visible": false
        },
        "xaxis46": {
         "anchor": "y46",
         "domain": [
          0,
          0.1
         ],
         "showgrid": false,
         "visible": false
        },
        "xaxis47": {
         "anchor": "y47",
         "domain": [
          0.1,
          0.9
         ],
         "showgrid": false,
         "visible": false
        },
        "xaxis48": {
         "anchor": "y48",
         "domain": [
          0.9,
          1
         ],
         "showgrid": false,
         "visible": false
        },
        "xaxis49": {
         "anchor": "y49",
         "domain": [
          0,
          0.1
         ],
         "showgrid": false,
         "visible": false
        },
        "xaxis5": {
         "anchor": "y5",
         "autorange": true,
         "domain": [
          0.1,
          0.9
         ],
         "range": [
          0.9444444444444444,
          2.0555555555555554
         ],
         "showgrid": false,
         "type": "linear",
         "visible": false
        },
        "xaxis50": {
         "anchor": "y50",
         "domain": [
          0.1,
          0.9
         ],
         "showgrid": false,
         "visible": false
        },
        "xaxis51": {
         "anchor": "y51",
         "domain": [
          0.9,
          1
         ],
         "showgrid": false,
         "visible": false
        },
        "xaxis52": {
         "anchor": "y52",
         "domain": [
          0,
          0.1
         ],
         "showgrid": false,
         "visible": false
        },
        "xaxis53": {
         "anchor": "y53",
         "domain": [
          0.1,
          0.9
         ],
         "showgrid": false,
         "visible": false
        },
        "xaxis54": {
         "anchor": "y54",
         "domain": [
          0.9,
          1
         ],
         "showgrid": false,
         "visible": false
        },
        "xaxis55": {
         "anchor": "y55",
         "domain": [
          0,
          0.1
         ],
         "showgrid": false,
         "visible": false
        },
        "xaxis56": {
         "anchor": "y56",
         "domain": [
          0.1,
          0.9
         ],
         "showgrid": false,
         "visible": false
        },
        "xaxis57": {
         "anchor": "y57",
         "domain": [
          0.9,
          1
         ],
         "showgrid": false,
         "visible": false
        },
        "xaxis58": {
         "anchor": "y58",
         "domain": [
          0,
          0.1
         ],
         "showgrid": false,
         "visible": false
        },
        "xaxis59": {
         "anchor": "y59",
         "domain": [
          0.1,
          0.9
         ],
         "showgrid": false,
         "visible": false
        },
        "xaxis6": {
         "anchor": "y6",
         "autorange": true,
         "domain": [
          0.9,
          1
         ],
         "range": [
          0,
          1
         ],
         "showgrid": false,
         "type": "linear",
         "visible": false
        },
        "xaxis60": {
         "anchor": "y60",
         "domain": [
          0.9,
          1
         ],
         "showgrid": false,
         "visible": false
        },
        "xaxis7": {
         "anchor": "y7",
         "autorange": true,
         "domain": [
          0,
          0.1
         ],
         "range": [
          0.9444444444444444,
          2.0555555555555554
         ],
         "showgrid": false,
         "type": "linear",
         "visible": false
        },
        "xaxis8": {
         "anchor": "y8",
         "autorange": true,
         "domain": [
          0.1,
          0.9
         ],
         "range": [
          0.9444444444444444,
          2.0555555555555554
         ],
         "showgrid": false,
         "type": "linear",
         "visible": false
        },
        "xaxis9": {
         "anchor": "y9",
         "autorange": true,
         "domain": [
          0.9,
          1
         ],
         "range": [
          0,
          1
         ],
         "showgrid": false,
         "type": "linear",
         "visible": false
        },
        "yaxis": {
         "anchor": "x",
         "autorange": true,
         "domain": [
          0.9500000000000001,
          1
         ],
         "range": [
          0,
          2
         ],
         "showgrid": false,
         "type": "linear",
         "visible": false
        },
        "yaxis10": {
         "anchor": "x10",
         "autorange": true,
         "domain": [
          0.8,
          0.8500000000000001
         ],
         "range": [
          0,
          2
         ],
         "showgrid": false,
         "type": "linear",
         "visible": false
        },
        "yaxis11": {
         "anchor": "x11",
         "autorange": true,
         "domain": [
          0.8,
          0.8500000000000001
         ],
         "range": [
          0,
          2
         ],
         "showgrid": false,
         "type": "linear",
         "visible": false
        },
        "yaxis12": {
         "anchor": "x12",
         "autorange": true,
         "domain": [
          0.8,
          0.8500000000000001
         ],
         "range": [
          -0.05555555555555555,
          1.0555555555555556
         ],
         "showgrid": false,
         "type": "linear",
         "visible": false
        },
        "yaxis13": {
         "anchor": "x13",
         "autorange": true,
         "domain": [
          0.75,
          0.8
         ],
         "range": [
          0,
          2
         ],
         "showgrid": false,
         "type": "linear",
         "visible": false
        },
        "yaxis14": {
         "anchor": "x14",
         "autorange": true,
         "domain": [
          0.75,
          0.8
         ],
         "range": [
          0,
          2
         ],
         "showgrid": false,
         "type": "linear",
         "visible": false
        },
        "yaxis15": {
         "anchor": "x15",
         "autorange": true,
         "domain": [
          0.75,
          0.8
         ],
         "range": [
          -0.05555555555555555,
          1.0555555555555556
         ],
         "showgrid": false,
         "type": "linear",
         "visible": false
        },
        "yaxis16": {
         "anchor": "x16",
         "domain": [
          0.7000000000000001,
          0.7500000000000001
         ],
         "showgrid": false,
         "visible": false
        },
        "yaxis17": {
         "anchor": "x17",
         "domain": [
          0.7000000000000001,
          0.7500000000000001
         ],
         "showgrid": false,
         "visible": false
        },
        "yaxis18": {
         "anchor": "x18",
         "domain": [
          0.7000000000000001,
          0.7500000000000001
         ],
         "showgrid": false,
         "visible": false
        },
        "yaxis19": {
         "anchor": "x19",
         "domain": [
          0.65,
          0.7000000000000001
         ],
         "showgrid": false,
         "visible": false
        },
        "yaxis2": {
         "anchor": "x2",
         "autorange": true,
         "domain": [
          0.9500000000000001,
          1
         ],
         "range": [
          0,
          2
         ],
         "showgrid": false,
         "type": "linear",
         "visible": false
        },
        "yaxis20": {
         "anchor": "x20",
         "domain": [
          0.65,
          0.7000000000000001
         ],
         "showgrid": false,
         "visible": false
        },
        "yaxis21": {
         "anchor": "x21",
         "domain": [
          0.65,
          0.7000000000000001
         ],
         "showgrid": false,
         "visible": false
        },
        "yaxis22": {
         "anchor": "x22",
         "domain": [
          0.6000000000000001,
          0.6500000000000001
         ],
         "showgrid": false,
         "visible": false
        },
        "yaxis23": {
         "anchor": "x23",
         "domain": [
          0.6000000000000001,
          0.6500000000000001
         ],
         "showgrid": false,
         "visible": false
        },
        "yaxis24": {
         "anchor": "x24",
         "domain": [
          0.6000000000000001,
          0.6500000000000001
         ],
         "showgrid": false,
         "visible": false
        },
        "yaxis25": {
         "anchor": "x25",
         "domain": [
          0.55,
          0.6000000000000001
         ],
         "showgrid": false,
         "visible": false
        },
        "yaxis26": {
         "anchor": "x26",
         "domain": [
          0.55,
          0.6000000000000001
         ],
         "showgrid": false,
         "visible": false
        },
        "yaxis27": {
         "anchor": "x27",
         "domain": [
          0.55,
          0.6000000000000001
         ],
         "showgrid": false,
         "visible": false
        },
        "yaxis28": {
         "anchor": "x28",
         "domain": [
          0.5,
          0.55
         ],
         "showgrid": false,
         "visible": false
        },
        "yaxis29": {
         "anchor": "x29",
         "domain": [
          0.5,
          0.55
         ],
         "showgrid": false,
         "visible": false
        },
        "yaxis3": {
         "anchor": "x3",
         "autorange": true,
         "domain": [
          0.9500000000000001,
          1
         ],
         "range": [
          -0.5,
          1.5
         ],
         "showgrid": false,
         "type": "linear",
         "visible": false
        },
        "yaxis30": {
         "anchor": "x30",
         "domain": [
          0.5,
          0.55
         ],
         "showgrid": false,
         "visible": false
        },
        "yaxis31": {
         "anchor": "x31",
         "domain": [
          0.45,
          0.5
         ],
         "showgrid": false,
         "visible": false
        },
        "yaxis32": {
         "anchor": "x32",
         "domain": [
          0.45,
          0.5
         ],
         "showgrid": false,
         "visible": false
        },
        "yaxis33": {
         "anchor": "x33",
         "domain": [
          0.45,
          0.5
         ],
         "showgrid": false,
         "visible": false
        },
        "yaxis34": {
         "anchor": "x34",
         "domain": [
          0.4,
          0.45
         ],
         "showgrid": false,
         "visible": false
        },
        "yaxis35": {
         "anchor": "x35",
         "domain": [
          0.4,
          0.45
         ],
         "showgrid": false,
         "visible": false
        },
        "yaxis36": {
         "anchor": "x36",
         "domain": [
          0.4,
          0.45
         ],
         "showgrid": false,
         "visible": false
        },
        "yaxis37": {
         "anchor": "x37",
         "domain": [
          0.35000000000000003,
          0.4
         ],
         "showgrid": false,
         "visible": false
        },
        "yaxis38": {
         "anchor": "x38",
         "domain": [
          0.35000000000000003,
          0.4
         ],
         "showgrid": false,
         "visible": false
        },
        "yaxis39": {
         "anchor": "x39",
         "domain": [
          0.35000000000000003,
          0.4
         ],
         "showgrid": false,
         "visible": false
        },
        "yaxis4": {
         "anchor": "x4",
         "autorange": true,
         "domain": [
          0.9,
          0.9500000000000001
         ],
         "range": [
          0,
          2
         ],
         "showgrid": false,
         "type": "linear",
         "visible": false
        },
        "yaxis40": {
         "anchor": "x40",
         "domain": [
          0.30000000000000004,
          0.35000000000000003
         ],
         "showgrid": false,
         "visible": false
        },
        "yaxis41": {
         "anchor": "x41",
         "domain": [
          0.30000000000000004,
          0.35000000000000003
         ],
         "showgrid": false,
         "visible": false
        },
        "yaxis42": {
         "anchor": "x42",
         "domain": [
          0.30000000000000004,
          0.35000000000000003
         ],
         "showgrid": false,
         "visible": false
        },
        "yaxis43": {
         "anchor": "x43",
         "domain": [
          0.25,
          0.3
         ],
         "showgrid": false,
         "visible": false
        },
        "yaxis44": {
         "anchor": "x44",
         "domain": [
          0.25,
          0.3
         ],
         "showgrid": false,
         "visible": false
        },
        "yaxis45": {
         "anchor": "x45",
         "domain": [
          0.25,
          0.3
         ],
         "showgrid": false,
         "visible": false
        },
        "yaxis46": {
         "anchor": "x46",
         "domain": [
          0.2,
          0.25
         ],
         "showgrid": false,
         "visible": false
        },
        "yaxis47": {
         "anchor": "x47",
         "domain": [
          0.2,
          0.25
         ],
         "showgrid": false,
         "visible": false
        },
        "yaxis48": {
         "anchor": "x48",
         "domain": [
          0.2,
          0.25
         ],
         "showgrid": false,
         "visible": false
        },
        "yaxis49": {
         "anchor": "x49",
         "domain": [
          0.15000000000000002,
          0.2
         ],
         "showgrid": false,
         "visible": false
        },
        "yaxis5": {
         "anchor": "x5",
         "autorange": true,
         "domain": [
          0.9,
          0.9500000000000001
         ],
         "range": [
          0,
          2
         ],
         "showgrid": false,
         "type": "linear",
         "visible": false
        },
        "yaxis50": {
         "anchor": "x50",
         "domain": [
          0.15000000000000002,
          0.2
         ],
         "showgrid": false,
         "visible": false
        },
        "yaxis51": {
         "anchor": "x51",
         "domain": [
          0.15000000000000002,
          0.2
         ],
         "showgrid": false,
         "visible": false
        },
        "yaxis52": {
         "anchor": "x52",
         "domain": [
          0.1,
          0.15000000000000002
         ],
         "showgrid": false,
         "visible": false
        },
        "yaxis53": {
         "anchor": "x53",
         "domain": [
          0.1,
          0.15000000000000002
         ],
         "showgrid": false,
         "visible": false
        },
        "yaxis54": {
         "anchor": "x54",
         "domain": [
          0.1,
          0.15000000000000002
         ],
         "showgrid": false,
         "visible": false
        },
        "yaxis55": {
         "anchor": "x55",
         "domain": [
          0.05,
          0.1
         ],
         "showgrid": false,
         "visible": false
        },
        "yaxis56": {
         "anchor": "x56",
         "domain": [
          0.05,
          0.1
         ],
         "showgrid": false,
         "visible": false
        },
        "yaxis57": {
         "anchor": "x57",
         "domain": [
          0.05,
          0.1
         ],
         "showgrid": false,
         "visible": false
        },
        "yaxis58": {
         "anchor": "x58",
         "domain": [
          0,
          0.05
         ],
         "showgrid": false,
         "visible": false
        },
        "yaxis59": {
         "anchor": "x59",
         "domain": [
          0,
          0.05
         ],
         "showgrid": false,
         "visible": false
        },
        "yaxis6": {
         "anchor": "x6",
         "autorange": true,
         "domain": [
          0.9,
          0.9500000000000001
         ],
         "range": [
          -0.5,
          1.5
         ],
         "showgrid": false,
         "type": "linear",
         "visible": false
        },
        "yaxis60": {
         "anchor": "x60",
         "domain": [
          0,
          0.05
         ],
         "showgrid": false,
         "visible": false
        },
        "yaxis7": {
         "anchor": "x7",
         "autorange": true,
         "domain": [
          0.8500000000000001,
          0.9000000000000001
         ],
         "range": [
          0,
          2
         ],
         "showgrid": false,
         "type": "linear",
         "visible": false
        },
        "yaxis8": {
         "anchor": "x8",
         "autorange": true,
         "domain": [
          0.8500000000000001,
          0.9000000000000001
         ],
         "range": [
          0,
          2
         ],
         "showgrid": false,
         "type": "linear",
         "visible": false
        },
        "yaxis9": {
         "anchor": "x9",
         "autorange": true,
         "domain": [
          0.8500000000000001,
          0.9000000000000001
         ],
         "range": [
          -0.5,
          1.5
         ],
         "showgrid": false,
         "type": "linear",
         "visible": false
        }
       }
      },
      "image/png": "[encoded data removed]",
      "text/html": [
       "<div>                            <div id=\"73b92c0c-3592-429d-86fc-72f07a4ce9d8\" class=\"plotly-graph-div\" style=\"height:320px; width:600px;\"></div>            <script type=\"text/javascript\">                require([\"plotly\"], function(Plotly) {                    window.PLOTLYENV=window.PLOTLYENV || {};                                    if (document.getElementById(\"73b92c0c-3592-429d-86fc-72f07a4ce9d8\")) {                    Plotly.newPlot(                        \"73b92c0c-3592-429d-86fc-72f07a4ce9d8\",                        [{\"mode\":\"text\",\"text\":[\"255\",\"\"],\"textposition\":\"middle right\",\"x\":[1,2],\"y\":[1,1],\"type\":\"scatter\",\"xaxis\":\"x\",\"yaxis\":\"y\"},{\"mode\":\"text\",\"text\":[\"XENON10, 2007, first results, 58.6 live days, SI\",\"\"],\"textposition\":\"middle right\",\"x\":[1,2],\"y\":[1,1],\"type\":\"scatter\",\"xaxis\":\"x2\",\"yaxis\":\"y2\"},{\"fill\":\"none\",\"line\":{\"color\":\"red\",\"dash\":\"solid\",\"width\":1},\"marker\":{\"symbol\":\"x\"},\"mode\":\"lines\",\"opacity\":1,\"x\":[0,1],\"y\":[0.5,0.5],\"type\":\"scatter\",\"xaxis\":\"x3\",\"yaxis\":\"y3\"},{\"mode\":\"text\",\"text\":[\"134\",\"\"],\"textposition\":\"middle right\",\"x\":[1,2],\"y\":[1,1],\"type\":\"scatter\",\"xaxis\":\"x4\",\"yaxis\":\"y4\"},{\"mode\":\"text\",\"text\":[\"LUX 300 kg LXe Projection (Jul 2007) - Offline\",\"\"],\"textposition\":\"middle right\",\"x\":[1,2],\"y\":[1,1],\"type\":\"scatter\",\"xaxis\":\"x5\",\"yaxis\":\"y5\"},{\"fill\":\"none\",\"line\":{\"color\":\"grey\",\"dash\":\"dash\",\"width\":1},\"marker\":{\"symbol\":\"x\"},\"mode\":\"lines\",\"opacity\":1,\"x\":[0,1],\"y\":[0.5,0.5],\"type\":\"scatter\",\"xaxis\":\"x6\",\"yaxis\":\"y6\"},{\"mode\":\"text\",\"text\":[\"271\",\"\"],\"textposition\":\"middle right\",\"x\":[1,2],\"y\":[1,1],\"type\":\"scatter\",\"xaxis\":\"x7\",\"yaxis\":\"y7\"},{\"mode\":\"text\",\"text\":[\"CDMS II (Soudan), 2009, Ge detector, SI\",\"\"],\"textposition\":\"middle right\",\"x\":[1,2],\"y\":[1,1],\"type\":\"scatter\",\"xaxis\":\"x8\",\"yaxis\":\"y8\"},{\"fill\":\"none\",\"line\":{\"color\":\"black\",\"dash\":\"solid\",\"width\":1},\"marker\":{\"symbol\":\"x\"},\"mode\":\"lines\",\"opacity\":1,\"x\":[0,1],\"y\":[0.5,0.5],\"type\":\"scatter\",\"xaxis\":\"x9\",\"yaxis\":\"y9\"},{\"mode\":\"text\",\"text\":[\"350\",\"\"],\"textposition\":\"middle right\",\"x\":[1,2],\"y\":[1,1],\"type\":\"scatter\",\"xaxis\":\"x10\",\"yaxis\":\"y10\"},{\"mode\":\"text\",\"text\":[\"CoGeNT, 2010, models with M_wimp ~7-11 GeV per cm^2, SI\",\"\"],\"textposition\":\"middle right\",\"x\":[1,2],\"y\":[1,1],\"type\":\"scatter\",\"xaxis\":\"x11\",\"yaxis\":\"y11\"},{\"fill\":\"toself\",\"line\":{\"color\":\"cyan\",\"dash\":\"solid\",\"width\":1},\"marker\":{\"symbol\":\"x\"},\"mode\":\"lines\",\"opacity\":1,\"x\":[0,1,1,0,0],\"y\":[0,0,1,1,0],\"type\":\"scatter\",\"xaxis\":\"x12\",\"yaxis\":\"y12\"},{\"mode\":\"text\",\"text\":[\"200\",\"\"],\"textposition\":\"middle right\",\"x\":[1,2],\"y\":[1,1],\"type\":\"scatter\",\"xaxis\":\"x13\",\"yaxis\":\"y13\"},{\"mode\":\"text\",\"text\":[\"Arrenberg et. al., 2008, Kaluza Klein DM in Universal Extra Dimensions, gamma-1, SI\",\"\"],\"textposition\":\"middle right\",\"x\":[1,2],\"y\":[1,1],\"type\":\"scatter\",\"xaxis\":\"x14\",\"yaxis\":\"y14\"},{\"fill\":\"toself\",\"line\":{\"color\":\"green\",\"dash\":\"solid\",\"width\":1},\"marker\":{\"symbol\":\"x\"},\"mode\":\"lines\",\"opacity\":1,\"x\":[0,1,1,0,0],\"y\":[0,0,1,1,0],\"type\":\"scatter\",\"xaxis\":\"x15\",\"yaxis\":\"y15\"}],                        {\"template\":{\"data\":{\"histogram2dcontour\":[{\"type\":\"histogram2dcontour\",\"colorbar\":{\"outlinewidth\":0,\"ticks\":\"\"},\"colorscale\":[[0.0,\"#0d0887\"],[0.1111111111111111,\"#46039f\"],[0.2222222222222222,\"#7201a8\"],[0.3333333333333333,\"#9c179e\"],[0.4444444444444444,\"#bd3786\"],[0.5555555555555556,\"#d8576b\"],[0.6666666666666666,\"#ed7953\"],[0.7777777777777778,\"#fb9f3a\"],[0.8888888888888888,\"#fdca26\"],[1.0,\"#f0f921\"]]}],\"choropleth\":[{\"type\":\"choropleth\",\"colorbar\":{\"outlinewidth\":0,\"ticks\":\"\"}}],\"histogram2d\":[{\"type\":\"histogram2d\",\"colorbar\":{\"outlinewidth\":0,\"ticks\":\"\"},\"colorscale\":[[0.0,\"#0d0887\"],[0.1111111111111111,\"#46039f\"],[0.2222222222222222,\"#7201a8\"],[0.3333333333333333,\"#9c179e\"],[0.4444444444444444,\"#bd3786\"],[0.5555555555555556,\"#d8576b\"],[0.6666666666666666,\"#ed7953\"],[0.7777777777777778,\"#fb9f3a\"],[0.8888888888888888,\"#fdca26\"],[1.0,\"#f0f921\"]]}],\"heatmap\":[{\"type\":\"heatmap\",\"colorbar\":{\"outlinewidth\":0,\"ticks\":\"\"},\"colorscale\":[[0.0,\"#0d0887\"],[0.1111111111111111,\"#46039f\"],[0.2222222222222222,\"#7201a8\"],[0.3333333333333333,\"#9c179e\"],[0.4444444444444444,\"#bd3786\"],[0.5555555555555556,\"#d8576b\"],[0.6666666666666666,\"#ed7953\"],[0.7777777777777778,\"#fb9f3a\"],[0.8888888888888888,\"#fdca26\"],[1.0,\"#f0f921\"]]}],\"heatmapgl\":[{\"type\":\"heatmapgl\",\"colorbar\":{\"outlinewidth\":0,\"ticks\":\"\"},\"colorscale\":[[0.0,\"#0d0887\"],[0.1111111111111111,\"#46039f\"],[0.2222222222222222,\"#7201a8\"],[0.3333333333333333,\"#9c179e\"],[0.4444444444444444,\"#bd3786\"],[0.5555555555555556,\"#d8576b\"],[0.6666666666666666,\"#ed7953\"],[0.7777777777777778,\"#fb9f3a\"],[0.8888888888888888,\"#fdca26\"],[1.0,\"#f0f921\"]]}],\"contourcarpet\":[{\"type\":\"contourcarpet\",\"colorbar\":{\"outlinewidth\":0,\"ticks\":\"\"}}],\"contour\":[{\"type\":\"contour\",\"colorbar\":{\"outlinewidth\":0,\"ticks\":\"\"},\"colorscale\":[[0.0,\"#0d0887\"],[0.1111111111111111,\"#46039f\"],[0.2222222222222222,\"#7201a8\"],[0.3333333333333333,\"#9c179e\"],[0.4444444444444444,\"#bd3786\"],[0.5555555555555556,\"#d8576b\"],[0.6666666666666666,\"#ed7953\"],[0.7777777777777778,\"#fb9f3a\"],[0.8888888888888888,\"#fdca26\"],[1.0,\"#f0f921\"]]}],\"surface\":[{\"type\":\"surface\",\"colorbar\":{\"outlinewidth\":0,\"ticks\":\"\"},\"colorscale\":[[0.0,\"#0d0887\"],[0.1111111111111111,\"#46039f\"],[0.2222222222222222,\"#7201a8\"],[0.3333333333333333,\"#9c179e\"],[0.4444444444444444,\"#bd3786\"],[0.5555555555555556,\"#d8576b\"],[0.6666666666666666,\"#ed7953\"],[0.7777777777777778,\"#fb9f3a\"],[0.8888888888888888,\"#fdca26\"],[1.0,\"#f0f921\"]]}],\"mesh3d\":[{\"type\":\"mesh3d\",\"colorbar\":{\"outlinewidth\":0,\"ticks\":\"\"}}],\"scatter\":[{\"fillpattern\":{\"fillmode\":\"overlay\",\"size\":10,\"solidity\":0.2},\"type\":\"scatter\"}],\"parcoords\":[{\"type\":\"parcoords\",\"line\":{\"colorbar\":{\"outlinewidth\":0,\"ticks\":\"\"}}}],\"scatterpolargl\":[{\"type\":\"scatterpolargl\",\"marker\":{\"colorbar\":{\"outlinewidth\":0,\"ticks\":\"\"}}}],\"bar\":[{\"error_x\":{\"color\":\"#2a3f5f\"},\"error_y\":{\"color\":\"#2a3f5f\"},\"marker\":{\"line\":{\"color\":\"#E5ECF6\",\"width\":0.5},\"pattern\":{\"fillmode\":\"overlay\",\"size\":10,\"solidity\":0.2}},\"type\":\"bar\"}],\"scattergeo\":[{\"type\":\"scattergeo\",\"marker\":{\"colorbar\":{\"outlinewidth\":0,\"ticks\":\"\"}}}],\"scatterpolar\":[{\"type\":\"scatterpolar\",\"marker\":{\"colorbar\":{\"outlinewidth\":0,\"ticks\":\"\"}}}],\"histogram\":[{\"marker\":{\"pattern\":{\"fillmode\":\"overlay\",\"size\":10,\"solidity\":0.2}},\"type\":\"histogram\"}],\"scattergl\":[{\"type\":\"scattergl\",\"marker\":{\"colorbar\":{\"outlinewidth\":0,\"ticks\":\"\"}}}],\"scatter3d\":[{\"type\":\"scatter3d\",\"line\":{\"colorbar\":{\"outlinewidth\":0,\"ticks\":\"\"}},\"marker\":{\"colorbar\":{\"outlinewidth\":0,\"ticks\":\"\"}}}],\"scattermapbox\":[{\"type\":\"scattermapbox\",\"marker\":{\"colorbar\":{\"outlinewidth\":0,\"ticks\":\"\"}}}],\"scatterternary\":[{\"type\":\"scatterternary\",\"marker\":{\"colorbar\":{\"outlinewidth\":0,\"ticks\":\"\"}}}],\"scattercarpet\":[{\"type\":\"scattercarpet\",\"marker\":{\"colorbar\":{\"outlinewidth\":0,\"ticks\":\"\"}}}],\"carpet\":[{\"aaxis\":{\"endlinecolor\":\"#2a3f5f\",\"gridcolor\":\"white\",\"linecolor\":\"white\",\"minorgridcolor\":\"white\",\"startlinecolor\":\"#2a3f5f\"},\"baxis\":{\"endlinecolor\":\"#2a3f5f\",\"gridcolor\":\"white\",\"linecolor\":\"white\",\"minorgridcolor\":\"white\",\"startlinecolor\":\"#2a3f5f\"},\"type\":\"carpet\"}],\"table\":[{\"cells\":{\"fill\":{\"color\":\"#EBF0F8\"},\"line\":{\"color\":\"white\"}},\"header\":{\"fill\":{\"color\":\"#C8D4E3\"},\"line\":{\"color\":\"white\"}},\"type\":\"table\"}],\"barpolar\":[{\"marker\":{\"line\":{\"color\":\"#E5ECF6\",\"width\":0.5},\"pattern\":{\"fillmode\":\"overlay\",\"size\":10,\"solidity\":0.2}},\"type\":\"barpolar\"}],\"pie\":[{\"automargin\":true,\"type\":\"pie\"}]},\"layout\":{\"autotypenumbers\":\"strict\",\"colorway\":[\"#636efa\",\"#EF553B\",\"#00cc96\",\"#ab63fa\",\"#FFA15A\",\"#19d3f3\",\"#FF6692\",\"#B6E880\",\"#FF97FF\",\"#FECB52\"],\"font\":{\"color\":\"#2a3f5f\"},\"hovermode\":\"closest\",\"hoverlabel\":{\"align\":\"left\"},\"paper_bgcolor\":\"white\",\"plot_bgcolor\":\"#E5ECF6\",\"polar\":{\"bgcolor\":\"#E5ECF6\",\"angularaxis\":{\"gridcolor\":\"white\",\"linecolor\":\"white\",\"ticks\":\"\"},\"radialaxis\":{\"gridcolor\":\"white\",\"linecolor\":\"white\",\"ticks\":\"\"}},\"ternary\":{\"bgcolor\":\"#E5ECF6\",\"aaxis\":{\"gridcolor\":\"white\",\"linecolor\":\"white\",\"ticks\":\"\"},\"baxis\":{\"gridcolor\":\"white\",\"linecolor\":\"white\",\"ticks\":\"\"},\"caxis\":{\"gridcolor\":\"white\",\"linecolor\":\"white\",\"ticks\":\"\"}},\"coloraxis\":{\"colorbar\":{\"outlinewidth\":0,\"ticks\":\"\"}},\"colorscale\":{\"sequential\":[[0.0,\"#0d0887\"],[0.1111111111111111,\"#46039f\"],[0.2222222222222222,\"#7201a8\"],[0.3333333333333333,\"#9c179e\"],[0.4444444444444444,\"#bd3786\"],[0.5555555555555556,\"#d8576b\"],[0.6666666666666666,\"#ed7953\"],[0.7777777777777778,\"#fb9f3a\"],[0.8888888888888888,\"#fdca26\"],[1.0,\"#f0f921\"]],\"sequentialminus\":[[0.0,\"#0d0887\"],[0.1111111111111111,\"#46039f\"],[0.2222222222222222,\"#7201a8\"],[0.3333333333333333,\"#9c179e\"],[0.4444444444444444,\"#bd3786\"],[0.5555555555555556,\"#d8576b\"],[0.6666666666666666,\"#ed7953\"],[0.7777777777777778,\"#fb9f3a\"],[0.8888888888888888,\"#fdca26\"],[1.0,\"#f0f921\"]],\"diverging\":[[0,\"#8e0152\"],[0.1,\"#c51b7d\"],[0.2,\"#de77ae\"],[0.3,\"#f1b6da\"],[0.4,\"#fde0ef\"],[0.5,\"#f7f7f7\"],[0.6,\"#e6f5d0\"],[0.7,\"#b8e186\"],[0.8,\"#7fbc41\"],[0.9,\"#4d9221\"],[1,\"#276419\"]]},\"xaxis\":{\"gridcolor\":\"white\",\"linecolor\":\"white\",\"ticks\":\"\",\"title\":{\"standoff\":15},\"zerolinecolor\":\"white\",\"automargin\":true,\"zerolinewidth\":2},\"yaxis\":{\"gridcolor\":\"white\",\"linecolor\":\"white\",\"ticks\":\"\",\"title\":{\"standoff\":15},\"zerolinecolor\":\"white\",\"automargin\":true,\"zerolinewidth\":2},\"scene\":{\"xaxis\":{\"backgroundcolor\":\"#E5ECF6\",\"gridcolor\":\"white\",\"linecolor\":\"white\",\"showbackground\":true,\"ticks\":\"\",\"zerolinecolor\":\"white\",\"gridwidth\":2},\"yaxis\":{\"backgroundcolor\":\"#E5ECF6\",\"gridcolor\":\"white\",\"linecolor\":\"white\",\"showbackground\":true,\"ticks\":\"\",\"zerolinecolor\":\"white\",\"gridwidth\":2},\"zaxis\":{\"backgroundcolor\":\"#E5ECF6\",\"gridcolor\":\"white\",\"linecolor\":\"white\",\"showbackground\":true,\"ticks\":\"\",\"zerolinecolor\":\"white\",\"gridwidth\":2}},\"shapedefaults\":{\"line\":{\"color\":\"#2a3f5f\"}},\"annotationdefaults\":{\"arrowcolor\":\"#2a3f5f\",\"arrowhead\":0,\"arrowwidth\":1},\"geo\":{\"bgcolor\":\"white\",\"landcolor\":\"#E5ECF6\",\"subunitcolor\":\"white\",\"showland\":true,\"showlakes\":true,\"lakecolor\":\"white\"},\"title\":{\"x\":0.05},\"mapbox\":{\"style\":\"light\"}}},\"xaxis\":{\"anchor\":\"y\",\"domain\":[0.0,0.1],\"showgrid\":false,\"visible\":false},\"yaxis\":{\"anchor\":\"x\",\"domain\":[0.9500000000000001,1.0],\"showgrid\":false,\"visible\":false},\"xaxis2\":{\"anchor\":\"y2\",\"domain\":[0.1,0.9],\"showgrid\":false,\"visible\":false},\"yaxis2\":{\"anchor\":\"x2\",\"domain\":[0.9500000000000001,1.0],\"showgrid\":false,\"visible\":false},\"xaxis3\":{\"anchor\":\"y3\",\"domain\":[0.9,1.0],\"showgrid\":false,\"visible\":false},\"yaxis3\":{\"anchor\":\"x3\",\"domain\":[0.9500000000000001,1.0],\"showgrid\":false,\"visible\":false},\"xaxis4\":{\"anchor\":\"y4\",\"domain\":[0.0,0.1],\"showgrid\":false,\"visible\":false},\"yaxis4\":{\"anchor\":\"x4\",\"domain\":[0.9,0.9500000000000001],\"showgrid\":false,\"visible\":false},\"xaxis5\":{\"anchor\":\"y5\",\"domain\":[0.1,0.9],\"showgrid\":false,\"visible\":false},\"yaxis5\":{\"anchor\":\"x5\",\"domain\":[0.9,0.9500000000000001],\"showgrid\":false,\"visible\":false},\"xaxis6\":{\"anchor\":\"y6\",\"domain\":[0.9,1.0],\"showgrid\":false,\"visible\":false},\"yaxis6\":{\"anchor\":\"x6\",\"domain\":[0.9,0.9500000000000001],\"showgrid\":false,\"visible\":false},\"xaxis7\":{\"anchor\":\"y7\",\"domain\":[0.0,0.1],\"showgrid\":false,\"visible\":false},\"yaxis7\":{\"anchor\":\"x7\",\"domain\":[0.8500000000000001,0.9000000000000001],\"showgrid\":false,\"visible\":false},\"xaxis8\":{\"anchor\":\"y8\",\"domain\":[0.1,0.9],\"showgrid\":false,\"visible\":false},\"yaxis8\":{\"anchor\":\"x8\",\"domain\":[0.8500000000000001,0.9000000000000001],\"showgrid\":false,\"visible\":false},\"xaxis9\":{\"anchor\":\"y9\",\"domain\":[0.9,1.0],\"showgrid\":false,\"visible\":false},\"yaxis9\":{\"anchor\":\"x9\",\"domain\":[0.8500000000000001,0.9000000000000001],\"showgrid\":false,\"visible\":false},\"xaxis10\":{\"anchor\":\"y10\",\"domain\":[0.0,0.1],\"showgrid\":false,\"visible\":false},\"yaxis10\":{\"anchor\":\"x10\",\"domain\":[0.8,0.8500000000000001],\"showgrid\":false,\"visible\":false},\"xaxis11\":{\"anchor\":\"y11\",\"domain\":[0.1,0.9],\"showgrid\":false,\"visible\":false},\"yaxis11\":{\"anchor\":\"x11\",\"domain\":[0.8,0.8500000000000001],\"showgrid\":false,\"visible\":false},\"xaxis12\":{\"anchor\":\"y12\",\"domain\":[0.9,1.0],\"showgrid\":false,\"visible\":false},\"yaxis12\":{\"anchor\":\"x12\",\"domain\":[0.8,0.8500000000000001],\"showgrid\":false,\"visible\":false},\"xaxis13\":{\"anchor\":\"y13\",\"domain\":[0.0,0.1],\"showgrid\":false,\"visible\":false},\"yaxis13\":{\"anchor\":\"x13\",\"domain\":[0.75,0.8],\"showgrid\":false,\"visible\":false},\"xaxis14\":{\"anchor\":\"y14\",\"domain\":[0.1,0.9],\"showgrid\":false,\"visible\":false},\"yaxis14\":{\"anchor\":\"x14\",\"domain\":[0.75,0.8],\"showgrid\":false,\"visible\":false},\"xaxis15\":{\"anchor\":\"y15\",\"domain\":[0.9,1.0],\"showgrid\":false,\"visible\":false},\"yaxis15\":{\"anchor\":\"x15\",\"domain\":[0.75,0.8],\"showgrid\":false,\"visible\":false},\"xaxis16\":{\"anchor\":\"y16\",\"domain\":[0.0,0.1],\"showgrid\":false,\"visible\":false},\"yaxis16\":{\"anchor\":\"x16\",\"domain\":[0.7000000000000001,0.7500000000000001],\"showgrid\":false,\"visible\":false},\"xaxis17\":{\"anchor\":\"y17\",\"domain\":[0.1,0.9],\"showgrid\":false,\"visible\":false},\"yaxis17\":{\"anchor\":\"x17\",\"domain\":[0.7000000000000001,0.7500000000000001],\"showgrid\":false,\"visible\":false},\"xaxis18\":{\"anchor\":\"y18\",\"domain\":[0.9,1.0],\"showgrid\":false,\"visible\":false},\"yaxis18\":{\"anchor\":\"x18\",\"domain\":[0.7000000000000001,0.7500000000000001],\"showgrid\":false,\"visible\":false},\"xaxis19\":{\"anchor\":\"y19\",\"domain\":[0.0,0.1],\"showgrid\":false,\"visible\":false},\"yaxis19\":{\"anchor\":\"x19\",\"domain\":[0.65,0.7000000000000001],\"showgrid\":false,\"visible\":false},\"xaxis20\":{\"anchor\":\"y20\",\"domain\":[0.1,0.9],\"showgrid\":false,\"visible\":false},\"yaxis20\":{\"anchor\":\"x20\",\"domain\":[0.65,0.7000000000000001],\"showgrid\":false,\"visible\":false},\"xaxis21\":{\"anchor\":\"y21\",\"domain\":[0.9,1.0],\"showgrid\":false,\"visible\":false},\"yaxis21\":{\"anchor\":\"x21\",\"domain\":[0.65,0.7000000000000001],\"showgrid\":false,\"visible\":false},\"xaxis22\":{\"anchor\":\"y22\",\"domain\":[0.0,0.1],\"showgrid\":false,\"visible\":false},\"yaxis22\":{\"anchor\":\"x22\",\"domain\":[0.6000000000000001,0.6500000000000001],\"showgrid\":false,\"visible\":false},\"xaxis23\":{\"anchor\":\"y23\",\"domain\":[0.1,0.9],\"showgrid\":false,\"visible\":false},\"yaxis23\":{\"anchor\":\"x23\",\"domain\":[0.6000000000000001,0.6500000000000001],\"showgrid\":false,\"visible\":false},\"xaxis24\":{\"anchor\":\"y24\",\"domain\":[0.9,1.0],\"showgrid\":false,\"visible\":false},\"yaxis24\":{\"anchor\":\"x24\",\"domain\":[0.6000000000000001,0.6500000000000001],\"showgrid\":false,\"visible\":false},\"xaxis25\":{\"anchor\":\"y25\",\"domain\":[0.0,0.1],\"showgrid\":false,\"visible\":false},\"yaxis25\":{\"anchor\":\"x25\",\"domain\":[0.55,0.6000000000000001],\"showgrid\":false,\"visible\":false},\"xaxis26\":{\"anchor\":\"y26\",\"domain\":[0.1,0.9],\"showgrid\":false,\"visible\":false},\"yaxis26\":{\"anchor\":\"x26\",\"domain\":[0.55,0.6000000000000001],\"showgrid\":false,\"visible\":false},\"xaxis27\":{\"anchor\":\"y27\",\"domain\":[0.9,1.0],\"showgrid\":false,\"visible\":false},\"yaxis27\":{\"anchor\":\"x27\",\"domain\":[0.55,0.6000000000000001],\"showgrid\":false,\"visible\":false},\"xaxis28\":{\"anchor\":\"y28\",\"domain\":[0.0,0.1],\"showgrid\":false,\"visible\":false},\"yaxis28\":{\"anchor\":\"x28\",\"domain\":[0.5,0.55],\"showgrid\":false,\"visible\":false},\"xaxis29\":{\"anchor\":\"y29\",\"domain\":[0.1,0.9],\"showgrid\":false,\"visible\":false},\"yaxis29\":{\"anchor\":\"x29\",\"domain\":[0.5,0.55],\"showgrid\":false,\"visible\":false},\"xaxis30\":{\"anchor\":\"y30\",\"domain\":[0.9,1.0],\"showgrid\":false,\"visible\":false},\"yaxis30\":{\"anchor\":\"x30\",\"domain\":[0.5,0.55],\"showgrid\":false,\"visible\":false},\"xaxis31\":{\"anchor\":\"y31\",\"domain\":[0.0,0.1],\"showgrid\":false,\"visible\":false},\"yaxis31\":{\"anchor\":\"x31\",\"domain\":[0.45,0.5],\"showgrid\":false,\"visible\":false},\"xaxis32\":{\"anchor\":\"y32\",\"domain\":[0.1,0.9],\"showgrid\":false,\"visible\":false},\"yaxis32\":{\"anchor\":\"x32\",\"domain\":[0.45,0.5],\"showgrid\":false,\"visible\":false},\"xaxis33\":{\"anchor\":\"y33\",\"domain\":[0.9,1.0],\"showgrid\":false,\"visible\":false},\"yaxis33\":{\"anchor\":\"x33\",\"domain\":[0.45,0.5],\"showgrid\":false,\"visible\":false},\"xaxis34\":{\"anchor\":\"y34\",\"domain\":[0.0,0.1],\"showgrid\":false,\"visible\":false},\"yaxis34\":{\"anchor\":\"x34\",\"domain\":[0.4,0.45],\"showgrid\":false,\"visible\":false},\"xaxis35\":{\"anchor\":\"y35\",\"domain\":[0.1,0.9],\"showgrid\":false,\"visible\":false},\"yaxis35\":{\"anchor\":\"x35\",\"domain\":[0.4,0.45],\"showgrid\":false,\"visible\":false},\"xaxis36\":{\"anchor\":\"y36\",\"domain\":[0.9,1.0],\"showgrid\":false,\"visible\":false},\"yaxis36\":{\"anchor\":\"x36\",\"domain\":[0.4,0.45],\"showgrid\":false,\"visible\":false},\"xaxis37\":{\"anchor\":\"y37\",\"domain\":[0.0,0.1],\"showgrid\":false,\"visible\":false},\"yaxis37\":{\"anchor\":\"x37\",\"domain\":[0.35000000000000003,0.4],\"showgrid\":false,\"visible\":false},\"xaxis38\":{\"anchor\":\"y38\",\"domain\":[0.1,0.9],\"showgrid\":false,\"visible\":false},\"yaxis38\":{\"anchor\":\"x38\",\"domain\":[0.35000000000000003,0.4],\"showgrid\":false,\"visible\":false},\"xaxis39\":{\"anchor\":\"y39\",\"domain\":[0.9,1.0],\"showgrid\":false,\"visible\":false},\"yaxis39\":{\"anchor\":\"x39\",\"domain\":[0.35000000000000003,0.4],\"showgrid\":false,\"visible\":false},\"xaxis40\":{\"anchor\":\"y40\",\"domain\":[0.0,0.1],\"showgrid\":false,\"visible\":false},\"yaxis40\":{\"anchor\":\"x40\",\"domain\":[0.30000000000000004,0.35000000000000003],\"showgrid\":false,\"visible\":false},\"xaxis41\":{\"anchor\":\"y41\",\"domain\":[0.1,0.9],\"showgrid\":false,\"visible\":false},\"yaxis41\":{\"anchor\":\"x41\",\"domain\":[0.30000000000000004,0.35000000000000003],\"showgrid\":false,\"visible\":false},\"xaxis42\":{\"anchor\":\"y42\",\"domain\":[0.9,1.0],\"showgrid\":false,\"visible\":false},\"yaxis42\":{\"anchor\":\"x42\",\"domain\":[0.30000000000000004,0.35000000000000003],\"showgrid\":false,\"visible\":false},\"xaxis43\":{\"anchor\":\"y43\",\"domain\":[0.0,0.1],\"showgrid\":false,\"visible\":false},\"yaxis43\":{\"anchor\":\"x43\",\"domain\":[0.25,0.3],\"showgrid\":false,\"visible\":false},\"xaxis44\":{\"anchor\":\"y44\",\"domain\":[0.1,0.9],\"showgrid\":false,\"visible\":false},\"yaxis44\":{\"anchor\":\"x44\",\"domain\":[0.25,0.3],\"showgrid\":false,\"visible\":false},\"xaxis45\":{\"anchor\":\"y45\",\"domain\":[0.9,1.0],\"showgrid\":false,\"visible\":false},\"yaxis45\":{\"anchor\":\"x45\",\"domain\":[0.25,0.3],\"showgrid\":false,\"visible\":false},\"xaxis46\":{\"anchor\":\"y46\",\"domain\":[0.0,0.1],\"showgrid\":false,\"visible\":false},\"yaxis46\":{\"anchor\":\"x46\",\"domain\":[0.2,0.25],\"showgrid\":false,\"visible\":false},\"xaxis47\":{\"anchor\":\"y47\",\"domain\":[0.1,0.9],\"showgrid\":false,\"visible\":false},\"yaxis47\":{\"anchor\":\"x47\",\"domain\":[0.2,0.25],\"showgrid\":false,\"visible\":false},\"xaxis48\":{\"anchor\":\"y48\",\"domain\":[0.9,1.0],\"showgrid\":false,\"visible\":false},\"yaxis48\":{\"anchor\":\"x48\",\"domain\":[0.2,0.25],\"showgrid\":false,\"visible\":false},\"xaxis49\":{\"anchor\":\"y49\",\"domain\":[0.0,0.1],\"showgrid\":false,\"visible\":false},\"yaxis49\":{\"anchor\":\"x49\",\"domain\":[0.15000000000000002,0.2],\"showgrid\":false,\"visible\":false},\"xaxis50\":{\"anchor\":\"y50\",\"domain\":[0.1,0.9],\"showgrid\":false,\"visible\":false},\"yaxis50\":{\"anchor\":\"x50\",\"domain\":[0.15000000000000002,0.2],\"showgrid\":false,\"visible\":false},\"xaxis51\":{\"anchor\":\"y51\",\"domain\":[0.9,1.0],\"showgrid\":false,\"visible\":false},\"yaxis51\":{\"anchor\":\"x51\",\"domain\":[0.15000000000000002,0.2],\"showgrid\":false,\"visible\":false},\"xaxis52\":{\"anchor\":\"y52\",\"domain\":[0.0,0.1],\"showgrid\":false,\"visible\":false},\"yaxis52\":{\"anchor\":\"x52\",\"domain\":[0.1,0.15000000000000002],\"showgrid\":false,\"visible\":false},\"xaxis53\":{\"anchor\":\"y53\",\"domain\":[0.1,0.9],\"showgrid\":false,\"visible\":false},\"yaxis53\":{\"anchor\":\"x53\",\"domain\":[0.1,0.15000000000000002],\"showgrid\":false,\"visible\":false},\"xaxis54\":{\"anchor\":\"y54\",\"domain\":[0.9,1.0],\"showgrid\":false,\"visible\":false},\"yaxis54\":{\"anchor\":\"x54\",\"domain\":[0.1,0.15000000000000002],\"showgrid\":false,\"visible\":false},\"xaxis55\":{\"anchor\":\"y55\",\"domain\":[0.0,0.1],\"showgrid\":false,\"visible\":false},\"yaxis55\":{\"anchor\":\"x55\",\"domain\":[0.05,0.1],\"showgrid\":false,\"visible\":false},\"xaxis56\":{\"anchor\":\"y56\",\"domain\":[0.1,0.9],\"showgrid\":false,\"visible\":false},\"yaxis56\":{\"anchor\":\"x56\",\"domain\":[0.05,0.1],\"showgrid\":false,\"visible\":false},\"xaxis57\":{\"anchor\":\"y57\",\"domain\":[0.9,1.0],\"showgrid\":false,\"visible\":false},\"yaxis57\":{\"anchor\":\"x57\",\"domain\":[0.05,0.1],\"showgrid\":false,\"visible\":false},\"xaxis58\":{\"anchor\":\"y58\",\"domain\":[0.0,0.1],\"showgrid\":false,\"visible\":false},\"yaxis58\":{\"anchor\":\"x58\",\"domain\":[0.0,0.05],\"showgrid\":false,\"visible\":false},\"xaxis59\":{\"anchor\":\"y59\",\"domain\":[0.1,0.9],\"showgrid\":false,\"visible\":false},\"yaxis59\":{\"anchor\":\"x59\",\"domain\":[0.0,0.05],\"showgrid\":false,\"visible\":false},\"xaxis60\":{\"anchor\":\"y60\",\"domain\":[0.9,1.0],\"showgrid\":false,\"visible\":false},\"yaxis60\":{\"anchor\":\"x60\",\"domain\":[0.0,0.05],\"showgrid\":false,\"visible\":false},\"annotations\":[{\"font\":{\"size\":16},\"showarrow\":false,\"text\":\"data_id\",\"x\":0.05,\"xanchor\":\"center\",\"xref\":\"paper\",\"y\":1.0,\"yanchor\":\"bottom\",\"yref\":\"paper\"},{\"font\":{\"size\":16},\"showarrow\":false,\"text\":\"format\",\"x\":0.5,\"xanchor\":\"center\",\"xref\":\"paper\",\"y\":1.0,\"yanchor\":\"bottom\",\"yref\":\"paper\"}],\"margin\":{\"l\":0,\"r\":0,\"b\":0,\"t\":0,\"pad\":0},\"width\":600,\"height\":320,\"paper_bgcolor\":\"LightSteelBlue\",\"showlegend\":false},                        {\"responsive\": true}                    ).then(function(){\n",
       "                            \n",
       "var gd = document.getElementById('73b92c0c-3592-429d-86fc-72f07a4ce9d8');\n",
       "var x = new MutationObserver(function (mutations, observer) {{\n",
       "        var display = window.getComputedStyle(gd).display;\n",
       "        if (!display || display === 'none') {{\n",
       "            console.log([gd, 'removed!']);\n",
       "            Plotly.purge(gd);\n",
       "            observer.disconnect();\n",
       "        }}\n",
       "}});\n",
       "\n",
       "// Listen for the removal of the full notebook cells\n",
       "var notebookContainer = gd.closest('#notebook-container');\n",
       "if (notebookContainer) {{\n",
       "    x.observe(notebookContainer, {childList: true});\n",
       "}}\n",
       "\n",
       "// Listen for the clearing of the current output cell\n",
       "var outputEl = gd.closest('.output');\n",
       "if (outputEl) {{\n",
       "    x.observe(outputEl, {childList: true});\n",
       "}}\n",
       "\n",
       "                        })                };                });            </script>        </div>"
      ]
     },
     "metadata": {},
     "output_type": "display_data"
    }
   ],
   "source": [
    "def create_populated_legend(data_display_df_in, data_df_in):\n",
    "    rows_list = list(range(1,20))\n",
    "    cols_list = list(range(1,4))\n",
    "\n",
    "    table_rows=20\n",
    "    table_cols=3\n",
    "    #plot_square_dimensions = screen_height_in / 2\n",
    "    legend_width = 600 ## this will be a maximum and will shrink if screen size < 800\n",
    "    legend_height = 20 * 16\n",
    "    fig_chart_legend = make_subplots(\n",
    "                      column_titles = ['data_id','format'],\n",
    "                      rows=table_rows,\n",
    "                      cols=table_cols,\n",
    "                      horizontal_spacing = 0.00,\n",
    "                      vertical_spacing = 0.00,\n",
    "                      #subplot_titles=(titles)\n",
    "                      column_widths=[0.1,0.8,0.1])\n",
    "\n",
    "    fig_chart_legend.update_layout(\n",
    "        #    autosize=False,\n",
    "            width=legend_width,\n",
    "            height=legend_height,\n",
    "            margin=dict(\n",
    "                l=0,\n",
    "                r=0,\n",
    "                b=0,\n",
    "                t=0,\n",
    "                pad=0\n",
    "            ),\n",
    "            paper_bgcolor=\"LightSteelBlue\",\n",
    "        )\n",
    "\n",
    "    fig_chart_legend.update_xaxes(showgrid=False)\n",
    "    fig_chart_legend.update_yaxes(showgrid=False)\n",
    "    #legend\n",
    "    fig_chart_legend.update_layout(showlegend=False)\n",
    "    #x axis\n",
    "    fig_chart_legend.update_xaxes(visible=False)\n",
    "    #y axis\n",
    "    fig_chart_legend.update_yaxes(visible=False)\n",
    "\n",
    "    fig_chart_legend.data = []\n",
    "    #fig_legend_out.show()\n",
    "\n",
    "    # Any changes to the fig must be applied to the DataFrame as the dataframe\n",
    "    # will be used when the plot is saved.\n",
    "    # Saving zoom is still to be implemented\n",
    "\n",
    "    #print(\"CD : data_display_df>>>>>>>>>\", data_display_df_in)\n",
    "\n",
    "    display_legend_df = data_display_df_in[['data_id','color','style']].copy()\n",
    "    display_legend_df.drop_duplicates(inplace=True)\n",
    "\n",
    "    rowloop = 1\n",
    "    for index, row in display_legend_df.iterrows():\n",
    "        data_selected_df = data_df_in[data_df_in['id']==row['data_id']].copy()\n",
    "        trace_name = data_selected_df['data_label'].iloc[0]\n",
    "        for c in cols_list: #enumerate here to get access to i\n",
    "            # STEP 2, notice position of arguments!\n",
    "            #table_column_names = ['data_id','data_label','format']\n",
    "            scatter_mode_list = ['text-number','text-text','format']\n",
    "            table_column_names = ['data_id','trace_name','format']\n",
    "            trace_style = row['style']\n",
    "            trace_color = row['color']\n",
    "            data_id = row['data_id']\n",
    "            pt = PlotTrace()\n",
    "            pt.set_values(trace_color, trace_style)\n",
    "            #tc.set_row_col(rowloop, c)\n",
    "            #scatter_mode_list = ['text-number','text-text','format']\n",
    "            #current_column = table_column_names[c-1]\n",
    "            #current_mode = scatter_mode_list[c-1]\n",
    "            current_column = table_column_names[c-1]\n",
    "            current_mode = scatter_mode_list[c-1]\n",
    "            #print(rowloop,current_column, current_mode )\n",
    "            if current_mode =='format':\n",
    "                mode = pt.__dict__['mode']\n",
    "                #fill = 'toself'\n",
    "                fill = pt.__dict__['fill']\n",
    "                if mode == 'lines' and fill == 'none':\n",
    "                    x_data = [0,1]\n",
    "                    y_data = [0.5,0.5]\n",
    "                elif mode == 'lines' and fill == 'toself':\n",
    "                    x_data = [0,1,1,0,0]\n",
    "                    y_data = [0,0,1,1,0]\n",
    "                else:\n",
    "                    x_data = [0,1]\n",
    "                    y_data = [0.5,0.5]\n",
    "\n",
    "                fig_chart_legend.add_trace(go.Scatter(pt.__dict__,x=x_data,\n",
    "                                            y=y_data),\n",
    "                              row=rowloop, #index for the subplot, i+1 because plotly starts with 1\n",
    "                              col=c)\n",
    "\n",
    "            if current_mode =='text-number':\n",
    "                fig_chart_legend.add_trace(go.Scatter(x=[1,2],\n",
    "                                          textposition='middle right',\n",
    "                                          y=[1,1],\n",
    "                                          mode='text',\n",
    "                                          text=[str(data_id),'']\n",
    "                                        ),\n",
    "                              row=rowloop, #index for the subplot, i+1 because plotly starts with 1\n",
    "                              col=c)\n",
    "            if current_mode =='text-text':\n",
    "                fig_chart_legend.add_trace(go.Scatter(x=[1,2],\n",
    "                                          textposition='middle right',\n",
    "                                          y=[1,1],\n",
    "                                          mode='text',\n",
    "                                          text=[trace_name,'']\n",
    "                                        ),\n",
    "                              row=rowloop, #index for the subplot, i+1 because plotly starts with 1\n",
    "                              col=c)\n",
    "\n",
    "        rowloop=rowloop+1\n",
    "        fig_chart_legend.update_xaxes(showgrid=False)\n",
    "        fig_chart_legend.update_yaxes(showgrid=False)\n",
    "        #legend\n",
    "        fig_chart_legend.update_layout(showlegend=False)\n",
    "        #x axis\n",
    "        fig_chart_legend.update_xaxes(visible=False)\n",
    "        #y axis\n",
    "        fig_chart_legend.update_yaxes(visible=False)\n",
    "\n",
    "    return fig_chart_legend\n",
    "\n",
    "legend_fig = create_populated_legend(data_display_df, data_df)\n",
    "legend_fig.show()"
   ]
  },
  {
   "cell_type": "code",
   "execution_count": null,
   "metadata": {},
   "outputs": [],
   "source": [
    "data_display_df"
   ]
  },
  {
   "cell_type": "code",
   "execution_count": null,
   "metadata": {
    "id": "J-RvWsdI8Dck"
   },
   "outputs": [],
   "source": [
    "data_df"
   ]
  },
  {
   "cell_type": "code",
   "execution_count": null,
   "metadata": {},
   "outputs": [],
   "source": []
  }
 ],
 "metadata": {
  "colab": {
   "provenance": []
  },
  "kernelspec": {
   "display_name": "Python 3 (ipykernel)",
   "language": "python",
   "name": "python3"
  },
  "language_info": {
   "codemirror_mode": {
    "name": "ipython",
    "version": 3
   },
   "file_extension": ".py",
   "mimetype": "text/x-python",
   "name": "python",
   "nbconvert_exporter": "python",
   "pygments_lexer": "ipython3",
   "version": "3.12.4"
  }
 },
 "nbformat": 4,
 "nbformat_minor": 4
}
