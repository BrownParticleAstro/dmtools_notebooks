{
 "cells": [
  {
   "cell_type": "code",
   "execution_count": 1,
   "metadata": {},
   "outputs": [],
   "source": [
    "## when in colab\n",
    "# !pip install -i https://test.pypi.org/simple/ brown-edu-dmtools --upgrade"
   ]
  },
  {
   "cell_type": "code",
   "execution_count": 2,
   "metadata": {},
   "outputs": [],
   "source": [
    "# cd ~/Code/dmtools_notebooks\n",
    "# source ./env/bin/activate\n",
    "\n",
    "# on revising library with venv activated\n",
    "# cd ~/Code/dmtools/basecode/publish_library/brown_edu_dmtools\n",
    "# git pull\n",
    "# enter username and password\n",
    "# poetry build\n",
    "# pip uninstall brown-edu-dmtools \n",
    "# pip install ~/Code/dmtools/basecode/publish_library/brown_edu_dmtools/dist/brown_edu_dmtools-0.1.5-py3-none-any.whl"
   ]
  },
  {
   "cell_type": "code",
   "execution_count": 3,
   "metadata": {
    "id": "1BJwNmAqPtb1"
   },
   "outputs": [],
   "source": [
    "import ssl\n",
    "import urllib\n",
    "context = ssl._create_unverified_context()\n",
    "from urllib.request import Request, urlopen\n",
    "import json\n",
    "from io import StringIO\n",
    "import pandas as pd\n",
    "import ast"
   ]
  },
  {
   "cell_type": "code",
   "execution_count": 4,
   "metadata": {
    "id": "9jewG02D53xX"
   },
   "outputs": [],
   "source": [
    "from itertools import cycle\n",
    "import plotly.graph_objs as go\n",
    "from plotly.subplots import make_subplots"
   ]
  },
  {
   "cell_type": "code",
   "execution_count": 5,
   "metadata": {},
   "outputs": [],
   "source": [
    "import datetime"
   ]
  },
  {
   "cell_type": "code",
   "execution_count": 6,
   "metadata": {},
   "outputs": [],
   "source": [
    "from brown_edu_dmtools.dmtools_client_package.dmtools_client_module import DMToolsClient\n",
    "from brown_edu_dmtools.dmtools_client_package.dmtools_client_module import DMToolTestData"
   ]
  },
  {
   "cell_type": "code",
   "execution_count": 7,
   "metadata": {},
   "outputs": [],
   "source": [
    "## get api key and user id from local .env file\n",
    "from dotenv import load_dotenv\n",
    "import os\n",
    "from os import environ, path\n",
    "#BASE_DIR = path.abspath(path.dirname(__file__))\n",
    "BASE_DIR = os.getcwd()\n",
    "#load_dotenv(path.join(BASE_DIR, \".env\"))\n",
    "load_dotenv(path.join(BASE_DIR, \".env\"), override=True)\n",
    "MY_DMTOOLS_APIKEY = environ.get(\"MY_DMTOOLS_APIKEY\")\n",
    "MY_DMTOOLS_USERID = environ.get(\"MY_DMTOOLS_USERID\")\n",
    "Client = DMToolsClient(MY_DMTOOLS_USERID, MY_DMTOOLS_APIKEY)\n",
    "#Client.request_header"
   ]
  },
  {
   "cell_type": "code",
   "execution_count": 8,
   "metadata": {},
   "outputs": [],
   "source": [
    "## add secrets when using colab\n",
    "# from google.colab import userdata\n",
    "# MY_DMTOOLS_APIKEY = userdata.get('MY_DMTOOLS_APIKEY')\n",
    "# MY_DMTOOLS_USERID = userdata.get(\"MY_DMTOOLS_USERID\")"
   ]
  },
  {
   "cell_type": "code",
   "execution_count": 9,
   "metadata": {},
   "outputs": [],
   "source": [
    "r = Client.read() ## defaults to read all"
   ]
  },
  {
   "cell_type": "code",
   "execution_count": 10,
   "metadata": {},
   "outputs": [
    {
     "name": "stdout",
     "output_type": "stream",
     "text": [
      "{\"subject\": \"data\", \"data\": \"[[[7.0, 1.972e-40], [8.0, 1.745e-41], [9.0, 3.99605e-42], [10.0, 1.44657e-42], [11.0, 6.88567e-43], [12.0, 3.92483e-43], [13.0, 2.53937e-43], [14.0, 1.80041e-43], [15.0, 1.36651e-43], [20.0, 6.34288e-44], [25.0, 4.82693e-44], [30.0, 4.46491e-44], [35.0, 4.47831e-44], [40.0, 4.64848e-44], [45.0, 4.90415e-44], [50.0, 5.1984e-44], [55.0, 5.5259e-44], [60.0, 5.87403e-44], [65.0, 6.23234e-44], [70.0, 6.60628e-44], [75.0, 6.98284e-44], [80.0, 7.35992e-44], [85.0, 7.74999e-44], [90.0, 8.13749e-44], [95.0, 8.53623e-44], [100.0, 8.92889e-44], [110.0, 9.72357e-44], [120.0, 1.05306e-43], [130.0, 1.1331e-43], [140.0, 1.21468e-43], [150.0, 1.29606e-43], [160.0, 1.37771e-43], [170.0, 1.459e-43], [180.0, 1.5407e-43], [190.0, 1.62236e-43], [200.0, 1.7051e-43], [210.0, 1.78694e-43], [220.0, 1.86914e-43], [230.0, 1.95139e-43], [240.0, 2.03334e-43], [250.0, 2.11671e-43], [260.0, 2.19926e-43], [270.0, 2.28064e-43], [280.0, 2.36274e-43], [290.0, 2.44543e-43], [300.0, 2.52858e-43], [310.0, 2.61202e-43], [320.0, 2.693e-43], [330.0, 2.77648e-43], [340.0, 2.85977e-43], [350.0, 2.94271e-43], [360.0, 3.0251e-43], [370.0, 3.10678e-43], [380.0, 3.19066e-43], [390.0, 3.27043e-43], [400.0, 3.35546e-43], [410.0, 3.43599e-43], [420.0, 3.51846e-43], [430.0, 3.6029e-43], [440.0, 3.68576e-43], [450.0, 3.76685e-43], [460.0, 3.84972e-43], [470.0, 3.93442e-43], [480.0, 4.01704e-43], [490.0, 4.09738e-43], [500.0, 4.18342e-43], [510.0, 4.26291e-43], [520.0, 4.34817e-43], [530.0, 4.43078e-43], [540.0, 4.51497e-43], [550.0, 4.59624e-43], [560.0, 4.67897e-43], [570.0, 4.76319e-43], [580.0, 4.84417e-43], [590.0, 4.92652e-43], [600.0, 5.01027e-43], [610.0, 5.09043e-43], [620.0, 5.17697e-43], [630.0, 5.2598e-43], [640.0, 5.3387e-43], [650.0, 5.42412e-43], [660.0, 5.50548e-43], [670.0, 5.58806e-43], [680.0, 5.67188e-43], [690.0, 5.75696e-43], [700.0, 5.83756e-43], [710.0, 5.91928e-43], [720.0, 6.00215e-43], [730.0, 6.08618e-43], [740.0, 6.17139e-43], [750.0, 6.25162e-43], [760.0, 6.33289e-43], [770.0, 6.41522e-43], [780.0, 6.49861e-43], [790.0, 6.5831e-43], [800.0, 6.66868e-43], [810.0, 6.7487e-43], [820.0, 6.82968e-43], [830.0, 6.91164e-43], [840.0, 6.99458e-43], [850.0, 7.07852e-43], [860.0, 7.16346e-43], [870.0, 7.24942e-43], [880.0, 7.32916e-43], [890.0, 7.40978e-43], [900.0, 7.49129e-43], [910.0, 7.58119e-43], [920.0, 7.657e-43], [930.0, 7.74123e-43], [940.0, 7.82638e-43], [950.0, 7.91247e-43], [960.0, 7.99159e-43], [970.0, 8.07151e-43], [980.0, 8.1603e-43], [990.0, 8.2419e-43], [1000.0, 8.32432e-43]]]\"}\n",
      "[{'updated': {'Data': {'subject': 'data', 'nomhash': '--- \\njphutchinson: false\\n', 'data': '[[[7.0, 1.972e-40], [8.0, 1.745e-41], [9.0, 3.99605e-42], [10.0, 1.44657e-42], [11.0, 6.88567e-43], [12.0, 3.92483e-43], [13.0, 2.53937e-43], [14.0, 1.80041e-43], [15.0, 1.36651e-43], [20.0, 6.34288e-44], [25.0, 4.82693e-44], [30.0, 4.46491e-44], [35.0, 4.47831e-44], [40.0, 4.64848e-44], [45.0, 4.90415e-44], [50.0, 5.1984e-44], [55.0, 5.5259e-44], [60.0, 5.87403e-44], [65.0, 6.23234e-44], [70.0, 6.60628e-44], [75.0, 6.98284e-44], [80.0, 7.35992e-44], [85.0, 7.74999e-44], [90.0, 8.13749e-44], [95.0, 8.53623e-44], [100.0, 8.92889e-44], [110.0, 9.72357e-44], [120.0, 1.05306e-43], [130.0, 1.1331e-43], [140.0, 1.21468e-43], [150.0, 1.29606e-43], [160.0, 1.37771e-43], [170.0, 1.459e-43], [180.0, 1.5407e-43], [190.0, 1.62236e-43], [200.0, 1.7051e-43], [210.0, 1.78694e-43], [220.0, 1.86914e-43], [230.0, 1.95139e-43], [240.0, 2.03334e-43], [250.0, 2.11671e-43], [260.0, 2.19926e-43], [270.0, 2.28064e-43], [280.0, 2.36274e-43], [290.0, 2.44543e-43], [300.0, 2.52858e-43], [310.0, 2.61202e-43], [320.0, 2.693e-43], [330.0, 2.77648e-43], [340.0, 2.85977e-43], [350.0, 2.94271e-43], [360.0, 3.0251e-43], [370.0, 3.10678e-43], [380.0, 3.19066e-43], [390.0, 3.27043e-43], [400.0, 3.35546e-43], [410.0, 3.43599e-43], [420.0, 3.51846e-43], [430.0, 3.6029e-43], [440.0, 3.68576e-43], [450.0, 3.76685e-43], [460.0, 3.84972e-43], [470.0, 3.93442e-43], [480.0, 4.01704e-43], [490.0, 4.09738e-43], [500.0, 4.18342e-43], [510.0, 4.26291e-43], [520.0, 4.34817e-43], [530.0, 4.43078e-43], [540.0, 4.51497e-43], [550.0, 4.59624e-43], [560.0, 4.67897e-43], [570.0, 4.76319e-43], [580.0, 4.84417e-43], [590.0, 4.92652e-43], [600.0, 5.01027e-43], [610.0, 5.09043e-43], [620.0, 5.17697e-43], [630.0, 5.2598e-43], [640.0, 5.3387e-43], [650.0, 5.42412e-43], [660.0, 5.50548e-43], [670.0, 5.58806e-43], [680.0, 5.67188e-43], [690.0, 5.75696e-43], [700.0, 5.83756e-43], [710.0, 5.91928e-43], [720.0, 6.00215e-43], [730.0, 6.08618e-43], [740.0, 6.17139e-43], [750.0, 6.25162e-43], [760.0, 6.33289e-43], [770.0, 6.41522e-43], [780.0, 6.49861e-43], [790.0, 6.5831e-43], [800.0, 6.66868e-43], [810.0, 6.7487e-43], [820.0, 6.82968e-43], [830.0, 6.91164e-43], [840.0, 6.99458e-43], [850.0, 7.07852e-43], [860.0, 7.16346e-43], [870.0, 7.24942e-43], [880.0, 7.32916e-43], [890.0, 7.40978e-43], [900.0, 7.49129e-43], [910.0, 7.58119e-43], [920.0, 7.657e-43], [930.0, 7.74123e-43], [940.0, 7.82638e-43], [950.0, 7.91247e-43], [960.0, 7.99159e-43], [970.0, 8.07151e-43], [980.0, 8.1603e-43], [990.0, 8.2419e-43], [1000.0, 8.32432e-43]]]', 'date_of_announcement': '2007-01-01', 'greatest_hit': 1, 'id': 255, 'x_units': 'GeV', 'data_label': 'XENON10, 2007, first results, 58.6 live days, SI', 'date_official': '2009-07-16T00:00:00', 'created_at': None, 'limit_id': 273, 'y_units': 'cm^2', 'data_comment': 'Sigma normalized to WIMP-Nucleon [Yellin Max Gap]', 'updated_at': '2013-09-18T22:59:43', 'archived_at': '1980-01-01T00:00:00', 'experiment': 'XENON10', 'x_rescale': '1', 'data_reference': 'Phys. Rev. Lett. 100 (2008), 021303; arXiv:0706.0039', 'year': 2007, 'spin_dependency': 'SI', 'y_rescale': '1', 'file_name': 'XENON10_SI_PRL.limit', 'rating': 90, 'result_type': 'Exp', 'default_color': 'Red', 'creator_id': None, 'public': 1, 'measurement_type': 'Dir', 'default_style': 'Line', 'date_of_run_start': None, 'open': 1, 'data_values': '{[7 1.972e-40;8 1.745e-41;9 3.99605e-42;10 1.44657e-42;11 6.88567e-43;12 3.92483e-43;13 2.53937e-43;14 1.80041e-43;15 1.36651e-43;20 6.34288e-44;25 4.82693e-44;30 4.46491e-44;35 4.47831e-44;40 4.64848e-44;45 4.90415e-44;50 5.1984e-44;55 5.5259e-44;60 5.87403e-44;65 6.23234e-44;70 6.60628e-44;75 6.98284e-44;80 7.35992e-44;85 7.74999e-44;90 8.13749e-44;95 8.53623e-44;100 8.92889e-44;110 9.72357e-44;120 1.05306e-43;130 1.1331e-43;140 1.21468e-43;150 1.29606e-43;160 1.37771e-43;170 1.459e-43;180 1.5407e-43;190 1.62236e-43;200 1.7051e-43;210 1.78694e-43;220 1.86914e-43;230 1.95139e-43;240 2.03334e-43;250 2.11671e-43;260 2.19926e-43;270 2.28064e-43;280 2.36274e-43;290 2.44543e-43;300 2.52858e-43;310 2.61202e-43;320 2.693e-43;330 2.77648e-43;340 2.85977e-43;350 2.94271e-43;360 3.0251e-43;370 3.10678e-43;380 3.19066e-43;390 3.27043e-43;400 3.35546e-43;410 3.43599e-43;420 3.51846e-43;430 3.6029e-43;440 3.68576e-43;450 3.76685e-43;460 3.84972e-43;470 3.93442e-43;480 4.01704e-43;490 4.09738e-43;500 4.18342e-43;510 4.26291e-43;520 4.34817e-43;530 4.43078e-43;540 4.51497e-43;550 4.59624e-43;560 4.67897e-43;570 4.76319e-43;580 4.84417e-43;590 4.92652e-43;600 5.01027e-43;610 5.09043e-43;620 5.17697e-43;630 5.2598e-43;640 5.3387e-43;650 5.42412e-43;660 5.50548e-43;670 5.58806e-43;680 5.67188e-43;690 5.75696e-43;700 5.83756e-43;710 5.91928e-43;720 6.00215e-43;730 6.08618e-43;740 6.17139e-43;750 6.25162e-43;760 6.33289e-43;770 6.41522e-43;780 6.49861e-43;790 6.5831e-43;800 6.66868e-43;810 6.7487e-43;820 6.82968e-43;830 6.91164e-43;840 6.99458e-43;850 7.07852e-43;860 7.16346e-43;870 7.24942e-43;880 7.32916e-43;890 7.40978e-43;900 7.49129e-43;910 7.58119e-43;920 7.657e-43;930 7.74123e-43;940 7.82638e-43;950 7.91247e-43;960 7.99159e-43;970 8.07151e-43;980 8.1603e-43;990 8.2419e-43;1000 8.32432e-43]}', 'date_of_run_end': None, 'official': 1}}}]\n"
     ]
    }
   ],
   "source": [
    "Client.clean_data_values(255)"
   ]
  },
  {
   "cell_type": "code",
   "execution_count": null,
   "metadata": {},
   "outputs": [],
   "source": [
    "#len(r)\n",
    "for d in r:\n",
    "    print(d['id'])\n",
    "    data_id = d['id']\n",
    "    Client.clean_data_values(data_id)"
   ]
  },
  {
   "cell_type": "code",
   "execution_count": null,
   "metadata": {},
   "outputs": [],
   "source": [
    "data_display_json = {\n",
    " 'subject': 'data_display',\n",
    " 'name': 'Data display',\n",
    " 'plot_id': new_plot_id,\n",
    " 'color': 'red',\n",
    " 'style': 'line',\n",
    " 'data_id': new_data_id,\n",
    " 'open': 1}"
   ]
  },
  {
   "cell_type": "code",
   "execution_count": null,
   "metadata": {},
   "outputs": [],
   "source": [
    "subject = 'data_display'\n",
    "r = Client.create(subject=subject,data=data_display_json)\n",
    "r"
   ]
  },
  {
   "cell_type": "code",
   "execution_count": null,
   "metadata": {},
   "outputs": [],
   "source": [
    "Client.get_data_for_plot(new_plot_id)"
   ]
  },
  {
   "cell_type": "code",
   "execution_count": null,
   "metadata": {},
   "outputs": [],
   "source": [
    "Client.data_data_df[Client.data_data_df['trace_id']==6]"
   ]
  },
  {
   "cell_type": "code",
   "execution_count": null,
   "metadata": {
    "colab": {
     "base_uri": "https://localhost:8080/",
     "height": 206
    },
    "id": "O_hjqKvj9ccB",
    "outputId": "abe18de5-e2c7-40c3-f722-e2bebba41fb4"
   },
   "outputs": [],
   "source": [
    "#trace_list = data_data_df[['data_id','trace_id']].drop_duplicate()\n",
    "#trace_list_refs = data_data_df[['data_id','trace_id','trace_name']].copy()\n",
    "#trace_list = trace_list_refs.drop_duplicates()\n",
    "Client.trace_list"
   ]
  },
  {
   "cell_type": "code",
   "execution_count": null,
   "metadata": {},
   "outputs": [],
   "source": [
    "Client.create_plot()"
   ]
  },
  {
   "cell_type": "code",
   "execution_count": null,
   "metadata": {},
   "outputs": [],
   "source": [
    "Client.fig_chart_populated.show()"
   ]
  },
  {
   "cell_type": "code",
   "execution_count": null,
   "metadata": {},
   "outputs": [],
   "source": [
    "Client.create_populated_legend()\n",
    "Client.fig_chart_legend.show()"
   ]
  },
  {
   "cell_type": "code",
   "execution_count": null,
   "metadata": {
    "colab": {
     "base_uri": "https://localhost:8080/",
     "height": 55
    },
    "id": "YVV0TK0v6-b2",
    "outputId": "4545e8e6-8f47-4c7c-d345-2c50ac436e28"
   },
   "outputs": [],
   "source": [
    "'''\n",
    "## are we happy with hover template now data is 5 decimal places?\n",
    "hovertemplate =\n",
    "                                               '<i><b>Cross Section</b></i>: %{y:.4E}'+\n",
    "                                                  '<br><b>Mass</b>: %{x}<br>',\n",
    "showlegend=False,\n",
    "'''"
   ]
  },
  {
   "cell_type": "code",
   "execution_count": null,
   "metadata": {},
   "outputs": [],
   "source": []
  }
 ],
 "metadata": {
  "colab": {
   "provenance": []
  },
  "kernelspec": {
   "display_name": "Python 3 (ipykernel)",
   "language": "python",
   "name": "python3"
  },
  "language_info": {
   "codemirror_mode": {
    "name": "ipython",
    "version": 3
   },
   "file_extension": ".py",
   "mimetype": "text/x-python",
   "name": "python",
   "nbconvert_exporter": "python",
   "pygments_lexer": "ipython3",
   "version": "3.12.4"
  }
 },
 "nbformat": 4,
 "nbformat_minor": 4
}
