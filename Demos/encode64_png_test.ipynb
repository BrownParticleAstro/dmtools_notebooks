{
 "cells": [
  {
   "cell_type": "markdown",
   "metadata": {},
   "source": [
    "# Create and Display a Large Image in Colab via Base64\n",
    "This notebook creates a large image, encodes it to base64, and displays it inline using base64 HTML."
   ]
  },
  {
   "cell_type": "code",
   "metadata": {},
   "source": [
    "# Step 1: Create a large image (e.g., 2000x2000 pixels)\n",
    "import numpy as np\n",
    "from PIL import Image\n",
    "import io\n",
    "import base64\n",
    "\n",
    "# Create a random RGB image\n",
    "array = np.random.randint(0, 256, (2000, 2000, 3), dtype=np.uint8)\n",
    "img = Image.fromarray(array)\n",
    "\n",
    "# Save image to a BytesIO buffer\n",
    "img_buffer = io.BytesIO()\n",
    "img.save(img_buffer, format='PNG')\n",
    "img_buffer.seek(0)\n",
    "\n",
    "# Encode to base64\n",
    "dmtools_plot_url = base64.b64encode(img_buffer.getvalue()).decode('utf8')\n",
    "print('Base64 string length:', len(dmtools_plot_url))"
   ],
   "outputs": [],
   "execution_count": null
  },
  {
   "cell_type": "code",
   "metadata": {},
   "source": [
    "# Step 2: Display the base64 image inline in Colab\n",
    "from IPython.display import HTML, display\n",
    "\n",
    "display(HTML(f'<img src=\"data:image/png;base64,{dmtools_plot_url}\" style=\"max-width:600px;\"/>'))"
   ],
   "outputs": [],
   "execution_count": null
  }
 ],
 "metadata": {
  "kernelspec": {
   "display_name": "Python 3",
   "language": "python",
   "name": "python3"
  },
  "language_info": {
   "name": "python",
   "version": ""
  }
 },
 "nbformat": 4,
 "nbformat_minor": 0
}