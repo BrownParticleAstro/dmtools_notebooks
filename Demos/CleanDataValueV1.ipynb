{
 "cells": [
  {
   "cell_type": "code",
   "execution_count": 2,
   "metadata": {
    "id": "1BJwNmAqPtb1"
   },
   "outputs": [],
   "source": [
    "import ssl\n",
    "import urllib\n",
    "context = ssl._create_unverified_context()\n",
    "from urllib.request import Request, urlopen\n",
    "import json\n",
    "from io import StringIO\n",
    "import pandas as pd\n",
    "import ast"
   ]
  },
  {
   "cell_type": "code",
   "execution_count": 3,
   "metadata": {
    "id": "9jewG02D53xX"
   },
   "outputs": [],
   "source": [
    "from itertools import cycle\n",
    "import plotly.graph_objs as go\n",
    "from plotly.subplots import make_subplots"
   ]
  },
  {
   "cell_type": "code",
   "execution_count": 4,
   "metadata": {},
   "outputs": [],
   "source": [
    "import datetime"
   ]
  },
  {
   "cell_type": "code",
   "execution_count": 6,
   "metadata": {},
   "outputs": [],
   "source": [
    "from brown_edu_dmtools.dmtools_client_package.dmtools_client_module import DMToolsClient"
   ]
  },
  {
   "cell_type": "code",
   "execution_count": 7,
   "metadata": {},
   "outputs": [],
   "source": [
    "## get api key and user id from local .env file\n",
    "from dotenv import load_dotenv\n",
    "import os\n",
    "from os import environ, path\n",
    "#BASE_DIR = path.abspath(path.dirname(__file__))\n",
    "BASE_DIR = os.getcwd()\n",
    "#load_dotenv(path.join(BASE_DIR, \".env\"))\n",
    "load_dotenv(path.join(BASE_DIR, \".env\"), override=True)\n",
    "MY_DMTOOLS_APIKEY = environ.get(\"MY_DMTOOLS_APIKEY\")\n",
    "MY_DMTOOLS_USERID = environ.get(\"MY_DMTOOLS_USERID\")\n",
    "Client = DMToolsClient(MY_DMTOOLS_USERID, MY_DMTOOLS_APIKEY)\n",
    "#Client.request_header"
   ]
  },
  {
   "cell_type": "code",
   "execution_count": 20,
   "metadata": {},
   "outputs": [],
   "source": [
    "all_data = Client.read()"
   ]
  },
  {
   "cell_type": "code",
   "execution_count": 22,
   "metadata": {},
   "outputs": [],
   "source": [
    "all_id = []\n",
    "for ad in all_data:\n",
    "    all_id.append(ad['id'])"
   ]
  },
  {
   "cell_type": "code",
   "execution_count": 25,
   "metadata": {},
   "outputs": [],
   "source": [
    "#print(all_id)"
   ]
  },
  {
   "cell_type": "code",
   "execution_count": 33,
   "metadata": {},
   "outputs": [
    {
     "data": {
      "text/plain": [
       "'{[60 4e-43;70 4e-43;160 5.5e-44;320 2.5e-44;630 3.2e-44;640 3e-44;640 1.2e-44;630 1e-44;225 9e-45;215 7e-45;315 7e-46;470 2.1e-46;650 7e-47;660 6.8e-47;660 2e-47;650 2e-47;470 6e-47;315 1e-46;215 3e-46;100 8e-46;60 1e-45;60 4e-43]}'"
      ]
     },
     "execution_count": 33,
     "metadata": {},
     "output_type": "execute_result"
    }
   ],
   "source": [
    "#a_data_json_obj = Client.read(id=0, subject='data')\n",
    "a_data_json_obj = Client.read(id=1)\n",
    "data_values_string = a_data_json_obj[0]['data_values']\n",
    "data_values_string"
   ]
  },
  {
   "cell_type": "code",
   "execution_count": 34,
   "metadata": {},
   "outputs": [
    {
     "data": {
      "text/plain": [
       "'[[[60.0, 4e-43], [70.0, 4e-43], [160.0, 5.5e-44], [320.0, 2.5e-44], [630.0, 3.2e-44], [640.0, 3e-44], [640.0, 1.2e-44], [630.0, 1e-44], [225.0, 9e-45], [215.0, 7e-45], [315.0, 7e-46], [470.0, 2.1e-46], [650.0, 7e-47], [660.0, 6.8e-47], [660.0, 2e-47], [650.0, 2e-47], [470.0, 6e-47], [315.0, 1e-46], [215.0, 3e-46], [100.0, 8e-46], [60.0, 1e-45], [60.0, 4e-43]]]'"
      ]
     },
     "execution_count": 34,
     "metadata": {},
     "output_type": "execute_result"
    }
   ],
   "source": [
    "data_string = a_data_json_obj[0]['data']\n",
    "data_string"
   ]
  },
  {
   "cell_type": "code",
   "execution_count": 19,
   "metadata": {
    "colab": {
     "base_uri": "https://localhost:8080/"
    },
    "id": "66wXgH9xVDgp",
    "outputId": "6a45776c-efaa-4143-9762-c9dba7861dfd"
   },
   "outputs": [],
   "source": [
    "#json_data = json.dumps(update_data_json)\n",
    "#print(json_data)\n",
    "#r = Client.update(id=969, data=json_data)\n",
    "#r"
   ]
  },
  {
   "cell_type": "code",
   "execution_count": 19,
   "metadata": {},
   "outputs": [
    {
     "name": "stdout",
     "output_type": "stream",
     "text": [
      "{'{': 1, '[': 1, ' ': 22, ';': 21, ']': 1, '}': 1}\n"
     ]
    }
   ],
   "source": [
    "from collections import Counter\n",
    "from copy import deepcopy\n",
    "def summarize_string_by_char_occurrence(s):\n",
    "    raw_dict = dict(Counter(s))\n",
    "    clean_dict = deepcopy(raw_dict)\n",
    "    remove_these = [1,2,3,4,5,6,7,8,9,0,'e','-','.']\n",
    "    for r in remove_these:\n",
    "        clean_dict.pop(r, None)\n",
    "        try:\n",
    "            clean_dict.pop(str(r), None)\n",
    "        except:\n",
    "            a = 1\n",
    "        \n",
    "    return clean_dict\n",
    "    \n",
    "# Example usage\n",
    "s = data_values_string\n",
    "summary = summarize_string_by_char_occurrence(s)\n",
    "print(summary)"
   ]
  },
  {
   "cell_type": "code",
   "execution_count": 29,
   "metadata": {},
   "outputs": [
    {
     "name": "stdout",
     "output_type": "stream",
     "text": [
      "[3.14, -12300000000.0, 0.001]\n"
     ]
    }
   ],
   "source": [
    "import re\n",
    "\n",
    "def find_floats(s):\n",
    "    # Regex to match standard and scientific floating point numbers\n",
    "    float_pattern = re.compile(r\"\"\"\n",
    "        [-+]?\\d*\\.\\d+([eE][-+]?\\d+)? |   # Matches scientific notation (e.g., -1.23e+10)\n",
    "        [-+]?\\d+\\.?(\\d+)?([eE][-+]?\\d+)?  # Matches standard float numbers (e.g., 3.14)\n",
    "    \"\"\", re.VERBOSE)\n",
    "    \n",
    "    # Find all matches in the string\n",
    "    matches = float_pattern.findall(s)\n",
    "    \n",
    "    # Convert the match results into proper floating point numbers\n",
    "    numbers = [float(match[0]) for match in re.finditer(float_pattern, s)]\n",
    "    \n",
    "    return numbers\n",
    "\n",
    "# Example usage\n",
    "s = \"The values are 3.14, -1.23e10, and 0.001.\"\n",
    "float_numbers = find_floats(s)\n",
    "print(float_numbers)\n"
   ]
  },
  {
   "cell_type": "code",
   "execution_count": 63,
   "metadata": {},
   "outputs": [
    {
     "data": {
      "text/plain": [
       "\"\\nsummary_data = []\\ndata = []\\nfor aid in all_id:\\n    a_data_json_obj = Client.read(id=aid)\\n    data_values_string = a_data_json_obj[0]['data_values']\\n    #summary = summarize_string_by_char_occurrence(data_values_string)\\n    #summary_data.append(summary)\\n    float_numbers = find_floats(data_values_string)\\n    data.append(float_numbers)\\n\""
      ]
     },
     "execution_count": 63,
     "metadata": {},
     "output_type": "execute_result"
    }
   ],
   "source": [
    "'''\n",
    "summary_data = []\n",
    "data = []\n",
    "for aid in all_id:\n",
    "    a_data_json_obj = Client.read(id=aid)\n",
    "    data_values_string = a_data_json_obj[0]['data_values']\n",
    "    #summary = summarize_string_by_char_occurrence(data_values_string)\n",
    "    #summary_data.append(summary)\n",
    "    float_numbers = find_floats(data_values_string)\n",
    "    data.append(float_numbers)\n",
    "'''"
   ]
  },
  {
   "cell_type": "code",
   "execution_count": 28,
   "metadata": {},
   "outputs": [],
   "source": [
    "#summary_df = pd.DataFrame(data=summary_data)\n",
    "#summary_df.plot()"
   ]
  },
  {
   "cell_type": "code",
   "execution_count": 31,
   "metadata": {},
   "outputs": [],
   "source": [
    "import re"
   ]
  },
  {
   "cell_type": "code",
   "execution_count": 41,
   "metadata": {},
   "outputs": [
    {
     "data": {
      "text/plain": [
       "'60 4e-43;70 4e-43;160 5.5e-44;320 2.5e-44;630 3.2e-44;640 3e-44;640 1.2e-44;630 1e-44;225 9e-45;215 7e-45;315 7e-46;470 2.1e-46;650 7e-47;660 6.8e-47;660 2e-47;650 2e-47;470 6e-47;315 1e-46;215 3e-46;100 8e-46;60 1e-45;60 4e-43]'"
      ]
     },
     "execution_count": 41,
     "metadata": {},
     "output_type": "execute_result"
    }
   ],
   "source": [
    "strip_all_double_spaces = re.sub(r'\\s+', ' ', data_values_string).strip()\n",
    "strip_all_line_feeds = re.sub(r'[\\n\\t\\r]', '', strip_all_double_spaces)\n",
    "cleaned_str = re.sub(r\"[{}\\[\\']+\", '',strip_all_line_feeds)\n",
    "cleaned_str"
   ]
  },
  {
   "cell_type": "code",
   "execution_count": 50,
   "metadata": {},
   "outputs": [
    {
     "data": {
      "text/plain": [
       "['60 4e-43',\n",
       " '70 4e-43',\n",
       " '160 5.5e-44',\n",
       " '320 2.5e-44',\n",
       " '630 3.2e-44',\n",
       " '640 3e-44',\n",
       " '640 1.2e-44',\n",
       " '630 1e-44',\n",
       " '225 9e-45',\n",
       " '215 7e-45',\n",
       " '315 7e-46',\n",
       " '470 2.1e-46',\n",
       " '650 7e-47',\n",
       " '660 6.8e-47',\n",
       " '660 2e-47',\n",
       " '650 2e-47',\n",
       " '470 6e-47',\n",
       " '315 1e-46',\n",
       " '215 3e-46',\n",
       " '100 8e-46',\n",
       " '60 1e-45',\n",
       " '60 4e-43']"
      ]
     },
     "execution_count": 50,
     "metadata": {},
     "output_type": "execute_result"
    }
   ],
   "source": [
    "data_series = cleaned_str.split(\"]\")\n",
    "#series_count = len(data_series)\n",
    "#print(series_count)\n",
    "data_series[0].split(\";\")"
   ]
  },
  {
   "cell_type": "code",
   "execution_count": 61,
   "metadata": {},
   "outputs": [],
   "source": [
    "def clean_data_value(data_string_in):\n",
    "    \n",
    "    strip_all_double_spaces = re.sub(r'\\s+', ' ', data_string_in).strip()\n",
    "    strip_all_line_feeds = re.sub(r'[\\n\\t\\r]', '', strip_all_double_spaces)\n",
    "    cleaned_str = re.sub(r\"[{}\\[\\']+\", '',strip_all_line_feeds)\n",
    "    data_series = cleaned_str.split(\"]\")\n",
    "    \n",
    "    lol = []\n",
    "    for l in range(0,len(data_series)):\n",
    "        series_lol = []\n",
    "        series_id = 0\n",
    "        trace_id = l + 1\n",
    "        single_set = data_series[l]\n",
    "        set_list = single_set.split(\";\")\n",
    "        for i in set_list:\n",
    "            ## the following was added due to a different approach to data_string format\n",
    "            z = i.split(\" \");\n",
    "            #print('print split z >>>>', z)\n",
    "            try:\n",
    "                raw_y = z[1]\n",
    "                raw_x = z[0].replace(\",[\", \"\")\n",
    "                \n",
    "            except:\n",
    "                #print(z)\n",
    "                raw_y = '0'\n",
    "                raw_x = '0'\n",
    "            \n",
    "            try:\n",
    "                x = float(raw_x)\n",
    "                y = float(raw_y)\n",
    "                formatted_x = \"{:.5e}\".format(x)\n",
    "                formatted_y = \"{:.5e}\".format(y)\n",
    "                append_x = float(formatted_x)\n",
    "                append_y = float(formatted_y)\n",
    "                append_this = [append_x, append_y]\n",
    "                series_lol = series_lol + [append_this]\n",
    "            except:\n",
    "                print('rejected z >> ', z)\n",
    "        lol = lol + [series_lol]\n",
    "        \n",
    "    #json_return = json.dumps(lol)\n",
    "    # Convert the nested data to a JSON string\n",
    "    \n",
    "    return lol"
   ]
  },
  {
   "cell_type": "code",
   "execution_count": 62,
   "metadata": {},
   "outputs": [
    {
     "data": {
      "text/plain": [
       "{'data': [[[60.0, 4e-43],\n",
       "   [70.0, 4e-43],\n",
       "   [160.0, 5.5e-44],\n",
       "   [320.0, 2.5e-44],\n",
       "   [630.0, 3.2e-44],\n",
       "   [640.0, 3e-44],\n",
       "   [640.0, 1.2e-44],\n",
       "   [630.0, 1e-44],\n",
       "   [225.0, 9e-45],\n",
       "   [215.0, 7e-45],\n",
       "   [315.0, 7e-46],\n",
       "   [470.0, 2.1e-46],\n",
       "   [650.0, 7e-47],\n",
       "   [660.0, 6.8e-47],\n",
       "   [660.0, 2e-47],\n",
       "   [650.0, 2e-47],\n",
       "   [470.0, 6e-47],\n",
       "   [315.0, 1e-46],\n",
       "   [215.0, 3e-46],\n",
       "   [100.0, 8e-46],\n",
       "   [60.0, 1e-45],\n",
       "   [60.0, 4e-43]],\n",
       "  [[0.0, 0.0]]]}"
      ]
     },
     "execution_count": 62,
     "metadata": {},
     "output_type": "execute_result"
    }
   ],
   "source": [
    "j = clean_data_value(data_values_string)\n",
    "j_dict = dict()\n",
    "j_dict['data'] = j\n",
    "j_dict"
   ]
  },
  {
   "cell_type": "code",
   "execution_count": 37,
   "metadata": {},
   "outputs": [],
   "source": [
    "## keep original\n",
    "data_string = data_string.replace(\"{[\", \"\")\n",
    "data_string = data_string.replace(\"]}\", \"\")\n",
    "#print(data_string)\n",
    "data_series = data_string.split(\"]\")\n",
    "len(data_series)\n",
    "lol = []\n",
    "for l in range(0,len(data_series)):\n",
    "    series_lol = []\n",
    "    series_id = 0\n",
    "    trace_id = l + 1\n",
    "    single_set = data_series[l]\n",
    "    set_list = single_set.split(\";\")\n",
    "    for i in set_list:\n",
    "        ## the following was added due to a different approach to data_string format\n",
    "        r0 = i.replace(',[','')\n",
    "        r1 = r0.replace('  ',' ')\n",
    "        r2 = r1.replace('  ',' ')\n",
    "        r3 = r2.replace('  ',' ')\n",
    "        r4 = r3.replace('\\r\\n','')\n",
    "        r5 = r4.replace('\\t',' ')\n",
    "        r6 = r5.replace(',',' ')\n",
    "        r7 = r6.replace('  ',' ')\n",
    "        r8 = r7.replace('  ',' ')\n",
    "        r9 = r8.replace('\\n',' ')\n",
    "        r10 = r9.replace(\"', '\",\" \")\n",
    "        r11 = r10.replace(\"['[\",'')\n",
    "        r12 = r11.replace(']','')\n",
    "        r13 = r12.replace('[','')\n",
    "        r14 = r13.replace(',','')\n",
    "        s = r14.lstrip()\n",
    "        z = s.split(\" \");\n",
    "        try:\n",
    "            raw_y = z[1]\n",
    "            raw_x = z[0].replace(\",[\", \"\")\n",
    "            #print('print split z >>>>', z)\n",
    "        except:\n",
    "            #print(z)\n",
    "            raw_y = '0'\n",
    "            raw_x = '0'\n",
    "        \n",
    "        try:\n",
    "            x = float(raw_x)\n",
    "            y = float(raw_y)\n",
    "            #masses =  float(raw_x)\n",
    "            #cross_sections = float(raw_y)\n",
    "            formatted_x = \"{:.5e}\".format(x)\n",
    "            formatted_y = \"{:.5e}\".format(y)\n",
    "            append_x = float(formatted_x)\n",
    "            append_y = float(formatted_y)\n",
    "            #append_this = str(trace_id) + \",\" + formatted_x + \",\" + formatted_y\n",
    "            #append_this = '['+formatted_x+','+formatted_y+'],'\n",
    "            append_this = [append_x, append_y]\n",
    "            series_lol = series_lol + [append_this]\n",
    "        except:\n",
    "            print('rejected z >> ', z)\n",
    "    lol = lol + [series_lol]\n",
    "    \n",
    "\n",
    "# Convert the nested data to a JSON string\n",
    "\n",
    "nested_data_string = json.dumps(lol)"
   ]
  },
  {
   "cell_type": "code",
   "execution_count": null,
   "metadata": {},
   "outputs": [],
   "source": []
  }
 ],
 "metadata": {
  "colab": {
   "provenance": []
  },
  "kernelspec": {
   "display_name": "Python 3 (ipykernel)",
   "language": "python",
   "name": "python3"
  },
  "language_info": {
   "codemirror_mode": {
    "name": "ipython",
    "version": 3
   },
   "file_extension": ".py",
   "mimetype": "text/x-python",
   "name": "python",
   "nbconvert_exporter": "python",
   "pygments_lexer": "ipython3",
   "version": "3.12.4"
  }
 },
 "nbformat": 4,
 "nbformat_minor": 4
}
