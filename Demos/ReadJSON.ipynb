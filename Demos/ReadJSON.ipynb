{
 "cells": [
  {
   "cell_type": "code",
   "execution_count": null,
   "id": "5aad29ec-9b1a-4ad0-847f-60ad600c97cd",
   "metadata": {},
   "outputs": [],
   "source": [
    "import json"
   ]
  },
  {
   "cell_type": "code",
   "execution_count": null,
   "id": "0075adb0-751a-41f4-8296-39ccf3097f9e",
   "metadata": {},
   "outputs": [],
   "source": [
    "with open('limit_display_ruby.json') as f:\n",
    "    d = json.load(f)\n",
    "    #print(d)\n",
    "    keys = list(d.keys())\n",
    "    listofdicts = d.get(keys[0])\n",
    "    lodasstr = listofdicts[0]['json_array']\n",
    "    limit_display_data = json.loads(lodasstr)\n",
    "limit_display_data"
   ]
  },
  {
   "cell_type": "code",
   "execution_count": null,
   "id": "7f46aa0e-d974-4574-833e-ff27c7ebbe15",
   "metadata": {},
   "outputs": [],
   "source": [
    "with open('/home/andrew1tb/Code/dmtools_notebooks/limit_displays_data.json', 'w') as f:\n",
    "    json.dump(limit_display_data, f)"
   ]
  },
  {
   "cell_type": "code",
   "execution_count": null,
   "id": "0e1fb141-ad61-4bc9-9d4c-4bac3e569b0d",
   "metadata": {},
   "outputs": [],
   "source": []
  },
  {
   "cell_type": "code",
   "execution_count": null,
   "id": "595fff0c-34e8-459c-a0c0-e6cef0c227a1",
   "metadata": {},
   "outputs": [],
   "source": [
    "with open('dmtools_plots.json') as f:\n",
    "    d = json.load(f)\n",
    "    #print(d)\n",
    "    keys = list(d.keys())\n",
    "    listofdicts = d.get(keys[0])\n",
    "    lodasstr = listofdicts[0]['json_array']\n",
    "    plot_data = json.loads(lodasstr)\n",
    "plot_data"
   ]
  },
  {
   "cell_type": "code",
   "execution_count": null,
   "id": "b4013ae4-8bd7-4cfb-b71e-6cf7e248b4c1",
   "metadata": {},
   "outputs": [],
   "source": [
    "with open('/home/andrew1tb/Code/dmtools_notebooks/plot_data.json', 'w') as f:\n",
    "    json.dump(plot_data, f)"
   ]
  },
  {
   "cell_type": "code",
   "execution_count": null,
   "id": "990d8661-2ab9-4c43-a451-374b7570c30e",
   "metadata": {},
   "outputs": [],
   "source": [
    "with open('dmtools_limits.json') as f:\n",
    "    d = json.load(f)\n",
    "    keys = list(d.keys())\n",
    "    #print(keys)\n",
    "    listofdicts = d.get(keys[0])\n",
    "limits_data = listofdicts[0]['json_array']"
   ]
  },
  {
   "cell_type": "code",
   "execution_count": null,
   "id": "369a7001-e6af-4842-9851-aec0be67183c",
   "metadata": {},
   "outputs": [],
   "source": [
    "with open('/home/andrew1tb/Code/dmtools_notebooks/limits_data.json', 'w') as f:\n",
    "    json.dump(limits_data, f)"
   ]
  },
  {
   "cell_type": "code",
   "execution_count": null,
   "id": "d8665fd0-193a-48fb-ad98-fea42b406aa6",
   "metadata": {},
   "outputs": [],
   "source": [
    "with open('dmtools_limit_displays.json') as f:\n",
    "    d = json.load(f)\n",
    "    #print(d)\n",
    "    keys = list(d.keys())\n",
    "    listofdicts = d.get(keys[0])\n",
    "    lodasstr = listofdicts[0]['json_array']\n",
    "    limits_display_data = json.loads(lodasstr)\n",
    "#limits_display_data"
   ]
  },
  {
   "cell_type": "code",
   "execution_count": null,
   "id": "0bc88a92-4ede-49f8-adcd-189c1a7a3fe1",
   "metadata": {},
   "outputs": [],
   "source": [
    "with open('/home/andrew1tb/Code/dmtools_notebooks/limit_displays_data.json', 'w') as f:\n",
    "    json.dump(limits_display_data, f)"
   ]
  },
  {
   "cell_type": "code",
   "execution_count": null,
   "id": "5e6d7afd-765e-4f40-b536-d3600607b063",
   "metadata": {},
   "outputs": [],
   "source": []
  },
  {
   "cell_type": "code",
   "execution_count": null,
   "id": "4324f238-5ebf-4502-a36f-48c00f619332",
   "metadata": {},
   "outputs": [],
   "source": [
    "type(d)"
   ]
  },
  {
   "cell_type": "code",
   "execution_count": null,
   "id": "5374f7a9-2fc6-4c68-a263-f4457e7d5db0",
   "metadata": {},
   "outputs": [],
   "source": []
  },
  {
   "cell_type": "code",
   "execution_count": null,
   "id": "8e5df391-98fc-40a2-94af-3a507c2933e6",
   "metadata": {},
   "outputs": [],
   "source": [
    "keys = list(d.keys())"
   ]
  },
  {
   "cell_type": "code",
   "execution_count": null,
   "id": "750629fa-feeb-420c-8fb6-36b7e97c96b8",
   "metadata": {},
   "outputs": [],
   "source": [
    "listofdicts = d.get(keys[0])"
   ]
  },
  {
   "cell_type": "code",
   "execution_count": null,
   "id": "a47046da-aa5b-4168-a1e9-580bac15f77e",
   "metadata": {},
   "outputs": [],
   "source": [
    "lodasstr = listofdicts[0]['json_array']"
   ]
  },
  {
   "cell_type": "code",
   "execution_count": null,
   "id": "9c17a5a0-e11c-48d5-b53e-39c726fd0cd7",
   "metadata": {},
   "outputs": [],
   "source": [
    "data = json.loads(lodasstr)\n",
    "data"
   ]
  },
  {
   "cell_type": "code",
   "execution_count": null,
   "id": "22f86ed9-0327-46f5-b08b-686b7dc35cdc",
   "metadata": {},
   "outputs": [],
   "source": []
  }
 ],
 "metadata": {
  "kernelspec": {
   "display_name": "Python 3 (ipykernel)",
   "language": "python",
   "name": "python3"
  },
  "language_info": {
   "codemirror_mode": {
    "name": "ipython",
    "version": 3
   },
   "file_extension": ".py",
   "mimetype": "text/x-python",
   "name": "python",
   "nbconvert_exporter": "python",
   "pygments_lexer": "ipython3",
   "version": "3.12.7"
  }
 },
 "nbformat": 4,
 "nbformat_minor": 5
}
