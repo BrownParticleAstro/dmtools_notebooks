{
 "cells": [
  {
   "cell_type": "code",
   "execution_count": 1,
   "metadata": {
    "id": "1BJwNmAqPtb1"
   },
   "outputs": [],
   "source": [
    "import ssl\n",
    "import urllib\n",
    "context = ssl._create_unverified_context()\n",
    "from urllib.request import Request, urlopen\n",
    "import json\n",
    "from io import StringIO\n",
    "import pandas as pd\n",
    "import ast"
   ]
  },
  {
   "cell_type": "code",
   "execution_count": 2,
   "metadata": {
    "id": "9jewG02D53xX"
   },
   "outputs": [],
   "source": [
    "from itertools import cycle\n",
    "import plotly.graph_objs as go\n",
    "from plotly.subplots import make_subplots"
   ]
  },
  {
   "cell_type": "code",
   "execution_count": 3,
   "metadata": {},
   "outputs": [],
   "source": [
    "from dmtools_client_package.dmtools_client_module import DMToolsClient\n",
    "from dmtools_client_package.dmtools_client_module import PlotTrace\n",
    "from dmtools_client_package.dmtools_client_module import DMToolTestData"
   ]
  },
  {
   "cell_type": "code",
   "execution_count": 4,
   "metadata": {},
   "outputs": [],
   "source": [
    "## get api key and user id from local .env file\n",
    "from dotenv import load_dotenv\n",
    "import os\n",
    "from os import environ, path\n",
    "#BASE_DIR = path.abspath(path.dirname(__file__))\n",
    "BASE_DIR = os.getcwd()\n",
    "#load_dotenv(path.join(BASE_DIR, \".env\"))\n",
    "load_dotenv(path.join(BASE_DIR, \".env\"), override=True)\n",
    "MY_DMTOOLS_APIKEY = environ.get(\"MY_DMTOOLS_APIKEY\")\n",
    "MY_DMTOOLS_USERID = environ.get(\"MY_DMTOOLS_USERID\")\n",
    "Client = DMToolsClient(MY_DMTOOLS_USERID, MY_DMTOOLS_APIKEY)"
   ]
  },
  {
   "cell_type": "code",
   "execution_count": 5,
   "metadata": {
    "jupyter": {
     "source_hidden": true
    }
   },
   "outputs": [],
   "source": [
    "## get api key and user id from local .env file\n",
    "from dotenv import load_dotenv\n",
    "import os\n",
    "from os import environ, path\n",
    "#BASE_DIR = path.abspath(path.dirname(__file__))\n",
    "BASE_DIR = os.getcwd()\n",
    "load_dotenv(path.join(BASE_DIR, \".env\"))\n",
    "MY_DMTOOLS_APIKEY = environ.get(\"MY_DMTOOLS_APIKEY\")\n",
    "MY_DMTOOLS_USERID = environ.get(\"MY_DMTOOLS_USERID\")\n",
    "Client = DMToolsClient(MY_DMTOOLS_USERID, MY_DMTOOLS_APIKEY)"
   ]
  },
  {
   "cell_type": "code",
   "execution_count": 6,
   "metadata": {
    "id": "dUYQoNMSyL0h"
   },
   "outputs": [],
   "source": [
    "pt_in = {'mode': 'lines+markers',\n",
    " 'line': {'color': 'black', 'width': 1, 'dash': 'dash'},\n",
    " 'marker': {'symbol': 'blah'},\n",
    " 'fillcolor': None,\n",
    " 'opacity': 1,\n",
    " 'fill': 'none'}\n",
    "#fig_chart_test.add_trace(go.Scatter(tc_in,x=[1],y=[2],name='name'))"
   ]
  },
  {
   "cell_type": "code",
   "execution_count": 7,
   "metadata": {},
   "outputs": [
    {
     "data": {
      "text/html": [
       "<div>\n",
       "<style scoped>\n",
       "    .dataframe tbody tr th:only-of-type {\n",
       "        vertical-align: middle;\n",
       "    }\n",
       "\n",
       "    .dataframe tbody tr th {\n",
       "        vertical-align: top;\n",
       "    }\n",
       "\n",
       "    .dataframe thead th {\n",
       "        text-align: right;\n",
       "    }\n",
       "</style>\n",
       "<table border=\"1\" class=\"dataframe\">\n",
       "  <thead>\n",
       "    <tr style=\"text-align: right;\">\n",
       "      <th></th>\n",
       "      <th>x</th>\n",
       "      <th>y</th>\n",
       "      <th>data_id</th>\n",
       "      <th>trace_id</th>\n",
       "      <th>trace_name</th>\n",
       "    </tr>\n",
       "  </thead>\n",
       "  <tbody>\n",
       "    <tr>\n",
       "      <th>0</th>\n",
       "      <td>30</td>\n",
       "      <td>0</td>\n",
       "      <td>999</td>\n",
       "      <td>1</td>\n",
       "      <td>d</td>\n",
       "    </tr>\n",
       "    <tr>\n",
       "      <th>1</th>\n",
       "      <td>65</td>\n",
       "      <td>5</td>\n",
       "      <td>999</td>\n",
       "      <td>1</td>\n",
       "      <td>d</td>\n",
       "    </tr>\n",
       "    <tr>\n",
       "      <th>2</th>\n",
       "      <td>90</td>\n",
       "      <td>25</td>\n",
       "      <td>999</td>\n",
       "      <td>1</td>\n",
       "      <td>d</td>\n",
       "    </tr>\n",
       "    <tr>\n",
       "      <th>3</th>\n",
       "      <td>100</td>\n",
       "      <td>50</td>\n",
       "      <td>999</td>\n",
       "      <td>1</td>\n",
       "      <td>d</td>\n",
       "    </tr>\n",
       "    <tr>\n",
       "      <th>4</th>\n",
       "      <td>90</td>\n",
       "      <td>75</td>\n",
       "      <td>999</td>\n",
       "      <td>1</td>\n",
       "      <td>d</td>\n",
       "    </tr>\n",
       "    <tr>\n",
       "      <th>...</th>\n",
       "      <td>...</td>\n",
       "      <td>...</td>\n",
       "      <td>...</td>\n",
       "      <td>...</td>\n",
       "      <td>...</td>\n",
       "    </tr>\n",
       "    <tr>\n",
       "      <th>109</th>\n",
       "      <td>600</td>\n",
       "      <td>20</td>\n",
       "      <td>999</td>\n",
       "      <td>6</td>\n",
       "      <td>l</td>\n",
       "    </tr>\n",
       "    <tr>\n",
       "      <th>110</th>\n",
       "      <td>530</td>\n",
       "      <td>20</td>\n",
       "      <td>999</td>\n",
       "      <td>6</td>\n",
       "      <td>l</td>\n",
       "    </tr>\n",
       "    <tr>\n",
       "      <th>111</th>\n",
       "      <td>530</td>\n",
       "      <td>100</td>\n",
       "      <td>999</td>\n",
       "      <td>6</td>\n",
       "      <td>l</td>\n",
       "    </tr>\n",
       "    <tr>\n",
       "      <th>112</th>\n",
       "      <td>510</td>\n",
       "      <td>100</td>\n",
       "      <td>999</td>\n",
       "      <td>6</td>\n",
       "      <td>l</td>\n",
       "    </tr>\n",
       "    <tr>\n",
       "      <th>113</th>\n",
       "      <td>510</td>\n",
       "      <td>0</td>\n",
       "      <td>999</td>\n",
       "      <td>6</td>\n",
       "      <td>l</td>\n",
       "    </tr>\n",
       "  </tbody>\n",
       "</table>\n",
       "<p>114 rows × 5 columns</p>\n",
       "</div>"
      ],
      "text/plain": [
       "       x    y  data_id  trace_id trace_name\n",
       "0     30    0      999         1          d\n",
       "1     65    5      999         1          d\n",
       "2     90   25      999         1          d\n",
       "3    100   50      999         1          d\n",
       "4     90   75      999         1          d\n",
       "..   ...  ...      ...       ...        ...\n",
       "109  600   20      999         6          l\n",
       "110  530   20      999         6          l\n",
       "111  530  100      999         6          l\n",
       "112  510  100      999         6          l\n",
       "113  510    0      999         6          l\n",
       "\n",
       "[114 rows x 5 columns]"
      ]
     },
     "execution_count": 7,
     "metadata": {},
     "output_type": "execute_result"
    }
   ],
   "source": [
    "td = DMToolTestData()\n",
    "td.MakeDMTool(999,1)\n",
    "td.dmtdf\n"
   ]
  },
  {
   "cell_type": "code",
   "execution_count": 8,
   "metadata": {},
   "outputs": [],
   "source": [
    "lol = []\n",
    "trace_lol = []\n",
    "previous_trace_id = 1\n",
    "for index, row in td.dmtdf.iterrows():\n",
    "    #print(row['trace_id'],row['x'], row['y'])\n",
    "    append_this = [row['x'], row['y']]\n",
    "    if previous_trace_id == row['trace_id']:\n",
    "        trace_lol = trace_lol + [append_this]\n",
    "    else:\n",
    "        lol = lol + [trace_lol]\n",
    "        trace_lol = []\n",
    "    previous_trace_id = row['trace_id']\n",
    "#lol\n",
    "nested_data_string = json.dumps(lol)"
   ]
  },
  {
   "cell_type": "code",
   "execution_count": 9,
   "metadata": {},
   "outputs": [
    {
     "data": {
      "text/plain": [
       "{'id': None,\n",
       " 'subject': 'data',\n",
       " 'limit_id': -1,\n",
       " 'experiment': 'Experiment A',\n",
       " 'spin_dependency': 'SI',\n",
       " 'result_type': 'Result Type',\n",
       " 'measurement_type': 'Measurement Type',\n",
       " 'nomhash': 'nomhash',\n",
       " 'x_units': 'x units',\n",
       " 'y_units': 'y units',\n",
       " 'x_rescale': 'b',\n",
       " 'y_rescale': 'b',\n",
       " 'default_color': 'red',\n",
       " 'default_style': 'solid',\n",
       " 'data_values': '{[1 1; 1 0]}',\n",
       " 'data': '[[[\"1.00000e+01\", \"1.00000e-43\"]]]',\n",
       " 'data_label': 'Data Label',\n",
       " 'data_comment': 'Data Comment',\n",
       " 'data_reference': 'Data Reference',\n",
       " 'file_name': 'Filename',\n",
       " 'creator_id': -1,\n",
       " 'date_of_run_start': '1980-01-01T00:00:00',\n",
       " 'date_of_run_end': '1980-01-01T00:00:00',\n",
       " 'date_of_announcement': '1980-01-01T00:00:00',\n",
       " 'date_official': '1980-01-01T00:00:00',\n",
       " 'year': None,\n",
       " 'rating': -1,\n",
       " 'public': 0,\n",
       " 'open': 0,\n",
       " 'official': 0,\n",
       " 'greatest_hit': 0,\n",
       " 'created_at': '2024-08-02T07:53:24.584809',\n",
       " 'updated_at': '2024-08-02T07:53:24.584818',\n",
       " 'archived_at': '1980-01-01T00:00:00'}"
      ]
     },
     "execution_count": 9,
     "metadata": {},
     "output_type": "execute_result"
    }
   ],
   "source": [
    "purpose = 'read_a'\n",
    "subject = 'data'\n",
    "Client.create_current_url(purpose, subject, -1)\n",
    "a_data_json_obj = Client.read_current_as_json()\n",
    "a_data_json_obj"
   ]
  },
  {
   "cell_type": "code",
   "execution_count": 10,
   "metadata": {},
   "outputs": [],
   "source": [
    "data_json = {\n",
    "  \"subject\": \"data\",\n",
    "  \"limit_id\": -1,\n",
    "  \"experiment\": \"Experiment DMTOOLS\",\n",
    "  \"spin_dependency\": \"SI\",\n",
    "  \"result_type\": \"Result Type\",\n",
    "  \"measurement_type\": \"Measurement Type\",\n",
    "  \"nomhash\": \"nomhash\",\n",
    "  \"x_units\": \"x units\",\n",
    "  \"y_units\": \"y units\",\n",
    "  \"x_rescale\": \"b\",\n",
    "  \"y_rescale\": \"b\",\n",
    "  \"default_color\": \"red\",\n",
    "  \"default_style\": \"solid\",\n",
    "  \"data_values\": \"{[1 1; 1 0]}\",\n",
    "  \"data\": nested_data_string,\n",
    "  \"data_label\": \"DMTOOLS Test Data\",\n",
    "  \"data_comment\": \"DMTOOLS Comment\",\n",
    "  \"data_reference\": \"DMTOOLS Reference\",\n",
    "  \"file_name\": \"Filename\",\n",
    "  \"creator_id\": -1,\n",
    "  \"year\": 0,\n",
    "  \"rating\": -1,\n",
    "  \"public\": 0,\n",
    "  \"open\": 1,\n",
    "  \"official\": 0,\n",
    "  \"greatest_hit\": 0\n",
    "}"
   ]
  },
  {
   "cell_type": "code",
   "execution_count": 11,
   "metadata": {},
   "outputs": [
    {
     "data": {
      "text/plain": [
       "{'experiment': 'Experiment DMTOOLS',\n",
       " 'y_rescale': 'b',\n",
       " 'date_of_run_start': '1980-01-01T00:00:00',\n",
       " 'public': 0,\n",
       " 'spin_dependency': 'SI',\n",
       " 'default_color': 'red',\n",
       " 'date_of_run_end': '1980-01-01T00:00:00',\n",
       " 'open': 1,\n",
       " 'id': 961,\n",
       " 'result_type': 'Result Type',\n",
       " 'default_style': 'solid',\n",
       " 'data': '[[[30, 0], [65, 5], [90, 25], [100, 50], [90, 75], [65, 95], [30, 100], [60, 85], [75, 75], [80, 50], [75, 35], [60, 15], [30, 0], [10, 0], [10, 100], [30, 100], [30, 0]], [[190, 100], [190, 0], [170, 0], [170, 50], [160, 25], [150, 0], [130, 50], [130, 0], [110, 0], [110, 100], [130, 100], [160, 25]], [[210, 100], [290, 100], [290, 80], [260, 80], [260, 0], [240, 0], [240, 80], [210, 80]], [[335, 5], [320, 15], [313, 30], [310, 50], [313, 70], [320, 90], [335, 97], [350, 100], [340, 85], [335, 70], [333, 65], [330, 50], [333, 35], [335, 25], [340, 12], [350, 0], [350, 0], [365, 5], [380, 15], [387, 30], [390, 50], [387, 70], [380, 90], [365, 97], [350, 100], [360, 85], [365, 70], [367, 65], [370, 50], [367, 35], [365, 25], [360, 12], [350, 0]], [[435, 5], [420, 15], [413, 30], [410, 50], [413, 70], [420, 90], [435, 97], [450, 100], [440, 85], [435, 70], [433, 65], [430, 50], [433, 35], [435, 25], [440, 12], [450, 0], [450, 0], [465, 5], [480, 15], [487, 30], [490, 50], [487, 70], [480, 90], [465, 97], [450, 100], [460, 85], [465, 70], [467, 65], [470, 50], [467, 35], [465, 25], [460, 12], [450, 0]]]',\n",
       " 'date_of_announcement': '1980-01-01',\n",
       " 'official': 0,\n",
       " 'measurement_type': 'Measurement Type',\n",
       " 'data_values': '{[1 1; 1 0]}',\n",
       " 'data_label': 'DMTOOLS Test Data',\n",
       " 'date_official': '1980-01-01T00:00:00',\n",
       " 'greatest_hit': 0,\n",
       " 'nomhash': 'nomhash',\n",
       " 'data_comment': 'DMTOOLS Comment',\n",
       " 'created_at': '2024-08-02T07:53:41',\n",
       " 'x_units': 'x units',\n",
       " 'data_reference': 'DMTOOLS Reference',\n",
       " 'year': 0,\n",
       " 'updated_at': '2024-08-02T07:53:41',\n",
       " 'limit_id': -1,\n",
       " 'y_units': 'y units',\n",
       " 'file_name': 'Filename',\n",
       " 'rating': -1,\n",
       " 'archived_at': '1980-01-01T00:00:00',\n",
       " 'subject': 'data',\n",
       " 'x_rescale': 'b',\n",
       " 'creator_id': -1}"
      ]
     },
     "execution_count": 11,
     "metadata": {},
     "output_type": "execute_result"
    }
   ],
   "source": [
    "purpose = 'create_a'\n",
    "subject = 'data'\n",
    "Client.create_current_url(purpose, subject, '')\n",
    "#json_data = json.dumps(update_data_json)\n",
    "#print(json_data)\n",
    "r = Client.create_current(data_json,'')\n",
    "#a_data_json_obj = Client.update_current(1,update_data_json,'')\n",
    "#r['id']\n",
    "r"
   ]
  },
  {
   "cell_type": "code",
   "execution_count": 13,
   "metadata": {},
   "outputs": [],
   "source": [
    "update_data_json = {##'id': None,\n",
    " 'data': '[[[\"1.00000e+01\", \"1.00000e-43\"]]]'}"
   ]
  },
  {
   "cell_type": "code",
   "execution_count": 14,
   "metadata": {
    "colab": {
     "base_uri": "https://localhost:8080/"
    },
    "id": "66wXgH9xVDgp",
    "outputId": "6a45776c-efaa-4143-9762-c9dba7861dfd"
   },
   "outputs": [
    {
     "name": "stdout",
     "output_type": "stream",
     "text": [
      "{\"data\": \"[[[\\\"1.00000e+01\\\", \\\"1.00000e-43\\\"]]]\"}\n"
     ]
    }
   ],
   "source": [
    "purpose = 'update_a'\n",
    "subject = 'data'\n",
    "Client.create_current_url(purpose, subject, 961)\n",
    "json_data = json.dumps(update_data_json)\n",
    "print(json_data)\n",
    "r = Client.update_current(1, json_data,'')\n",
    "#a_data_json_obj = Client.update_current(1,update_data_json,'')\n",
    "#a_data_json_obj['data']"
   ]
  },
  {
   "cell_type": "code",
   "execution_count": 15,
   "metadata": {},
   "outputs": [
    {
     "data": {
      "text/plain": [
       "{'updated': {'Data': 'experiment=\\'Experiment DMTOOLS\\' y_rescale=\\'b\\' date_of_run_start=datetime.datetime(1980, 1, 1, 0, 0) public=0 spin_dependency=\\'SI\\' default_color=\\'red\\' date_of_run_end=datetime.datetime(1980, 1, 1, 0, 0) open=1 id=961 result_type=\\'Result Type\\' default_style=\\'solid\\' data=\\'[[[\"1.00000e+01\", \"1.00000e-43\"]]]\\' date_of_announcement=datetime.date(1980, 1, 1) official=0 measurement_type=\\'Measurement Type\\' data_values=\\'{[1 1; 1 0]}\\' data_label=\\'DMTOOLS Test Data\\' date_official=datetime.datetime(1980, 1, 1, 0, 0) greatest_hit=0 nomhash=\\'nomhash\\' data_comment=\\'DMTOOLS Comment\\' created_at=datetime.datetime(2024, 8, 2, 7, 53, 41) x_units=\\'x units\\' data_reference=\\'DMTOOLS Reference\\' year=0 updated_at=datetime.datetime(2024, 8, 2, 7, 53, 41) limit_id=-1 y_units=\\'y units\\' file_name=\\'Filename\\' rating=-1 archived_at=datetime.datetime(1980, 1, 1, 0, 0) subject=\\'data\\' x_rescale=\\'b\\' creator_id=-1'}}"
      ]
     },
     "execution_count": 15,
     "metadata": {},
     "output_type": "execute_result"
    }
   ],
   "source": [
    "r"
   ]
  },
  {
   "cell_type": "code",
   "execution_count": 23,
   "metadata": {
    "colab": {
     "base_uri": "https://localhost:8080/"
    },
    "id": "rlVPBL329Aav",
    "outputId": "cdcc8512-a194-4791-ddec-9e4bf9f255c0"
   },
   "outputs": [
    {
     "data": {
      "text/plain": [
       "{'id': '958',\n",
       " 'limit_id': '-1',\n",
       " 'subject': 'data',\n",
       " 'spin_dependency': 'SI',\n",
       " 'result_type': 'Result Type',\n",
       " 'measurement_type': 'Measurement Type',\n",
       " 'x_units': 'x units',\n",
       " 'y_units': 'y units',\n",
       " 'x_rescale': 'b',\n",
       " 'y_rescale': 'b',\n",
       " 'default_color': 'red',\n",
       " 'default_style': 'solid',\n",
       " 'data_values': '{[1 1; 1 0]}',\n",
       " 'data': '[[[30, 0], [65, 5], [90, 25], [100, 50], [90, 75], [65, 95], [30, 100], [60, 85], [75, 75], [80, 50], [75, 35], [60, 15], [30, 0], [10, 0], [10, 100], [30, 100], [30, 0]], [[190, 100], [190, 0], [170, 0], [170, 50], [160, 25], [150, 0], [130, 50], [130, 0], [110, 0], [110, 100], [130, 100], [160, 25]], [[210, 100], [290, 100], [290, 80], [260, 80], [260, 0], [240, 0], [240, 80], [210, 80]], [[335, 5], [320, 15], [313, 30], [310, 50], [313, 70], [320, 90], [335, 97], [350, 100], [340, 85], [335, 70], [333, 65], [330, 50], [333, 35], [335, 25], [340, 12], [350, 0], [350, 0], [365, 5], [380, 15], [387, 30], [390, 50], [387, 70], [380, 90], [365, 97], [350, 100], [360, 85], [365, 70], [367, 65], [370, 50], [367, 35], [365, 25], [360, 12], [350, 0]], [[435, 5], [420, 15], [413, 30], [410, 50], [413, 70], [420, 90], [435, 97], [450, 100], [440, 85], [435, 70], [433, 65], [430, 50], [433, 35], [435, 25], [440, 12], [450, 0], [450, 0], [465, 5], [480, 15], [487, 30], [490, 50], [487, 70], [480, 90], [465, 97], [450, 100], [460, 85], [465, 70], [467, 65], [470, 50], [467, 35], [465, 25], [460, 12], [450, 0]]]',\n",
       " 'data_label': 'DMTOOLS Test Data',\n",
       " 'file_name': 'Filename',\n",
       " 'data_comment': 'DMTOOLS Comment',\n",
       " 'data_reference': 'DMTOOLS Reference',\n",
       " 'updated_at': '2024-08-01 08:50:31',\n",
       " 'creator_id': '-1',\n",
       " 'experiment': 'Experiment DMTOOLS',\n",
       " 'rating': '-1',\n",
       " 'date_of_announcement': '1980-01-01',\n",
       " 'public': '0',\n",
       " 'open': '1',\n",
       " 'official': '0',\n",
       " 'date_official': '1980-01-01 00:00:00',\n",
       " 'greatest_hit': '0',\n",
       " 'date_of_run_start': '1980-01-01 00:00:00',\n",
       " 'date_of_run_end': '1980-01-01 00:00:00',\n",
       " 'year': '0'}"
      ]
     },
     "execution_count": 23,
     "metadata": {},
     "output_type": "execute_result"
    }
   ],
   "source": [
    "purpose = 'read_a'\n",
    "subject = 'data'\n",
    "id = '958'\n",
    "Client.create_current_url(purpose, subject, id)\n",
    "a_data_json_obj = Client.read_current_as_json()\n",
    "a_data_json_obj"
   ]
  },
  {
   "cell_type": "code",
   "execution_count": 24,
   "metadata": {},
   "outputs": [
    {
     "name": "stdout",
     "output_type": "stream",
     "text": [
      "{\"data\": \"[[[\\\"1.00000e+01\\\", \\\"1.00000e-43\\\"]]]\"}\n"
     ]
    },
    {
     "ename": "NameError",
     "evalue": "name 'encoded_data' is not defined",
     "output_type": "error",
     "traceback": [
      "\u001b[0;31m---------------------------------------------------------------------------\u001b[0m",
      "\u001b[0;31mHTTPError\u001b[0m                                 Traceback (most recent call last)",
      "File \u001b[0;32m~/Documents/Code/Work/Brown_Working/dmtools_notebooks/brown_edu_dmtools/src/dmtools_client_package/dmtools_client_module.py:159\u001b[0m, in \u001b[0;36mDMToolsClient.delete_current\u001b[0;34m(self, data_id_in, url_in)\u001b[0m\n\u001b[1;32m    158\u001b[0m \u001b[38;5;28;01mtry\u001b[39;00m:\n\u001b[0;32m--> 159\u001b[0m     \u001b[38;5;28;01mwith\u001b[39;00m \u001b[43murllib\u001b[49m\u001b[38;5;241;43m.\u001b[39;49m\u001b[43mrequest\u001b[49m\u001b[38;5;241;43m.\u001b[39;49m\u001b[43murlopen\u001b[49m\u001b[43m(\u001b[49m\u001b[43mdelete_request\u001b[49m\u001b[43m,\u001b[49m\u001b[43m \u001b[49m\u001b[43mcontext\u001b[49m\u001b[38;5;241;43m=\u001b[39;49m\u001b[38;5;28;43mself\u001b[39;49m\u001b[38;5;241;43m.\u001b[39;49m\u001b[43mcontext\u001b[49m\u001b[43m)\u001b[49m \u001b[38;5;28;01mas\u001b[39;00m response:\n\u001b[1;32m    160\u001b[0m         response_data \u001b[38;5;241m=\u001b[39m response\u001b[38;5;241m.\u001b[39mread()\u001b[38;5;241m.\u001b[39mdecode(\u001b[38;5;124m'\u001b[39m\u001b[38;5;124mutf-8\u001b[39m\u001b[38;5;124m'\u001b[39m)\n",
      "File \u001b[0;32m/usr/lib/python3.12/urllib/request.py:215\u001b[0m, in \u001b[0;36murlopen\u001b[0;34m(url, data, timeout, cafile, capath, cadefault, context)\u001b[0m\n\u001b[1;32m    214\u001b[0m     opener \u001b[38;5;241m=\u001b[39m _opener\n\u001b[0;32m--> 215\u001b[0m \u001b[38;5;28;01mreturn\u001b[39;00m \u001b[43mopener\u001b[49m\u001b[38;5;241;43m.\u001b[39;49m\u001b[43mopen\u001b[49m\u001b[43m(\u001b[49m\u001b[43murl\u001b[49m\u001b[43m,\u001b[49m\u001b[43m \u001b[49m\u001b[43mdata\u001b[49m\u001b[43m,\u001b[49m\u001b[43m \u001b[49m\u001b[43mtimeout\u001b[49m\u001b[43m)\u001b[49m\n",
      "File \u001b[0;32m/usr/lib/python3.12/urllib/request.py:521\u001b[0m, in \u001b[0;36mOpenerDirector.open\u001b[0;34m(self, fullurl, data, timeout)\u001b[0m\n\u001b[1;32m    520\u001b[0m     meth \u001b[38;5;241m=\u001b[39m \u001b[38;5;28mgetattr\u001b[39m(processor, meth_name)\n\u001b[0;32m--> 521\u001b[0m     response \u001b[38;5;241m=\u001b[39m \u001b[43mmeth\u001b[49m\u001b[43m(\u001b[49m\u001b[43mreq\u001b[49m\u001b[43m,\u001b[49m\u001b[43m \u001b[49m\u001b[43mresponse\u001b[49m\u001b[43m)\u001b[49m\n\u001b[1;32m    523\u001b[0m \u001b[38;5;28;01mreturn\u001b[39;00m response\n",
      "File \u001b[0;32m/usr/lib/python3.12/urllib/request.py:630\u001b[0m, in \u001b[0;36mHTTPErrorProcessor.http_response\u001b[0;34m(self, request, response)\u001b[0m\n\u001b[1;32m    629\u001b[0m \u001b[38;5;28;01mif\u001b[39;00m \u001b[38;5;129;01mnot\u001b[39;00m (\u001b[38;5;241m200\u001b[39m \u001b[38;5;241m<\u001b[39m\u001b[38;5;241m=\u001b[39m code \u001b[38;5;241m<\u001b[39m \u001b[38;5;241m300\u001b[39m):\n\u001b[0;32m--> 630\u001b[0m     response \u001b[38;5;241m=\u001b[39m \u001b[38;5;28;43mself\u001b[39;49m\u001b[38;5;241;43m.\u001b[39;49m\u001b[43mparent\u001b[49m\u001b[38;5;241;43m.\u001b[39;49m\u001b[43merror\u001b[49m\u001b[43m(\u001b[49m\n\u001b[1;32m    631\u001b[0m \u001b[43m        \u001b[49m\u001b[38;5;124;43m'\u001b[39;49m\u001b[38;5;124;43mhttp\u001b[39;49m\u001b[38;5;124;43m'\u001b[39;49m\u001b[43m,\u001b[49m\u001b[43m \u001b[49m\u001b[43mrequest\u001b[49m\u001b[43m,\u001b[49m\u001b[43m \u001b[49m\u001b[43mresponse\u001b[49m\u001b[43m,\u001b[49m\u001b[43m \u001b[49m\u001b[43mcode\u001b[49m\u001b[43m,\u001b[49m\u001b[43m \u001b[49m\u001b[43mmsg\u001b[49m\u001b[43m,\u001b[49m\u001b[43m \u001b[49m\u001b[43mhdrs\u001b[49m\u001b[43m)\u001b[49m\n\u001b[1;32m    633\u001b[0m \u001b[38;5;28;01mreturn\u001b[39;00m response\n",
      "File \u001b[0;32m/usr/lib/python3.12/urllib/request.py:553\u001b[0m, in \u001b[0;36mOpenerDirector.error\u001b[0;34m(self, proto, *args)\u001b[0m\n\u001b[1;32m    552\u001b[0m args \u001b[38;5;241m=\u001b[39m (\u001b[38;5;28mdict\u001b[39m, proto, meth_name) \u001b[38;5;241m+\u001b[39m args\n\u001b[0;32m--> 553\u001b[0m result \u001b[38;5;241m=\u001b[39m \u001b[38;5;28;43mself\u001b[39;49m\u001b[38;5;241;43m.\u001b[39;49m\u001b[43m_call_chain\u001b[49m\u001b[43m(\u001b[49m\u001b[38;5;241;43m*\u001b[39;49m\u001b[43margs\u001b[49m\u001b[43m)\u001b[49m\n\u001b[1;32m    554\u001b[0m \u001b[38;5;28;01mif\u001b[39;00m result:\n",
      "File \u001b[0;32m/usr/lib/python3.12/urllib/request.py:492\u001b[0m, in \u001b[0;36mOpenerDirector._call_chain\u001b[0;34m(self, chain, kind, meth_name, *args)\u001b[0m\n\u001b[1;32m    491\u001b[0m func \u001b[38;5;241m=\u001b[39m \u001b[38;5;28mgetattr\u001b[39m(handler, meth_name)\n\u001b[0;32m--> 492\u001b[0m result \u001b[38;5;241m=\u001b[39m \u001b[43mfunc\u001b[49m\u001b[43m(\u001b[49m\u001b[38;5;241;43m*\u001b[39;49m\u001b[43margs\u001b[49m\u001b[43m)\u001b[49m\n\u001b[1;32m    493\u001b[0m \u001b[38;5;28;01mif\u001b[39;00m result \u001b[38;5;129;01mis\u001b[39;00m \u001b[38;5;129;01mnot\u001b[39;00m \u001b[38;5;28;01mNone\u001b[39;00m:\n",
      "File \u001b[0;32m/usr/lib/python3.12/urllib/request.py:724\u001b[0m, in \u001b[0;36mHTTPRedirectHandler.http_error_302\u001b[0;34m(self, req, fp, code, msg, headers)\u001b[0m\n\u001b[1;32m    721\u001b[0m \u001b[38;5;66;03m# XXX Probably want to forget about the state of the current\u001b[39;00m\n\u001b[1;32m    722\u001b[0m \u001b[38;5;66;03m# request, although that might interact poorly with other\u001b[39;00m\n\u001b[1;32m    723\u001b[0m \u001b[38;5;66;03m# handlers that also use handler-specific request attributes\u001b[39;00m\n\u001b[0;32m--> 724\u001b[0m new \u001b[38;5;241m=\u001b[39m \u001b[38;5;28;43mself\u001b[39;49m\u001b[38;5;241;43m.\u001b[39;49m\u001b[43mredirect_request\u001b[49m\u001b[43m(\u001b[49m\u001b[43mreq\u001b[49m\u001b[43m,\u001b[49m\u001b[43m \u001b[49m\u001b[43mfp\u001b[49m\u001b[43m,\u001b[49m\u001b[43m \u001b[49m\u001b[43mcode\u001b[49m\u001b[43m,\u001b[49m\u001b[43m \u001b[49m\u001b[43mmsg\u001b[49m\u001b[43m,\u001b[49m\u001b[43m \u001b[49m\u001b[43mheaders\u001b[49m\u001b[43m,\u001b[49m\u001b[43m \u001b[49m\u001b[43mnewurl\u001b[49m\u001b[43m)\u001b[49m\n\u001b[1;32m    725\u001b[0m \u001b[38;5;28;01mif\u001b[39;00m new \u001b[38;5;129;01mis\u001b[39;00m \u001b[38;5;28;01mNone\u001b[39;00m:\n",
      "File \u001b[0;32m/usr/lib/python3.12/urllib/request.py:662\u001b[0m, in \u001b[0;36mHTTPRedirectHandler.redirect_request\u001b[0;34m(self, req, fp, code, msg, headers, newurl)\u001b[0m\n\u001b[1;32m    660\u001b[0m \u001b[38;5;28;01mif\u001b[39;00m (\u001b[38;5;129;01mnot\u001b[39;00m (code \u001b[38;5;129;01min\u001b[39;00m (\u001b[38;5;241m301\u001b[39m, \u001b[38;5;241m302\u001b[39m, \u001b[38;5;241m303\u001b[39m, \u001b[38;5;241m307\u001b[39m, \u001b[38;5;241m308\u001b[39m) \u001b[38;5;129;01mand\u001b[39;00m m \u001b[38;5;129;01min\u001b[39;00m (\u001b[38;5;124m\"\u001b[39m\u001b[38;5;124mGET\u001b[39m\u001b[38;5;124m\"\u001b[39m, \u001b[38;5;124m\"\u001b[39m\u001b[38;5;124mHEAD\u001b[39m\u001b[38;5;124m\"\u001b[39m)\n\u001b[1;32m    661\u001b[0m     \u001b[38;5;129;01mor\u001b[39;00m code \u001b[38;5;129;01min\u001b[39;00m (\u001b[38;5;241m301\u001b[39m, \u001b[38;5;241m302\u001b[39m, \u001b[38;5;241m303\u001b[39m) \u001b[38;5;129;01mand\u001b[39;00m m \u001b[38;5;241m==\u001b[39m \u001b[38;5;124m\"\u001b[39m\u001b[38;5;124mPOST\u001b[39m\u001b[38;5;124m\"\u001b[39m)):\n\u001b[0;32m--> 662\u001b[0m     \u001b[38;5;28;01mraise\u001b[39;00m HTTPError(req\u001b[38;5;241m.\u001b[39mfull_url, code, msg, headers, fp)\n\u001b[1;32m    664\u001b[0m \u001b[38;5;66;03m# Strictly (according to RFC 2616), 301 or 302 in response to\u001b[39;00m\n\u001b[1;32m    665\u001b[0m \u001b[38;5;66;03m# a POST MUST NOT cause a redirection without confirmation\u001b[39;00m\n\u001b[1;32m    666\u001b[0m \u001b[38;5;66;03m# from the user (of urllib.request, in this case).  In practice,\u001b[39;00m\n\u001b[0;32m   (...)\u001b[0m\n\u001b[1;32m    671\u001b[0m \u001b[38;5;66;03m# redundant with the more complete encoding done in http_error_302(),\u001b[39;00m\n\u001b[1;32m    672\u001b[0m \u001b[38;5;66;03m# but it is kept for compatibility with other callers.\u001b[39;00m\n",
      "\u001b[0;31mHTTPError\u001b[0m: HTTP Error 307: Temporary Redirect",
      "\nDuring handling of the above exception, another exception occurred:\n",
      "\u001b[0;31mNameError\u001b[0m                                 Traceback (most recent call last)",
      "Cell \u001b[0;32mIn[24], line 5\u001b[0m\n\u001b[1;32m      3\u001b[0m Client\u001b[38;5;241m.\u001b[39mcreate_current_url(purpose, subject, \u001b[38;5;241m958\u001b[39m)\n\u001b[1;32m      4\u001b[0m \u001b[38;5;28mprint\u001b[39m(json_data)\n\u001b[0;32m----> 5\u001b[0m r \u001b[38;5;241m=\u001b[39m \u001b[43mClient\u001b[49m\u001b[38;5;241;43m.\u001b[39;49m\u001b[43mdelete_current\u001b[49m\u001b[43m(\u001b[49m\u001b[38;5;241;43m958\u001b[39;49m\u001b[43m,\u001b[49m\u001b[38;5;124;43m'\u001b[39;49m\u001b[38;5;124;43m'\u001b[39;49m\u001b[43m)\u001b[49m\n\u001b[1;32m      6\u001b[0m \u001b[38;5;66;03m#a_data_json_obj = Client.update_current(1,update_data_json,'')\u001b[39;00m\n\u001b[1;32m      7\u001b[0m \u001b[38;5;66;03m#a_data_json_obj['data']\u001b[39;00m\n",
      "File \u001b[0;32m~/Documents/Code/Work/Brown_Working/dmtools_notebooks/brown_edu_dmtools/src/dmtools_client_package/dmtools_client_module.py:166\u001b[0m, in \u001b[0;36mDMToolsClient.delete_current\u001b[0;34m(self, data_id_in, url_in)\u001b[0m\n\u001b[1;32m    164\u001b[0m \u001b[38;5;28;01mif\u001b[39;00m e\u001b[38;5;241m.\u001b[39mcode \u001b[38;5;241m==\u001b[39m \u001b[38;5;241m307\u001b[39m:\n\u001b[1;32m    165\u001b[0m     redirect_url \u001b[38;5;241m=\u001b[39m e\u001b[38;5;241m.\u001b[39mheaders[\u001b[38;5;124m'\u001b[39m\u001b[38;5;124mLocation\u001b[39m\u001b[38;5;124m'\u001b[39m]\n\u001b[0;32m--> 166\u001b[0m     \u001b[38;5;28;01mreturn\u001b[39;00m \u001b[38;5;28;43mself\u001b[39;49m\u001b[38;5;241;43m.\u001b[39;49m\u001b[43mdelete_current\u001b[49m\u001b[43m(\u001b[49m\u001b[43mdata_id_in\u001b[49m\u001b[43m,\u001b[49m\u001b[43m \u001b[49m\u001b[43mredirect_url\u001b[49m\u001b[43m)\u001b[49m\n\u001b[1;32m    167\u001b[0m \u001b[38;5;28;01melif\u001b[39;00m e\u001b[38;5;241m.\u001b[39mcode \u001b[38;5;241m==\u001b[39m \u001b[38;5;241m422\u001b[39m:\n\u001b[1;32m    168\u001b[0m     \u001b[38;5;28mprint\u001b[39m(\u001b[38;5;124m\"\u001b[39m\u001b[38;5;124mHTTP 422 Unprocessable Entity\u001b[39m\u001b[38;5;124m\"\u001b[39m)\n",
      "File \u001b[0;32m~/Documents/Code/Work/Brown_Working/dmtools_notebooks/brown_edu_dmtools/src/dmtools_client_package/dmtools_client_module.py:152\u001b[0m, in \u001b[0;36mDMToolsClient.delete_current\u001b[0;34m(self, data_id_in, url_in)\u001b[0m\n\u001b[1;32m    150\u001b[0m     delete_request\u001b[38;5;241m.\u001b[39madd_header(\u001b[38;5;124m'\u001b[39m\u001b[38;5;124mContent-Type\u001b[39m\u001b[38;5;124m'\u001b[39m, \u001b[38;5;124m'\u001b[39m\u001b[38;5;124mapplication/json\u001b[39m\u001b[38;5;124m'\u001b[39m)\n\u001b[1;32m    151\u001b[0m \u001b[38;5;28;01melse\u001b[39;00m:\n\u001b[0;32m--> 152\u001b[0m     delete_request \u001b[38;5;241m=\u001b[39m urllib\u001b[38;5;241m.\u001b[39mrequest\u001b[38;5;241m.\u001b[39mRequest(url_in, data\u001b[38;5;241m=\u001b[39m\u001b[43mencoded_data\u001b[49m, method\u001b[38;5;241m=\u001b[39m\u001b[38;5;124m'\u001b[39m\u001b[38;5;124mPATCH\u001b[39m\u001b[38;5;124m'\u001b[39m)\n\u001b[1;32m    153\u001b[0m     delete_request\u001b[38;5;241m.\u001b[39madd_header(\u001b[38;5;124m'\u001b[39m\u001b[38;5;124mdmtool-userid\u001b[39m\u001b[38;5;124m'\u001b[39m, \u001b[38;5;28mstr\u001b[39m(\u001b[38;5;28mself\u001b[39m\u001b[38;5;241m.\u001b[39mdmtool_userid))\n\u001b[1;32m    154\u001b[0m     delete_request\u001b[38;5;241m.\u001b[39madd_header(\u001b[38;5;124m'\u001b[39m\u001b[38;5;124mdmtool-apikey\u001b[39m\u001b[38;5;124m'\u001b[39m, \u001b[38;5;28mself\u001b[39m\u001b[38;5;241m.\u001b[39mdmtool_apikey)\n",
      "\u001b[0;31mNameError\u001b[0m: name 'encoded_data' is not defined"
     ]
    }
   ],
   "source": [
    "purpose = 'delete_a'\n",
    "subject = 'data'\n",
    "Client.create_current_url(purpose, subject, 958)\n",
    "print(json_data)\n",
    "r = Client.delete_current(958,'')\n",
    "#a_data_json_obj = Client.update_current(1,update_data_json,'')\n",
    "#a_data_json_obj['data']"
   ]
  },
  {
   "cell_type": "code",
   "execution_count": 19,
   "metadata": {},
   "outputs": [
    {
     "data": {
      "text/plain": [
       "('Response content:', '{\"detail\":\"Not Found\"}')"
      ]
     },
     "execution_count": 19,
     "metadata": {},
     "output_type": "execute_result"
    }
   ],
   "source": [
    "r"
   ]
  },
  {
   "cell_type": "code",
   "execution_count": 17,
   "metadata": {},
   "outputs": [
    {
     "data": {
      "text/plain": [
       "{'id': None,\n",
       " 'subject': 'plot',\n",
       " 'old_id': None,\n",
       " 'old_name': 'Plot Name',\n",
       " 'old_user_id': -1,\n",
       " 'name': 'Plot Name',\n",
       " 'x_min': 1.0,\n",
       " 'x_max': 1.0,\n",
       " 'y_min': 1.0,\n",
       " 'y_max': 1.0,\n",
       " 'x_units': 'x units',\n",
       " 'y_units': 'y units',\n",
       " 'user_id': -1,\n",
       " 'created_at': '2024-08-02T07:55:28.287019',\n",
       " 'updated_at': '2024-08-02T07:55:28.287029',\n",
       " 'archived_at': '1980-01-01T00:00:00',\n",
       " 'plot_png': None,\n",
       " 'legend_png': None,\n",
       " 'plot_eps': None,\n",
       " 'legend_eps': None,\n",
       " 'no_id': -1,\n",
       " 'open': 0}"
      ]
     },
     "execution_count": 17,
     "metadata": {},
     "output_type": "execute_result"
    }
   ],
   "source": [
    "purpose = 'read_a'\n",
    "subject = 'plot'\n",
    "id = '0'\n",
    "Client.create_current_url(purpose, subject, id)\n",
    "a_plot_json_obj = Client.read_current_as_json()\n",
    "a_plot_json_obj"
   ]
  },
  {
   "cell_type": "code",
   "execution_count": null,
   "metadata": {},
   "outputs": [],
   "source": [
    "new_plot = {\n",
    "    'subject': 'plot',\n",
    " 'name': 'Plot DMTOOLS Test Data',\n",
    " 'open': 1}"
   ]
  },
  {
   "cell_type": "code",
   "execution_count": null,
   "metadata": {},
   "outputs": [],
   "source": [
    "purpose = 'create_a'\n",
    "subject = 'plot'\n",
    "Client.create_current_url(purpose, subject, id)\n",
    "#all_plots_df.columns\n",
    "r = Client.create_current(new_plot,'')\n",
    "#a_data_json_obj = Client.update_current(1,update_data_json,'')\n",
    "#r['id']\n",
    "r"
   ]
  },
  {
   "cell_type": "code",
   "execution_count": null,
   "metadata": {},
   "outputs": [],
   "source": [
    "purpose = 'read_a'\n",
    "subject = 'data_display'\n",
    "id = '0'\n",
    "Client.create_current_url(purpose, subject, id)\n",
    "a_data_display_json_obj = Client.read_current_as_json()\n",
    "a_data_display_json_obj"
   ]
  },
  {
   "cell_type": "code",
   "execution_count": null,
   "metadata": {},
   "outputs": [],
   "source": [
    "data_display_json = {\n",
    " 'subject': 'data_display',\n",
    " 'name': 'Data display',\n",
    " 'plot_id': 3110,\n",
    " 'color': 'red',\n",
    " 'style': 'line',\n",
    " 'data_id': 958,\n",
    " 'open': 1}"
   ]
  },
  {
   "cell_type": "code",
   "execution_count": null,
   "metadata": {},
   "outputs": [],
   "source": [
    "purpose = 'create_a'\n",
    "subject = 'data_display'\n",
    "Client.create_current_url(purpose, subject, id)\n",
    "#all_plots_df.columns\n",
    "r = Client.create_current(data_display_json,'')\n",
    "#a_data_json_obj = Client.update_current(1,update_data_json,'')\n",
    "#r['id']\n",
    "r"
   ]
  },
  {
   "cell_type": "code",
   "execution_count": null,
   "metadata": {},
   "outputs": [],
   "source": [
    "Client.get_data_for_plot(3110)"
   ]
  },
  {
   "cell_type": "code",
   "execution_count": null,
   "metadata": {},
   "outputs": [],
   "source": [
    "Client.data_data_df.head(5)"
   ]
  },
  {
   "cell_type": "code",
   "execution_count": null,
   "metadata": {
    "colab": {
     "base_uri": "https://localhost:8080/",
     "height": 206
    },
    "id": "O_hjqKvj9ccB",
    "outputId": "abe18de5-e2c7-40c3-f722-e2bebba41fb4"
   },
   "outputs": [],
   "source": [
    "#trace_list = data_data_df[['data_id','trace_id']].drop_duplicate()\n",
    "#trace_list_refs = data_data_df[['data_id','trace_id','trace_name']].copy()\n",
    "#trace_list = trace_list_refs.drop_duplicates()\n",
    "Client.trace_list"
   ]
  },
  {
   "cell_type": "code",
   "execution_count": null,
   "metadata": {},
   "outputs": [],
   "source": [
    "Client.create_plot()"
   ]
  },
  {
   "cell_type": "code",
   "execution_count": null,
   "metadata": {},
   "outputs": [],
   "source": [
    "Client.fig_chart_populated.show()"
   ]
  },
  {
   "cell_type": "code",
   "execution_count": null,
   "metadata": {},
   "outputs": [],
   "source": [
    "Client.create_populated_legend()\n",
    "Client.fig_chart_legend.show()"
   ]
  },
  {
   "cell_type": "code",
   "execution_count": null,
   "metadata": {
    "colab": {
     "base_uri": "https://localhost:8080/",
     "height": 55
    },
    "id": "YVV0TK0v6-b2",
    "outputId": "4545e8e6-8f47-4c7c-d345-2c50ac436e28"
   },
   "outputs": [],
   "source": [
    "'''\n",
    "## are we happy with hover template now data is 5 decimal places?\n",
    "hovertemplate =\n",
    "                                               '<i><b>Cross Section</b></i>: %{y:.4E}'+\n",
    "                                                  '<br><b>Mass</b>: %{x}<br>',\n",
    "showlegend=False,\n",
    "'''"
   ]
  },
  {
   "cell_type": "code",
   "execution_count": null,
   "metadata": {
    "colab": {
     "base_uri": "https://localhost:8080/",
     "height": 206
    },
    "id": "O-qtaLxU8K-k",
    "outputId": "ade17600-328c-4ab7-89c3-95e5616c1ef5"
   },
   "outputs": [],
   "source": [
    "limit_display_df"
   ]
  },
  {
   "cell_type": "code",
   "execution_count": null,
   "metadata": {},
   "outputs": [],
   "source": [
    "data_display_df"
   ]
  },
  {
   "cell_type": "code",
   "execution_count": null,
   "metadata": {
    "id": "J-RvWsdI8Dck"
   },
   "outputs": [],
   "source": [
    "data_df"
   ]
  },
  {
   "cell_type": "code",
   "execution_count": null,
   "metadata": {},
   "outputs": [],
   "source": []
  }
 ],
 "metadata": {
  "colab": {
   "provenance": []
  },
  "kernelspec": {
   "display_name": "Python 3 (ipykernel)",
   "language": "python",
   "name": "python3"
  },
  "language_info": {
   "codemirror_mode": {
    "name": "ipython",
    "version": 3
   },
   "file_extension": ".py",
   "mimetype": "text/x-python",
   "name": "python",
   "nbconvert_exporter": "python",
   "pygments_lexer": "ipython3",
   "version": "3.12.4"
  }
 },
 "nbformat": 4,
 "nbformat_minor": 4
}
