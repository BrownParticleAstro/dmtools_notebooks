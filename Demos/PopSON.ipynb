{
 "cells": [
  {
   "cell_type": "code",
   "execution_count": 1,
   "id": "5aad29ec-9b1a-4ad0-847f-60ad600c97cd",
   "metadata": {},
   "outputs": [],
   "source": [
    "import json\n",
    "import requests\n",
    "api_url = 'http://0.0.0.0:8026/dmtools/fastapi_nosql/internal/nosql/0.0/node/create/'"
   ]
  },
  {
   "cell_type": "code",
   "execution_count": 2,
   "id": "999edd97-f306-42b4-a568-274398c98cfa",
   "metadata": {},
   "outputs": [],
   "source": [
    "\n",
    "#use the 'headers' parameter to set the HTTP headers:\n",
    "#x = requests.post(api_url, data = i, headers = {'Content-Type: application/json'})\n",
    "\n",
    "#print(x.text)\n"
   ]
  },
  {
   "cell_type": "code",
   "execution_count": 3,
   "id": "595fff0c-34e8-459c-a0c0-e6cef0c227a1",
   "metadata": {},
   "outputs": [],
   "source": [
    "with open('plot_data.json') as f:\n",
    "    d = json.load(f)\n",
    "for i in d:\n",
    "    i['subject'] = 'plot'\n",
    "    #print(i)\n",
    "    json_payload = dict()\n",
    "    json_payload['attr'] = i\n",
    "    x = requests.post(api_url, json = json_payload)"
   ]
  },
  {
   "cell_type": "code",
   "execution_count": 4,
   "id": "990d8661-2ab9-4c43-a451-374b7570c30e",
   "metadata": {},
   "outputs": [],
   "source": [
    "with open('limits_data.json') as f:\n",
    "    d = json.load(f)\n",
    "for i in d:\n",
    "    i['subject'] = 'limits'\n",
    "    #print(i)\n",
    "    json_payload = dict()\n",
    "    json_payload['attr'] = i\n",
    "    x = requests.post(api_url, json = json_payload)\n"
   ]
  },
  {
   "cell_type": "code",
   "execution_count": 7,
   "id": "d296304f-3645-4073-b334-57474686710d",
   "metadata": {},
   "outputs": [],
   "source": [
    "with open('limit_displays_data.json') as f:\n",
    "    d = json.load(f)\n",
    "for i in d:\n",
    "    i['subject'] = 'limits_display'\n",
    "    #print(i)\n",
    "    json_payload = dict()\n",
    "    json_payload['attr'] = i\n",
    "    x = requests.post(api_url, json = json_payload)"
   ]
  },
  {
   "cell_type": "code",
   "execution_count": null,
   "id": "22f86ed9-0327-46f5-b08b-686b7dc35cdc",
   "metadata": {},
   "outputs": [],
   "source": []
  }
 ],
 "metadata": {
  "kernelspec": {
   "display_name": "Python 3 (ipykernel)",
   "language": "python",
   "name": "python3"
  },
  "language_info": {
   "codemirror_mode": {
    "name": "ipython",
    "version": 3
   },
   "file_extension": ".py",
   "mimetype": "text/x-python",
   "name": "python",
   "nbconvert_exporter": "python",
   "pygments_lexer": "ipython3",
   "version": "3.12.4"
  }
 },
 "nbformat": 4,
 "nbformat_minor": 5
}
