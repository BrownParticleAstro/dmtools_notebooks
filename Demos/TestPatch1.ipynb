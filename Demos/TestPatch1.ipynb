{
 "cells": [
  {
   "cell_type": "code",
   "execution_count": 1,
   "id": "0891b116-05c7-4b46-b422-11d1c43b12a2",
   "metadata": {},
   "outputs": [
    {
     "name": "stdout",
     "output_type": "stream",
     "text": [
      "Requirement already satisfied: certifi in /home/andrew1tb/.local/share/virtualenvs/dmtools_notebooks-K2wJtni7/lib/python3.12/site-packages (2024.7.4)\n"
     ]
    }
   ],
   "source": [
    "!pip install --upgrade certifi"
   ]
  },
  {
   "cell_type": "code",
   "execution_count": 2,
   "id": "13de9010-abf1-47ed-9e80-14bd889e6a9e",
   "metadata": {},
   "outputs": [],
   "source": [
    "import urllib.request\n",
    "import json\n",
    "import ssl"
   ]
  },
  {
   "cell_type": "code",
   "execution_count": 3,
   "id": "d1573b3a-c97f-496c-a8fb-4be1bc20a684",
   "metadata": {},
   "outputs": [],
   "source": [
    "import certifi"
   ]
  },
  {
   "cell_type": "code",
   "execution_count": 4,
   "id": "fc0dbae3-69c9-49ff-b212-105d2b1b55ea",
   "metadata": {},
   "outputs": [
    {
     "data": {
      "text/plain": [
       "'3.12'"
      ]
     },
     "execution_count": 4,
     "metadata": {},
     "output_type": "execute_result"
    }
   ],
   "source": [
    "urllib.request.__version__"
   ]
  },
  {
   "cell_type": "code",
   "execution_count": 5,
   "id": "da3a571c-37b9-483e-a5d2-3267336790a0",
   "metadata": {},
   "outputs": [],
   "source": [
    "api_server = \"https://dmtools.brown.edu/\"\n",
    "data_api = \"dmtool/fastapi_data/open/data/\"\n",
    "fastapi_url_data = api_server + data_api + \"update_a_data/?id_in=\" + str(1)"
   ]
  },
  {
   "cell_type": "code",
   "execution_count": 6,
   "id": "2524435d-26d4-4aac-bd78-010fc0068a40",
   "metadata": {},
   "outputs": [],
   "source": [
    "request_header = {'dmtool-userid': '1',\n",
    " 'dmtool-apikey': '',\n",
    " 'Content-Type': 'application/x-www-form-urlencoded'}\n",
    "dmtools_userid = ''\n",
    "dmtools_apikey = ''"
   ]
  },
  {
   "cell_type": "code",
   "execution_count": 7,
   "id": "0dd2f880-c9c4-48ae-95da-ecdcb5be9284",
   "metadata": {},
   "outputs": [
    {
     "data": {
      "text/plain": [
       "'[[[\"1\", \"1\"], [\"1\", \"0\"]], [[\"1\", \"1\"], [\"1\", \"0\"]]]'"
      ]
     },
     "execution_count": 7,
     "metadata": {},
     "output_type": "execute_result"
    }
   ],
   "source": [
    "\n",
    "context = ssl._create_unverified_context()\n",
    "\n",
    "# The nested JSON data as a Python list (will be converted to string)\n",
    "nested_data = [[['1', '1'], ['1', '0']], [['1', '1'], ['1', '0']]]\n",
    "simple_data = \"data\"\n",
    "# Convert the nested data to a JSON string\n",
    "nested_data_string = json.dumps(nested_data)\n",
    "\n",
    "# Construct the payload with the nested JSON string\n",
    "payload = {\n",
    "    \"data\": nested_data_string\n",
    "}\n",
    "\n",
    "json_data = json.dumps(payload)\n",
    "\n",
    "payload[\"data\"]\n",
    "\n",
    "# Convert the payload to a JSON string and encode it to bytes\n",
    "#json_data = json.dumps(payload).encode('utf-8')\n",
    "\n",
    "# Create an SSL context (if needed)\n",
    "\n",
    "\n",
    "# Create the request\n",
    "#request = urllib.request.Request(fastapi_url_data, data=json_data, headers=request_header, )\n",
    "\n",
    "#request = urllib.request.Request(fastapi_url_data, headers=request_header, method='PATCH')\n",
    "#r = urllib.request.urlopen(request, context=context)\n",
    "#string = r.read().decode('utf-8')\n",
    "\n"
   ]
  },
  {
   "cell_type": "code",
   "execution_count": 8,
   "id": "da341f9a-8ce0-4fc7-80e7-3f3e0738b542",
   "metadata": {},
   "outputs": [],
   "source": [
    "def update_current(data_in,url_in):\n",
    "    if url_in == '':\n",
    "        encoded_data = data_in.encode('utf-8')\n",
    "        create_request = urllib.request.Request(self.current_url, data=encoded_data, method='PATCH')\n",
    "        create_request.add_header('dmtool-userid', str(dmtools_userid))\n",
    "        create_request.add_header('dmtool-apikey', dmtool_apikey)\n",
    "        #create_request.add_header('Content-Type', 'application/x-www-form-urlencoded')\n",
    "        create_request.add_header('Content-Type', 'application/json')\n",
    "    else:\n",
    "        encoded_data = data_in.encode('utf-8')\n",
    "        create_request = urllib.request.Request(url_in, data=encoded_data, method='PATCH')\n",
    "        create_request.add_header('dmtool-userid', str(dmtools_userid))\n",
    "        create_request.add_header('dmtool-apikey', dmtools_apikey)\n",
    "        create_request.add_header('Content-Type', 'application/json')\n",
    "        #create_request.add_header('Content-Type', 'application/x-www-form-urlencoded')\n",
    "    \n",
    "    try:\n",
    "        with urllib.request.urlopen(create_request, context=context) as response:\n",
    "            response_data = response.read().decode('utf-8')\n",
    "            response_json_obj = json.loads(response_data)\n",
    "            return response_json_obj\n",
    "    except urllib.error.HTTPError as e:\n",
    "        if e.code == 307:\n",
    "            redirect_url = e.headers['Location']\n",
    "            return create_current(data_in, redirect_url)\n",
    "        elif e.code == 422:\n",
    "            print(\"HTTP 422 Unprocessable Entity\")\n",
    "            error_response = e.read().decode('utf-8')\n",
    "            print(\"Response content:\", error_response)\n",
    "        else:\n",
    "            print(f\"Error: {e.code}\")\n",
    "            error_response = e.read().decode('utf-8')\n",
    "            print(\"Response content:\", error_response)"
   ]
  },
  {
   "cell_type": "code",
   "execution_count": 9,
   "id": "22ff784b-825c-490e-84a0-78559ac413e4",
   "metadata": {},
   "outputs": [
    {
     "data": {
      "text/plain": [
       "{'updated': {'Data': 'experiment=\\'Theory\\' y_rescale=\\' \\' date_of_run_start=None public=1 spin_dependency=\\'SI\\' default_color=\\'LtR\\' date_of_run_end=None open=1 id=1 result_type=\\'Th\\' default_style=\\'Fill\\' data=\\'[[[\"1\", \"1\"], [\"1\", \"0\"]], [[\"1\", \"1\"], [\"1\", \"0\"]]]\\' date_of_announcement=datetime.date(2003, 1, 1) official=1 measurement_type=\\'Dir\\' data_values=\\'{[60 4e-43;70 4e-43;160 5.5e-44;320 2.5e-44;630 3.2e-44;640 3e-44;640 1.2e-44;630 1e-44;225 9e-45;215 7e-45;315 7e-46;470 2.1e-46;650 7e-47;660 6.8e-47;660 2e-47;650 2e-47;470 6e-47;315 1e-46;215 3e-46;100 8e-46;60 1e-45;60 4e-43]}\\' data_label=\\'Baer et. al., 2003, constraints on mSUGRA, SI\\' date_official=None greatest_hit=0 nomhash=\\'--- \\\\nknikolic: false\\\\n\\' data_comment=\\' \\' created_at=None x_units=\\'GeV\\' data_reference=\\'JCAP 0309 (2003) 007 , hep-ph/0305191\\' year=2003 updated_at=datetime.datetime(2013, 9, 6, 8, 39, 30) limit_id=1 y_units=\\'cm^2\\' file_name=\\'Baer_hep-ph0305191.limit\\' rating=0 archived_at=datetime.datetime(1980, 1, 1, 0, 0) subject=\\'data\\' x_rescale=\\' \\' creator_id=None'}}"
      ]
     },
     "execution_count": 9,
     "metadata": {},
     "output_type": "execute_result"
    }
   ],
   "source": [
    "update_current(json_data, fastapi_url_data)"
   ]
  },
  {
   "cell_type": "code",
   "execution_count": null,
   "id": "4cbc040c-cdbd-4f90-a59a-9df8678ba7ea",
   "metadata": {},
   "outputs": [],
   "source": []
  }
 ],
 "metadata": {
  "kernelspec": {
   "display_name": "Python 3 (ipykernel)",
   "language": "python",
   "name": "python3"
  },
  "language_info": {
   "codemirror_mode": {
    "name": "ipython",
    "version": 3
   },
   "file_extension": ".py",
   "mimetype": "text/x-python",
   "name": "python",
   "nbconvert_exporter": "python",
   "pygments_lexer": "ipython3",
   "version": "3.12.4"
  }
 },
 "nbformat": 4,
 "nbformat_minor": 5
}
