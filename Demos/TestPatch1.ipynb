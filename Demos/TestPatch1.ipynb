{
 "cells": [
  {
   "cell_type": "code",
   "execution_count": null,
   "id": "0891b116-05c7-4b46-b422-11d1c43b12a2",
   "metadata": {},
   "outputs": [],
   "source": [
    "!pip install --upgrade certifi"
   ]
  },
  {
   "cell_type": "code",
   "execution_count": null,
   "id": "13de9010-abf1-47ed-9e80-14bd889e6a9e",
   "metadata": {},
   "outputs": [],
   "source": [
    "import urllib.request\n",
    "import json\n",
    "import ssl"
   ]
  },
  {
   "cell_type": "code",
   "execution_count": null,
   "id": "244bffb3-cdec-4819-adbc-b8cd808098e8",
   "metadata": {},
   "outputs": [],
   "source": [
    "import urllib\n",
    "context = ssl._create_unverified_context()\n",
    "from urllib.request import Request, urlopen\n",
    "import json\n",
    "from io import StringIO"
   ]
  },
  {
   "cell_type": "code",
   "execution_count": null,
   "id": "e162d7b5-05e7-4a64-b311-abc59bfe34e2",
   "metadata": {},
   "outputs": [],
   "source": [
    "import pandas as pd"
   ]
  },
  {
   "cell_type": "code",
   "execution_count": null,
   "id": "93fd2445-06bd-465a-bad5-74ecc9cd7e19",
   "metadata": {},
   "outputs": [],
   "source": [
    "from dmtools_client_package.dmtools_client_module import DMToolsClient"
   ]
  },
  {
   "cell_type": "code",
   "execution_count": null,
   "id": "d1573b3a-c97f-496c-a8fb-4be1bc20a684",
   "metadata": {},
   "outputs": [],
   "source": [
    "import certifi"
   ]
  },
  {
   "cell_type": "code",
   "execution_count": null,
   "id": "fc0dbae3-69c9-49ff-b212-105d2b1b55ea",
   "metadata": {},
   "outputs": [],
   "source": [
    "urllib.request.__version__"
   ]
  },
  {
   "cell_type": "code",
   "execution_count": null,
   "id": "b0b80c73-bc42-4bb2-a87e-c43854c2d8e7",
   "metadata": {},
   "outputs": [],
   "source": [
    "## get api key and user id from local .env file\n",
    "from dotenv import load_dotenv\n",
    "import os\n",
    "from os import environ, path\n",
    "#BASE_DIR = path.abspath(path.dirname(__file__))\n",
    "BASE_DIR = os.getcwd()\n",
    "#load_dotenv(path.join(BASE_DIR, \".env\"))\n",
    "load_dotenv(path.join(BASE_DIR, \".env\"), override=True)\n",
    "MY_DMTOOLS_APIKEY = environ.get(\"MY_DMTOOLS_APIKEY\")\n",
    "MY_DMTOOLS_USERID = environ.get(\"MY_DMTOOLS_USERID\")\n",
    "Client = DMToolsClient(MY_DMTOOLS_USERID, MY_DMTOOLS_APIKEY)"
   ]
  },
  {
   "cell_type": "code",
   "execution_count": null,
   "id": "707971ca-0615-4c68-a74d-e669cba7d1cf",
   "metadata": {},
   "outputs": [],
   "source": [
    "#BASE_DIR\n",
    "\n",
    "#MY_DMTOOLS_APIKEY"
   ]
  },
  {
   "cell_type": "code",
   "execution_count": null,
   "id": "da3a571c-37b9-483e-a5d2-3267336790a0",
   "metadata": {},
   "outputs": [],
   "source": [
    "api_server = \"https://dmtools.brown.edu/\"\n",
    "data_api = \"dmtool/fastapi_data/open/data/\"\n",
    "fastapi_url_data = api_server + data_api + \"update_a_data/?id_in=\" + str(1)"
   ]
  },
  {
   "cell_type": "code",
   "execution_count": null,
   "id": "2524435d-26d4-4aac-bd78-010fc0068a40",
   "metadata": {},
   "outputs": [],
   "source": [
    "request_header = {'dmtool-userid': MY_DMTOOLS_USERID,\n",
    " 'dmtool-apikey': MY_DMTOOLS_APIKEY,\n",
    " 'Content-Type': 'application/x-www-form-urlencoded'}\n",
    "dmtools_userid = MY_DMTOOLS_USERID\n",
    "dmtools_apikey = MY_DMTOOLS_APIKEY"
   ]
  },
  {
   "cell_type": "code",
   "execution_count": null,
   "id": "2748c31c-8017-4261-9c89-2ee7eff3fad2",
   "metadata": {},
   "outputs": [],
   "source": [
    "purpose = 'read_a'\n",
    "subject = 'data'\n",
    "id = 1\n",
    "Client.create_current_url(purpose, subject, id)\n",
    "a_data_json_obj = Client.read_current_as_json()"
   ]
  },
  {
   "cell_type": "code",
   "execution_count": null,
   "id": "45463e51-6203-4190-8341-e08ce196eb02",
   "metadata": {},
   "outputs": [],
   "source": [
    "a_data_json_obj['data_values']"
   ]
  },
  {
   "cell_type": "code",
   "execution_count": null,
   "id": "0dd2f880-c9c4-48ae-95da-ecdcb5be9284",
   "metadata": {},
   "outputs": [],
   "source": [
    "\n",
    "context = ssl._create_unverified_context()\n",
    "\n",
    "# The nested JSON data as a Python list (will be converted to string)\n",
    "nested_data = [[['1', '1'], ['1', '0']], [['1', '1'], ['1', '0']]]\n",
    "simple_data = \"data\"\n",
    "# Convert the nested data to a JSON string\n",
    "nested_data_string = json.dumps(nested_data)\n",
    "\n",
    "# Construct the payload with the nested JSON string\n",
    "payload = {\n",
    "    \"data\": nested_data_string\n",
    "}\n",
    "\n",
    "json_data = json.dumps(payload)\n",
    "\n",
    "payload[\"data\"]\n",
    "\n",
    "# Convert the payload to a JSON string and encode it to bytes\n",
    "#json_data = json.dumps(payload).encode('utf-8')\n",
    "\n",
    "# Create an SSL context (if needed)\n",
    "\n",
    "\n",
    "# Create the request\n",
    "#request = urllib.request.Request(fastapi_url_data, data=json_data, headers=request_header, )\n",
    "\n",
    "#request = urllib.request.Request(fastapi_url_data, headers=request_header, method='PATCH')\n",
    "#r = urllib.request.urlopen(request, context=context)\n",
    "#string = r.read().decode('utf-8')\n",
    "\n"
   ]
  },
  {
   "cell_type": "code",
   "execution_count": null,
   "id": "da341f9a-8ce0-4fc7-80e7-3f3e0738b542",
   "metadata": {},
   "outputs": [],
   "source": [
    "class TestClass():\n",
    "    def __init__(self, dmtool_userid_in, dmtool_apikey_in):\n",
    "        self.context = ssl._create_unverified_context()\n",
    "        self.dmtool_userid = dmtool_userid_in\n",
    "        self.dmtool_apikey = dmtool_apikey_in\n",
    "        self.api_server = \"https://dmtools.brown.edu/\"\n",
    "        self.data_api = \"dmtool/fastapi_data/open/data/\"\n",
    "        self.current_url = self.api_server + self.data_api\n",
    "        self.current_df = pd.DataFrame()\n",
    "        self.create_request_header()\n",
    "    \n",
    "    def create_request_header(self):\n",
    "        self.request_header = {'dmtool-userid': self.dmtool_userid ,'dmtool-apikey': self.dmtool_apikey, 'Content-Type': 'application/x-www-form-urlencoded'}\n",
    "    \n",
    "    def update_current(self,data_id_in,data_in,url_in):\n",
    "        if url_in == '':\n",
    "            encoded_data = data_in.encode('utf-8')\n",
    "            update_url = self.api_server + self.data_api + \"update_a_data/?id_in=\" + str(data_id_in)\n",
    "            update_request = urllib.request.Request(update_url, data=encoded_data, method='PATCH')\n",
    "            update_request.add_header('dmtool-userid', str(self.dmtool_userid))\n",
    "            update_request.add_header('dmtool-apikey', self.dmtool_apikey)\n",
    "            #update_request.add_header('Content-Type', 'application/x-www-form-urlencoded')\n",
    "            update_request.add_header('Content-Type', 'application/json')\n",
    "        else:\n",
    "            encoded_data = data_in.encode('utf-8')\n",
    "            update_request = urllib.request.Request(url_in, data=encoded_data, method='PATCH')\n",
    "            update_request.add_header('dmtool-userid', str(self.dmtool_userid))\n",
    "            update_request.add_header('dmtool-apikey', self.dmtool_apikey)\n",
    "            update_request.add_header('Content-Type', 'application/json')\n",
    "            #create_request.add_header('Content-Type', 'application/x-www-form-urlencoded')\n",
    "        \n",
    "        try:\n",
    "            with urllib.request.urlopen(update_request, context=context) as response:\n",
    "                response_data = response.read().decode('utf-8')\n",
    "                response_json_obj = json.loads(response_data)\n",
    "                return response_json_obj\n",
    "        except urllib.error.HTTPError as e:\n",
    "            if e.code == 307:\n",
    "                redirect_url = e.headers['Location']\n",
    "                return self.update_current(data_id_in,data_in, redirect_url)\n",
    "            elif e.code == 422:\n",
    "                print(\"HTTP 422 Unprocessable Entity\")\n",
    "                error_response = e.read().decode('utf-8')\n",
    "                return \"Response content:\", error_response\n",
    "            else:\n",
    "                print(f\"Error: {e.code}\")\n",
    "                error_response = e.read().decode('utf-8')\n",
    "                return \"Response content:\", error_response\n",
    "    \n",
    "\n",
    "    def clean_data_values(self, data_id_in):\n",
    "        fastapi_url_data = self.api_server + self.data_api + \"read_a_data/?id_in=\" + str(data_id_in)\n",
    "        request = Request(fastapi_url_data, headers=self.request_header)\n",
    "        r = urllib.request.urlopen(request, context=self.context)\n",
    "        string = r.read().decode('utf-8')\n",
    "        a_data_json_obj = json.loads(string)\n",
    "        data_string = a_data_json_obj['data_values']\n",
    "        #all_plots_json_obj[1]\n",
    "        #a_data_df = pd.DataFrame(a_data_json_obj, index=[0])\n",
    "        data_string = data_string.replace(\"{[\", \"\")\n",
    "        data_string = data_string.replace(\"]}\", \"\")\n",
    "        #print(data_string)\n",
    "        data_series = data_string.split(\"]\")\n",
    "        len(data_series)\n",
    "        lol = []\n",
    "        for l in range(0,len(data_series)):\n",
    "            series_lol = []\n",
    "            series_id = 0\n",
    "            trace_id = l + 1\n",
    "            single_set = data_series[l]\n",
    "            set_list = single_set.split(\";\")\n",
    "            for i in set_list:\n",
    "                ## the following was added due to a different approach to data_string format\n",
    "                r0 = i.replace(',[','')\n",
    "                r1 = r0.replace('  ',' ')\n",
    "                r2 = r1.replace('  ',' ')\n",
    "                r3 = r2.replace('  ',' ')\n",
    "                r4 = r3.replace('\\r\\n','')\n",
    "                r5 = r4.replace('\\t',' ')\n",
    "                r6 = r5.replace(',',' ')\n",
    "                r7 = r6.replace('  ',' ')\n",
    "                r8 = r7.replace('  ',' ')\n",
    "                r9 = r8.replace('\\n',' ')\n",
    "                r10 = r9.replace(\"', '\",\" \")\n",
    "                r11 = r10.replace(\"['[\",'')\n",
    "                r12 = r11.replace(']','')\n",
    "                r13 = r12.replace('[','')\n",
    "                r14 = r13.replace(',','')\n",
    "                s = r14.lstrip()\n",
    "                z = s.split(\" \");\n",
    "                try:\n",
    "                    raw_y = z[1]\n",
    "                    raw_x = z[0].replace(\",[\", \"\")\n",
    "                    #print('print split z >>>>', z)\n",
    "                except:\n",
    "                    #print(z)\n",
    "                    raw_y = '0'\n",
    "                    raw_x = '0'\n",
    "                \n",
    "                try:\n",
    "                    x = float(raw_x)\n",
    "                    y = float(raw_y)\n",
    "                    masses =  float(raw_x)\n",
    "                    cross_sections = float(raw_y)\n",
    "                    formatted_x = \"{:.5e}\".format(x)\n",
    "                    formatted_y = \"{:.5e}\".format(y)\n",
    "                    #append_this = str(trace_id) + \",\" + formatted_x + \",\" + formatted_y\n",
    "                    #append_this = '['+formatted_x+','+formatted_y+'],'\n",
    "                    append_this = [formatted_x, formatted_y]\n",
    "                    series_lol = series_lol + [append_this]\n",
    "                except:\n",
    "                    print('rejected z >> ', z)\n",
    "            lol = lol + [series_lol]\n",
    "            \n",
    "\n",
    "        # Convert the nested data to a JSON string\n",
    "\n",
    "        nested_data_string = json.dumps(lol)\n",
    "        \n",
    "        # Construct the payload with the nested JSON string\n",
    "        payload = {\n",
    "            \"data\": nested_data_string\n",
    "        }\n",
    "        \n",
    "        json_data = json.dumps(payload)\n",
    "        print(json_data)\n",
    "        r = self.update_current(data_id_in, json_data,'')\n",
    "        #print(r)"
   ]
  },
  {
   "cell_type": "code",
   "execution_count": null,
   "id": "77b135b4-e424-48d1-bbad-58159076b160",
   "metadata": {},
   "outputs": [],
   "source": [
    "purpose = 'read_all'\n",
    "subject = 'data'\n",
    "Client.create_current_url(purpose, subject, id)\n",
    "all_data_json_obj = Client.read_current_as_json()"
   ]
  },
  {
   "cell_type": "code",
   "execution_count": null,
   "id": "22ff784b-825c-490e-84a0-78559ac413e4",
   "metadata": {},
   "outputs": [],
   "source": [
    "#update_current(json_data, fastapi_url_data)\n",
    "Client_2 = TestClass(MY_DMTOOLS_USERID, MY_DMTOOLS_APIKEY)\n"
   ]
  },
  {
   "cell_type": "code",
   "execution_count": null,
   "id": "8880453a-5bf4-4a2c-adb5-5c7310c76e60",
   "metadata": {},
   "outputs": [],
   "source": [
    "all_data_json_obj[1]['id']"
   ]
  },
  {
   "cell_type": "code",
   "execution_count": null,
   "id": "4cbc040c-cdbd-4f90-a59a-9df8678ba7ea",
   "metadata": {},
   "outputs": [],
   "source": [
    "for dic in all_data_json_obj:\n",
    "    data_id = dic['id']\n",
    "    rr = Client_2.clean_data_values(data_id)\n",
    "    print(data_id)"
   ]
  },
  {
   "cell_type": "code",
   "execution_count": null,
   "id": "b8826752-981a-4c0f-a767-35525eb35f5a",
   "metadata": {},
   "outputs": [],
   "source": []
  }
 ],
 "metadata": {
  "kernelspec": {
   "display_name": "Python 3 (ipykernel)",
   "language": "python",
   "name": "python3"
  },
  "language_info": {
   "codemirror_mode": {
    "name": "ipython",
    "version": 3
   },
   "file_extension": ".py",
   "mimetype": "text/x-python",
   "name": "python",
   "nbconvert_exporter": "python",
   "pygments_lexer": "ipython3",
   "version": "3.12.4"
  }
 },
 "nbformat": 4,
 "nbformat_minor": 5
}
